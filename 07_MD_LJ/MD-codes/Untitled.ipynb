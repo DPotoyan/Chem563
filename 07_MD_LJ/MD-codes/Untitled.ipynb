{
 "cells": [
  {
   "cell_type": "code",
   "execution_count": 1,
   "metadata": {},
   "outputs": [],
   "source": [
    "import time\n",
    "import numpy as np\n",
    "from itertools import product\n",
    "from numba import jit\n",
    "import matplotlib.pyplot as plt"
   ]
  },
  {
   "cell_type": "markdown",
   "metadata": {},
   "source": [
    "### Specify parameters of simulation, number of particles, box size,  temperature, curoff distance, thermostat parameters"
   ]
  },
  {
   "cell_type": "code",
   "execution_count": 13,
   "metadata": {},
   "outputs": [],
   "source": [
    "#-----------------------> LJ parameters in reduced units of sigma and epislon\n",
    "L = 7.55952      # L : box length\n",
    "N = 216          # N : number of particles\n",
    "dt = 0.001       # dt : time step\n",
    "rc2 = 1.e20      # rc2 : squared cutoff distance\n",
    "nSteps = 10000   # nSteps : number of steps of simulation\n",
    "T = 1.0          # T : temperature\n",
    "tau = 0.1\n",
    "Tdamp = 1      \n",
    "#----------------------->"
   ]
  },
  {
   "cell_type": "markdown",
   "metadata": {},
   "source": [
    "### Vectorize data and store postions, velocities and forces on numpy arrays"
   ]
  },
  {
   "cell_type": "code",
   "execution_count": 14,
   "metadata": {},
   "outputs": [],
   "source": [
    "rx,ry,rz = np.zeros(N),np.zeros(N),np.zeros(N)\n",
    "\n",
    "vx,vy,vz = np.zeros(N),np.zeros(N),np.zeros(N)\n",
    "\n",
    "fx,fy,fz = np.zeros(N),np.zeros(N),np.zeros(N)"
   ]
  },
  {
   "cell_type": "code",
   "execution_count": 20,
   "metadata": {},
   "outputs": [],
   "source": [
    "def initialize(N, L, rx, ry, rz):\n",
    "    \"\"\"put N particles in a box\"\"\"\n",
    "    n3 = int(N ** (1 / 3.)) + 1\n",
    "    iix = iiy = iiz = 0\n",
    "    for i in range(N):\n",
    "        rx[i] = (iix + 0.5) * L / n3\n",
    "        ry[i] = (iiy + 0.5) * L / n3\n",
    "        rz[i] = (iiz + 0.5) * L / n3\n",
    "        iix += 1\n",
    "        if iix == n3:\n",
    "            iix = 0\n",
    "            iiy += 1\n",
    "            if iiy == n3:\n",
    "                iiy = 0\n",
    "                iiz += 1\n",
    "                \n",
    "                \n",
    "def velocity_verlet(dt, rx, ry, rz, vx, vy, vz, i):\n",
    "    \"\"\"verloctiy verlet algorithm\"\"\"\n",
    "    dt2 = dt * dt\n",
    "    rx[i] += vx[i] * dt + 0.5 * dt2 * fx[i]\n",
    "    ry[i] += vy[i] * dt + 0.5 * dt2 * fy[i]\n",
    "    rz[i] += vz[i] * dt + 0.5 * dt2 * fz[i]\n",
    "\n",
    "    vx[i] += 0.5 * dt * fx[i]\n",
    "    vy[i] += 0.5 * dt * fy[i]\n",
    "    vz[i] += 0.5 * dt * fz[i]\n",
    "    \n",
    "    \n",
    "def wrap_into_box(L, rx, ry, rz, i):\n",
    "    \"\"\"wrap the coordinates\"\"\"\n",
    "    if rx[i] < 0.0:\n",
    "        rx[i] += L\n",
    "    if rx[i] > L:\n",
    "        rx[i] -= L\n",
    "    if ry[i] < 0.0:\n",
    "        ry[i] += L\n",
    "    if ry[i] > L:\n",
    "        ry[i] -= L\n",
    "    if rz[i] < 0.0:\n",
    "        rz[i] += L\n",
    "    if rz[i] > L:\n",
    "        rz[i] -= L\n",
    "        \n",
    "@jit\n",
    "def potential_energy(N, L, rc2, rx, ry, rz, fx, fy, fz):\n",
    "    \"\"\"calculate the potential energy\"\"\"\n",
    "    fx.fill(0)\n",
    "    fy.fill(0)\n",
    "    fz.fill(0)\n",
    "\n",
    "    hL = L / 2.0\n",
    "    pot_E = 0.0\n",
    "    for i in range(N-1):\n",
    "        for j in range(i+1, N):\n",
    "            \n",
    "            dx = rx[i] - rx[j]\n",
    "            dy = ry[i] - ry[j]\n",
    "            dz = rz[i] - rz[j]\n",
    "\n",
    "            if dx > hL:\n",
    "                dx -= L\n",
    "            if dx < -hL:\n",
    "                dx += L\n",
    "            if dy > hL:\n",
    "                dy -= L\n",
    "            if dy < -hL:\n",
    "                dy += L\n",
    "            if dz > hL:\n",
    "                dz -= L\n",
    "            if dz < -hL:\n",
    "                dz += L\n",
    "\n",
    "            r2 = dx * dx + dy * dy + dz * dz\n",
    "\n",
    "            if r2 < rc2:\n",
    "                r6i = 1.0 / (r2 * r2 * r2)\n",
    "                pot_E += 4 * (r6i * r6i - r6i)\n",
    "                f = 48 * (r6i * r6i - 0.5 * r6i)\n",
    "                fx[i] += dx * f / r2\n",
    "                fx[j] -= dx * f / r2\n",
    "                fy[i] += dy * f / r2\n",
    "                fy[j] -= dy * f / r2\n",
    "                fz[i] += dz * f / r2\n",
    "                fz[j] -= dz * f / r2\n",
    "    return pot_E\n",
    "\n",
    "\n",
    "@jit\n",
    "def kinetic_energy(N, dt, vx, vy, vz, fx, fy, fz):\n",
    "    \"\"\"calculate the kinetic energy\"\"\"\n",
    "    e = 0.0\n",
    "    for i in range(N):\n",
    "        vx[i] += 0.5 * dt * fx[i]\n",
    "        vy[i] += 0.5 * dt * fy[i]\n",
    "        vz[i] += 0.5 * dt * fz[i]\n",
    "        e += vx[i] * vx[i] + vy[i] * vy[i] + vz[i] * vz[i]\n",
    "    e *= 0.5\n",
    "    return e\n",
    "\n",
    "\n",
    "def thermostat(KE, T, N, vx, vy, vz):\n",
    "    \"\"\"velocity scaling algorithm\"\"\"\n",
    "    t = KE / N * 2. / 3.\n",
    "    fac = np.sqrt( T / t)\n",
    "    for i in range(N):\n",
    "        vx[i] *= fac\n",
    "        vy[i] *= fac\n",
    "        vz[i] *= fac\n",
    "\n",
    "def berendsen_thermostat(N, dt, KE, vx, vy, vz):\n",
    "    \"\"\"berendsen thermostat algorithm\"\"\"\n",
    "    lamb = np.sqrt(1 + dt / tau * (T / (2.0 * KE / 3.0 / N) - 1.0))\n",
    "    for i in range(N):\n",
    "        vx[i] *= lamb\n",
    "        vy[i] *= lamb\n",
    "        vz[i] *= lamb"
   ]
  },
  {
   "cell_type": "markdown",
   "metadata": {},
   "source": [
    "### Write Functions for outputing thermodynamic data, trajecotries and energies"
   ]
  },
  {
   "cell_type": "code",
   "execution_count": 27,
   "metadata": {},
   "outputs": [],
   "source": [
    "def output_init(N, L, dt, nSteps, T):\n",
    "    \"\"\"print simulation stats\"\"\"\n",
    "\n",
    "    print('** A Minimal Lennard-Jones Fluid Molecular Dynamics Python Program **')\n",
    "    print('\\nSystem information:\\n')\n",
    "    print('               ** ALL UNITS ARE IN REDUCED UNITS **\\n')\n",
    "    print('                 Simulation type:\\tNVT')\n",
    "    print('  Number of particles in the box:\\t{:d}'.format(N))\n",
    "    print('                      Box length:\\t{:f}'.format(L))\n",
    "    print('                       Time step:\\t{:f}'.format(dt))\n",
    "    print('           Total number of steps:\\t{:d}'.format(nSteps))\n",
    "    print('              Target temperature:\\t{:f}'.format(T))\n",
    "    print('\\nOutput format:\\n')\n",
    "    print ( 'Step             Potential        Kinetic          Total' )\n",
    "    print ( '                 Energy PE        Energy KE        Energy TE\\n' )\n",
    "    \n",
    "\n",
    "def output_thermo(s, PE, KE, TE):\n",
    "    \"\"\"print thermo information\"\"\"\n",
    "    #print('Step: {:9d} PE = {:12.4f} KE = {:12.4f} TE  = {:12.4f}'.format(s+1, PE, KE, TE))\n",
    "    \n",
    "def output_xyz(N, rx, ry, rz):\n",
    "    \"\"\"xyz output\"\"\"\n",
    "    with open('output.xyz', 'a+') as f:\n",
    "        f.write(str(N) + '\\n\\n')\n",
    "        for i in range(N):\n",
    "            f.write('{:s} {:.8f} {:.8f} {:.8f}'.format('Pu', rx[i], ry[i], rz[i]))\n",
    "            f.write('\\n')\n",
    "            "
   ]
  },
  {
   "cell_type": "markdown",
   "metadata": {},
   "source": [
    "### Main MD engine"
   ]
  },
  {
   "cell_type": "code",
   "execution_count": 25,
   "metadata": {},
   "outputs": [],
   "source": [
    "def mdrun(N, L, rc2, dt, nSteps, T, rx, ry, rz, vx, vy, vz, fx, fy, fz):\n",
    "    \"\"\"main MD function\"\"\"\n",
    "    \n",
    "    for s in range(nSteps):\n",
    "        for i in range(N):\n",
    "            velocity_verlet(dt, rx, ry, rz, vx, vy, vz,i)\n",
    "            wrap_into_box(L, rx, ry, rz, i)\n",
    "\n",
    "        PE = potential_energy(N, L, rc2, rx, ry, rz, fx, fy, fz)\n",
    "        KE = kinetic_energy(N, dt, vx, vy, vz, fx, fy, fz)\n",
    "        TE = PE + KE\n",
    "\n",
    "        berendsen_thermostat(N, dt, KE, vx, vy, vz)\n",
    "\n",
    "        output_thermo(s, PE, KE, TE)\n",
    "        output_xyz(N, rx, ry, rz)"
   ]
  },
  {
   "cell_type": "code",
   "execution_count": 28,
   "metadata": {},
   "outputs": [],
   "source": [
    "initialize(N, L, rx, ry, rz)\n",
    "mdrun(N, L, rc2, dt, nSteps, T, rx, ry, rz, vx, vy, vz, fx, fy, fz)"
   ]
  },
  {
   "cell_type": "code",
   "execution_count": 19,
   "metadata": {},
   "outputs": [
    {
     "name": "stdout",
     "output_type": "stream",
     "text": [
      "\u001b[1m\u001b[34mSimpleMD-Python-master\u001b[m\u001b[m/           \u001b[1m\u001b[34mmind-master\u001b[m\u001b[m/\n",
      "\u001b[1m\u001b[34mToy-MD-master\u001b[m\u001b[m/                    \u001b[1m\u001b[34mmolecular-dynamics-LJ-master\u001b[m\u001b[m/\n",
      "Untitled.ipynb                    \u001b[1m\u001b[34mmolecular-dynamics-Python-master\u001b[m\u001b[m/\n"
     ]
    }
   ],
   "source": [
    "ls"
   ]
  },
  {
   "cell_type": "code",
   "execution_count": null,
   "metadata": {},
   "outputs": [],
   "source": []
  }
 ],
 "metadata": {
  "kernelspec": {
   "display_name": "Python 3",
   "language": "python",
   "name": "python3"
  },
  "language_info": {
   "codemirror_mode": {
    "name": "ipython",
    "version": 3
   },
   "file_extension": ".py",
   "mimetype": "text/x-python",
   "name": "python",
   "nbconvert_exporter": "python",
   "pygments_lexer": "ipython3",
   "version": "3.6.7"
  }
 },
 "nbformat": 4,
 "nbformat_minor": 2
}

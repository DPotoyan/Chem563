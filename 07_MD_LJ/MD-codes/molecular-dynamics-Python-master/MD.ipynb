{
 "cells": [
  {
   "cell_type": "code",
   "execution_count": 12,
   "metadata": {
    "collapsed": false
   },
   "outputs": [],
   "source": [
    "import numpy as np\n",
    "import matplotlib.pyplot as plt\n",
    "from itertools import product"
   ]
  },
  {
   "cell_type": "code",
   "execution_count": 18,
   "metadata": {},
   "outputs": [],
   "source": [
    "rho = .88 # density of Argon in natural units\n",
    "dt  = 0.004 # time step size\n",
    "T_0 = 1 # temperature\n",
    "\n",
    "N_cell = 3 # number of unitcells in one direction    \n",
    "N = 4 * N_cell ** 3 # the total number of particles in the system\n",
    "\n",
    "L_box = (N / rho) ** (1 / 3) # length of the whole box\n",
    "L_cell = L_box / N_cell # length of a unitcell\n",
    "\n",
    "F = np.zeros((N, N, 3)) # matrix that contains all forces\n",
    "ind = np.triu_indices(N, k=1) # indices of upper triangular matrix\n",
    "bins = 30"
   ]
  },
  {
   "cell_type": "code",
   "execution_count": 48,
   "metadata": {
    "collapsed": false
   },
   "outputs": [],
   "source": [
    "def IC_pos(N_cell, L_cell):\n",
    "    \n",
    "    pos = [[[x,  y, z], [x, 0.5 + y, 0.5 + z], [0.5 + x, y, 0.5 + z], [0.5 + x, 0.5 + y, z]] \n",
    "           for x, y, z in product(range(N_cell), range(N_cell), range(N_cell))]\n",
    "    \n",
    "    pos = np.array(pos).reshape((-1, 3))\n",
    "    \n",
    "    return pos * L_cell\n",
    "\n",
    "\n",
    "def IC_vel(N):\n",
    "    vel = np.random.randn(N, 3)\n",
    "    vel -= np.average(vel, axis=0) # zero mean vel distirbution\n",
    "    return vel \n",
    "\n",
    "\n",
    "def find_force(pos, L_box=L_box):\n",
    "    \n",
    "    r_vec = pos[ind[0]] - pos[ind[1]]\n",
    "    r_vec = r_vec - np.rint(r_vec / L_box) * L_box  # PBC\n",
    "    \n",
    "    r_sq = np.sum(r_vec**2, axis=1)\n",
    "    F_vec = -(48 / r_sq ** 7 - 24 / r_sq ** 4)[:, None] * r_vec\n",
    "    \n",
    "    F[ind[0], ind[1]] = F_vec\n",
    "    \n",
    "    pot = np.sum(4 / r_sq ** 6 - 4 / r_sq ** 3)\n",
    "    \n",
    "    P = np.sum(F_vec * r_vec)\n",
    "    \n",
    "    hist,_ = np.histogram(r_sq, bins=bins, range=(0, L_box / 2))\n",
    "    \n",
    "    return np.sum(F, axis=0) - np.sum(F, axis=1), pot, P, hist\n",
    "\n",
    "def time_step(pos, vel, F):\n",
    "    \n",
    "    vel += 0.5 * F * dt\n",
    "    pos = np.mod(pos + vel * dt, L_box)\n",
    "    F, pot, P, hist = find_force(pos)\n",
    "    \n",
    "    vel += 0.5 * F * dt\n",
    "    kin = 0.5 * np.sum(vel**2)\n",
    "    return pos, vel, F, pot, kin, P, hist"
   ]
  },
  {
   "cell_type": "code",
   "execution_count": 49,
   "metadata": {
    "collapsed": false
   },
   "outputs": [],
   "source": [
    "def simulate():\n",
    "    \n",
    "    kins, pots, Ps, hists = [], [], [], []\n",
    "    \n",
    "    pos = IC_pos(N_cell, L_cell)\n",
    "    vel = IC_vel(N)\n",
    "    F = find_force(pos)[0]\n",
    "    \n",
    "    for t in range(10000):\n",
    "        \n",
    "        pos, vel, F, pot, kin, P, hist = time_step(pos, vel, F)\n",
    "        \n",
    "        if t > 1000:\n",
    "            kins.append(kin)\n",
    "            pots.append(pot)\n",
    "            Ps.append(P)\n",
    "            hists.append(hist)\n",
    "            \n",
    "        else:\n",
    "            vel *= np.sqrt(N * 3 * T_0 / (2 * kin))   # Scale velocity every 1000 steps\n",
    "            \n",
    "    return np.array(kins), np.array(pots), np.array(Ps), np.mean(hists, axis=0)\n",
    "\n",
    "kins, pots, Ps, hist = simulate()\n",
    "\n",
    "T = np.mean(kins * 2 / (3 * N))\n",
    "P = 1 - np.mean(Ps) / (3 * N * T) - 16 * np.pi * rho / (3 * T * L_box**3)"
   ]
  },
  {
   "cell_type": "code",
   "execution_count": 50,
   "metadata": {},
   "outputs": [
    {
     "data": {
      "text/plain": [
       "[<matplotlib.lines.Line2D at 0x119000860>]"
      ]
     },
     "execution_count": 50,
     "metadata": {},
     "output_type": "execute_result"
    },
    {
     "data": {
      "image/png": "[encoded data removed]",
      "text/plain": [
       "<Figure size 432x288 with 1 Axes>"
      ]
     },
     "metadata": {
      "needs_background": "light"
     },
     "output_type": "display_data"
    }
   ],
   "source": [
    "plt.plot(hist)"
   ]
  }
 ],
 "metadata": {
  "kernelspec": {
   "display_name": "Python 3",
   "language": "python",
   "name": "python3"
  },
  "language_info": {
   "codemirror_mode": {
    "name": "ipython",
    "version": 3
   },
   "file_extension": ".py",
   "mimetype": "text/x-python",
   "name": "python",
   "nbconvert_exporter": "python",
   "pygments_lexer": "ipython3",
   "version": "3.6.7"
  }
 },
 "nbformat": 4,
 "nbformat_minor": 2
}

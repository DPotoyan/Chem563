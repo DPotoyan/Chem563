{
 "cells": [
  {
   "cell_type": "code",
   "execution_count": 2,
   "metadata": {},
   "outputs": [],
   "source": [
    "%matplotlib inline\n",
    "%config InlineBackend.figure_format = 'retina'\n",
    "import ipywidgets as widgets\n",
    "\n",
    "# Load basic science tools\n",
    "import matplotlib.pyplot as plt\n",
    "import scipy as sp\n",
    "import numpy as np\n",
    "from numpy.random import rand, randint, uniform, choice, normal \n",
    "from itertools import product\n",
    "\n",
    "import warnings\n",
    "warnings.filterwarnings('ignore')"
   ]
  },
  {
   "cell_type": "code",
   "execution_count": 161,
   "metadata": {},
   "outputs": [],
   "source": [
    "import plotly.express as px\n",
    "from numba import jit, njit"
   ]
  },
  {
   "cell_type": "markdown",
   "metadata": {},
   "source": [
    "### Write main helper function of Molecular dynamics\n",
    " \n",
    " 0. Initialize system (num particles, potentials, box size)\n",
    " <br><br>\n",
    " 1. Set sim parameters (temperature,  thermostat, integration time step, num steps) \n",
    " <br><br>\n",
    " 2. Evolve velocities by computing forces (via a Verlet Algorithm)\n",
    " <br><br>\n",
    " 3. Enforce PBC, update velocities, positions, observables. \n",
    " <br><br>\n",
    " 5. repeat 2-3 until target timesteps reached"
   ]
  },
  {
   "cell_type": "markdown",
   "metadata": {},
   "source": [
    "### Specify initial configuration of the system"
   ]
  },
  {
   "cell_type": "code",
   "execution_count": 162,
   "metadata": {},
   "outputs": [
    {
     "name": "stdout",
     "output_type": "stream",
     "text": [
      "Num particles:  100 \n",
      "Box Length:     4.899973050296446\n"
     ]
    }
   ],
   "source": [
    "#-------Simulation parameters ----\n",
    "\n",
    "N        = 100      # Try different values\n",
    "rho      = 0.85     # We set density \n",
    "T  = 2\n",
    "L  =  (N/rho)**(1/3) # Length of the box side\n",
    "\n",
    "print('Num particles: ', N, '\\nBox Length:    ', L)"
   ]
  },
  {
   "cell_type": "markdown",
   "metadata": {},
   "source": [
    "### Initialize positions and velocities"
   ]
  },
  {
   "cell_type": "code",
   "execution_count": 163,
   "metadata": {},
   "outputs": [],
   "source": [
    "def initialize(N, L):\n",
    "    \n",
    "    \"\"\"Put N particles in a box, \n",
    "    using dense packing unit lattice of size n3\"\"\"\n",
    "\n",
    "    pos = np.zeros((N,3))\n",
    "     \n",
    "    n3 = int(N **(1/3)) + 1\n",
    "    iix = iiy = iiz = 0\n",
    "    \n",
    "    for i in range(N):\n",
    "        \n",
    "        pos[i][0] = (iix + 0.5) * L / n3\n",
    "        pos[i][1] = (iiy + 0.5) * L / n3\n",
    "        pos[i][2] = (iiz + 0.5) * L / n3\n",
    "        \n",
    "        iix += 1\n",
    "        \n",
    "        if iix == n3:\n",
    "            \n",
    "            iix  = 0\n",
    "            iiy += 1\n",
    "            \n",
    "            if iiy == n3:\n",
    "                \n",
    "                iiy = 0\n",
    "                iiz += 1 \n",
    "\n",
    "    # Draw velocities from normal distribution\n",
    "    vel = np.random.randn(N, 3)\n",
    "                \n",
    "    return pos - L/2 , vel - np.mean(vel)"
   ]
  },
  {
   "cell_type": "markdown",
   "metadata": {},
   "source": [
    "### Visualize lattice and velocities"
   ]
  },
  {
   "cell_type": "code",
   "execution_count": 164,
   "metadata": {},
   "outputs": [],
   "source": [
    "pos, vel = initialize(N, L)\n",
    "\n",
    "#px.scatter_3d(x=pos[:,0], y=pos[:,1], z=pos[:,2], opacity=0.5)"
   ]
  },
  {
   "cell_type": "markdown",
   "metadata": {},
   "source": [
    "### Functions for distances and PBC"
   ]
  },
  {
   "cell_type": "code",
   "execution_count": 172,
   "metadata": {},
   "outputs": [],
   "source": [
    "@jit\n",
    "def pbc_wrap(pp, L):\n",
    "    \n",
    "    ''' (a) if pp = (x,y,z) position; wraps it back to box (with origin in the center!) \n",
    "        (b) if pp = (dr_x, dr_y, dr_z) distances; uses nearest image convension'''\n",
    "    \n",
    "    #Using fancy indexing to select points outside of box        \n",
    "    pp[pp  > L/2]  -= L  \n",
    "    pp[pp  < -L/2] += L\n",
    "    \n",
    "    return pp"
   ]
  },
  {
   "cell_type": "markdown",
   "metadata": {},
   "source": [
    "### Compute forces, potential energy and pressure"
   ]
  },
  {
   "cell_type": "code",
   "execution_count": 173,
   "metadata": {},
   "outputs": [],
   "source": [
    "@jit\n",
    "def force_update(pos, L, sig, eps, trunc):\n",
    "    \n",
    "    \"\"\"Calculate the forces \n",
    "    alsoassociated potential energy and pressure\"\"\"\n",
    "    \n",
    "    N=len(pos)\n",
    "    \n",
    "    force = np.zeros((N,N,3))   # Force matrix vector\n",
    "    pe    = 0.0\n",
    "\n",
    "    for i in range(N-1):\n",
    "        for j in range(i+1, N):\n",
    "\n",
    "            dr  = pos[i]-pos[j]\n",
    "            dr  = pbc_wrap(dr, L)\n",
    "            \n",
    "            dr2 = np.sum(dr**2)\n",
    "            \n",
    "            if  dr2 < trunc**2:   \n",
    "                \n",
    "                pe    += 4*eps * ( (sig/dr2)**6 - (sig/dr2)**3 )\n",
    "                \n",
    "                force[i,j] += -eps  * 48 * ( sig**12 / dr2**7 - 0.5 *sig**6 / dr2**4) * dr\n",
    "                force[j,i]  = -force[i,j] \n",
    "                \n",
    "    press = np.sum(force * dr)\n",
    "         \n",
    "    return force,  pe, press"
   ]
  },
  {
   "cell_type": "markdown",
   "metadata": {},
   "source": [
    "### Update positions via Verlet algorithm"
   ]
  },
  {
   "cell_type": "code",
   "execution_count": 174,
   "metadata": {},
   "outputs": [],
   "source": [
    "@jit\n",
    "def md_update(pos, L, vel, force, dt):\n",
    "    \n",
    "    \"\"\"Verloctiy verlet algorithm for \n",
    "    updating positions and velocites over time-step dt\"\"\"\n",
    "\n",
    "    # Convert (N,N,3) force matrix to force acting per particle (N,3) \n",
    "    F = np.sum(force, axis=0) - np.sum(force, axis=1)\n",
    "           \n",
    "    pos += vel * dt + 0.5* F * dt*dt\n",
    "    \n",
    "    vel += 0.5 * F * dt\n",
    "    \n",
    "    return pos, vel"
   ]
  },
  {
   "cell_type": "markdown",
   "metadata": {},
   "source": [
    "### Thermostats to keep T=const"
   ]
  },
  {
   "cell_type": "code",
   "execution_count": 175,
   "metadata": {},
   "outputs": [],
   "source": [
    "@jit\n",
    "def therm_simple(vel, T, N):\n",
    "    \n",
    "    \"\"\"Simple thermostat\n",
    "    Returns new updated velocty and previous kinetic energy and temperature \n",
    "    \"\"\"\n",
    "    \n",
    "    KE = 0.5*np.sum(vel**2)\n",
    "    \n",
    "    temp = 3.0 * KE / (2.0 * N)\n",
    "    \n",
    "    scale = np.sqrt(T/temp)\n",
    "    \n",
    "    return vel*scale, KE, temp\n",
    "    \n",
    "@jit\n",
    "def therm_berendsen(vel, T, N, dt=0.001, tau=0.1):\n",
    "    \n",
    "    \"\"\"Berendsen thermostat \n",
    "    Returns new updated velocty and previous kinetic energy and temperature \n",
    "    \"\"\"\n",
    "    \n",
    "    KE    = 0.5*np.sum(vel**2)\n",
    "    \n",
    "    temp  = 3.0 * KE / (2.0 * N)\n",
    "    \n",
    "    scale = np.sqrt(1 + dt / tau * (T / (2.0 * KE / 3.0 / N) - 1.0))\n",
    "    \n",
    "    return vel*scale, KE, temp"
   ]
  },
  {
   "cell_type": "markdown",
   "metadata": {},
   "source": [
    "### Main MD engine"
   ]
  },
  {
   "cell_type": "code",
   "execution_count": 185,
   "metadata": {},
   "outputs": [],
   "source": [
    "@jit\n",
    "def mdrun(pos, vel, L, T=1, sig=1, eps=1, trunc=3, dt=0.001, steps = 10000, freq = 1000):\n",
    "    \n",
    "    \"\"\"The main MD function\"\"\"\n",
    "    \n",
    "    conf_PE, conf_KE, conf_temp, conf_press = [],[],[],[]\n",
    "    conf   = []\n",
    "    \n",
    "    for step in range(steps):\n",
    "        \n",
    "        pos = pbc_wrap(pos, L)\n",
    "        \n",
    "        force, PE, press      = force_update(pos, L, sig, eps, trunc)\n",
    "        \n",
    "        pos, vel              = md_update(pos, L,  vel, force,  dt)\n",
    "\n",
    "        vel, KE, temp = therm_simple(vel, T, N)\n",
    "        \n",
    "        #Record observables\n",
    "        if step % freq ==0:\n",
    "            \n",
    "            print(100*(step+1)/steps, \" % done\")\n",
    "            conf_PE.append(PE)\n",
    "            conf_KE.append(KE)\n",
    "            conf_temp.append(temp)\n",
    "            conf_press.append(press)\n",
    "            conf.append(pos.copy())\n",
    "        \n",
    "    return np.array(conf_PE), np.array(conf_KE), np.array(conf_temp), np.array(conf_press) , np.array(conf)"
   ]
  },
  {
   "cell_type": "code",
   "execution_count": 186,
   "metadata": {},
   "outputs": [],
   "source": [
    "#-------Simulation parameters ----\n",
    "N        = 100      # Try different values\n",
    "T        = 0.7      # Try different values\n",
    "rho      = 0.85     # We set density \n",
    "L        =  (N/rho)**(1/3) # Length of the box side\n",
    "\n",
    "pos, vel = initialize(N, L)"
   ]
  },
  {
   "cell_type": "code",
   "execution_count": 187,
   "metadata": {},
   "outputs": [
    {
     "name": "stdout",
     "output_type": "stream",
     "text": [
      "CPU times: user 2 µs, sys: 0 ns, total: 2 µs\n",
      "Wall time: 4.77 µs\n",
      "0.01  % done\n",
      "1.01  % done\n",
      "2.01  % done\n",
      "3.01  % done\n",
      "4.01  % done\n",
      "5.01  % done\n",
      "6.01  % done\n",
      "7.01  % done\n",
      "8.01  % done\n",
      "9.01  % done\n",
      "10.01  % done\n",
      "11.01  % done\n",
      "12.01  % done\n",
      "13.01  % done\n",
      "14.01  % done\n",
      "15.01  % done\n",
      "16.01  % done\n",
      "17.01  % done\n",
      "18.01  % done\n",
      "19.01  % done\n",
      "20.01  % done\n",
      "21.01  % done\n",
      "22.01  % done\n",
      "23.01  % done\n",
      "24.01  % done\n",
      "25.01  % done\n",
      "26.01  % done\n",
      "27.01  % done\n",
      "28.01  % done\n",
      "29.01  % done\n",
      "30.01  % done\n",
      "31.01  % done\n",
      "32.01  % done\n",
      "33.01  % done\n",
      "34.01  % done\n",
      "35.01  % done\n",
      "36.01  % done\n",
      "37.01  % done\n",
      "38.01  % done\n",
      "39.01  % done\n",
      "40.01  % done\n",
      "41.01  % done\n",
      "42.01  % done\n",
      "43.01  % done\n",
      "44.01  % done\n",
      "45.01  % done\n",
      "46.01  % done\n",
      "47.01  % done\n",
      "48.01  % done\n",
      "49.01  % done\n",
      "50.01  % done\n",
      "51.01  % done\n",
      "52.01  % done\n",
      "53.01  % done\n",
      "54.01  % done\n",
      "55.01  % done\n",
      "56.01  % done\n",
      "57.01  % done\n",
      "58.01  % done\n",
      "59.01  % done\n",
      "60.01  % done\n",
      "61.01  % done\n",
      "62.01  % done\n",
      "63.01  % done\n",
      "64.01  % done\n",
      "65.01  % done\n",
      "66.01  % done\n",
      "67.01  % done\n",
      "68.01  % done\n",
      "69.01  % done\n",
      "70.01  % done\n",
      "71.01  % done\n",
      "72.01  % done\n",
      "73.01  % done\n",
      "74.01  % done\n",
      "75.01  % done\n",
      "76.01  % done\n",
      "77.01  % done\n",
      "78.01  % done\n",
      "79.01  % done\n",
      "80.01  % done\n",
      "81.01  % done\n",
      "82.01  % done\n",
      "83.01  % done\n",
      "84.01  % done\n",
      "85.01  % done\n",
      "86.01  % done\n",
      "87.01  % done\n",
      "88.01  % done\n",
      "89.01  % done\n",
      "90.01  % done\n",
      "91.01  % done\n",
      "92.01  % done\n",
      "93.01  % done\n",
      "94.01  % done\n",
      "95.01  % done\n",
      "96.01  % done\n",
      "97.01  % done\n",
      "98.01  % done\n",
      "99.01  % done\n"
     ]
    }
   ],
   "source": [
    "%time \n",
    "data = mdrun(pos, vel, L, T, sig=1, eps=1, trunc=3, dt=0.001, steps=10000, freq=100)"
   ]
  },
  {
   "cell_type": "markdown",
   "metadata": {},
   "source": [
    "### Visualize output"
   ]
  },
  {
   "cell_type": "code",
   "execution_count": 188,
   "metadata": {},
   "outputs": [
    {
     "data": {
      "text/plain": [
       "Text(0.5, 0, 'time steps')"
      ]
     },
     "execution_count": 188,
     "metadata": {},
     "output_type": "execute_result"
    },
    {
     "data": {
      "image/png": "[encoded data removed]",
      "text/plain": [
       "<Figure size 432x288 with 1 Axes>"
      ]
     },
     "metadata": {
      "image/png": {
       "height": 293,
       "width": 383
      },
      "needs_background": "light"
     },
     "output_type": "display_data"
    }
   ],
   "source": [
    "plt.plot(data[0])\n",
    "plt.title('PE',fontsize=20)\n",
    "plt.xlabel('time steps',fontsize=20)"
   ]
  },
  {
   "cell_type": "code",
   "execution_count": 189,
   "metadata": {},
   "outputs": [
    {
     "data": {
      "text/plain": [
       "Text(0.5, 0, 'time steps')"
      ]
     },
     "execution_count": 189,
     "metadata": {},
     "output_type": "execute_result"
    },
    {
     "data": {
      "image/png": "[encoded data removed]",
      "text/plain": [
       "<Figure size 432x288 with 1 Axes>"
      ]
     },
     "metadata": {
      "image/png": {
       "height": 293,
       "width": 375
      },
      "needs_background": "light"
     },
     "output_type": "display_data"
    }
   ],
   "source": [
    "plt.plot(data[1])\n",
    "plt.title('KE',fontsize=20)\n",
    "plt.xlabel('time steps',fontsize=20)"
   ]
  },
  {
   "cell_type": "code",
   "execution_count": 190,
   "metadata": {},
   "outputs": [
    {
     "data": {
      "text/plain": [
       "Text(0.5, 0, 'time steps')"
      ]
     },
     "execution_count": 190,
     "metadata": {},
     "output_type": "execute_result"
    },
    {
     "data": {
      "image/png": "[encoded data removed]",
      "text/plain": [
       "<Figure size 432x288 with 1 Axes>"
      ]
     },
     "metadata": {
      "image/png": {
       "height": 293,
       "width": 372
      },
      "needs_background": "light"
     },
     "output_type": "display_data"
    }
   ],
   "source": [
    "plt.plot(data[2])\n",
    "plt.title('TotE',fontsize=20)\n",
    "plt.xlabel('time steps',fontsize=20)"
   ]
  },
  {
   "cell_type": "code",
   "execution_count": 192,
   "metadata": {},
   "outputs": [
    {
     "data": {
      "application/vnd.plotly.v1+json": {
       "config": {
        "plotlyServerURL": "https://plot.ly"
       },
       "data": [
        {
         "hoverlabel": {
          "namelength": 0
         },
         "hovertemplate": "x=%{x}<br>y=%{y}<br>z=%{z}",
         "legendgroup": "",
         "marker": {
          "color": "#636efa",
          "opacity": 0.5,
          "symbol": "circle"
         },
         "mode": "markers",
         "name": "",
         "scene": "scene",
         "showlegend": false,
         "type": "scatter3d",
         "x": [
          -1.8240315169997892,
          -0.8290007255203017,
          0.2147541536094807,
          1.2443873962758527,
          2.025565899483231,
          -2.3797332881494166,
          -1.2590804241214593,
          -0.05302063375429321,
          0.6564621569656521,
          1.6132358066938641,
          -1.605370302155111,
          -0.5222669755731044,
          0.17193029363469925,
          1.259281674912267,
          2.2897839144793894,
          -2.2421857440688386,
          -1.1617975759318004,
          -0.2631801438797331,
          0.6919644254625009,
          1.7344186023765726,
          -1.849505608033966,
          -0.8594151293859223,
          0.0583030113583451,
          1.0884079181005488,
          1.9235345327554698,
          -1.6393266397799295,
          -0.6706506753184039,
          0.22999389171174908,
          1.13931612279834,
          2.1331766764469657,
          -2.3498574226009343,
          -1.1972600800928235,
          -0.3159123370636104,
          0.6287056458140131,
          1.6027735256492048,
          -1.8673272732487307,
          -0.8830586290497756,
          -0.08836550739890832,
          0.9285958682303678,
          2.0718713466540053,
          -2.0152350665527368,
          -1.1506290553460292,
          -0.3052020790466434,
          0.7439602030987041,
          1.8177096939290074,
          -1.9355608785144391,
          -0.9484421917771779,
          -0.10764835698829539,
          0.8833881619562832,
          1.943144750270391,
          -1.8885972725084135,
          -0.760410066296034,
          0.17944748488494397,
          1.0616824728100904,
          2.0262691441345666,
          -1.8624852191009569,
          -0.8997952682523991,
          -0.15455669767023292,
          1.205746568111254,
          2.107353512459048,
          -2.0389206818125003,
          -1.0543026552922594,
          -0.11610230419108848,
          0.8030089153638131,
          1.8507398084458924,
          -1.965820494736735,
          -1.1138467527381632,
          -0.1827487209804829,
          0.7919397992543638,
          1.7412427725641875,
          -2.1170365216769116,
          -1.0146775940028245,
          0.026610460386052356,
          0.8917593177677132,
          1.9016229309198234,
          -2.0941550605611794,
          -0.4799824204010894,
          0.5532380620142243,
          0.9993051848154968,
          1.945818192110499,
          -1.6582406417740385,
          -1.1279560223206149,
          0.17877066259805116,
          1.209806136905055,
          2.2022169086918866,
          -1.9474466485411097,
          -1.0146097740744964,
          -0.0010553062134585386,
          0.8797996083580368,
          1.7654520692673397,
          -2.1077395973568165,
          -1.2102192705544863,
          -0.025959931286825166,
          0.8814268802198822,
          1.817829689470179,
          -1.979282989311121,
          -0.9566996020862375,
          0.21944237266885305,
          1.325624741660773,
          2.327392630445737
         ],
         "y": [
          -1.8503053464973402,
          -1.9093038096183041,
          -2.076781475713497,
          -1.6793041523665968,
          -1.8809383968926263,
          -1.0278392666815606,
          -0.7854705502725552,
          -1.129748668303982,
          -0.793891607873872,
          -0.5702230454630477,
          0.15218312977443285,
          -0.10437458420618242,
          0.16581222720732097,
          0.25491147824727206,
          0.09953500134465713,
          1.0116625689957284,
          1.1546639569359254,
          0.9636297666886986,
          1.0955802728967645,
          1.1916394475858907,
          1.981162064106837,
          1.9760354413293981,
          1.888622022030591,
          2.1879454219818903,
          2.102364237975679,
          -1.7430300720958538,
          -1.9100576884555638,
          -2.0792894688932937,
          -2.1113490624861537,
          -1.859330290436332,
          -1.088066218073025,
          -0.9417282017834678,
          -1.069611952038538,
          -1.22300327979474,
          -0.7833989597817953,
          -0.22629749631835405,
          0.11156805832673054,
          0.38065694900836067,
          -0.11841865039472041,
          0.057495531498973594,
          0.8586342236316261,
          1.209414488193151,
          1.0425517767005004,
          0.9424144288893355,
          1.1239344063071257,
          1.84436662801542,
          2.1482988528614086,
          2.0174057294737637,
          1.9643369434301783,
          2.1570023047156934,
          -2.2024837725584927,
          -1.823374804167382,
          -1.8914128546293747,
          -2.2999413632044616,
          -1.9303525544299984,
          -1.3928130374266208,
          -0.7699078503607092,
          -0.7646360803199749,
          -1.248114724169427,
          -0.8858020387221318,
          -0.35647795450658853,
          0.15217108626786166,
          0.15488088500492792,
          -0.3785166837276744,
          0.1074428852061037,
          0.6827728617667059,
          1.0810972813544353,
          1.178834717382498,
          0.6615303834280046,
          1.0982063716857675,
          1.668652187397521,
          2.0380741271009937,
          2.172945050563927,
          1.7324792027951141,
          1.9026262688837472,
          -2.3728451317791643,
          -1.7621026414398373,
          -2.0918274565583026,
          -1.477093604207057,
          -2.0885113556788553,
          -1.7481506247417307,
          -0.8319384615326424,
          -1.1758780423175432,
          -1.3072853808567115,
          -1.1798940978516916,
          -0.558254354919926,
          0.118004656609213,
          -0.276981693641804,
          0.4298894979280148,
          -0.04745218565615416,
          0.5145563629540912,
          0.9821030800196455,
          1.027332714712085,
          1.4617168672308027,
          1.067686145768713,
          1.5746123255558127,
          2.0776380969412074,
          1.8815664515933346,
          1.954375253678671,
          2.007310496542432
         ],
         "z": [
          2.387913179479139,
          -2.130407900082698,
          2.3840456654154525,
          -1.818697543150897,
          2.4132220843352923,
          -1.8255482517865398,
          -1.9715174833209417,
          2.034047169599085,
          -2.0055157177897494,
          2.431204461439308,
          -2.4396126377832608,
          2.295318815520425,
          -1.8407121139337144,
          -1.752677834559422,
          -2.0232958167183446,
          2.2662496434093127,
          -2.097113920339313,
          2.2631214685645378,
          -2.1790968515126203,
          -2.2819667612053025,
          -2.2228527735512453,
          2.1618222198619557,
          -1.9600914506032503,
          -2.353485425653535,
          -1.6783714031711936,
          -1.3717944781020603,
          -0.8603821715091172,
          -1.465828776318747,
          -0.6797387737056958,
          -1.2837188180456542,
          -0.7384617184689738,
          -0.6984901104366825,
          -1.5354311339548283,
          -0.9972986232427049,
          -1.3182819272779094,
          -1.2772459955618367,
          -1.5404174005857116,
          -0.702499315431212,
          -0.7942185068993408,
          -0.8640555691769334,
          -1.620098416291989,
          -0.7386521152786107,
          -1.4839563933421032,
          -1.0407719844480217,
          -1.256941976737857,
          -1.1216232355128675,
          -1.4592393045479095,
          -0.7042924131586968,
          -1.3375481227195667,
          -0.6288532698847646,
          -0.4527086710049942,
          0.2518861003764758,
          -0.28458083681164703,
          0.41252882865881435,
          0.009700058790400725,
          0.2686444313199026,
          0.5035475790527579,
          -0.3263272121840591,
          -0.11615855516660044,
          0.5479767397966845,
          -0.04970326674978916,
          -0.3204672762364281,
          0.3573306817474065,
          0.29076105311665884,
          0.21352142580300654,
          0.038504760556082936,
          0.6633134254794442,
          0.038100816732167836,
          -0.000580405766666749,
          -0.18968395447205388,
          -0.12851973386291748,
          -0.0029388461461374664,
          0.5865499454777562,
          -0.3558018204438392,
          0.5473020219101385,
          0.5813555542123454,
          1.3044838857751213,
          1.3282533543296735,
          2.1193207590283762,
          1.1368469349163162,
          1.3225362371576803,
          1.7574329395820985,
          0.5860890348448403,
          0.9937250170060035,
          1.6703692081106878,
          1.0271759982058846,
          1.123959720340025,
          1.2802551093608434,
          1.0146955683244054,
          1.3317066065154712,
          1.2179111666312898,
          1.7244773544535603,
          1.0960178592756409,
          0.6802896218461442,
          1.4458666122257242,
          1.082458256410766,
          1.0958577065435857,
          1.7820001551557443,
          1.5572528094455391,
          1.9203300706292035
         ]
        }
       ],
       "layout": {
        "legend": {
         "tracegroupgap": 0
        },
        "margin": {
         "t": 60
        },
        "scene": {
         "domain": {
          "x": [
           0,
           1
          ],
          "y": [
           0,
           1
          ]
         },
         "xaxis": {
          "title": {
           "text": "x"
          }
         },
         "yaxis": {
          "title": {
           "text": "y"
          }
         },
         "zaxis": {
          "title": {
           "text": "z"
          }
         }
        },
        "template": {
         "data": {
          "bar": [
           {
            "error_x": {
             "color": "#2a3f5f"
            },
            "error_y": {
             "color": "#2a3f5f"
            },
            "marker": {
             "line": {
              "color": "#E5ECF6",
              "width": 0.5
             }
            },
            "type": "bar"
           }
          ],
          "barpolar": [
           {
            "marker": {
             "line": {
              "color": "#E5ECF6",
              "width": 0.5
             }
            },
            "type": "barpolar"
           }
          ],
          "carpet": [
           {
            "aaxis": {
             "endlinecolor": "#2a3f5f",
             "gridcolor": "white",
             "linecolor": "white",
             "minorgridcolor": "white",
             "startlinecolor": "#2a3f5f"
            },
            "baxis": {
             "endlinecolor": "#2a3f5f",
             "gridcolor": "white",
             "linecolor": "white",
             "minorgridcolor": "white",
             "startlinecolor": "#2a3f5f"
            },
            "type": "carpet"
           }
          ],
          "choropleth": [
           {
            "colorbar": {
             "outlinewidth": 0,
             "ticks": ""
            },
            "type": "choropleth"
           }
          ],
          "contour": [
           {
            "colorbar": {
             "outlinewidth": 0,
             "ticks": ""
            },
            "colorscale": [
             [
              0,
              "#0d0887"
             ],
             [
              0.1111111111111111,
              "#46039f"
             ],
             [
              0.2222222222222222,
              "#7201a8"
             ],
             [
              0.3333333333333333,
              "#9c179e"
             ],
             [
              0.4444444444444444,
              "#bd3786"
             ],
             [
              0.5555555555555556,
              "#d8576b"
             ],
             [
              0.6666666666666666,
              "#ed7953"
             ],
             [
              0.7777777777777778,
              "#fb9f3a"
             ],
             [
              0.8888888888888888,
              "#fdca26"
             ],
             [
              1,
              "#f0f921"
             ]
            ],
            "type": "contour"
           }
          ],
          "contourcarpet": [
           {
            "colorbar": {
             "outlinewidth": 0,
             "ticks": ""
            },
            "type": "contourcarpet"
           }
          ],
          "heatmap": [
           {
            "colorbar": {
             "outlinewidth": 0,
             "ticks": ""
            },
            "colorscale": [
             [
              0,
              "#0d0887"
             ],
             [
              0.1111111111111111,
              "#46039f"
             ],
             [
              0.2222222222222222,
              "#7201a8"
             ],
             [
              0.3333333333333333,
              "#9c179e"
             ],
             [
              0.4444444444444444,
              "#bd3786"
             ],
             [
              0.5555555555555556,
              "#d8576b"
             ],
             [
              0.6666666666666666,
              "#ed7953"
             ],
             [
              0.7777777777777778,
              "#fb9f3a"
             ],
             [
              0.8888888888888888,
              "#fdca26"
             ],
             [
              1,
              "#f0f921"
             ]
            ],
            "type": "heatmap"
           }
          ],
          "heatmapgl": [
           {
            "colorbar": {
             "outlinewidth": 0,
             "ticks": ""
            },
            "colorscale": [
             [
              0,
              "#0d0887"
             ],
             [
              0.1111111111111111,
              "#46039f"
             ],
             [
              0.2222222222222222,
              "#7201a8"
             ],
             [
              0.3333333333333333,
              "#9c179e"
             ],
             [
              0.4444444444444444,
              "#bd3786"
             ],
             [
              0.5555555555555556,
              "#d8576b"
             ],
             [
              0.6666666666666666,
              "#ed7953"
             ],
             [
              0.7777777777777778,
              "#fb9f3a"
             ],
             [
              0.8888888888888888,
              "#fdca26"
             ],
             [
              1,
              "#f0f921"
             ]
            ],
            "type": "heatmapgl"
           }
          ],
          "histogram": [
           {
            "marker": {
             "colorbar": {
              "outlinewidth": 0,
              "ticks": ""
             }
            },
            "type": "histogram"
           }
          ],
          "histogram2d": [
           {
            "colorbar": {
             "outlinewidth": 0,
             "ticks": ""
            },
            "colorscale": [
             [
              0,
              "#0d0887"
             ],
             [
              0.1111111111111111,
              "#46039f"
             ],
             [
              0.2222222222222222,
              "#7201a8"
             ],
             [
              0.3333333333333333,
              "#9c179e"
             ],
             [
              0.4444444444444444,
              "#bd3786"
             ],
             [
              0.5555555555555556,
              "#d8576b"
             ],
             [
              0.6666666666666666,
              "#ed7953"
             ],
             [
              0.7777777777777778,
              "#fb9f3a"
             ],
             [
              0.8888888888888888,
              "#fdca26"
             ],
             [
              1,
              "#f0f921"
             ]
            ],
            "type": "histogram2d"
           }
          ],
          "histogram2dcontour": [
           {
            "colorbar": {
             "outlinewidth": 0,
             "ticks": ""
            },
            "colorscale": [
             [
              0,
              "#0d0887"
             ],
             [
              0.1111111111111111,
              "#46039f"
             ],
             [
              0.2222222222222222,
              "#7201a8"
             ],
             [
              0.3333333333333333,
              "#9c179e"
             ],
             [
              0.4444444444444444,
              "#bd3786"
             ],
             [
              0.5555555555555556,
              "#d8576b"
             ],
             [
              0.6666666666666666,
              "#ed7953"
             ],
             [
              0.7777777777777778,
              "#fb9f3a"
             ],
             [
              0.8888888888888888,
              "#fdca26"
             ],
             [
              1,
              "#f0f921"
             ]
            ],
            "type": "histogram2dcontour"
           }
          ],
          "mesh3d": [
           {
            "colorbar": {
             "outlinewidth": 0,
             "ticks": ""
            },
            "type": "mesh3d"
           }
          ],
          "parcoords": [
           {
            "line": {
             "colorbar": {
              "outlinewidth": 0,
              "ticks": ""
             }
            },
            "type": "parcoords"
           }
          ],
          "pie": [
           {
            "automargin": true,
            "type": "pie"
           }
          ],
          "scatter": [
           {
            "marker": {
             "colorbar": {
              "outlinewidth": 0,
              "ticks": ""
             }
            },
            "type": "scatter"
           }
          ],
          "scatter3d": [
           {
            "line": {
             "colorbar": {
              "outlinewidth": 0,
              "ticks": ""
             }
            },
            "marker": {
             "colorbar": {
              "outlinewidth": 0,
              "ticks": ""
             }
            },
            "type": "scatter3d"
           }
          ],
          "scattercarpet": [
           {
            "marker": {
             "colorbar": {
              "outlinewidth": 0,
              "ticks": ""
             }
            },
            "type": "scattercarpet"
           }
          ],
          "scattergeo": [
           {
            "marker": {
             "colorbar": {
              "outlinewidth": 0,
              "ticks": ""
             }
            },
            "type": "scattergeo"
           }
          ],
          "scattergl": [
           {
            "marker": {
             "colorbar": {
              "outlinewidth": 0,
              "ticks": ""
             }
            },
            "type": "scattergl"
           }
          ],
          "scattermapbox": [
           {
            "marker": {
             "colorbar": {
              "outlinewidth": 0,
              "ticks": ""
             }
            },
            "type": "scattermapbox"
           }
          ],
          "scatterpolar": [
           {
            "marker": {
             "colorbar": {
              "outlinewidth": 0,
              "ticks": ""
             }
            },
            "type": "scatterpolar"
           }
          ],
          "scatterpolargl": [
           {
            "marker": {
             "colorbar": {
              "outlinewidth": 0,
              "ticks": ""
             }
            },
            "type": "scatterpolargl"
           }
          ],
          "scatterternary": [
           {
            "marker": {
             "colorbar": {
              "outlinewidth": 0,
              "ticks": ""
             }
            },
            "type": "scatterternary"
           }
          ],
          "surface": [
           {
            "colorbar": {
             "outlinewidth": 0,
             "ticks": ""
            },
            "colorscale": [
             [
              0,
              "#0d0887"
             ],
             [
              0.1111111111111111,
              "#46039f"
             ],
             [
              0.2222222222222222,
              "#7201a8"
             ],
             [
              0.3333333333333333,
              "#9c179e"
             ],
             [
              0.4444444444444444,
              "#bd3786"
             ],
             [
              0.5555555555555556,
              "#d8576b"
             ],
             [
              0.6666666666666666,
              "#ed7953"
             ],
             [
              0.7777777777777778,
              "#fb9f3a"
             ],
             [
              0.8888888888888888,
              "#fdca26"
             ],
             [
              1,
              "#f0f921"
             ]
            ],
            "type": "surface"
           }
          ],
          "table": [
           {
            "cells": {
             "fill": {
              "color": "#EBF0F8"
             },
             "line": {
              "color": "white"
             }
            },
            "header": {
             "fill": {
              "color": "#C8D4E3"
             },
             "line": {
              "color": "white"
             }
            },
            "type": "table"
           }
          ]
         },
         "layout": {
          "annotationdefaults": {
           "arrowcolor": "#2a3f5f",
           "arrowhead": 0,
           "arrowwidth": 1
          },
          "coloraxis": {
           "colorbar": {
            "outlinewidth": 0,
            "ticks": ""
           }
          },
          "colorscale": {
           "diverging": [
            [
             0,
             "#8e0152"
            ],
            [
             0.1,
             "#c51b7d"
            ],
            [
             0.2,
             "#de77ae"
            ],
            [
             0.3,
             "#f1b6da"
            ],
            [
             0.4,
             "#fde0ef"
            ],
            [
             0.5,
             "#f7f7f7"
            ],
            [
             0.6,
             "#e6f5d0"
            ],
            [
             0.7,
             "#b8e186"
            ],
            [
             0.8,
             "#7fbc41"
            ],
            [
             0.9,
             "#4d9221"
            ],
            [
             1,
             "#276419"
            ]
           ],
           "sequential": [
            [
             0,
             "#0d0887"
            ],
            [
             0.1111111111111111,
             "#46039f"
            ],
            [
             0.2222222222222222,
             "#7201a8"
            ],
            [
             0.3333333333333333,
             "#9c179e"
            ],
            [
             0.4444444444444444,
             "#bd3786"
            ],
            [
             0.5555555555555556,
             "#d8576b"
            ],
            [
             0.6666666666666666,
             "#ed7953"
            ],
            [
             0.7777777777777778,
             "#fb9f3a"
            ],
            [
             0.8888888888888888,
             "#fdca26"
            ],
            [
             1,
             "#f0f921"
            ]
           ],
           "sequentialminus": [
            [
             0,
             "#0d0887"
            ],
            [
             0.1111111111111111,
             "#46039f"
            ],
            [
             0.2222222222222222,
             "#7201a8"
            ],
            [
             0.3333333333333333,
             "#9c179e"
            ],
            [
             0.4444444444444444,
             "#bd3786"
            ],
            [
             0.5555555555555556,
             "#d8576b"
            ],
            [
             0.6666666666666666,
             "#ed7953"
            ],
            [
             0.7777777777777778,
             "#fb9f3a"
            ],
            [
             0.8888888888888888,
             "#fdca26"
            ],
            [
             1,
             "#f0f921"
            ]
           ]
          },
          "colorway": [
           "#636efa",
           "#EF553B",
           "#00cc96",
           "#ab63fa",
           "#FFA15A",
           "#19d3f3",
           "#FF6692",
           "#B6E880",
           "#FF97FF",
           "#FECB52"
          ],
          "font": {
           "color": "#2a3f5f"
          },
          "geo": {
           "bgcolor": "white",
           "lakecolor": "white",
           "landcolor": "#E5ECF6",
           "showlakes": true,
           "showland": true,
           "subunitcolor": "white"
          },
          "hoverlabel": {
           "align": "left"
          },
          "hovermode": "closest",
          "mapbox": {
           "style": "light"
          },
          "paper_bgcolor": "white",
          "plot_bgcolor": "#E5ECF6",
          "polar": {
           "angularaxis": {
            "gridcolor": "white",
            "linecolor": "white",
            "ticks": ""
           },
           "bgcolor": "#E5ECF6",
           "radialaxis": {
            "gridcolor": "white",
            "linecolor": "white",
            "ticks": ""
           }
          },
          "scene": {
           "xaxis": {
            "backgroundcolor": "#E5ECF6",
            "gridcolor": "white",
            "gridwidth": 2,
            "linecolor": "white",
            "showbackground": true,
            "ticks": "",
            "zerolinecolor": "white"
           },
           "yaxis": {
            "backgroundcolor": "#E5ECF6",
            "gridcolor": "white",
            "gridwidth": 2,
            "linecolor": "white",
            "showbackground": true,
            "ticks": "",
            "zerolinecolor": "white"
           },
           "zaxis": {
            "backgroundcolor": "#E5ECF6",
            "gridcolor": "white",
            "gridwidth": 2,
            "linecolor": "white",
            "showbackground": true,
            "ticks": "",
            "zerolinecolor": "white"
           }
          },
          "shapedefaults": {
           "line": {
            "color": "#2a3f5f"
           }
          },
          "ternary": {
           "aaxis": {
            "gridcolor": "white",
            "linecolor": "white",
            "ticks": ""
           },
           "baxis": {
            "gridcolor": "white",
            "linecolor": "white",
            "ticks": ""
           },
           "bgcolor": "#E5ECF6",
           "caxis": {
            "gridcolor": "white",
            "linecolor": "white",
            "ticks": ""
           }
          },
          "title": {
           "x": 0.05
          },
          "xaxis": {
           "automargin": true,
           "gridcolor": "white",
           "linecolor": "white",
           "ticks": "",
           "title": {
            "standoff": 15
           },
           "zerolinecolor": "white",
           "zerolinewidth": 2
          },
          "yaxis": {
           "automargin": true,
           "gridcolor": "white",
           "linecolor": "white",
           "ticks": "",
           "title": {
            "standoff": 15
           },
           "zerolinecolor": "white",
           "zerolinewidth": 2
          }
         }
        }
       }
      },
      "text/html": [
       "<div>\n",
       "        \n",
       "        \n",
       "            <div id=\"8d6e711a-0497-431a-9899-0bf423cc7a5a\" class=\"plotly-graph-div\" style=\"height:525px; width:100%;\"></div>\n",
       "            <script type=\"text/javascript\">\n",
       "                require([\"plotly\"], function(Plotly) {\n",
       "                    window.PLOTLYENV=window.PLOTLYENV || {};\n",
       "                    \n",
       "                if (document.getElementById(\"8d6e711a-0497-431a-9899-0bf423cc7a5a\")) {\n",
       "                    Plotly.newPlot(\n",
       "                        '8d6e711a-0497-431a-9899-0bf423cc7a5a',\n",
       "                        [{\"hoverlabel\": {\"namelength\": 0}, \"hovertemplate\": \"x=%{x}<br>y=%{y}<br>z=%{z}\", \"legendgroup\": \"\", \"marker\": {\"color\": \"#636efa\", \"opacity\": 0.5, \"symbol\": \"circle\"}, \"mode\": \"markers\", \"name\": \"\", \"scene\": \"scene\", \"showlegend\": false, \"type\": \"scatter3d\", \"x\": [-1.8240315169997892, -0.8290007255203017, 0.2147541536094807, 1.2443873962758527, 2.025565899483231, -2.3797332881494166, -1.2590804241214593, -0.05302063375429321, 0.6564621569656521, 1.6132358066938641, -1.605370302155111, -0.5222669755731044, 0.17193029363469925, 1.259281674912267, 2.2897839144793894, -2.2421857440688386, -1.1617975759318004, -0.2631801438797331, 0.6919644254625009, 1.7344186023765726, -1.849505608033966, -0.8594151293859223, 0.0583030113583451, 1.0884079181005488, 1.9235345327554698, -1.6393266397799295, -0.6706506753184039, 0.22999389171174908, 1.13931612279834, 2.1331766764469657, -2.3498574226009343, -1.1972600800928235, -0.3159123370636104, 0.6287056458140131, 1.6027735256492048, -1.8673272732487307, -0.8830586290497756, -0.08836550739890832, 0.9285958682303678, 2.0718713466540053, -2.0152350665527368, -1.1506290553460292, -0.3052020790466434, 0.7439602030987041, 1.8177096939290074, -1.9355608785144391, -0.9484421917771779, -0.10764835698829539, 0.8833881619562832, 1.943144750270391, -1.8885972725084135, -0.760410066296034, 0.17944748488494397, 1.0616824728100904, 2.0262691441345666, -1.8624852191009569, -0.8997952682523991, -0.15455669767023292, 1.205746568111254, 2.107353512459048, -2.0389206818125003, -1.0543026552922594, -0.11610230419108848, 0.8030089153638131, 1.8507398084458924, -1.965820494736735, -1.1138467527381632, -0.1827487209804829, 0.7919397992543638, 1.7412427725641875, -2.1170365216769116, -1.0146775940028245, 0.026610460386052356, 0.8917593177677132, 1.9016229309198234, -2.0941550605611794, -0.4799824204010894, 0.5532380620142243, 0.9993051848154968, 1.945818192110499, -1.6582406417740385, -1.1279560223206149, 0.17877066259805116, 1.209806136905055, 2.2022169086918866, -1.9474466485411097, -1.0146097740744964, -0.0010553062134585386, 0.8797996083580368, 1.7654520692673397, -2.1077395973568165, -1.2102192705544863, -0.025959931286825166, 0.8814268802198822, 1.817829689470179, -1.979282989311121, -0.9566996020862375, 0.21944237266885305, 1.325624741660773, 2.327392630445737], \"y\": [-1.8503053464973402, -1.9093038096183041, -2.076781475713497, -1.6793041523665968, -1.8809383968926263, -1.0278392666815606, -0.7854705502725552, -1.129748668303982, -0.793891607873872, -0.5702230454630477, 0.15218312977443285, -0.10437458420618242, 0.16581222720732097, 0.25491147824727206, 0.09953500134465713, 1.0116625689957284, 1.1546639569359254, 0.9636297666886986, 1.0955802728967645, 1.1916394475858907, 1.981162064106837, 1.9760354413293981, 1.888622022030591, 2.1879454219818903, 2.102364237975679, -1.7430300720958538, -1.9100576884555638, -2.0792894688932937, -2.1113490624861537, -1.859330290436332, -1.088066218073025, -0.9417282017834678, -1.069611952038538, -1.22300327979474, -0.7833989597817953, -0.22629749631835405, 0.11156805832673054, 0.38065694900836067, -0.11841865039472041, 0.057495531498973594, 0.8586342236316261, 1.209414488193151, 1.0425517767005004, 0.9424144288893355, 1.1239344063071257, 1.84436662801542, 2.1482988528614086, 2.0174057294737637, 1.9643369434301783, 2.1570023047156934, -2.2024837725584927, -1.823374804167382, -1.8914128546293747, -2.2999413632044616, -1.9303525544299984, -1.3928130374266208, -0.7699078503607092, -0.7646360803199749, -1.248114724169427, -0.8858020387221318, -0.35647795450658853, 0.15217108626786166, 0.15488088500492792, -0.3785166837276744, 0.1074428852061037, 0.6827728617667059, 1.0810972813544353, 1.178834717382498, 0.6615303834280046, 1.0982063716857675, 1.668652187397521, 2.0380741271009937, 2.172945050563927, 1.7324792027951141, 1.9026262688837472, -2.3728451317791643, -1.7621026414398373, -2.0918274565583026, -1.477093604207057, -2.0885113556788553, -1.7481506247417307, -0.8319384615326424, -1.1758780423175432, -1.3072853808567115, -1.1798940978516916, -0.558254354919926, 0.118004656609213, -0.276981693641804, 0.4298894979280148, -0.04745218565615416, 0.5145563629540912, 0.9821030800196455, 1.027332714712085, 1.4617168672308027, 1.067686145768713, 1.5746123255558127, 2.0776380969412074, 1.8815664515933346, 1.954375253678671, 2.007310496542432], \"z\": [2.387913179479139, -2.130407900082698, 2.3840456654154525, -1.818697543150897, 2.4132220843352923, -1.8255482517865398, -1.9715174833209417, 2.034047169599085, -2.0055157177897494, 2.431204461439308, -2.4396126377832608, 2.295318815520425, -1.8407121139337144, -1.752677834559422, -2.0232958167183446, 2.2662496434093127, -2.097113920339313, 2.2631214685645378, -2.1790968515126203, -2.2819667612053025, -2.2228527735512453, 2.1618222198619557, -1.9600914506032503, -2.353485425653535, -1.6783714031711936, -1.3717944781020603, -0.8603821715091172, -1.465828776318747, -0.6797387737056958, -1.2837188180456542, -0.7384617184689738, -0.6984901104366825, -1.5354311339548283, -0.9972986232427049, -1.3182819272779094, -1.2772459955618367, -1.5404174005857116, -0.702499315431212, -0.7942185068993408, -0.8640555691769334, -1.620098416291989, -0.7386521152786107, -1.4839563933421032, -1.0407719844480217, -1.256941976737857, -1.1216232355128675, -1.4592393045479095, -0.7042924131586968, -1.3375481227195667, -0.6288532698847646, -0.4527086710049942, 0.2518861003764758, -0.28458083681164703, 0.41252882865881435, 0.009700058790400725, 0.2686444313199026, 0.5035475790527579, -0.3263272121840591, -0.11615855516660044, 0.5479767397966845, -0.04970326674978916, -0.3204672762364281, 0.3573306817474065, 0.29076105311665884, 0.21352142580300654, 0.038504760556082936, 0.6633134254794442, 0.038100816732167836, -0.000580405766666749, -0.18968395447205388, -0.12851973386291748, -0.0029388461461374664, 0.5865499454777562, -0.3558018204438392, 0.5473020219101385, 0.5813555542123454, 1.3044838857751213, 1.3282533543296735, 2.1193207590283762, 1.1368469349163162, 1.3225362371576803, 1.7574329395820985, 0.5860890348448403, 0.9937250170060035, 1.6703692081106878, 1.0271759982058846, 1.123959720340025, 1.2802551093608434, 1.0146955683244054, 1.3317066065154712, 1.2179111666312898, 1.7244773544535603, 1.0960178592756409, 0.6802896218461442, 1.4458666122257242, 1.082458256410766, 1.0958577065435857, 1.7820001551557443, 1.5572528094455391, 1.9203300706292035]}],\n",
       "                        {\"legend\": {\"tracegroupgap\": 0}, \"margin\": {\"t\": 60}, \"scene\": {\"domain\": {\"x\": [0.0, 1.0], \"y\": [0.0, 1.0]}, \"xaxis\": {\"title\": {\"text\": \"x\"}}, \"yaxis\": {\"title\": {\"text\": \"y\"}}, \"zaxis\": {\"title\": {\"text\": \"z\"}}}, \"template\": {\"data\": {\"bar\": [{\"error_x\": {\"color\": \"#2a3f5f\"}, \"error_y\": {\"color\": \"#2a3f5f\"}, \"marker\": {\"line\": {\"color\": \"#E5ECF6\", \"width\": 0.5}}, \"type\": \"bar\"}], \"barpolar\": [{\"marker\": {\"line\": {\"color\": \"#E5ECF6\", \"width\": 0.5}}, \"type\": \"barpolar\"}], \"carpet\": [{\"aaxis\": {\"endlinecolor\": \"#2a3f5f\", \"gridcolor\": \"white\", \"linecolor\": \"white\", \"minorgridcolor\": \"white\", \"startlinecolor\": \"#2a3f5f\"}, \"baxis\": {\"endlinecolor\": \"#2a3f5f\", \"gridcolor\": \"white\", \"linecolor\": \"white\", \"minorgridcolor\": \"white\", \"startlinecolor\": \"#2a3f5f\"}, \"type\": \"carpet\"}], \"choropleth\": [{\"colorbar\": {\"outlinewidth\": 0, \"ticks\": \"\"}, \"type\": \"choropleth\"}], \"contour\": [{\"colorbar\": {\"outlinewidth\": 0, \"ticks\": \"\"}, \"colorscale\": [[0.0, \"#0d0887\"], [0.1111111111111111, \"#46039f\"], [0.2222222222222222, \"#7201a8\"], [0.3333333333333333, \"#9c179e\"], [0.4444444444444444, \"#bd3786\"], [0.5555555555555556, \"#d8576b\"], [0.6666666666666666, \"#ed7953\"], [0.7777777777777778, \"#fb9f3a\"], [0.8888888888888888, \"#fdca26\"], [1.0, \"#f0f921\"]], \"type\": \"contour\"}], \"contourcarpet\": [{\"colorbar\": {\"outlinewidth\": 0, \"ticks\": \"\"}, \"type\": \"contourcarpet\"}], \"heatmap\": [{\"colorbar\": {\"outlinewidth\": 0, \"ticks\": \"\"}, \"colorscale\": [[0.0, \"#0d0887\"], [0.1111111111111111, \"#46039f\"], [0.2222222222222222, \"#7201a8\"], [0.3333333333333333, \"#9c179e\"], [0.4444444444444444, \"#bd3786\"], [0.5555555555555556, \"#d8576b\"], [0.6666666666666666, \"#ed7953\"], [0.7777777777777778, \"#fb9f3a\"], [0.8888888888888888, \"#fdca26\"], [1.0, \"#f0f921\"]], \"type\": \"heatmap\"}], \"heatmapgl\": [{\"colorbar\": {\"outlinewidth\": 0, \"ticks\": \"\"}, \"colorscale\": [[0.0, \"#0d0887\"], [0.1111111111111111, \"#46039f\"], [0.2222222222222222, \"#7201a8\"], [0.3333333333333333, \"#9c179e\"], [0.4444444444444444, \"#bd3786\"], [0.5555555555555556, \"#d8576b\"], [0.6666666666666666, \"#ed7953\"], [0.7777777777777778, \"#fb9f3a\"], [0.8888888888888888, \"#fdca26\"], [1.0, \"#f0f921\"]], \"type\": \"heatmapgl\"}], \"histogram\": [{\"marker\": {\"colorbar\": {\"outlinewidth\": 0, \"ticks\": \"\"}}, \"type\": \"histogram\"}], \"histogram2d\": [{\"colorbar\": {\"outlinewidth\": 0, \"ticks\": \"\"}, \"colorscale\": [[0.0, \"#0d0887\"], [0.1111111111111111, \"#46039f\"], [0.2222222222222222, \"#7201a8\"], [0.3333333333333333, \"#9c179e\"], [0.4444444444444444, \"#bd3786\"], [0.5555555555555556, \"#d8576b\"], [0.6666666666666666, \"#ed7953\"], [0.7777777777777778, \"#fb9f3a\"], [0.8888888888888888, \"#fdca26\"], [1.0, \"#f0f921\"]], \"type\": \"histogram2d\"}], \"histogram2dcontour\": [{\"colorbar\": {\"outlinewidth\": 0, \"ticks\": \"\"}, \"colorscale\": [[0.0, \"#0d0887\"], [0.1111111111111111, \"#46039f\"], [0.2222222222222222, \"#7201a8\"], [0.3333333333333333, \"#9c179e\"], [0.4444444444444444, \"#bd3786\"], [0.5555555555555556, \"#d8576b\"], [0.6666666666666666, \"#ed7953\"], [0.7777777777777778, \"#fb9f3a\"], [0.8888888888888888, \"#fdca26\"], [1.0, \"#f0f921\"]], \"type\": \"histogram2dcontour\"}], \"mesh3d\": [{\"colorbar\": {\"outlinewidth\": 0, \"ticks\": \"\"}, \"type\": \"mesh3d\"}], \"parcoords\": [{\"line\": {\"colorbar\": {\"outlinewidth\": 0, \"ticks\": \"\"}}, \"type\": \"parcoords\"}], \"pie\": [{\"automargin\": true, \"type\": \"pie\"}], \"scatter\": [{\"marker\": {\"colorbar\": {\"outlinewidth\": 0, \"ticks\": \"\"}}, \"type\": \"scatter\"}], \"scatter3d\": [{\"line\": {\"colorbar\": {\"outlinewidth\": 0, \"ticks\": \"\"}}, \"marker\": {\"colorbar\": {\"outlinewidth\": 0, \"ticks\": \"\"}}, \"type\": \"scatter3d\"}], \"scattercarpet\": [{\"marker\": {\"colorbar\": {\"outlinewidth\": 0, \"ticks\": \"\"}}, \"type\": \"scattercarpet\"}], \"scattergeo\": [{\"marker\": {\"colorbar\": {\"outlinewidth\": 0, \"ticks\": \"\"}}, \"type\": \"scattergeo\"}], \"scattergl\": [{\"marker\": {\"colorbar\": {\"outlinewidth\": 0, \"ticks\": \"\"}}, \"type\": \"scattergl\"}], \"scattermapbox\": [{\"marker\": {\"colorbar\": {\"outlinewidth\": 0, \"ticks\": \"\"}}, \"type\": \"scattermapbox\"}], \"scatterpolar\": [{\"marker\": {\"colorbar\": {\"outlinewidth\": 0, \"ticks\": \"\"}}, \"type\": \"scatterpolar\"}], \"scatterpolargl\": [{\"marker\": {\"colorbar\": {\"outlinewidth\": 0, \"ticks\": \"\"}}, \"type\": \"scatterpolargl\"}], \"scatterternary\": [{\"marker\": {\"colorbar\": {\"outlinewidth\": 0, \"ticks\": \"\"}}, \"type\": \"scatterternary\"}], \"surface\": [{\"colorbar\": {\"outlinewidth\": 0, \"ticks\": \"\"}, \"colorscale\": [[0.0, \"#0d0887\"], [0.1111111111111111, \"#46039f\"], [0.2222222222222222, \"#7201a8\"], [0.3333333333333333, \"#9c179e\"], [0.4444444444444444, \"#bd3786\"], [0.5555555555555556, \"#d8576b\"], [0.6666666666666666, \"#ed7953\"], [0.7777777777777778, \"#fb9f3a\"], [0.8888888888888888, \"#fdca26\"], [1.0, \"#f0f921\"]], \"type\": \"surface\"}], \"table\": [{\"cells\": {\"fill\": {\"color\": \"#EBF0F8\"}, \"line\": {\"color\": \"white\"}}, \"header\": {\"fill\": {\"color\": \"#C8D4E3\"}, \"line\": {\"color\": \"white\"}}, \"type\": \"table\"}]}, \"layout\": {\"annotationdefaults\": {\"arrowcolor\": \"#2a3f5f\", \"arrowhead\": 0, \"arrowwidth\": 1}, \"coloraxis\": {\"colorbar\": {\"outlinewidth\": 0, \"ticks\": \"\"}}, \"colorscale\": {\"diverging\": [[0, \"#8e0152\"], [0.1, \"#c51b7d\"], [0.2, \"#de77ae\"], [0.3, \"#f1b6da\"], [0.4, \"#fde0ef\"], [0.5, \"#f7f7f7\"], [0.6, \"#e6f5d0\"], [0.7, \"#b8e186\"], [0.8, \"#7fbc41\"], [0.9, \"#4d9221\"], [1, \"#276419\"]], \"sequential\": [[0.0, \"#0d0887\"], [0.1111111111111111, \"#46039f\"], [0.2222222222222222, \"#7201a8\"], [0.3333333333333333, \"#9c179e\"], [0.4444444444444444, \"#bd3786\"], [0.5555555555555556, \"#d8576b\"], [0.6666666666666666, \"#ed7953\"], [0.7777777777777778, \"#fb9f3a\"], [0.8888888888888888, \"#fdca26\"], [1.0, \"#f0f921\"]], \"sequentialminus\": [[0.0, \"#0d0887\"], [0.1111111111111111, \"#46039f\"], [0.2222222222222222, \"#7201a8\"], [0.3333333333333333, \"#9c179e\"], [0.4444444444444444, \"#bd3786\"], [0.5555555555555556, \"#d8576b\"], [0.6666666666666666, \"#ed7953\"], [0.7777777777777778, \"#fb9f3a\"], [0.8888888888888888, \"#fdca26\"], [1.0, \"#f0f921\"]]}, \"colorway\": [\"#636efa\", \"#EF553B\", \"#00cc96\", \"#ab63fa\", \"#FFA15A\", \"#19d3f3\", \"#FF6692\", \"#B6E880\", \"#FF97FF\", \"#FECB52\"], \"font\": {\"color\": \"#2a3f5f\"}, \"geo\": {\"bgcolor\": \"white\", \"lakecolor\": \"white\", \"landcolor\": \"#E5ECF6\", \"showlakes\": true, \"showland\": true, \"subunitcolor\": \"white\"}, \"hoverlabel\": {\"align\": \"left\"}, \"hovermode\": \"closest\", \"mapbox\": {\"style\": \"light\"}, \"paper_bgcolor\": \"white\", \"plot_bgcolor\": \"#E5ECF6\", \"polar\": {\"angularaxis\": {\"gridcolor\": \"white\", \"linecolor\": \"white\", \"ticks\": \"\"}, \"bgcolor\": \"#E5ECF6\", \"radialaxis\": {\"gridcolor\": \"white\", \"linecolor\": \"white\", \"ticks\": \"\"}}, \"scene\": {\"xaxis\": {\"backgroundcolor\": \"#E5ECF6\", \"gridcolor\": \"white\", \"gridwidth\": 2, \"linecolor\": \"white\", \"showbackground\": true, \"ticks\": \"\", \"zerolinecolor\": \"white\"}, \"yaxis\": {\"backgroundcolor\": \"#E5ECF6\", \"gridcolor\": \"white\", \"gridwidth\": 2, \"linecolor\": \"white\", \"showbackground\": true, \"ticks\": \"\", \"zerolinecolor\": \"white\"}, \"zaxis\": {\"backgroundcolor\": \"#E5ECF6\", \"gridcolor\": \"white\", \"gridwidth\": 2, \"linecolor\": \"white\", \"showbackground\": true, \"ticks\": \"\", \"zerolinecolor\": \"white\"}}, \"shapedefaults\": {\"line\": {\"color\": \"#2a3f5f\"}}, \"ternary\": {\"aaxis\": {\"gridcolor\": \"white\", \"linecolor\": \"white\", \"ticks\": \"\"}, \"baxis\": {\"gridcolor\": \"white\", \"linecolor\": \"white\", \"ticks\": \"\"}, \"bgcolor\": \"#E5ECF6\", \"caxis\": {\"gridcolor\": \"white\", \"linecolor\": \"white\", \"ticks\": \"\"}}, \"title\": {\"x\": 0.05}, \"xaxis\": {\"automargin\": true, \"gridcolor\": \"white\", \"linecolor\": \"white\", \"ticks\": \"\", \"title\": {\"standoff\": 15}, \"zerolinecolor\": \"white\", \"zerolinewidth\": 2}, \"yaxis\": {\"automargin\": true, \"gridcolor\": \"white\", \"linecolor\": \"white\", \"ticks\": \"\", \"title\": {\"standoff\": 15}, \"zerolinecolor\": \"white\", \"zerolinewidth\": 2}}}},\n",
       "                        {\"responsive\": true}\n",
       "                    ).then(function(){\n",
       "                            \n",
       "var gd = document.getElementById('8d6e711a-0497-431a-9899-0bf423cc7a5a');\n",
       "var x = new MutationObserver(function (mutations, observer) {{\n",
       "        var display = window.getComputedStyle(gd).display;\n",
       "        if (!display || display === 'none') {{\n",
       "            console.log([gd, 'removed!']);\n",
       "            Plotly.purge(gd);\n",
       "            observer.disconnect();\n",
       "        }}\n",
       "}});\n",
       "\n",
       "// Listen for the removal of the full notebook cells\n",
       "var notebookContainer = gd.closest('#notebook-container');\n",
       "if (notebookContainer) {{\n",
       "    x.observe(notebookContainer, {childList: true});\n",
       "}}\n",
       "\n",
       "// Listen for the clearing of the current output cell\n",
       "var outputEl = gd.closest('.output');\n",
       "if (outputEl) {{\n",
       "    x.observe(outputEl, {childList: true});\n",
       "}}\n",
       "\n",
       "                        })\n",
       "                };\n",
       "                });\n",
       "            </script>\n",
       "        </div>"
      ]
     },
     "metadata": {},
     "output_type": "display_data"
    }
   ],
   "source": [
    "pos = data[4][10]\n",
    "px.scatter_3d(x=pos[:,0], y=pos[:,1], z=pos[:,2], opacity=0.5)"
   ]
  }
 ],
 "metadata": {
  "kernelspec": {
   "display_name": "Python 3",
   "language": "python",
   "name": "python3"
  },
  "language_info": {
   "codemirror_mode": {
    "name": "ipython",
    "version": 3
   },
   "file_extension": ".py",
   "mimetype": "text/x-python",
   "name": "python",
   "nbconvert_exporter": "python",
   "pygments_lexer": "ipython3",
   "version": "3.7.6"
  },
  "toc": {
   "base_numbering": 1,
   "nav_menu": {},
   "number_sections": true,
   "sideBar": true,
   "skip_h1_title": false,
   "title_cell": "Table of Contents",
   "title_sidebar": "Contents",
   "toc_cell": false,
   "toc_position": {},
   "toc_section_display": true,
   "toc_window_display": false
  }
 },
 "nbformat": 4,
 "nbformat_minor": 4
}

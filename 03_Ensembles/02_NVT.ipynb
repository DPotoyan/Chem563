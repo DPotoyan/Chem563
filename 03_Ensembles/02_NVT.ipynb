{
 "cells": [
  {
   "cell_type": "code",
   "execution_count": 2,
   "metadata": {},
   "outputs": [],
   "source": [
    "%matplotlib inline\n",
    "%config InlineBackend.figure_format = 'retina'\n",
    "\n",
    "from ipywidgets import widgets\n",
    "import matplotlib.pyplot as plt\n",
    "import numpy as np\n",
    "import scipy as sci\n",
    "import seaborn as sns"
   ]
  },
  {
   "cell_type": "markdown",
   "metadata": {
    "slideshow": {
     "slide_type": "slide"
    }
   },
   "source": [
    "### $NVE \\rightarrow NVT$ releasing E=const constraint to get $T=const$\n",
    "\n",
    "In the NVT ensemble system samples different $E_i$ consistent with T=const constraint imposed by putting system in contact with infinitely large reservoir. \n",
    "\n",
    "$$E_{tot} = E_r + E_i$$\n",
    "\n",
    "\n",
    "$$\\Omega_{tot}(E_{tot}) = \\sum_i \\Omega_r(E_{tot}-E_i) \\cdot \\Omega(E_i)$$"
   ]
  },
  {
   "cell_type": "markdown",
   "metadata": {
    "slideshow": {
     "slide_type": "slide"
    }
   },
   "source": [
    "### NVT Ensemble"
   ]
  },
  {
   "cell_type": "markdown",
   "metadata": {
    "slideshow": {
     "slide_type": "fragment"
    }
   },
   "source": [
    "Let us single out one micro-state $E_i$ of our system $\\Omega(E_i) =1$ and see what would be its probability in NVT ensemble.\n",
    "\n",
    "$$p_i = \\frac{\\Omega_r(E_{tot}-E_i)}{\\Omega_{tot} (E_{tot})} = \\frac{e^{S_r(E_{tot}-E_i)/k_B}}{e^{S_{tot}(E)/k_B}}$$\n",
    "\n",
    "Where we have used use the microcanonical ensemble of **system+reservoir** to cast the problem in terms of probabilities of **the system**."
   ]
  },
  {
   "cell_type": "markdown",
   "metadata": {
    "slideshow": {
     "slide_type": "slide"
    }
   },
   "source": [
    "### Derivation- 1 (quick n' dirty) \n",
    "\n",
    "Since entropy is a smoothly varying function of energy we can expand it around $E_{tot}$ as $E_i$ is a much smaller quantity.\n",
    "\n",
    "$$S_r(E_{tot}) \\approx S_r(E_{tot}) - \\Big( \\frac{\\partial S_r(E)}{\\partial E}\\Big) E_i = S_r(E_{tot}) -\\frac{E_i}{T}$$\n",
    "\n",
    "This leads to $$p_i \\sim e^{-\\beta E_i}\\,\\,\\,\\, where \\,\\,\\,\\,\\beta = \\frac{1}{k_B T}$$ after normalizing we obtain:\n",
    "\n",
    "$$ p_i = \\frac{e^{-\\beta E_i}}{Z}\\,\\,\\,\\,\\, Z= \\sum_i e^{-\\beta E_i}$$"
   ]
  },
  {
   "cell_type": "markdown",
   "metadata": {
    "slideshow": {
     "slide_type": "slide"
    }
   },
   "source": [
    "### Derivation- 2 (clean n' insightful)\n",
    "\n",
    "A more revealing is the expansion around system's average energy $U = \\sum_i p_i E_i$ which has small fluctuations around it $U - E_i = \\delta E_i \\sim O(N^{1/2})$:\n",
    "\n",
    "\n",
    "   - **Entropy of reservoir**\n",
    "$$S_r(E_{tot}-E_i) = S_r(E_{tot}-U + U-E_i) \\approx S_r(E_{tot}-U) +\\Big( \\frac{\\partial S_r(E)}{\\partial E}\\Big) (U-E_i)=  S_r(E_{tot}-U) +\\frac{1}{T}(U-E_i)$$\n",
    "\n",
    "<br>\n",
    "\n",
    "   - **Entropy of total system.**\n",
    "$$ S_{tot} = S_r(E_{tot}-U)+S(U)$$\n",
    "\n",
    "<br>\n",
    "\n",
    "$$p_i =\\frac{e^{S_r(E_{tot}-E_i)/k_B}}{e^{S_{tot}(E)/k_B}} = \\frac{e^{-\\beta (U-E_i)}}{e^{S(U)/k_B}} = \\frac{e^{-\\beta E_i}}{e^{-\\beta F}}$$"
   ]
  },
  {
   "cell_type": "markdown",
   "metadata": {
    "slideshow": {
     "slide_type": "slide"
    }
   },
   "source": [
    "#### Boltzmann distribution\n",
    "$$\\boxed{p_i = \\frac{e^{-E_i/k_B T}}{Z}}$$\n",
    "\n",
    "#### Partiation Function\n",
    "\n",
    "$$\\boxed{Z = \\sum_i E^{-\\beta E_i}}$$ \n",
    "\n",
    "#### Free Energy \n",
    "\n",
    "$$\\boxed{Z = e^{-{\\beta F}}} \\,\\,\\,\\,\\, \\boxed{F = -\\beta^{-1} log Z}$$"
   ]
  },
  {
   "cell_type": "markdown",
   "metadata": {
    "slideshow": {
     "slide_type": "slide"
    }
   },
   "source": [
    "### Closer look at the Z: The partiation function\n",
    "\n",
    "\n",
    "<br>\n",
    "$$\\boxed{Z(\\beta) = \\sum_i e^{-\\beta E_i} = \\int \\Omega(E) e^{-\\beta E}dE = \\int e^{-\\beta (E-TS)}dE }$$\n",
    "<br>\n",
    "\n",
    "- The parition function is \"partitioning\" or disirbuting (exponentially) the states of NVT ensemble with different energy levels/values:\n",
    "<br>\n",
    "\n",
    "- It can be seen that $Z$, the partition function of NVT is **Laplace Transform** of density of states of NVE. While connection between energy and free energy $F= E -TS$ is  via **Legendre Transform** \n",
    "<br>\n",
    "\n",
    "- $\\Omega(E)\\sim e^N$ rapidly increasing function with N eacsue of limit theorems: e.g the large deviation, central limit theorem, law of large numbers. \n",
    "<br>\n",
    "\n",
    "- $e^{-\\beta E}\\sim e^{-N}$ rapidly decreasing function with N\n",
    "\n",
    "- Thermodynamic limit $N, V\\rightarrow \\infty$ and $N/V \\rightarrow const$ only the region of energy survivies hat guarantees non-negligible contribution\n",
    "\n",
    "$$Z = \\int e^{-\\beta (E-TS)}dE \\approx e^{-\\beta(U-TS)} = e^{-\\beta F}$$\n",
    "\n",
    "Where $U =\\langle E \\rangle$ is the thermodynamic average energy, flucutatins around which are on order of $O(N^{1/2})$"
   ]
  },
  {
   "cell_type": "markdown",
   "metadata": {
    "slideshow": {
     "slide_type": "slide"
    }
   },
   "source": [
    "### Why free energy is a central quantity in the NVT ensemble.\n",
    "\n",
    "\n",
    ">As we have learned in Thermodynamics, after legendre transorming total energy the equilibrium corresponds to the minimum of the free energy.\n",
    "\n",
    "Now time to see how free energy governes probabilities in the NVT ensemble:\n",
    "\n",
    "$$p_1 =\\frac{\\Omega (E_1) e^{-\\beta E_1}}{Z} = \\frac{e^{-\\beta F_1}}{e^{-\\beta F}}$$\n",
    "\n",
    "Often we re interested in relative probabilities of different states, e.g conformation A vs B of polymer:\n",
    "\n",
    "$$\\frac{p_2}{p_1} = e^{-\\beta (F_2-F_1)} $$"
   ]
  },
  {
   "cell_type": "markdown",
   "metadata": {
    "slideshow": {
     "slide_type": "slide"
    }
   },
   "source": [
    "### logZ as cumulant generating function\n",
    "\n",
    "- **Moment generation function $M(k)$**\n",
    "\n",
    "$$M(k) = \\int f(x) e^{kx} dx = \\langle e^{kx} \\rangle$$\n",
    "\n",
    "$$M(k) = 1 +\\langle x \\rangle k + \\frac{1}{2!} \\langle x^2 \\rangle k^2 + ...$$\n",
    "\n",
    "- **Cumulant generation function $C(k)=log M(k)$:**\n",
    "\n",
    "$$C(k) = log \\langle e^{kx} \\rangle$$\n",
    "\n",
    "$$\\langle e^{kx} \\rangle = e^{C(k)} = e^{[1 +\\langle x \\rangle k + \\frac{1}{2!} \\langle x^2 \\rangle k^2 + ...]}= 1+\\kappa_1 k^2 +\\kappa_2 k^2 + ...$$\n",
    "\n",
    "First two cumulants are mean and fluctuation!\n",
    "\n",
    "1. $k_1 = \\langle x \\rangle$\n",
    "\n",
    "2. $k_2 = \\langle (x-\\langle x \\rangle)^2 \\rangle$ "
   ]
  },
  {
   "cell_type": "markdown",
   "metadata": {
    "slideshow": {
     "slide_type": "slide"
    }
   },
   "source": [
    "### Energy fluctuations\n",
    "\n",
    "$$\\langle E \\rangle = \\frac{\\partial log Z}{\\partial (-\\beta)}$$\n",
    "\n",
    "$$\\sigma^2_E = \\frac{\\partial^2 log Z}{\\partial \\beta^2} = -\\frac{\\partial \\langle E \\rangle}{\\partial \\beta} = k_BT^2 C_v$$\n",
    "\n",
    "$$\\frac{\\sigma_E}{\\langle E\\rangle} = \\frac{(k_BT^2 C_v)^{1/2}}{\\langle E\\rangle}\\sim O(N^{-1/2})$$"
   ]
  },
  {
   "cell_type": "markdown",
   "metadata": {
    "slideshow": {
     "slide_type": "slide"
    }
   },
   "source": [
    "### A simple example comparing NVE vs NVT "
   ]
  },
  {
   "cell_type": "markdown",
   "metadata": {
    "slideshow": {
     "slide_type": "fragment"
    }
   },
   "source": [
    "Let us consider simple two level system where lower level $\\epsilon_0 = 0$ and upper level $\\epsilon_1 =\\epsilon$\n",
    "\n",
    "$$E = n\\epsilon$$\n",
    "\n",
    "$$\\Omega(E) = \\frac{N!}{(N-n)! n!}$$\n",
    "\n",
    "$$S = k_B log \\Omega(E) = N k_B \\Big [- \\frac{n}{N}log \\frac{n}{N} - \\frac{N-n}{N}log \\frac{N-n}{N} \\Big]$$\n",
    "\n",
    "$$\\frac{1}{T} = \\frac{\\partial S(E)}{\\partial E} =  \\frac{k_B}{\\epsilon}\\frac{\\partial log\\Omega(n)}{\\partial  n} = \\frac{k_B}{\\epsilon}log \\frac{N-n}{N}$$\n",
    "\n",
    "$$\\frac{n}{N} = \\frac{1}{1+e^{\\beta \\epsilon}}$$\n",
    "\n",
    "$$E = n\\epsilon = \\frac{N\\epsilon}{1+e^{\\beta \\epsilon}}$$"
   ]
  },
  {
   "cell_type": "markdown",
   "metadata": {
    "slideshow": {
     "slide_type": "slide"
    }
   },
   "source": [
    "### Parition function decouples non-interacting terms in energy!\n",
    "\n",
    "$$ Z = \\sum^{n=N}_{n=0} e^{-\\beta E_n} =  \\Big (\\sum^{i=1}_{i=0} e^{-\\beta \\epsilon_i} \\Big)\\Big (\\sum^{i=1}_{i=0} e^{-\\beta \\epsilon_i} \\Big)...\\Big (\\sum^{i=1}_{i=0} e^{-\\beta \\epsilon_i} \\Big) = (1+e^{-\\beta \\epsilon})^N $$\n",
    "\n",
    "$$F= -k_B T log Z = -k_BT N log(1+e^{-\\beta \\epsilon})$$\n",
    "\n",
    "$$\\langle E \\rangle  = \\frac{\\partial log Z}{\\partial (-\\beta)} =  \\frac{N\\epsilon}{1+e^{\\beta \\epsilon}} $$"
   ]
  },
  {
   "cell_type": "markdown",
   "metadata": {
    "slideshow": {
     "slide_type": "slide"
    }
   },
   "source": [
    "### Non-interacting system\n",
    "\n",
    "With distinguishable states:\n",
    "\n",
    "$$Z = z^N$$\n",
    "\n",
    "With indistinguishable states:\n",
    "\n",
    "$$ Z = \\frac{1}{N!}z^N $$"
   ]
  },
  {
   "cell_type": "markdown",
   "metadata": {
    "slideshow": {
     "slide_type": "slide"
    }
   },
   "source": [
    "## Example-2: Ideal gas (classical)"
   ]
  },
  {
   "cell_type": "markdown",
   "metadata": {
    "slideshow": {
     "slide_type": "fragment"
    }
   },
   "source": [
    "$$H(p^N, x^N) = K(p^N)  = \\sum^{i=N}_{i=1}\\frac{p^2_i}{2m}$$\n",
    "\n",
    "$$\\boxed{Z(\\beta) = \\frac{1}{h^{N} N!} \\int dp^N dx^N e^{-\\beta H(p^N,x^N)}}$$"
   ]
  },
  {
   "cell_type": "markdown",
   "metadata": {
    "slideshow": {
     "slide_type": "slide"
    }
   },
   "source": [
    "$$Z(\\beta) = \\frac{V^N}{h^{N} N!} \\Big [ \\int^{+\\infty}_{-\\infty} dp e^{-\\beta \\frac{p^2}{2m}}  \\Big ]^N = \\frac{V^N}{h^{N} N!} \\Big [ \\frac{2\\pi m}{\\beta} \\Big]^N  $$\n",
    "<br><br>\n",
    "- $$F = -k_B T log Z$$\n",
    "<br><br>\n",
    "- $$\\langle E \\rangle = \\frac{\\partial log Z}{\\partial (-\\beta)}$$\n",
    "<br><br>\n",
    "- $$p = -\\frac{\\partial F}{\\partial V} $$"
   ]
  },
  {
   "cell_type": "markdown",
   "metadata": {},
   "source": [
    "### Example-3: Ideal gas (QM version)"
   ]
  },
  {
   "cell_type": "code",
   "execution_count": null,
   "metadata": {},
   "outputs": [],
   "source": []
  },
  {
   "cell_type": "code",
   "execution_count": null,
   "metadata": {},
   "outputs": [],
   "source": []
  }
 ],
 "metadata": {
  "celltoolbar": "Slideshow",
  "kernelspec": {
   "display_name": "Python 3",
   "language": "python",
   "name": "python3"
  },
  "language_info": {
   "codemirror_mode": {
    "name": "ipython",
    "version": 3
   },
   "file_extension": ".py",
   "mimetype": "text/x-python",
   "name": "python",
   "nbconvert_exporter": "python",
   "pygments_lexer": "ipython3",
   "version": "3.6.7"
  },
  "livereveal": {
   "theme": "sky"
  }
 },
 "nbformat": 4,
 "nbformat_minor": 2
}

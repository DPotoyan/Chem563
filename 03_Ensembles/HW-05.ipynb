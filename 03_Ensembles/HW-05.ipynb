{
  "cells": [
    {
      "cell_type": "markdown",
      "source": [
        "# Homework 5. The core ideas of statistical mechanics: counting, density of states and ensembles.  "
      ],
      "metadata": {}
    },
    {
      "cell_type": "markdown",
      "source": [
        "### Problem-1"
      ],
      "metadata": {}
    },
    {
      "cell_type": "markdown",
      "source": [
        "Write a python code to quantify the number of states of particle in a box at energy E $$E = C(n^2_x +n^2_y+n^2_z)$$ where C is a constant which you can set  to 1. You can do this by generating three integer numbers satisfying $$ n^2_x +n^2_y+n^2_z < E$$.\n",
        "\n",
        "- Try differnet energy values, $E = 10, 20, 50, 100$\n",
        "\n",
        "- Can you take advantage of monte carlo ideas to estimate number of states?"
      ],
      "metadata": {
        "nteract": {
          "transient": {
            "deleting": false
          }
        }
      }
    },
    {
      "cell_type": "markdown",
      "source": [
        "### Problem-2"
      ],
      "metadata": {}
    },
    {
      "cell_type": "markdown",
      "source": [
        "- Generate  16 by 16 lattice with spin up and down states. This can be done by using \n",
        "\n",
        "``python\n",
        "np.random.choice([-1,1],size=(16,16))\n",
        "`` \n",
        "\n",
        "Visualize the lattice via plt.imshow(latttice)\n",
        "\n",
        "- Write a function to compute the total energy by using $E_{ij} = -\\sum_{ij} s_i s_j$ where the summation runs only between nearest neighbours of the lattice. E.g each spin has only four neighbours to interact with. \n",
        "\n",
        "- Generate 1000 states by randomly flipping spins in batches of 1,2,4,8. E.g pick random spins and flip the sign. Plot the distribution of energies that results. Comment on the number of states as a function of energy. \n",
        "\n",
        "- What is the probability of observing each configuration? What are the total number of states? Can you comment on efficiency of estimating total energy via random sampling. \n",
        "\n",
        "- Enforce periodic boundary conditions, e.g allow each spin at the endge to interact with spin on the other side. E.g spin at $(5,16)$ now can interact with spin at (5,1). Can you comment on the contribution of energy that results from inclduing the surface spins?\n"
      ],
      "metadata": {
        "nteract": {
          "transient": {
            "deleting": false
          }
        }
      }
    },
    {
      "cell_type": "markdown",
      "source": [
        "### Problem-3. polymer on a lattice.\n",
        "\n",
        "- Generate 16 by 16 empty lattice. E.g use  ```np\n",
        "np.zeros((16,16))```. \n",
        "\n",
        "- Create 1000 random polymer conformations of length 8 on the lattice by filling the lattice with a chain of connected ones.\n",
        "\n",
        "- Calculate energy of polymer by assuming interactions between neighbouring lattices $s_i$ and $s_j$ $E_{ij} = -\\sum_{ij} s_i s_j$. Plot the energy distribution. \n",
        "\n",
        "- Enforce periodic boundary conditions by letting monomers at the edges interact with each other. Plot the energy distribution.\n",
        "\n",
        "- Can you comment on how the number of polymer states changes as a function of total energy? What do the polymer conformations look like?"
      ],
      "metadata": {
        "nteract": {
          "transient": {
            "deleting": false
          }
        }
      }
    },
    {
      "cell_type": "markdown",
      "source": [
        "### Problem-4: Shottky defects in NVE: Computing number of states via lattice models \n",
        "\n",
        "Schotky defects are vacancies in a lattice of atoms. Creating a single vacancy costs an energy. Consider NVE ensemble of lattice with n vacacnies(defects) in an N-lattice model of solid material. The total energy is solely a function of defects in this model $E=n\\epsilon$\n",
        "\n",
        "- Write down number of states in NVE ensemble and compute the entropy via Boltzman formula. Plot number of states as a function of energy. You can use log of number of states for plotting. \n",
        "\n",
        "- Compute how the temperature would affect the fraction of vacancies on the lattice. Plot fraction of vacancies as a function of temperature. \n",
        "\n",
        "- How would the total energy depend on temperature $T$. Derive expression for the high temeprature limit ($\\frac{\\epsilon}{k_b T} \\gg 1$). Plot total energy as a function of temperature. "
      ],
      "metadata": {
        "nteract": {
          "transient": {
            "deleting": false
          }
        }
      }
    },
    {
      "cell_type": "markdown",
      "source": [
        "### Problem-5: Ideal gas in NVE\n",
        "\n",
        "Redo the derivation of entropy of ideal gas in NVE ensemble which was discussed in the class. Recall that the energy of an ideal gas is coming purely from knetic energy of individual atoms $E=H({\\bf p, x})=\\sum^{N}_{i=1}=\\frac{p^2_i}{2m}$. Where ${\\bf p,x}$ denotes the collection of all N momemnta and positions in 3D space. \n",
        "The number of states of ideas gas in NVE can be computed as a multidimensional volume in phase space: $\\Omega (E,V,N) = \\frac{1}{h^{3N}}\\int_{E-\\Delta E < H({\\bf p, x}) < E} {\\bf dp \\cdot dx}$\n",
        "\n",
        "1. Why do we divide the volume element by ${h^{3N}}$? <br>\n",
        "2. Why integrating over slab of energy $\\Delta E$ is giving us a number of states for the system with constant E? Answering (iii) may help answering this one <br>\n",
        "3. To carry out the integration over momenta we need to use formula for the volume of $d$ dimensional sphhere. Here is how to obtain it: <br> \n",
        "First show that $dV_d= S_{d-1}R^{d-1}dR$ where $S_{d-1}$ is the surface element (e.g. $dV=4\\pi r^2 dr=S_2r^2dr$) <br>\n",
        "Next recall how you evaluate your gaussian integrals and show that: \n",
        "$$I_d=\\int^{+\\infty}_{-\\infty}dx_1 ...\\int^{+\\infty}_{-\\infty}dx_n e^{-a(x^2_1+x^2_2+...x^2_n+)}=(\\frac{\\pi}{a})^{d/2} $$\n",
        "Then after converitng to polar coordinate you can show that $I_d=\\frac{S_{d-1} \\Gamma(d/2)a^{-d/2}}{2}$ where $\\Gamma(x)$ is a gamma function[https://en.wikipedia.org/wiki/Gamma_function].<br>\n",
        "Now that you have expression for $S_{d-1}$ you can proceed to solving (iv)\n",
        "<br>\n",
        "4. Carry out the integration over positions and momenta and obtain the microcanonical expression of number of states for ideal gas. <br>\n",
        "\n",
        "5. Show that obtained entorpy is not an extenisve function and that is becasue we did not count the states well. We ingorned the fact that N atoms are indistingusihable. Correct the integral in (iv) for this and show that we obtain eextensive entropy <br>\n",
        "6. One often writes the microcanonical function using delta functions. Recall that delta functin is officially defined as: $\\int^{+\\infty}_{-\\infty} \\delta(x-a)f(x)=f(a)$. Rewrite integral in (ii) using compact delta function notation <br>\n",
        "\n",
        "7. Using particle in a box model show that quantum mechanical expression of energy and counting of states in the space of quantum numbers (which can be approximated as a N dimensional sphere again) leads to same result as in (iv). "
      ],
      "metadata": {
        "nteract": {
          "transient": {
            "deleting": false
          }
        }
      }
    }
  ],
  "metadata": {
    "kernelspec": {
      "display_name": "Python 3",
      "language": "python",
      "name": "python3"
    },
    "language_info": {
      "name": "python",
      "version": "3.6.7",
      "mimetype": "text/x-python",
      "codemirror_mode": {
        "name": "ipython",
        "version": 3
      },
      "pygments_lexer": "ipython3",
      "nbconvert_exporter": "python",
      "file_extension": ".py"
    },
    "nteract": {
      "version": "0.21.0"
    }
  },
  "nbformat": 4,
  "nbformat_minor": 2
}
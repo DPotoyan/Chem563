{
 "cells": [
  {
   "cell_type": "markdown",
   "metadata": {},
   "source": [
    "## Monte Carlo simulations of Lennard-Jones fluids"
   ]
  },
  {
   "cell_type": "code",
   "execution_count": 5,
   "metadata": {},
   "outputs": [],
   "source": [
    "%matplotlib inline\n",
    "%config InlineBackend.figure_format = 'retina'\n",
    "import ipywidgets as widgets\n",
    "\n",
    "# Load basic science tools\n",
    "import matplotlib.pyplot as plt\n",
    "import scipy as sp\n",
    "import numpy as np\n",
    "from numpy.random import rand, randint, uniform, choice, normal "
   ]
  },
  {
   "cell_type": "code",
   "execution_count": 3,
   "metadata": {},
   "outputs": [],
   "source": [
    "#! pip install plotly\n",
    "#! pip install numba"
   ]
  },
  {
   "cell_type": "code",
   "execution_count": 6,
   "metadata": {},
   "outputs": [],
   "source": [
    "# Install Plotly and numba for aswesome speed and visualizations\n",
    "import plotly.express as px\n",
    "from numba import jit, njit\n",
    "\n",
    "import warnings\n",
    "warnings.filterwarnings('ignore')"
   ]
  },
  {
   "cell_type": "markdown",
   "metadata": {},
   "source": [
    "### Check out LJ fluid properties tabulated by NIST for your reference\n",
    "\n",
    "https://www.nist.gov/mml/csd/chemical-informatics-research-group/lennard-jones-fluid-properties"
   ]
  },
  {
   "cell_type": "code",
   "execution_count": 15,
   "metadata": {},
   "outputs": [],
   "source": [
    "#-------LJ potential parameters ----\n",
    "\n",
    "sigma   = 1\n",
    "epsilon = 1\n",
    "trunc   = 3*sigma\n",
    "\n",
    "\n",
    "#-------Simulation parameters ----\n",
    "\n",
    "N        = 100      # Try different values\n",
    "T        = 2.0      # Try different values\n",
    "rho      = 0.85     # We set density and\n",
    "\n",
    "L  =  (N/rho)**(1/3) "
   ]
  },
  {
   "cell_type": "code",
   "execution_count": 53,
   "metadata": {},
   "outputs": [],
   "source": [
    "def initialize(N, rho):\n",
    "    \n",
    "    '''Initialize the simulation box \n",
    "    given N  particles with density\n",
    "    returns (N,3) array positions\n",
    "    '''\n",
    "    \n",
    "    L  =  (N/rho)**(1/3) \n",
    "\n",
    "    return uniform(0, L, size=(N,3))"
   ]
  },
  {
   "cell_type": "code",
   "execution_count": 52,
   "metadata": {},
   "outputs": [],
   "source": [
    "def initialize2(N, rho):\n",
    "    \n",
    "    \"\"\"put N particles in a box, using dense packing unit lattice size n3\"\"\"\n",
    "    \n",
    "    L  =  (N/rho)**(1/3) \n",
    "    n3 = int(N **(1/3)) + 1\n",
    "    iix = iiy = iiz = 0\n",
    "    \n",
    "    pos = np.zeros((N,3))\n",
    "    for i in range(N):\n",
    "        \n",
    "        pos[i][0] = (iix + 0.5) * L / n3\n",
    "        pos[i][1] = (iiy + 0.5) * L / n3\n",
    "        pos[i][2] = (iiz + 0.5) * L / n3\n",
    "        \n",
    "        iix += 1\n",
    "        \n",
    "        if iix == n3:\n",
    "            \n",
    "            iix  = 0\n",
    "            iiy += 1\n",
    "            \n",
    "            if iiy == n3:\n",
    "                iiy = 0\n",
    "                iiz += 1 \n",
    "    return pos"
   ]
  },
  {
   "cell_type": "code",
   "execution_count": 57,
   "metadata": {},
   "outputs": [],
   "source": [
    "pp = initialize2(N, rho)\n",
    "#px.scatter_3d(x=pp[:,0], y=pp[:,1], z=pp[:,2], opacity=0.5)"
   ]
  },
  {
   "cell_type": "code",
   "execution_count": 71,
   "metadata": {},
   "outputs": [],
   "source": [
    "@njit\n",
    "def get_r2(p1, p2, L):\n",
    "    \n",
    "    ''' Compute squared distance between two particles p1 and p2 with PBC.'''\n",
    "    dr = p2 - p1  \n",
    "    \n",
    "    for i in range(3):\n",
    "        \n",
    "        if dr[i] >  L/2:\n",
    "            \n",
    "            dr[i] = dr[i] - L\n",
    "            \n",
    "        if dr[i] < -L/2:\n",
    "            \n",
    "            dr[i] = dr[i] + L\n",
    "        \n",
    "    return np.sum(dr**2)\n",
    "\n",
    "@njit\n",
    "def getEij(pos_i, pos_j, trunc):\n",
    "    \n",
    "    pair_e  = 0\n",
    "    \n",
    "    dist_sq = get_r2(pos_i, pos_j, L)\n",
    "                \n",
    "    if dist_sq <= trunc**2:\n",
    "                \n",
    "        pair_e += (1/dist_sq**6)-(1/dist_sq**3)\n",
    "        \n",
    "    return 4*pair_e\n",
    "\n",
    "@jit\n",
    "def getE(particles, L, trunc, mode = 'all'):\n",
    "    \n",
    "    N = len(particles)\n",
    "    energy = 0\n",
    "    \n",
    "    #Compute the energy of the system given particle positions\n",
    "    if mode  == 'all':\n",
    "    \n",
    "        for i in range(0, N-1):\n",
    "            \n",
    "            for j in range(i+1, N):\n",
    "            \n",
    "                    energy += getEij(particles[i], particles[j], L)\n",
    "                    \n",
    "        return energy\n",
    "    \n",
    "    \n",
    "    #Compute the energy of a single particle j\n",
    "    else:\n",
    "        \n",
    "        j, pos_j = mode \n",
    "        all_j    = np.arange(N)[np.arange(N)!=j]  #Excluding j from particle indeces \n",
    "        \n",
    "        for i in all_j:\n",
    "                \n",
    "                energy += getEij(particles[i], pos_j, L)\n",
    "    \n",
    "        return energy"
   ]
  },
  {
   "cell_type": "markdown",
   "metadata": {},
   "source": [
    "### MC engine for LJ fluid in 3D (NVT ensemble)\n",
    "Now that the main helper functions are set up we can put together a main Monte Carlo engine that loops through randomly selected particles and attemps their displacement via Metropolis Criterion. "
   ]
  },
  {
   "cell_type": "code",
   "execution_count": 72,
   "metadata": {},
   "outputs": [],
   "source": [
    "@jit\n",
    "def doMC_LJ(particles, L, T, steps=10000, freq=1000):\n",
    "\n",
    "    N      = len(particles)\n",
    "    E_tot  = getE(particles, L, trunc, mode='all') \n",
    "    \n",
    "    confs, es   = [particles.copy()], [E_tot]\n",
    "    \n",
    "    # Loop through MC steps \n",
    "    for step in range(0, steps):\n",
    "        \n",
    "        # Randomly choose some particle i in  \n",
    "        i = randint(N)\n",
    "    \n",
    "        #Position and Energy of particle i\n",
    "        pos_i      = particles[i]\n",
    "        \n",
    "        eng_i      = getE(particles, L, trunc, mode=(i, pos_i))\n",
    "    \n",
    "        #Give a particle i a random push:\n",
    "        pos_i_new  = particles[i] + (rand(3)-0.5)\n",
    "        \n",
    "        eng_i_new  = getE(particles, L, trunc, mode=(i, pos_i_new))\n",
    "        \n",
    "        # Evaluate change in energy\n",
    "        dE = eng_i_new - eng_i\n",
    "\n",
    "        # Metropolis acceptance/rejection conditions\n",
    "        \n",
    "        if  np.exp(-dE/T) > rand():\n",
    "            \n",
    "            particles[i] = pos_i_new\n",
    "            E_tot       += dE\n",
    "            \n",
    "        if step % freq ==0:\n",
    "            \n",
    "            confs.append(particles.copy())\n",
    "            es.append(E_tot)\n",
    "                    \n",
    "    return confs, es "
   ]
  },
  {
   "cell_type": "code",
   "execution_count": 73,
   "metadata": {},
   "outputs": [
    {
     "name": "stdout",
     "output_type": "stream",
     "text": [
      "CPU times: user 24.9 s, sys: 238 ms, total: 25.1 s\n",
      "Wall time: 26.4 s\n"
     ]
    }
   ],
   "source": [
    "particles = initialize2(N, rho)\n",
    "\n",
    "%time confs, es = doMC_LJ(particles, L, T, steps=200000)"
   ]
  },
  {
   "cell_type": "code",
   "execution_count": 66,
   "metadata": {},
   "outputs": [],
   "source": [
    "#plt.plot(es)"
   ]
  },
  {
   "cell_type": "code",
   "execution_count": 67,
   "metadata": {},
   "outputs": [],
   "source": [
    "i = 80\n",
    "#px.scatter_3d(x=confs[i][:,0], y=confs[i][:,1], z=confs[i][:,2], opacity=0.5)"
   ]
  },
  {
   "cell_type": "markdown",
   "metadata": {},
   "source": [
    "### Computing radial distribution function $g(r)$"
   ]
  },
  {
   "cell_type": "code",
   "execution_count": 260,
   "metadata": {},
   "outputs": [],
   "source": [
    "@jit\n",
    "def comp_g_r(particles, L):\n",
    "    '''Computing radial distirbution function for a single configuration'''\n",
    "    \n",
    "    # Number of particles and density\n",
    "    \n",
    "    N   = len(particles)\n",
    "    rho = N/(L**3)\n",
    "    r2 = [] \n",
    "    \n",
    "    for i in range(0,N-1):\n",
    "        \n",
    "        for j in range(i+1,N):\n",
    "\n",
    "            dist_ij  = get_r2(particles[i],particles[j], L) \n",
    "            \n",
    "            r2.append(dist_ij)\n",
    "\n",
    "    r_dists = np.sqrt(r2)\n",
    "    \n",
    "    #Histogram distances \n",
    "    histRadii, edges = np.histogram(r_dists, bins=30, range=(0,L/2))\n",
    "    \n",
    "    radii = 0.5 *(edges[1:] + edges[:-1])  # radii of histograms R1,R2,..Lmax \n",
    "    \n",
    "    # often folks loop over N*N pairs then divide by N\n",
    "    # we have N*N-1/2 pairs e.g must divide by (N-1)/2 to have hist for N particles\n",
    "    histRadii = histRadii/(0.5*(N-1))    \n",
    "    \n",
    "    #Compute histogram that would be displayed by an ideal gas of N particles \n",
    "    vol = (4.0/3.0) * np.pi * (edges[1:]**3 - edges[:-1]**3)\n",
    "    \n",
    "    histIdeal = rho*vol \n",
    "    \n",
    "    gr = histRadii/histIdeal \n",
    "    \n",
    "    return radii, gr"
   ]
  },
  {
   "cell_type": "code",
   "execution_count": null,
   "metadata": {},
   "outputs": [],
   "source": [
    "# Simulation for computing g_r\n",
    "N     = 100\n",
    "rho   = 0.85\n",
    "T     = 2 \n",
    "steps = 100000\n",
    "freq  = 200\n",
    "\n",
    "######\n",
    "particles       = initialize(N, rho)\n",
    "%time confs, es = doMC_LJ(particles, L, T, steps, freq)\n",
    "######"
   ]
  },
  {
   "cell_type": "code",
   "execution_count": 63,
   "metadata": {},
   "outputs": [],
   "source": [
    "#n_pt    = int(steps/freq)\n",
    "#i = n_pt -1\n",
    "#px.scatter_3d(x=confs[i][:,0], y=confs[i][:,1], z=confs[i][:,2], opacity=0.5)"
   ]
  },
  {
   "cell_type": "markdown",
   "metadata": {},
   "source": [
    "#### Calculate $g(r)$ over trajectory"
   ]
  },
  {
   "cell_type": "code",
   "execution_count": 463,
   "metadata": {},
   "outputs": [],
   "source": [
    "gr_t = 0\n",
    "\n",
    "\n",
    "av_wind = 1000\n",
    "\n",
    "for i in range(n_pt-av_wind, n_pt):\n",
    "    \n",
    "    radii, gr = comp_g_r(confs[i],L)\n",
    "    \n",
    "    gr_t += gr/av_wind"
   ]
  },
  {
   "cell_type": "code",
   "execution_count": 62,
   "metadata": {},
   "outputs": [],
   "source": [
    "#plt.plot(radii, gr_t)"
   ]
  },
  {
   "cell_type": "code",
   "execution_count": null,
   "metadata": {},
   "outputs": [],
   "source": []
  }
 ],
 "metadata": {
  "kernelspec": {
   "display_name": "Python 3",
   "language": "python",
   "name": "python3"
  },
  "language_info": {
   "codemirror_mode": {
    "name": "ipython",
    "version": 3
   },
   "file_extension": ".py",
   "mimetype": "text/x-python",
   "name": "python",
   "nbconvert_exporter": "python",
   "pygments_lexer": "ipython3",
   "version": "3.7.4"
  },
  "nteract": {
   "version": "0.22.0"
  },
  "toc": {
   "base_numbering": 1,
   "nav_menu": {},
   "number_sections": true,
   "sideBar": true,
   "skip_h1_title": false,
   "title_cell": "Table of Contents",
   "title_sidebar": "Contents",
   "toc_cell": false,
   "toc_position": {},
   "toc_section_display": true,
   "toc_window_display": false
  }
 },
 "nbformat": 4,
 "nbformat_minor": 2
}

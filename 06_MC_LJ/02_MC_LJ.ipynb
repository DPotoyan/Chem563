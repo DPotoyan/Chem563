{
 "cells": [
  {
   "cell_type": "markdown",
   "metadata": {},
   "source": [
    "## Monte Carlo simulations of Lennard-Jones fluids"
   ]
  },
  {
   "cell_type": "code",
   "execution_count": 4,
   "metadata": {
    "slideshow": {
     "slide_type": "slide"
    }
   },
   "outputs": [],
   "source": [
    "%matplotlib inline\n",
    "%config InlineBackend.figure_format = 'retina'\n",
    "import ipywidgets as widgets\n",
    "import warnings\n",
    "warnings.filterwarnings('ignore')\n",
    "\n",
    "# Load basic science tools\n",
    "import matplotlib.pyplot as plt\n",
    "import scipy as sp\n",
    "import numpy as np\n",
    "from numpy.random import rand, randint, uniform, choice, normal "
   ]
  },
  {
   "cell_type": "code",
   "execution_count": 2,
   "metadata": {
    "slideshow": {
     "slide_type": "slide"
    }
   },
   "outputs": [],
   "source": [
    "#! pip install plotly\n",
    "#! pip install numba"
   ]
  },
  {
   "cell_type": "code",
   "execution_count": 5,
   "metadata": {
    "slideshow": {
     "slide_type": "slide"
    }
   },
   "outputs": [],
   "source": [
    "# Install Plotly and numba for aswesome speed and visualizations\n",
    "import plotly.express as px\n",
    "from numba import jit, njit"
   ]
  },
  {
   "cell_type": "markdown",
   "metadata": {},
   "source": [
    "## LJ model of a simple fluids, noble gases"
   ]
  },
  {
   "cell_type": "markdown",
   "metadata": {
    "slideshow": {
     "slide_type": "slide"
    }
   },
   "source": [
    "\n",
    "**Check out LJ fluid properties tabulated by NIST for your reference**\n",
    "\n",
    "https://www.nist.gov/mml/csd/chemical-informatics-research-group/lennard-jones-fluid-properties"
   ]
  },
  {
   "cell_type": "code",
   "execution_count": 119,
   "metadata": {
    "slideshow": {
     "slide_type": "slide"
    }
   },
   "outputs": [],
   "source": [
    "#-------Simulation parameters ----\n",
    "N        = 100      # Try different values\n",
    "T        = 2.0      # Try different values\n",
    "rho      = 0.85     # We set density and"
   ]
  },
  {
   "cell_type": "markdown",
   "metadata": {},
   "source": [
    "### Initializing the system, watch out for clashes!"
   ]
  },
  {
   "cell_type": "code",
   "execution_count": 261,
   "metadata": {
    "slideshow": {
     "slide_type": "slide"
    }
   },
   "outputs": [],
   "source": [
    "def initialize_naive(N, rho):\n",
    "    \n",
    "    '''Initialize the simulation box \n",
    "    given N  particles with density\n",
    "    returns (N,3) array positions\n",
    "    '''\n",
    "    \n",
    "    L  =  (N/rho)**(1/3) \n",
    "\n",
    "    return uniform(-L/2, L/2, size=(N,3))\n",
    "\n",
    "def initialize(N, rho):\n",
    "    \n",
    "    \"\"\"Put N particles in a box, \n",
    "    using dense packing unit lattice size n3\"\"\"\n",
    "    \n",
    "    L  =  (N/rho)**(1/3) \n",
    "    \n",
    "    n3 = int(N **(1/3))  + 1\n",
    "    \n",
    "    iix = iiy = iiz = 0\n",
    "    pos = np.zeros((N,3))\n",
    "    \n",
    "    for i in range(N):\n",
    "        \n",
    "        pos[i][0] = (iix + 0.5) * L / n3\n",
    "        pos[i][1] = (iiy + 0.5) * L / n3\n",
    "        pos[i][2] = (iiz + 0.5) * L / n3\n",
    "        \n",
    "        iix += 1\n",
    "        \n",
    "        if iix == n3:\n",
    "            \n",
    "            iix  = 0\n",
    "            iiy += 1\n",
    "            \n",
    "            if iiy == n3:\n",
    "                \n",
    "                iiy = 0\n",
    "                iiz += 1 \n",
    "                \n",
    "    return pos-L/2"
   ]
  },
  {
   "cell_type": "code",
   "execution_count": 263,
   "metadata": {
    "slideshow": {
     "slide_type": "slide"
    }
   },
   "outputs": [],
   "source": [
    "#pos = initialize(N, rho)\n",
    "#px.scatter_3d(x=pos[:,0], y=pos[:,1], z=pos[:,2], opacity=0.5)"
   ]
  },
  {
   "cell_type": "markdown",
   "metadata": {},
   "source": [
    "### Periodic Boundary conditions and minimum image convention"
   ]
  },
  {
   "cell_type": "code",
   "execution_count": 264,
   "metadata": {},
   "outputs": [],
   "source": [
    "@njit\n",
    "def pbc_wrap(pp, L):\n",
    "    ''' (a) if pp = (x,y,z) position; wraps it back to box (with origin in the center!) \n",
    "        (b) if pp= (dr_x, dr_y, dr_z) distances; uses nearest image convension'''\n",
    "    \n",
    "    if pp[0] >  L/2:  pp[0] = pp[0] - L     \n",
    "    if pp[0] <= -L/2: pp[0] = pp[0] + L\n",
    "        \n",
    "    if pp[1] >  L/2:  pp[1] = pp[1] - L     \n",
    "    if pp[1] <= -L/2: pp[1] = pp[1] + L\n",
    "    \n",
    "    if pp[2] >  L/2:  pp[2] = pp[2] - L     \n",
    "    if pp[2] <= -L/2: pp[2] = pp[2] + L\n",
    "    \n",
    "    return pp"
   ]
  },
  {
   "cell_type": "markdown",
   "metadata": {},
   "source": [
    "### Computing pairwise distances and energies"
   ]
  },
  {
   "cell_type": "code",
   "execution_count": 265,
   "metadata": {
    "slideshow": {
     "slide_type": "slide"
    }
   },
   "outputs": [],
   "source": [
    "@njit\n",
    "def get_r2(p1, p2, L):\n",
    "    \n",
    "    ''' Compute squared distance between two particles \n",
    "   p1(x,y,z) and p2(x,y,z) while enforcing PBC.'''\n",
    "    \n",
    "    p1, p2 = pbc_wrap(p1, L), pbc_wrap(p2, L)  # position wrap back into box\n",
    "   \n",
    "    dr     = p2 - p1\n",
    "    \n",
    "    dr     = pbc_wrap(dr, L)                   # distance via minimum image \n",
    "    \n",
    "    return dr[0]**2 + dr[1]**2 + dr[2]**2\n",
    "\n",
    "@njit\n",
    "def get_e2(pos_i, pos_j, trunc=3, sigma=1, eps=1):\n",
    "    \n",
    "    pair_e  = 0\n",
    "    \n",
    "    dist_sq = get_r2(pos_i, pos_j, L)\n",
    "                \n",
    "    if dist_sq <= trunc**2:\n",
    "                \n",
    "        pair_e += (sigma/dist_sq)**6 - (sigma/dist_sq)**3\n",
    "        \n",
    "    return 4*eps*pair_e"
   ]
  },
  {
   "cell_type": "code",
   "execution_count": 266,
   "metadata": {},
   "outputs": [],
   "source": [
    "@njit\n",
    "def getE_tot(particles, L, trunc):\n",
    "    '''Compute Total energy \n",
    "    by summing all pairwise interactions'''\n",
    "    \n",
    "    N = len(particles)\n",
    "    energy = 0\n",
    "    \n",
    "    for i in range(0, N-1):\n",
    "        for j in range(i+1, N):\n",
    "            \n",
    "                energy += get_e2(particles[i], particles[j], L)\n",
    "                    \n",
    "    return energy\n",
    "    \n",
    "    \n",
    "@njit\n",
    "def getE_one(particles, L, trunc, j, tag_j):\n",
    "    '''Compute energy of a tagged particle j \n",
    "    by summing all pairwise interactions with j'''\n",
    "    \n",
    "    N = len(particles)\n",
    "    energy = 0\n",
    "        \n",
    "    for i in range(N):\n",
    "        if i!=j:\n",
    "                \n",
    "            energy += get_e2(particles[i], tag_j, L)\n",
    "    \n",
    "    return energy"
   ]
  },
  {
   "cell_type": "markdown",
   "metadata": {
    "slideshow": {
     "slide_type": "slide"
    }
   },
   "source": [
    "### MC engine for LJ fluid in 3D (NVT ensemble)\n",
    "Now that the main helper functions are set up we can put together a main Monte Carlo engine that loops through randomly selected particles and attemps their displacement via Metropolis Criterion. "
   ]
  },
  {
   "cell_type": "code",
   "execution_count": 267,
   "metadata": {
    "slideshow": {
     "slide_type": "slide"
    }
   },
   "outputs": [],
   "source": [
    "@njit\n",
    "def doMC_LJ(particles, rho, T, steps=10000, freq=1000):\n",
    "\n",
    "    N      = len(particles)\n",
    "    L      =  (N/rho)**(1/3) \n",
    "    \n",
    "    E_tot       = getE_tot(particles, L, trunc) \n",
    "    \n",
    "    confs, es   = [particles.copy()], [E_tot]\n",
    "    \n",
    "    # Loop through MC steps\n",
    "    \n",
    "    for step in range(0, steps):\n",
    "        \n",
    "        # Randomly choose some particle i in  \n",
    "        i = randint(N)\n",
    "    \n",
    "        #Position and Energy of particle i\n",
    "        pos_i      = particles[i]\n",
    "        eng_i      = getE_one(particles, L, trunc, i, pos_i)\n",
    "    \n",
    "        #Give a particle i a random push:\n",
    "        pos_i_new  = particles[i] + (rand(3)-0.5)\n",
    "        eng_i_new  = getE_one(particles, L, trunc, i, pos_i_new)\n",
    "        \n",
    "        # Evaluate change in energy\n",
    "        dE = eng_i_new - eng_i\n",
    "\n",
    "        # Metropolis acceptance/rejection conditions\n",
    "        \n",
    "        if  np.exp(-dE/T) > rand():\n",
    "            \n",
    "            particles[i] = pos_i_new\n",
    "            E_tot       += dE\n",
    "            \n",
    "        if step % freq ==0:\n",
    "            \n",
    "            confs.append(particles.copy())\n",
    "            es.append(E_tot)\n",
    "                    \n",
    "    return confs, es "
   ]
  },
  {
   "cell_type": "markdown",
   "metadata": {},
   "source": [
    "### Running MCMC simulation on LJ system"
   ]
  },
  {
   "cell_type": "code",
   "execution_count": 283,
   "metadata": {},
   "outputs": [],
   "source": [
    "#-------Simulation parameters ----\n",
    "N        = 100      # Try different values\n",
    "T        = 0.85     # Try different values\n",
    "rho      = 1e-3     # We set the density "
   ]
  },
  {
   "cell_type": "code",
   "execution_count": null,
   "metadata": {
    "slideshow": {
     "slide_type": "slide"
    }
   },
   "outputs": [],
   "source": [
    "particles = initialize(N, rho)\n",
    "\n",
    "%time confs, es = doMC_LJ(particles, L, T, steps = 1e6)"
   ]
  },
  {
   "cell_type": "code",
   "execution_count": 281,
   "metadata": {
    "slideshow": {
     "slide_type": "slide"
    }
   },
   "outputs": [
    {
     "data": {
      "text/plain": [
       "[<matplotlib.lines.Line2D at 0x62febd550>]"
      ]
     },
     "execution_count": 281,
     "metadata": {},
     "output_type": "execute_result"
    },
    {
     "data": {
      "image/png": "[encoded data removed]",
      "text/plain": [
       "<Figure size 432x288 with 1 Axes>"
      ]
     },
     "metadata": {
      "image/png": {
       "height": 248,
       "width": 397
      },
      "needs_background": "light"
     },
     "output_type": "display_data"
    }
   ],
   "source": [
    "plt.plot(es[10:])"
   ]
  },
  {
   "cell_type": "code",
   "execution_count": 282,
   "metadata": {
    "slideshow": {
     "slide_type": "slide"
    }
   },
   "outputs": [
    {
     "data": {
      "application/vnd.plotly.v1+json": {
       "config": {
        "plotlyServerURL": "https://plot.ly"
       },
       "data": [
        {
         "hovertemplate": "x=%{x}<br>y=%{y}<br>z=%{z}<extra></extra>",
         "legendgroup": "",
         "marker": {
          "color": "#636efa",
          "opacity": 0.5,
          "symbol": "circle"
         },
         "mode": "markers",
         "name": "",
         "scene": "scene",
         "showlegend": false,
         "type": "scatter3d",
         "x": [
          0.05577500490857745,
          -0.8240394061820526,
          2.40065747892047,
          0.8397988359264479,
          -1.1592486659108203,
          1.2877301562042913,
          0.23224133337220887,
          -1.0227009417450392,
          2.2287533985708428,
          -1.1560709778244047,
          -2.163789253811803,
          1.2441725809707318,
          1.493611339173197,
          0.581503487342839,
          -0.2636881085291759,
          1.7026989811895852,
          -0.6464495505861427,
          -0.1797340138585639,
          -2.3713439100689793,
          -1.3187253285530942,
          1.8599162069143806,
          1.2014589232255517,
          0.6318202123109055,
          0.27361935783964886,
          -0.5927285959808225,
          1.5791743035082444,
          2.386305789867516,
          -1.2148919813770986,
          -0.7313553163669797,
          0.1698821213124465,
          1.890849240543948,
          0.1950153486061088,
          -0.0649238022272145,
          -0.5502583419193444,
          -1.6041426876284102,
          1.8033778509932867,
          0.3350028492345827,
          2.0162398102042154,
          -2.0677473008392573,
          -0.8091661989354315,
          2.1162656728350857,
          -2.3462242858863678,
          0.19399285677465838,
          -1.058199424485521,
          -1.675390956605554,
          2.3332675050111913,
          -0.7597967559662697,
          -0.39845312629342766,
          -1.3103273157036996,
          1.3811483867081278,
          1.4220956377269376,
          0.8094530094261629,
          -1.9376211760530468,
          0.17244385288595698,
          -1.1639150187441285,
          1.5003348631717026,
          1.398680366639351,
          0.7545655248542658,
          0.702614299502045,
          -2.140392950024596,
          1.8105865590012642,
          0.719104450063654,
          1.1264304235160014,
          -1.8549403319736841,
          -1.9994707606089859,
          -1.9960535898893954,
          -0.3690903076826404,
          1.042648126627777,
          1.5260663673708148,
          2.1965108675352307,
          -2.311200653976483,
          0.18265804674625086,
          -0.5906307565575898,
          -2.3890130321027025,
          -1.5130220359635582,
          1.7768736015153415,
          1.1379683243014465,
          1.0963406445536548,
          0.3993632672209282,
          -1.1482440775153415,
          0.5266242313797794,
          0.8628326725083418,
          -0.1252922563571034,
          -2.1206146693766614,
          -0.8145653923813955,
          2.0687471287090347,
          -0.9093670602413421,
          -0.7890156266074254,
          -1.6174987755447694,
          2.201619116849278,
          2.277700520707144,
          -1.5615810047137693,
          2.3415979695377525,
          0.060407482266251256,
          -0.41911713192959654,
          0.7314624263330565,
          -1.5320067528013857,
          -1.6727557731515241,
          1.4003230591561835,
          -1.729905142503792
         ],
         "y": [
          1.653528305465365,
          0.8137308827332994,
          1.9122156439017939,
          -1.2362591284029172,
          1.5579928972035126,
          0.8780682291678515,
          0.7087179157506062,
          2.3086701069325084,
          0.46384426331800677,
          1.3124438527431574,
          2.1699535828747685,
          -1.1363635613541034,
          2.4012577274541584,
          0.30308868973698566,
          1.6563321856340023,
          -2.1334318936961663,
          -1.7684408177694415,
          0.566530088073151,
          -0.08389307607999197,
          0.2125420787111837,
          1.5774664720455451,
          -2.1826249573828944,
          -2.214369127842671,
          -2.1717297131785704,
          1.777415258235318,
          1.9829124665761242,
          1.8370200779011931,
          2.0989017092889752,
          0.7042699693308474,
          1.1219185435964267,
          0.7591860091549499,
          0.4554834498138316,
          0.17520338027607318,
          0.7465582628459014,
          -0.34073765337839723,
          -0.3246297497953784,
          -1.84981185440103,
          0.7210584258663576,
          -0.13357272724647817,
          -1.1951224826306888,
          -1.2385744666809893,
          -1.7558148250733336,
          -0.789509899046562,
          -0.7741495465947763,
          -1.6622978364516836,
          -2.188850597399544,
          -2.2813170620202987,
          -2.080199434234128,
          -1.826836273726132,
          -2.0295942582996416,
          -1.491460284048736,
          1.3519939183471723,
          2.222972542642043,
          -0.34097924797092005,
          1.6507782249720286,
          -0.6322684085728475,
          1.6244810082771992,
          1.6761912516990993,
          0.7759440093834461,
          1.161383760888893,
          0.7931523637597343,
          -0.25274232390580276,
          -0.013617812198737811,
          0.263780778968578,
          0.9989798575257841,
          -1.3030137987748436,
          -0.4499390505369728,
          -0.06728118526247873,
          -0.9674842811530036,
          -0.5493166349801282,
          1.4770537570181501,
          -2.067104238991459,
          -2.2224058403333276,
          -1.1416080656471226,
          -1.7554000949697053,
          1.918165472831696,
          -0.11747774986112758,
          1.2297881907185548,
          2.0465936593679435,
          0.607858285756791,
          -0.7440722534719504,
          -1.1492675696884087,
          1.6181410259912925,
          0.9486601252171016,
          -0.22015276632057879,
          -0.31668770497371856,
          -1.2969393157182039,
          -0.23849861771887282,
          2.4318867110094873,
          -2.1243697355526496,
          -1.2312569439123644,
          0.4166311758837866,
          -2.0503220496680337,
          -0.8316448353695738,
          -1.2305498048872563,
          2.121541382268032,
          -0.6373903760114522,
          -0.583932863106833,
          0.6607019654486525,
          -2.10748505121603
         ],
         "z": [
          -1.5895914609731836,
          1.5889929697268104,
          1.3234611457164538,
          2.373645983525661,
          0.0006426692922595345,
          0.6425963648598225,
          -0.915440108862346,
          -1.9237141704359284,
          0.4728011354794939,
          -2.261466083778236,
          2.3005718951762133,
          1.4869638892204469,
          -1.5821316275520476,
          -1.8319432726033722,
          2.0224351740095825,
          1.9886738729140925,
          -2.3620948353469307,
          2.3621984993901037,
          -2.1434520119347686,
          2.314993118653362,
          -2.4375912138982225,
          -0.16495831271962458,
          1.9641365798466262,
          -1.702153093694652,
          0.8083206200209585,
          0.41668950796261484,
          -1.4629072985674207,
          1.727726092751325,
          -0.547755528741431,
          0.8727137938736472,
          1.627994899743792,
          0.12613104621506577,
          1.22526259823673,
          -1.573652479302213,
          0.5921986552780003,
          1.9980927923089677,
          0.5060955571565202,
          -1.32382729259107,
          1.7078737189959128,
          0.5977488998674036,
          2.3718177831302265,
          1.530443972438676,
          0.47013318648904423,
          1.9956462080867707,
          -2.3355994402230698,
          0.41597905996432816,
          -0.9470227869736247,
          1.2267669288055276,
          1.5356664960742679,
          0.9202173058562481,
          -1.4090550512976474,
          -0.20132039046465677,
          -0.3293781554425552,
          -0.6659021209532234,
          -1.0655147281333677,
          -1.8586100882659422,
          1.4891156046401568,
          -2.3943904444886863,
          1.781195523074497,
          -0.600701617052611,
          -0.3742485603784309,
          2.263615693618718,
          0.14487052483283624,
          -0.26112667407205803,
          1.2720233296858243,
          0.6540104240046657,
          -2.056304179441081,
          1.2196127589739132,
          0.3044004665904897,
          1.0481310816325555,
          0.2820287168969645,
          -0.4990931003726262,
          0.2352827624204641,
          -1.4221520710755349,
          -0.28497986204846637,
          -0.6206266209424003,
          -1.019590417039888,
          -1.3248496070465827,
          0.3587014135860579,
          0.5181157803430554,
          -1.5767463269431157,
          -0.3813335712421919,
          -0.49078430467998324,
          2.3916616798943444,
          -1.1877678965680933,
          -1.1005583069222746,
          -1.374017833260278,
          -0.1978924379431215,
          0.7327270180250252,
          -0.7844488818871997,
          -0.32963833638729234,
          -1.4065117826699163,
          -1.9506753320797527,
          1.5133593057612655,
          -0.29718822125684563,
          -0.9324220294001129,
          -1.9943099467593763,
          -0.8946463696659486,
          -2.262435776677029,
          -1.2979853319090995
         ]
        }
       ],
       "layout": {
        "legend": {
         "tracegroupgap": 0
        },
        "margin": {
         "t": 60
        },
        "scene": {
         "domain": {
          "x": [
           0,
           1
          ],
          "y": [
           0,
           1
          ]
         },
         "xaxis": {
          "title": {
           "text": "x"
          }
         },
         "yaxis": {
          "title": {
           "text": "y"
          }
         },
         "zaxis": {
          "title": {
           "text": "z"
          }
         }
        },
        "template": {
         "data": {
          "bar": [
           {
            "error_x": {
             "color": "#2a3f5f"
            },
            "error_y": {
             "color": "#2a3f5f"
            },
            "marker": {
             "line": {
              "color": "#E5ECF6",
              "width": 0.5
             }
            },
            "type": "bar"
           }
          ],
          "barpolar": [
           {
            "marker": {
             "line": {
              "color": "#E5ECF6",
              "width": 0.5
             }
            },
            "type": "barpolar"
           }
          ],
          "carpet": [
           {
            "aaxis": {
             "endlinecolor": "#2a3f5f",
             "gridcolor": "white",
             "linecolor": "white",
             "minorgridcolor": "white",
             "startlinecolor": "#2a3f5f"
            },
            "baxis": {
             "endlinecolor": "#2a3f5f",
             "gridcolor": "white",
             "linecolor": "white",
             "minorgridcolor": "white",
             "startlinecolor": "#2a3f5f"
            },
            "type": "carpet"
           }
          ],
          "choropleth": [
           {
            "colorbar": {
             "outlinewidth": 0,
             "ticks": ""
            },
            "type": "choropleth"
           }
          ],
          "contour": [
           {
            "colorbar": {
             "outlinewidth": 0,
             "ticks": ""
            },
            "colorscale": [
             [
              0,
              "#0d0887"
             ],
             [
              0.1111111111111111,
              "#46039f"
             ],
             [
              0.2222222222222222,
              "#7201a8"
             ],
             [
              0.3333333333333333,
              "#9c179e"
             ],
             [
              0.4444444444444444,
              "#bd3786"
             ],
             [
              0.5555555555555556,
              "#d8576b"
             ],
             [
              0.6666666666666666,
              "#ed7953"
             ],
             [
              0.7777777777777778,
              "#fb9f3a"
             ],
             [
              0.8888888888888888,
              "#fdca26"
             ],
             [
              1,
              "#f0f921"
             ]
            ],
            "type": "contour"
           }
          ],
          "contourcarpet": [
           {
            "colorbar": {
             "outlinewidth": 0,
             "ticks": ""
            },
            "type": "contourcarpet"
           }
          ],
          "heatmap": [
           {
            "colorbar": {
             "outlinewidth": 0,
             "ticks": ""
            },
            "colorscale": [
             [
              0,
              "#0d0887"
             ],
             [
              0.1111111111111111,
              "#46039f"
             ],
             [
              0.2222222222222222,
              "#7201a8"
             ],
             [
              0.3333333333333333,
              "#9c179e"
             ],
             [
              0.4444444444444444,
              "#bd3786"
             ],
             [
              0.5555555555555556,
              "#d8576b"
             ],
             [
              0.6666666666666666,
              "#ed7953"
             ],
             [
              0.7777777777777778,
              "#fb9f3a"
             ],
             [
              0.8888888888888888,
              "#fdca26"
             ],
             [
              1,
              "#f0f921"
             ]
            ],
            "type": "heatmap"
           }
          ],
          "heatmapgl": [
           {
            "colorbar": {
             "outlinewidth": 0,
             "ticks": ""
            },
            "colorscale": [
             [
              0,
              "#0d0887"
             ],
             [
              0.1111111111111111,
              "#46039f"
             ],
             [
              0.2222222222222222,
              "#7201a8"
             ],
             [
              0.3333333333333333,
              "#9c179e"
             ],
             [
              0.4444444444444444,
              "#bd3786"
             ],
             [
              0.5555555555555556,
              "#d8576b"
             ],
             [
              0.6666666666666666,
              "#ed7953"
             ],
             [
              0.7777777777777778,
              "#fb9f3a"
             ],
             [
              0.8888888888888888,
              "#fdca26"
             ],
             [
              1,
              "#f0f921"
             ]
            ],
            "type": "heatmapgl"
           }
          ],
          "histogram": [
           {
            "marker": {
             "colorbar": {
              "outlinewidth": 0,
              "ticks": ""
             }
            },
            "type": "histogram"
           }
          ],
          "histogram2d": [
           {
            "colorbar": {
             "outlinewidth": 0,
             "ticks": ""
            },
            "colorscale": [
             [
              0,
              "#0d0887"
             ],
             [
              0.1111111111111111,
              "#46039f"
             ],
             [
              0.2222222222222222,
              "#7201a8"
             ],
             [
              0.3333333333333333,
              "#9c179e"
             ],
             [
              0.4444444444444444,
              "#bd3786"
             ],
             [
              0.5555555555555556,
              "#d8576b"
             ],
             [
              0.6666666666666666,
              "#ed7953"
             ],
             [
              0.7777777777777778,
              "#fb9f3a"
             ],
             [
              0.8888888888888888,
              "#fdca26"
             ],
             [
              1,
              "#f0f921"
             ]
            ],
            "type": "histogram2d"
           }
          ],
          "histogram2dcontour": [
           {
            "colorbar": {
             "outlinewidth": 0,
             "ticks": ""
            },
            "colorscale": [
             [
              0,
              "#0d0887"
             ],
             [
              0.1111111111111111,
              "#46039f"
             ],
             [
              0.2222222222222222,
              "#7201a8"
             ],
             [
              0.3333333333333333,
              "#9c179e"
             ],
             [
              0.4444444444444444,
              "#bd3786"
             ],
             [
              0.5555555555555556,
              "#d8576b"
             ],
             [
              0.6666666666666666,
              "#ed7953"
             ],
             [
              0.7777777777777778,
              "#fb9f3a"
             ],
             [
              0.8888888888888888,
              "#fdca26"
             ],
             [
              1,
              "#f0f921"
             ]
            ],
            "type": "histogram2dcontour"
           }
          ],
          "mesh3d": [
           {
            "colorbar": {
             "outlinewidth": 0,
             "ticks": ""
            },
            "type": "mesh3d"
           }
          ],
          "parcoords": [
           {
            "line": {
             "colorbar": {
              "outlinewidth": 0,
              "ticks": ""
             }
            },
            "type": "parcoords"
           }
          ],
          "pie": [
           {
            "automargin": true,
            "type": "pie"
           }
          ],
          "scatter": [
           {
            "marker": {
             "colorbar": {
              "outlinewidth": 0,
              "ticks": ""
             }
            },
            "type": "scatter"
           }
          ],
          "scatter3d": [
           {
            "line": {
             "colorbar": {
              "outlinewidth": 0,
              "ticks": ""
             }
            },
            "marker": {
             "colorbar": {
              "outlinewidth": 0,
              "ticks": ""
             }
            },
            "type": "scatter3d"
           }
          ],
          "scattercarpet": [
           {
            "marker": {
             "colorbar": {
              "outlinewidth": 0,
              "ticks": ""
             }
            },
            "type": "scattercarpet"
           }
          ],
          "scattergeo": [
           {
            "marker": {
             "colorbar": {
              "outlinewidth": 0,
              "ticks": ""
             }
            },
            "type": "scattergeo"
           }
          ],
          "scattergl": [
           {
            "marker": {
             "colorbar": {
              "outlinewidth": 0,
              "ticks": ""
             }
            },
            "type": "scattergl"
           }
          ],
          "scattermapbox": [
           {
            "marker": {
             "colorbar": {
              "outlinewidth": 0,
              "ticks": ""
             }
            },
            "type": "scattermapbox"
           }
          ],
          "scatterpolar": [
           {
            "marker": {
             "colorbar": {
              "outlinewidth": 0,
              "ticks": ""
             }
            },
            "type": "scatterpolar"
           }
          ],
          "scatterpolargl": [
           {
            "marker": {
             "colorbar": {
              "outlinewidth": 0,
              "ticks": ""
             }
            },
            "type": "scatterpolargl"
           }
          ],
          "scatterternary": [
           {
            "marker": {
             "colorbar": {
              "outlinewidth": 0,
              "ticks": ""
             }
            },
            "type": "scatterternary"
           }
          ],
          "surface": [
           {
            "colorbar": {
             "outlinewidth": 0,
             "ticks": ""
            },
            "colorscale": [
             [
              0,
              "#0d0887"
             ],
             [
              0.1111111111111111,
              "#46039f"
             ],
             [
              0.2222222222222222,
              "#7201a8"
             ],
             [
              0.3333333333333333,
              "#9c179e"
             ],
             [
              0.4444444444444444,
              "#bd3786"
             ],
             [
              0.5555555555555556,
              "#d8576b"
             ],
             [
              0.6666666666666666,
              "#ed7953"
             ],
             [
              0.7777777777777778,
              "#fb9f3a"
             ],
             [
              0.8888888888888888,
              "#fdca26"
             ],
             [
              1,
              "#f0f921"
             ]
            ],
            "type": "surface"
           }
          ],
          "table": [
           {
            "cells": {
             "fill": {
              "color": "#EBF0F8"
             },
             "line": {
              "color": "white"
             }
            },
            "header": {
             "fill": {
              "color": "#C8D4E3"
             },
             "line": {
              "color": "white"
             }
            },
            "type": "table"
           }
          ]
         },
         "layout": {
          "annotationdefaults": {
           "arrowcolor": "#2a3f5f",
           "arrowhead": 0,
           "arrowwidth": 1
          },
          "coloraxis": {
           "colorbar": {
            "outlinewidth": 0,
            "ticks": ""
           }
          },
          "colorscale": {
           "diverging": [
            [
             0,
             "#8e0152"
            ],
            [
             0.1,
             "#c51b7d"
            ],
            [
             0.2,
             "#de77ae"
            ],
            [
             0.3,
             "#f1b6da"
            ],
            [
             0.4,
             "#fde0ef"
            ],
            [
             0.5,
             "#f7f7f7"
            ],
            [
             0.6,
             "#e6f5d0"
            ],
            [
             0.7,
             "#b8e186"
            ],
            [
             0.8,
             "#7fbc41"
            ],
            [
             0.9,
             "#4d9221"
            ],
            [
             1,
             "#276419"
            ]
           ],
           "sequential": [
            [
             0,
             "#0d0887"
            ],
            [
             0.1111111111111111,
             "#46039f"
            ],
            [
             0.2222222222222222,
             "#7201a8"
            ],
            [
             0.3333333333333333,
             "#9c179e"
            ],
            [
             0.4444444444444444,
             "#bd3786"
            ],
            [
             0.5555555555555556,
             "#d8576b"
            ],
            [
             0.6666666666666666,
             "#ed7953"
            ],
            [
             0.7777777777777778,
             "#fb9f3a"
            ],
            [
             0.8888888888888888,
             "#fdca26"
            ],
            [
             1,
             "#f0f921"
            ]
           ],
           "sequentialminus": [
            [
             0,
             "#0d0887"
            ],
            [
             0.1111111111111111,
             "#46039f"
            ],
            [
             0.2222222222222222,
             "#7201a8"
            ],
            [
             0.3333333333333333,
             "#9c179e"
            ],
            [
             0.4444444444444444,
             "#bd3786"
            ],
            [
             0.5555555555555556,
             "#d8576b"
            ],
            [
             0.6666666666666666,
             "#ed7953"
            ],
            [
             0.7777777777777778,
             "#fb9f3a"
            ],
            [
             0.8888888888888888,
             "#fdca26"
            ],
            [
             1,
             "#f0f921"
            ]
           ]
          },
          "colorway": [
           "#636efa",
           "#EF553B",
           "#00cc96",
           "#ab63fa",
           "#FFA15A",
           "#19d3f3",
           "#FF6692",
           "#B6E880",
           "#FF97FF",
           "#FECB52"
          ],
          "font": {
           "color": "#2a3f5f"
          },
          "geo": {
           "bgcolor": "white",
           "lakecolor": "white",
           "landcolor": "#E5ECF6",
           "showlakes": true,
           "showland": true,
           "subunitcolor": "white"
          },
          "hoverlabel": {
           "align": "left"
          },
          "hovermode": "closest",
          "mapbox": {
           "style": "light"
          },
          "paper_bgcolor": "white",
          "plot_bgcolor": "#E5ECF6",
          "polar": {
           "angularaxis": {
            "gridcolor": "white",
            "linecolor": "white",
            "ticks": ""
           },
           "bgcolor": "#E5ECF6",
           "radialaxis": {
            "gridcolor": "white",
            "linecolor": "white",
            "ticks": ""
           }
          },
          "scene": {
           "xaxis": {
            "backgroundcolor": "#E5ECF6",
            "gridcolor": "white",
            "gridwidth": 2,
            "linecolor": "white",
            "showbackground": true,
            "ticks": "",
            "zerolinecolor": "white"
           },
           "yaxis": {
            "backgroundcolor": "#E5ECF6",
            "gridcolor": "white",
            "gridwidth": 2,
            "linecolor": "white",
            "showbackground": true,
            "ticks": "",
            "zerolinecolor": "white"
           },
           "zaxis": {
            "backgroundcolor": "#E5ECF6",
            "gridcolor": "white",
            "gridwidth": 2,
            "linecolor": "white",
            "showbackground": true,
            "ticks": "",
            "zerolinecolor": "white"
           }
          },
          "shapedefaults": {
           "line": {
            "color": "#2a3f5f"
           }
          },
          "ternary": {
           "aaxis": {
            "gridcolor": "white",
            "linecolor": "white",
            "ticks": ""
           },
           "baxis": {
            "gridcolor": "white",
            "linecolor": "white",
            "ticks": ""
           },
           "bgcolor": "#E5ECF6",
           "caxis": {
            "gridcolor": "white",
            "linecolor": "white",
            "ticks": ""
           }
          },
          "title": {
           "x": 0.05
          },
          "xaxis": {
           "automargin": true,
           "gridcolor": "white",
           "linecolor": "white",
           "ticks": "",
           "title": {
            "standoff": 15
           },
           "zerolinecolor": "white",
           "zerolinewidth": 2
          },
          "yaxis": {
           "automargin": true,
           "gridcolor": "white",
           "linecolor": "white",
           "ticks": "",
           "title": {
            "standoff": 15
           },
           "zerolinecolor": "white",
           "zerolinewidth": 2
          }
         }
        }
       }
      },
      "text/html": [
       "<div>\n",
       "        \n",
       "        \n",
       "            <div id=\"94181966-00dd-4aab-8ec9-2b2495e4c3b4\" class=\"plotly-graph-div\" style=\"height:525px; width:100%;\"></div>\n",
       "            <script type=\"text/javascript\">\n",
       "                require([\"plotly\"], function(Plotly) {\n",
       "                    window.PLOTLYENV=window.PLOTLYENV || {};\n",
       "                    \n",
       "                if (document.getElementById(\"94181966-00dd-4aab-8ec9-2b2495e4c3b4\")) {\n",
       "                    Plotly.newPlot(\n",
       "                        '94181966-00dd-4aab-8ec9-2b2495e4c3b4',\n",
       "                        [{\"hovertemplate\": \"x=%{x}<br>y=%{y}<br>z=%{z}<extra></extra>\", \"legendgroup\": \"\", \"marker\": {\"color\": \"#636efa\", \"opacity\": 0.5, \"symbol\": \"circle\"}, \"mode\": \"markers\", \"name\": \"\", \"scene\": \"scene\", \"showlegend\": false, \"type\": \"scatter3d\", \"x\": [0.05577500490857745, -0.8240394061820526, 2.40065747892047, 0.8397988359264479, -1.1592486659108203, 1.2877301562042913, 0.23224133337220887, -1.0227009417450392, 2.2287533985708428, -1.1560709778244047, -2.163789253811803, 1.2441725809707318, 1.493611339173197, 0.581503487342839, -0.2636881085291759, 1.7026989811895852, -0.6464495505861427, -0.1797340138585639, -2.3713439100689793, -1.3187253285530942, 1.8599162069143806, 1.2014589232255517, 0.6318202123109055, 0.27361935783964886, -0.5927285959808225, 1.5791743035082444, 2.386305789867516, -1.2148919813770986, -0.7313553163669797, 0.1698821213124465, 1.890849240543948, 0.1950153486061088, -0.0649238022272145, -0.5502583419193444, -1.6041426876284102, 1.8033778509932867, 0.3350028492345827, 2.0162398102042154, -2.0677473008392573, -0.8091661989354315, 2.1162656728350857, -2.3462242858863678, 0.19399285677465838, -1.058199424485521, -1.675390956605554, 2.3332675050111913, -0.7597967559662697, -0.39845312629342766, -1.3103273157036996, 1.3811483867081278, 1.4220956377269376, 0.8094530094261629, -1.9376211760530468, 0.17244385288595698, -1.1639150187441285, 1.5003348631717026, 1.398680366639351, 0.7545655248542658, 0.702614299502045, -2.140392950024596, 1.8105865590012642, 0.719104450063654, 1.1264304235160014, -1.8549403319736841, -1.9994707606089859, -1.9960535898893954, -0.3690903076826404, 1.042648126627777, 1.5260663673708148, 2.1965108675352307, -2.311200653976483, 0.18265804674625086, -0.5906307565575898, -2.3890130321027025, -1.5130220359635582, 1.7768736015153415, 1.1379683243014465, 1.0963406445536548, 0.3993632672209282, -1.1482440775153415, 0.5266242313797794, 0.8628326725083418, -0.1252922563571034, -2.1206146693766614, -0.8145653923813955, 2.0687471287090347, -0.9093670602413421, -0.7890156266074254, -1.6174987755447694, 2.201619116849278, 2.277700520707144, -1.5615810047137693, 2.3415979695377525, 0.060407482266251256, -0.41911713192959654, 0.7314624263330565, -1.5320067528013857, -1.6727557731515241, 1.4003230591561835, -1.729905142503792], \"y\": [1.653528305465365, 0.8137308827332994, 1.9122156439017939, -1.2362591284029172, 1.5579928972035126, 0.8780682291678515, 0.7087179157506062, 2.3086701069325084, 0.46384426331800677, 1.3124438527431574, 2.1699535828747685, -1.1363635613541034, 2.4012577274541584, 0.30308868973698566, 1.6563321856340023, -2.1334318936961663, -1.7684408177694415, 0.566530088073151, -0.08389307607999197, 0.2125420787111837, 1.5774664720455451, -2.1826249573828944, -2.214369127842671, -2.1717297131785704, 1.777415258235318, 1.9829124665761242, 1.8370200779011931, 2.0989017092889752, 0.7042699693308474, 1.1219185435964267, 0.7591860091549499, 0.4554834498138316, 0.17520338027607318, 0.7465582628459014, -0.34073765337839723, -0.3246297497953784, -1.84981185440103, 0.7210584258663576, -0.13357272724647817, -1.1951224826306888, -1.2385744666809893, -1.7558148250733336, -0.789509899046562, -0.7741495465947763, -1.6622978364516836, -2.188850597399544, -2.2813170620202987, -2.080199434234128, -1.826836273726132, -2.0295942582996416, -1.491460284048736, 1.3519939183471723, 2.222972542642043, -0.34097924797092005, 1.6507782249720286, -0.6322684085728475, 1.6244810082771992, 1.6761912516990993, 0.7759440093834461, 1.161383760888893, 0.7931523637597343, -0.25274232390580276, -0.013617812198737811, 0.263780778968578, 0.9989798575257841, -1.3030137987748436, -0.4499390505369728, -0.06728118526247873, -0.9674842811530036, -0.5493166349801282, 1.4770537570181501, -2.067104238991459, -2.2224058403333276, -1.1416080656471226, -1.7554000949697053, 1.918165472831696, -0.11747774986112758, 1.2297881907185548, 2.0465936593679435, 0.607858285756791, -0.7440722534719504, -1.1492675696884087, 1.6181410259912925, 0.9486601252171016, -0.22015276632057879, -0.31668770497371856, -1.2969393157182039, -0.23849861771887282, 2.4318867110094873, -2.1243697355526496, -1.2312569439123644, 0.4166311758837866, -2.0503220496680337, -0.8316448353695738, -1.2305498048872563, 2.121541382268032, -0.6373903760114522, -0.583932863106833, 0.6607019654486525, -2.10748505121603], \"z\": [-1.5895914609731836, 1.5889929697268104, 1.3234611457164538, 2.373645983525661, 0.0006426692922595345, 0.6425963648598225, -0.915440108862346, -1.9237141704359284, 0.4728011354794939, -2.261466083778236, 2.3005718951762133, 1.4869638892204469, -1.5821316275520476, -1.8319432726033722, 2.0224351740095825, 1.9886738729140925, -2.3620948353469307, 2.3621984993901037, -2.1434520119347686, 2.314993118653362, -2.4375912138982225, -0.16495831271962458, 1.9641365798466262, -1.702153093694652, 0.8083206200209585, 0.41668950796261484, -1.4629072985674207, 1.727726092751325, -0.547755528741431, 0.8727137938736472, 1.627994899743792, 0.12613104621506577, 1.22526259823673, -1.573652479302213, 0.5921986552780003, 1.9980927923089677, 0.5060955571565202, -1.32382729259107, 1.7078737189959128, 0.5977488998674036, 2.3718177831302265, 1.530443972438676, 0.47013318648904423, 1.9956462080867707, -2.3355994402230698, 0.41597905996432816, -0.9470227869736247, 1.2267669288055276, 1.5356664960742679, 0.9202173058562481, -1.4090550512976474, -0.20132039046465677, -0.3293781554425552, -0.6659021209532234, -1.0655147281333677, -1.8586100882659422, 1.4891156046401568, -2.3943904444886863, 1.781195523074497, -0.600701617052611, -0.3742485603784309, 2.263615693618718, 0.14487052483283624, -0.26112667407205803, 1.2720233296858243, 0.6540104240046657, -2.056304179441081, 1.2196127589739132, 0.3044004665904897, 1.0481310816325555, 0.2820287168969645, -0.4990931003726262, 0.2352827624204641, -1.4221520710755349, -0.28497986204846637, -0.6206266209424003, -1.019590417039888, -1.3248496070465827, 0.3587014135860579, 0.5181157803430554, -1.5767463269431157, -0.3813335712421919, -0.49078430467998324, 2.3916616798943444, -1.1877678965680933, -1.1005583069222746, -1.374017833260278, -0.1978924379431215, 0.7327270180250252, -0.7844488818871997, -0.32963833638729234, -1.4065117826699163, -1.9506753320797527, 1.5133593057612655, -0.29718822125684563, -0.9324220294001129, -1.9943099467593763, -0.8946463696659486, -2.262435776677029, -1.2979853319090995]}],\n",
       "                        {\"legend\": {\"tracegroupgap\": 0}, \"margin\": {\"t\": 60}, \"scene\": {\"domain\": {\"x\": [0.0, 1.0], \"y\": [0.0, 1.0]}, \"xaxis\": {\"title\": {\"text\": \"x\"}}, \"yaxis\": {\"title\": {\"text\": \"y\"}}, \"zaxis\": {\"title\": {\"text\": \"z\"}}}, \"template\": {\"data\": {\"bar\": [{\"error_x\": {\"color\": \"#2a3f5f\"}, \"error_y\": {\"color\": \"#2a3f5f\"}, \"marker\": {\"line\": {\"color\": \"#E5ECF6\", \"width\": 0.5}}, \"type\": \"bar\"}], \"barpolar\": [{\"marker\": {\"line\": {\"color\": \"#E5ECF6\", \"width\": 0.5}}, \"type\": \"barpolar\"}], \"carpet\": [{\"aaxis\": {\"endlinecolor\": \"#2a3f5f\", \"gridcolor\": \"white\", \"linecolor\": \"white\", \"minorgridcolor\": \"white\", \"startlinecolor\": \"#2a3f5f\"}, \"baxis\": {\"endlinecolor\": \"#2a3f5f\", \"gridcolor\": \"white\", \"linecolor\": \"white\", \"minorgridcolor\": \"white\", \"startlinecolor\": \"#2a3f5f\"}, \"type\": \"carpet\"}], \"choropleth\": [{\"colorbar\": {\"outlinewidth\": 0, \"ticks\": \"\"}, \"type\": \"choropleth\"}], \"contour\": [{\"colorbar\": {\"outlinewidth\": 0, \"ticks\": \"\"}, \"colorscale\": [[0.0, \"#0d0887\"], [0.1111111111111111, \"#46039f\"], [0.2222222222222222, \"#7201a8\"], [0.3333333333333333, \"#9c179e\"], [0.4444444444444444, \"#bd3786\"], [0.5555555555555556, \"#d8576b\"], [0.6666666666666666, \"#ed7953\"], [0.7777777777777778, \"#fb9f3a\"], [0.8888888888888888, \"#fdca26\"], [1.0, \"#f0f921\"]], \"type\": \"contour\"}], \"contourcarpet\": [{\"colorbar\": {\"outlinewidth\": 0, \"ticks\": \"\"}, \"type\": \"contourcarpet\"}], \"heatmap\": [{\"colorbar\": {\"outlinewidth\": 0, \"ticks\": \"\"}, \"colorscale\": [[0.0, \"#0d0887\"], [0.1111111111111111, \"#46039f\"], [0.2222222222222222, \"#7201a8\"], [0.3333333333333333, \"#9c179e\"], [0.4444444444444444, \"#bd3786\"], [0.5555555555555556, \"#d8576b\"], [0.6666666666666666, \"#ed7953\"], [0.7777777777777778, \"#fb9f3a\"], [0.8888888888888888, \"#fdca26\"], [1.0, \"#f0f921\"]], \"type\": \"heatmap\"}], \"heatmapgl\": [{\"colorbar\": {\"outlinewidth\": 0, \"ticks\": \"\"}, \"colorscale\": [[0.0, \"#0d0887\"], [0.1111111111111111, \"#46039f\"], [0.2222222222222222, \"#7201a8\"], [0.3333333333333333, \"#9c179e\"], [0.4444444444444444, \"#bd3786\"], [0.5555555555555556, \"#d8576b\"], [0.6666666666666666, \"#ed7953\"], [0.7777777777777778, \"#fb9f3a\"], [0.8888888888888888, \"#fdca26\"], [1.0, \"#f0f921\"]], \"type\": \"heatmapgl\"}], \"histogram\": [{\"marker\": {\"colorbar\": {\"outlinewidth\": 0, \"ticks\": \"\"}}, \"type\": \"histogram\"}], \"histogram2d\": [{\"colorbar\": {\"outlinewidth\": 0, \"ticks\": \"\"}, \"colorscale\": [[0.0, \"#0d0887\"], [0.1111111111111111, \"#46039f\"], [0.2222222222222222, \"#7201a8\"], [0.3333333333333333, \"#9c179e\"], [0.4444444444444444, \"#bd3786\"], [0.5555555555555556, \"#d8576b\"], [0.6666666666666666, \"#ed7953\"], [0.7777777777777778, \"#fb9f3a\"], [0.8888888888888888, \"#fdca26\"], [1.0, \"#f0f921\"]], \"type\": \"histogram2d\"}], \"histogram2dcontour\": [{\"colorbar\": {\"outlinewidth\": 0, \"ticks\": \"\"}, \"colorscale\": [[0.0, \"#0d0887\"], [0.1111111111111111, \"#46039f\"], [0.2222222222222222, \"#7201a8\"], [0.3333333333333333, \"#9c179e\"], [0.4444444444444444, \"#bd3786\"], [0.5555555555555556, \"#d8576b\"], [0.6666666666666666, \"#ed7953\"], [0.7777777777777778, \"#fb9f3a\"], [0.8888888888888888, \"#fdca26\"], [1.0, \"#f0f921\"]], \"type\": \"histogram2dcontour\"}], \"mesh3d\": [{\"colorbar\": {\"outlinewidth\": 0, \"ticks\": \"\"}, \"type\": \"mesh3d\"}], \"parcoords\": [{\"line\": {\"colorbar\": {\"outlinewidth\": 0, \"ticks\": \"\"}}, \"type\": \"parcoords\"}], \"pie\": [{\"automargin\": true, \"type\": \"pie\"}], \"scatter\": [{\"marker\": {\"colorbar\": {\"outlinewidth\": 0, \"ticks\": \"\"}}, \"type\": \"scatter\"}], \"scatter3d\": [{\"line\": {\"colorbar\": {\"outlinewidth\": 0, \"ticks\": \"\"}}, \"marker\": {\"colorbar\": {\"outlinewidth\": 0, \"ticks\": \"\"}}, \"type\": \"scatter3d\"}], \"scattercarpet\": [{\"marker\": {\"colorbar\": {\"outlinewidth\": 0, \"ticks\": \"\"}}, \"type\": \"scattercarpet\"}], \"scattergeo\": [{\"marker\": {\"colorbar\": {\"outlinewidth\": 0, \"ticks\": \"\"}}, \"type\": \"scattergeo\"}], \"scattergl\": [{\"marker\": {\"colorbar\": {\"outlinewidth\": 0, \"ticks\": \"\"}}, \"type\": \"scattergl\"}], \"scattermapbox\": [{\"marker\": {\"colorbar\": {\"outlinewidth\": 0, \"ticks\": \"\"}}, \"type\": \"scattermapbox\"}], \"scatterpolar\": [{\"marker\": {\"colorbar\": {\"outlinewidth\": 0, \"ticks\": \"\"}}, \"type\": \"scatterpolar\"}], \"scatterpolargl\": [{\"marker\": {\"colorbar\": {\"outlinewidth\": 0, \"ticks\": \"\"}}, \"type\": \"scatterpolargl\"}], \"scatterternary\": [{\"marker\": {\"colorbar\": {\"outlinewidth\": 0, \"ticks\": \"\"}}, \"type\": \"scatterternary\"}], \"surface\": [{\"colorbar\": {\"outlinewidth\": 0, \"ticks\": \"\"}, \"colorscale\": [[0.0, \"#0d0887\"], [0.1111111111111111, \"#46039f\"], [0.2222222222222222, \"#7201a8\"], [0.3333333333333333, \"#9c179e\"], [0.4444444444444444, \"#bd3786\"], [0.5555555555555556, \"#d8576b\"], [0.6666666666666666, \"#ed7953\"], [0.7777777777777778, \"#fb9f3a\"], [0.8888888888888888, \"#fdca26\"], [1.0, \"#f0f921\"]], \"type\": \"surface\"}], \"table\": [{\"cells\": {\"fill\": {\"color\": \"#EBF0F8\"}, \"line\": {\"color\": \"white\"}}, \"header\": {\"fill\": {\"color\": \"#C8D4E3\"}, \"line\": {\"color\": \"white\"}}, \"type\": \"table\"}]}, \"layout\": {\"annotationdefaults\": {\"arrowcolor\": \"#2a3f5f\", \"arrowhead\": 0, \"arrowwidth\": 1}, \"coloraxis\": {\"colorbar\": {\"outlinewidth\": 0, \"ticks\": \"\"}}, \"colorscale\": {\"diverging\": [[0, \"#8e0152\"], [0.1, \"#c51b7d\"], [0.2, \"#de77ae\"], [0.3, \"#f1b6da\"], [0.4, \"#fde0ef\"], [0.5, \"#f7f7f7\"], [0.6, \"#e6f5d0\"], [0.7, \"#b8e186\"], [0.8, \"#7fbc41\"], [0.9, \"#4d9221\"], [1, \"#276419\"]], \"sequential\": [[0.0, \"#0d0887\"], [0.1111111111111111, \"#46039f\"], [0.2222222222222222, \"#7201a8\"], [0.3333333333333333, \"#9c179e\"], [0.4444444444444444, \"#bd3786\"], [0.5555555555555556, \"#d8576b\"], [0.6666666666666666, \"#ed7953\"], [0.7777777777777778, \"#fb9f3a\"], [0.8888888888888888, \"#fdca26\"], [1.0, \"#f0f921\"]], \"sequentialminus\": [[0.0, \"#0d0887\"], [0.1111111111111111, \"#46039f\"], [0.2222222222222222, \"#7201a8\"], [0.3333333333333333, \"#9c179e\"], [0.4444444444444444, \"#bd3786\"], [0.5555555555555556, \"#d8576b\"], [0.6666666666666666, \"#ed7953\"], [0.7777777777777778, \"#fb9f3a\"], [0.8888888888888888, \"#fdca26\"], [1.0, \"#f0f921\"]]}, \"colorway\": [\"#636efa\", \"#EF553B\", \"#00cc96\", \"#ab63fa\", \"#FFA15A\", \"#19d3f3\", \"#FF6692\", \"#B6E880\", \"#FF97FF\", \"#FECB52\"], \"font\": {\"color\": \"#2a3f5f\"}, \"geo\": {\"bgcolor\": \"white\", \"lakecolor\": \"white\", \"landcolor\": \"#E5ECF6\", \"showlakes\": true, \"showland\": true, \"subunitcolor\": \"white\"}, \"hoverlabel\": {\"align\": \"left\"}, \"hovermode\": \"closest\", \"mapbox\": {\"style\": \"light\"}, \"paper_bgcolor\": \"white\", \"plot_bgcolor\": \"#E5ECF6\", \"polar\": {\"angularaxis\": {\"gridcolor\": \"white\", \"linecolor\": \"white\", \"ticks\": \"\"}, \"bgcolor\": \"#E5ECF6\", \"radialaxis\": {\"gridcolor\": \"white\", \"linecolor\": \"white\", \"ticks\": \"\"}}, \"scene\": {\"xaxis\": {\"backgroundcolor\": \"#E5ECF6\", \"gridcolor\": \"white\", \"gridwidth\": 2, \"linecolor\": \"white\", \"showbackground\": true, \"ticks\": \"\", \"zerolinecolor\": \"white\"}, \"yaxis\": {\"backgroundcolor\": \"#E5ECF6\", \"gridcolor\": \"white\", \"gridwidth\": 2, \"linecolor\": \"white\", \"showbackground\": true, \"ticks\": \"\", \"zerolinecolor\": \"white\"}, \"zaxis\": {\"backgroundcolor\": \"#E5ECF6\", \"gridcolor\": \"white\", \"gridwidth\": 2, \"linecolor\": \"white\", \"showbackground\": true, \"ticks\": \"\", \"zerolinecolor\": \"white\"}}, \"shapedefaults\": {\"line\": {\"color\": \"#2a3f5f\"}}, \"ternary\": {\"aaxis\": {\"gridcolor\": \"white\", \"linecolor\": \"white\", \"ticks\": \"\"}, \"baxis\": {\"gridcolor\": \"white\", \"linecolor\": \"white\", \"ticks\": \"\"}, \"bgcolor\": \"#E5ECF6\", \"caxis\": {\"gridcolor\": \"white\", \"linecolor\": \"white\", \"ticks\": \"\"}}, \"title\": {\"x\": 0.05}, \"xaxis\": {\"automargin\": true, \"gridcolor\": \"white\", \"linecolor\": \"white\", \"ticks\": \"\", \"title\": {\"standoff\": 15}, \"zerolinecolor\": \"white\", \"zerolinewidth\": 2}, \"yaxis\": {\"automargin\": true, \"gridcolor\": \"white\", \"linecolor\": \"white\", \"ticks\": \"\", \"title\": {\"standoff\": 15}, \"zerolinecolor\": \"white\", \"zerolinewidth\": 2}}}},\n",
       "                        {\"responsive\": true}\n",
       "                    ).then(function(){\n",
       "                            \n",
       "var gd = document.getElementById('94181966-00dd-4aab-8ec9-2b2495e4c3b4');\n",
       "var x = new MutationObserver(function (mutations, observer) {{\n",
       "        var display = window.getComputedStyle(gd).display;\n",
       "        if (!display || display === 'none') {{\n",
       "            console.log([gd, 'removed!']);\n",
       "            Plotly.purge(gd);\n",
       "            observer.disconnect();\n",
       "        }}\n",
       "}});\n",
       "\n",
       "// Listen for the removal of the full notebook cells\n",
       "var notebookContainer = gd.closest('#notebook-container');\n",
       "if (notebookContainer) {{\n",
       "    x.observe(notebookContainer, {childList: true});\n",
       "}}\n",
       "\n",
       "// Listen for the clearing of the current output cell\n",
       "var outputEl = gd.closest('.output');\n",
       "if (outputEl) {{\n",
       "    x.observe(outputEl, {childList: true});\n",
       "}}\n",
       "\n",
       "                        })\n",
       "                };\n",
       "                });\n",
       "            </script>\n",
       "        </div>"
      ]
     },
     "metadata": {},
     "output_type": "display_data"
    }
   ],
   "source": [
    "i = 900\n",
    "px.scatter_3d(x=confs[i][:,0], y=confs[i][:,1], z=confs[i][:,2], opacity=0.5)"
   ]
  },
  {
   "cell_type": "markdown",
   "metadata": {
    "slideshow": {
     "slide_type": "slide"
    }
   },
   "source": [
    "### Computing Radial Distribution Function $g(r)$"
   ]
  },
  {
   "cell_type": "code",
   "execution_count": 260,
   "metadata": {
    "slideshow": {
     "slide_type": "slide"
    }
   },
   "outputs": [],
   "source": [
    "@jit\n",
    "def comp_g_r(particles, L):\n",
    "    '''Computing radial distirbution function for a single configuration'''\n",
    "    \n",
    "    # Number of particles and density\n",
    "    \n",
    "    N   = len(particles)\n",
    "    rho = N/(L**3)\n",
    "    r2 = [] \n",
    "    \n",
    "    for i in range(0,N-1):\n",
    "        \n",
    "        for j in range(i+1,N):\n",
    "\n",
    "            dist_ij  = get_r2(particles[i],particles[j], L) \n",
    "            \n",
    "            r2.append(dist_ij)\n",
    "\n",
    "    r_dists = np.sqrt(r2)\n",
    "    \n",
    "    #Histogram distances \n",
    "    histRadii, edges = np.histogram(r_dists, bins=30, range=(0,L/2))\n",
    "    \n",
    "    radii = 0.5 *(edges[1:] + edges[:-1])  # radii of histograms R1,R2,..Lmax \n",
    "    \n",
    "    # often folks loop over N*N pairs then divide by N\n",
    "    # we have N*N-1/2 pairs e.g must divide by (N-1)/2 to have hist for N particles\n",
    "    histRadii = histRadii/(0.5*(N-1))    \n",
    "    \n",
    "    #Compute histogram that would be displayed by an ideal gas of N particles \n",
    "    vol = (4.0/3.0) * np.pi * (edges[1:]**3 - edges[:-1]**3)\n",
    "    \n",
    "    histIdeal = rho*vol \n",
    "    \n",
    "    gr = histRadii/histIdeal \n",
    "    \n",
    "    return radii, gr"
   ]
  },
  {
   "cell_type": "code",
   "execution_count": null,
   "metadata": {
    "slideshow": {
     "slide_type": "slide"
    }
   },
   "outputs": [],
   "source": [
    "# Simulation for computing g_r\n",
    "N     = 100\n",
    "rho   = 0.85\n",
    "T     = 2 \n",
    "steps = 100000\n",
    "freq  = 200\n",
    "\n",
    "######\n",
    "particles       = initialize(N, rho)\n",
    "%time confs, es = doMC_LJ(particles, L, T, steps, freq)\n",
    "######"
   ]
  },
  {
   "cell_type": "code",
   "execution_count": 63,
   "metadata": {
    "slideshow": {
     "slide_type": "slide"
    }
   },
   "outputs": [],
   "source": [
    "#n_pt    = int(steps/freq)\n",
    "#i = n_pt -1\n",
    "#px.scatter_3d(x=confs[i][:,0], y=confs[i][:,1], z=confs[i][:,2], opacity=0.5)"
   ]
  },
  {
   "cell_type": "markdown",
   "metadata": {
    "slideshow": {
     "slide_type": "slide"
    }
   },
   "source": [
    "#### Calculate $g(r)$ over trajectory"
   ]
  },
  {
   "cell_type": "code",
   "execution_count": 463,
   "metadata": {
    "slideshow": {
     "slide_type": "slide"
    }
   },
   "outputs": [],
   "source": [
    "gr_t = 0\n",
    "\n",
    "\n",
    "av_wind = 1000\n",
    "\n",
    "for i in range(n_pt-av_wind, n_pt):\n",
    "    \n",
    "    radii, gr = comp_g_r(confs[i],L)\n",
    "    \n",
    "    gr_t += gr/av_wind"
   ]
  },
  {
   "cell_type": "code",
   "execution_count": 62,
   "metadata": {},
   "outputs": [],
   "source": [
    "#plt.plot(radii, gr_t)"
   ]
  }
 ],
 "metadata": {
  "kernelspec": {
   "display_name": "Python 3",
   "language": "python",
   "name": "python3"
  },
  "language_info": {
   "codemirror_mode": {
    "name": "ipython",
    "version": 3
   },
   "file_extension": ".py",
   "mimetype": "text/x-python",
   "name": "python",
   "nbconvert_exporter": "python",
   "pygments_lexer": "ipython3",
   "version": "3.7.4"
  },
  "nteract": {
   "version": "0.22.0"
  },
  "toc": {
   "base_numbering": 1,
   "nav_menu": {},
   "number_sections": true,
   "sideBar": true,
   "skip_h1_title": false,
   "title_cell": "Table of Contents",
   "title_sidebar": "Contents",
   "toc_cell": false,
   "toc_position": {},
   "toc_section_display": true,
   "toc_window_display": false
  }
 },
 "nbformat": 4,
 "nbformat_minor": 2
}

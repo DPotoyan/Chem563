{
 "cells": [
  {
   "cell_type": "markdown",
   "metadata": {},
   "source": [
    "## Monte Carlo simulations of Lennard-Jones fluids"
   ]
  },
  {
   "cell_type": "code",
   "execution_count": 4,
   "metadata": {
    "slideshow": {
     "slide_type": "slide"
    }
   },
   "outputs": [],
   "source": [
    "%matplotlib inline\n",
    "%config InlineBackend.figure_format = 'retina'\n",
    "import ipywidgets as widgets\n",
    "import warnings\n",
    "warnings.filterwarnings('ignore')\n",
    "\n",
    "# Load basic science tools\n",
    "import matplotlib.pyplot as plt\n",
    "import scipy as sp\n",
    "import numpy as np\n",
    "from numpy.random import rand, randint, uniform, choice, normal "
   ]
  },
  {
   "cell_type": "code",
   "execution_count": 2,
   "metadata": {
    "slideshow": {
     "slide_type": "slide"
    }
   },
   "outputs": [],
   "source": [
    "#! pip install plotly\n",
    "#! pip install numba"
   ]
  },
  {
   "cell_type": "code",
   "execution_count": 5,
   "metadata": {
    "slideshow": {
     "slide_type": "slide"
    }
   },
   "outputs": [],
   "source": [
    "# Install Plotly and numba for aswesome speed and visualizations\n",
    "import plotly.express as px\n",
    "from numba import jit, njit"
   ]
  },
  {
   "cell_type": "markdown",
   "metadata": {},
   "source": [
    "## LJ model of a simple fluids, noble gases"
   ]
  },
  {
   "cell_type": "markdown",
   "metadata": {
    "slideshow": {
     "slide_type": "slide"
    }
   },
   "source": [
    "\n",
    "**Check out LJ fluid properties tabulated by NIST for your reference**\n",
    "\n",
    "https://www.nist.gov/mml/csd/chemical-informatics-research-group/lennard-jones-fluid-properties"
   ]
  },
  {
   "cell_type": "code",
   "execution_count": 119,
   "metadata": {
    "slideshow": {
     "slide_type": "slide"
    }
   },
   "outputs": [],
   "source": [
    "#-------Simulation parameters ----\n",
    "N        = 100      # Try different values\n",
    "T        = 2.0      # Try different values\n",
    "rho      = 0.85     # We set density and"
   ]
  },
  {
   "cell_type": "markdown",
   "metadata": {},
   "source": [
    "### Initializing the system, watch out for clashes!"
   ]
  },
  {
   "cell_type": "code",
   "execution_count": 164,
   "metadata": {
    "slideshow": {
     "slide_type": "slide"
    }
   },
   "outputs": [],
   "source": [
    "def initialize_naive(N, rho):\n",
    "    \n",
    "    '''Initialize the simulation box \n",
    "    given N  particles with density\n",
    "    returns (N,3) array positions\n",
    "    '''\n",
    "    \n",
    "    L  =  (N/rho)**(1/3) \n",
    "\n",
    "    return uniform(-L/2, L/2, size=(N,3))\n",
    "\n",
    "def initialize(N, rho):\n",
    "    \n",
    "    \"\"\"Put N particles in a box, \n",
    "    using dense packing unit lattice size n3\"\"\"\n",
    "    \n",
    "    L  =  (N/rho)**(1/3) \n",
    "    \n",
    "    n3 = int(N **(1/3)) + 1\n",
    "    \n",
    "    iix = iiy = iiz = 0\n",
    "    pos = np.zeros((N,3))\n",
    "    \n",
    "    for i in range(N):\n",
    "        \n",
    "        pos[i][0] = (iix + 0.5) * L / n3\n",
    "        pos[i][1] = (iiy + 0.5) * L / n3\n",
    "        pos[i][2] = (iiz + 0.5) * L / n3\n",
    "        \n",
    "        iix += 1\n",
    "        \n",
    "        if iix == n3:\n",
    "            \n",
    "            iix  = 0\n",
    "            iiy += 1\n",
    "            \n",
    "            if iiy == n3:\n",
    "                \n",
    "                iiy = 0\n",
    "                iiz += 1 \n",
    "                \n",
    "    return pos-L/2"
   ]
  },
  {
   "cell_type": "code",
   "execution_count": 165,
   "metadata": {
    "slideshow": {
     "slide_type": "slide"
    }
   },
   "outputs": [],
   "source": [
    "pp = initialize2(N, rho)\n",
    "#px.scatter_3d(x=pp[:,0], y=pp[:,1], z=pp[:,2], opacity=0.5)"
   ]
  },
  {
   "cell_type": "markdown",
   "metadata": {},
   "source": [
    "### Periodic Boundary conditions and minimum image convention"
   ]
  },
  {
   "cell_type": "code",
   "execution_count": 166,
   "metadata": {},
   "outputs": [],
   "source": [
    "@njit\n",
    "def pbc_wrap(p1, L):\n",
    "    ''' (a) if p1 = (x,y,z) position; wraps it back to box (with origin in the center!) \n",
    "        (b) if p1= (dr_x, dr_y, dr_z) distances; uses nearest image convension'''\n",
    "    \n",
    "    if p1[0] >  L/2:  p1[0] = p1[0] - L     \n",
    "    if p1[0] <= -L/2: p1[0] = p1[0] + L\n",
    "        \n",
    "    if p1[1] >  L/2:  p1[1] = p1[1] - L     \n",
    "    if p1[1] <= -L/2: p1[1] = p1[1] + L\n",
    "    \n",
    "    if p1[2] >  L/2:  p1[2] = p1[2] - L     \n",
    "    if p1[2] <= -L/2: p1[2] = p1[2] + L\n",
    "    \n",
    "    return p1"
   ]
  },
  {
   "cell_type": "markdown",
   "metadata": {},
   "source": [
    "### Computing pairwise distances and energies"
   ]
  },
  {
   "cell_type": "code",
   "execution_count": 167,
   "metadata": {
    "slideshow": {
     "slide_type": "slide"
    }
   },
   "outputs": [],
   "source": [
    "@njit\n",
    "def get_r2(p1, p2, L):\n",
    "    \n",
    "    ''' Compute squared distance between two particles \n",
    "   p1(x,y,z) and p2(x,y,z) while enforcing PBC.'''\n",
    "    \n",
    "    p1 = pbc_wrap(p1, L)\n",
    "    p2 = pbc_wrap(p2, L)\n",
    "    dr = pbc_wrap(p2 - p1, L)\n",
    "    \n",
    "    return dr[0]**2 + dr[1]**2 + dr[2]**2\n",
    "\n",
    "@njit\n",
    "def get_e2(pos_i, pos_j, trunc=3, sigma=1, eps=1):\n",
    "    \n",
    "    pair_e  = 0\n",
    "    \n",
    "    dist_sq = get_r2(pos_i, pos_j, L)\n",
    "                \n",
    "    if dist_sq <= trunc**2:\n",
    "                \n",
    "        pair_e += (sigma/dist_sq)**6 - (sigma/dist_sq)**3\n",
    "        \n",
    "    return 4*eps*pair_e"
   ]
  },
  {
   "cell_type": "code",
   "execution_count": 168,
   "metadata": {},
   "outputs": [],
   "source": [
    "@njit\n",
    "def getE_tot(particles, L, trunc):\n",
    "    '''Compute Total energy \n",
    "    by summing all pairwise interactions'''\n",
    "    \n",
    "    N = len(particles)\n",
    "    energy = 0\n",
    "    \n",
    "    for i in range(0, N-1):\n",
    "        for j in range(i+1, N):\n",
    "            \n",
    "                energy += get_e2(particles[i], particles[j], L)\n",
    "                    \n",
    "    return energy\n",
    "    \n",
    "    \n",
    "@njit\n",
    "def getE_one(particles, L, trunc, j, tag_j):\n",
    "    '''Compute energy of a tagged particle j \n",
    "    by summing all pairwise interactions with j'''\n",
    "    \n",
    "    N = len(particles)\n",
    "    energy = 0\n",
    "        \n",
    "    for i in range(N):\n",
    "        if i!=j:\n",
    "                \n",
    "            energy += get_e2(particles[i], tag_j, L)\n",
    "    \n",
    "    return energy"
   ]
  },
  {
   "cell_type": "markdown",
   "metadata": {
    "slideshow": {
     "slide_type": "slide"
    }
   },
   "source": [
    "### MC engine for LJ fluid in 3D (NVT ensemble)\n",
    "Now that the main helper functions are set up we can put together a main Monte Carlo engine that loops through randomly selected particles and attemps their displacement via Metropolis Criterion. "
   ]
  },
  {
   "cell_type": "code",
   "execution_count": 169,
   "metadata": {
    "slideshow": {
     "slide_type": "slide"
    }
   },
   "outputs": [],
   "source": [
    "@njit\n",
    "def doMC_LJ(particles, rho, T, steps=10000, freq=1000):\n",
    "\n",
    "    N      = len(particles)\n",
    "    L      =  (N/rho)**(1/3) \n",
    "    \n",
    "    E_tot       = getE_tot(particles, L, trunc) \n",
    "    \n",
    "    confs, es   = [particles.copy()], [E_tot]\n",
    "    \n",
    "    # Loop through MC steps\n",
    "    \n",
    "    for step in range(0, steps):\n",
    "        \n",
    "        # Randomly choose some particle i in  \n",
    "        i = randint(N)\n",
    "    \n",
    "        #Position and Energy of particle i\n",
    "        pos_i      = particles[i]\n",
    "        eng_i      = getE_one(particles, L, trunc, i, pos_i)\n",
    "    \n",
    "        #Give a particle i a random push:\n",
    "        pos_i_new  = particles[i] + (rand(3)-0.5)\n",
    "        eng_i_new  = getE_one(particles, L, trunc, i, pos_i_new)\n",
    "        \n",
    "        # Evaluate change in energy\n",
    "        dE = eng_i_new - eng_i\n",
    "\n",
    "        # Metropolis acceptance/rejection conditions\n",
    "        \n",
    "        if  np.exp(-dE/T) > rand():\n",
    "            \n",
    "            particles[i] = pos_i_new\n",
    "            E_tot       += dE\n",
    "            \n",
    "        if step % freq ==0:\n",
    "            \n",
    "            confs.append(particles.copy())\n",
    "            es.append(E_tot)\n",
    "                    \n",
    "    return confs, es "
   ]
  },
  {
   "cell_type": "markdown",
   "metadata": {},
   "source": [
    "### Running MCMC simulation on LJ system"
   ]
  },
  {
   "cell_type": "code",
   "execution_count": 170,
   "metadata": {},
   "outputs": [],
   "source": [
    "#-------Simulation parameters ----\n",
    "N        = 500      # Try different values\n",
    "T        = 0.85      # Try different values\n",
    "rho      = 1e-3     # We set density and"
   ]
  },
  {
   "cell_type": "code",
   "execution_count": null,
   "metadata": {
    "slideshow": {
     "slide_type": "slide"
    }
   },
   "outputs": [],
   "source": [
    "particles = initialize(N, rho)\n",
    "\n",
    "%time confs, es = doMC_LJ(particles, L, T, steps = 1e6)"
   ]
  },
  {
   "cell_type": "code",
   "execution_count": 103,
   "metadata": {
    "slideshow": {
     "slide_type": "slide"
    }
   },
   "outputs": [
    {
     "data": {
      "text/plain": [
       "[<matplotlib.lines.Line2D at 0x6272d3850>]"
      ]
     },
     "execution_count": 103,
     "metadata": {},
     "output_type": "execute_result"
    },
    {
     "data": {
      "image/png": "[encoded data removed]",
      "text/plain": [
       "<Figure size 432x288 with 1 Axes>"
      ]
     },
     "metadata": {
      "image/png": {
       "height": 248,
       "width": 383
      },
      "needs_background": "light"
     },
     "output_type": "display_data"
    }
   ],
   "source": [
    "plt.plot(es)"
   ]
  },
  {
   "cell_type": "code",
   "execution_count": 104,
   "metadata": {
    "slideshow": {
     "slide_type": "slide"
    }
   },
   "outputs": [
    {
     "data": {
      "application/vnd.plotly.v1+json": {
       "config": {
        "plotlyServerURL": "https://plot.ly"
       },
       "data": [
        {
         "hovertemplate": "x=%{x}<br>y=%{y}<br>z=%{z}<extra></extra>",
         "legendgroup": "",
         "marker": {
          "color": "#636efa",
          "opacity": 0.5,
          "symbol": "circle"
         },
         "mode": "markers",
         "name": "",
         "scene": "scene",
         "showlegend": false,
         "type": "scatter3d",
         "x": [
          12.774899331747786,
          26.427752975438494,
          28.292363717440264,
          28.4021286964311,
          47.62883862914049,
          63.31517819313599,
          52.15492307939829,
          91.64268545098105,
          -6.3845172190737385,
          20.886726247608898,
          33.94508723895544,
          42.777755007248814,
          39.504543482665326,
          44.894725413039886,
          67.5404731550669,
          79.24607945699226,
          11.640756755599705,
          7.461717854277845,
          16.702009709004383,
          32.870551965801916,
          40.69454897405344,
          57.11371376623556,
          55.62081248542958,
          75.8289065757552,
          0.8868407542988048,
          18.625957556408935,
          35.00131073062908,
          24.85757804447532,
          49.08506077477586,
          53.86583290991085,
          71.46510282262331,
          74.3770418374832,
          -4.8326307533512765,
          22.460224884841004,
          25.619484683891265,
          36.223371432372055,
          51.96609413198869,
          58.34816963216572,
          70.06559002788853,
          87.7051397468221,
          26.434226240683692,
          12.695180602686124,
          39.06657091419287,
          37.322891807888745,
          48.81911237164665,
          44.9194237821366,
          65.76395068969954,
          84.15656071388727,
          8.56149730383825,
          -9.433935604599942,
          36.34284836598645,
          47.79821232480203,
          50.28660211117321,
          61.29078217329342,
          68.56900189404286,
          77.99365589212286,
          -17.098093638083945,
          8.166363491062903,
          14.277268668819662,
          40.22978241095103,
          53.27884241415784,
          41.203875735995275,
          60.235614295623385,
          60.323650352730255,
          9.611989853527184,
          11.6211096345502,
          22.50558533647116,
          11.23528566698567,
          50.34798805454654,
          58.07165852769257,
          72.97546137143007,
          72.30268897554515,
          2.746259705273585,
          9.538130228894747,
          23.478148264257026,
          36.14376575887999,
          49.69737784964718,
          60.64651155864018,
          65.73115144194684,
          86.5321975797414,
          20.81821475194288,
          15.816899327237074,
          31.236814559539887,
          39.114134592115256,
          38.98864182334368,
          54.21337490404074,
          60.11123703474296,
          69.78025447602155,
          -3.662176735924196,
          14.125855297084257,
          21.89899401436672,
          28.374475950079123,
          56.93380593761183,
          58.585042808983076,
          70.86996718199902,
          75.48033622682564,
          -4.48277871579435,
          18.54652088122559,
          17.668968796438676,
          35.96029281150038,
          46.68647981137524,
          45.027624451074175,
          64.93581294976562,
          71.24493199425496,
          -4.535597558811889,
          22.526330490425455,
          26.420668267361755,
          24.577515473216096,
          52.13214831005938,
          49.64633730988063,
          61.02308109652194,
          74.05545506762179,
          -10.778630215963634,
          6.593983199119974,
          29.699151908203817,
          40.713684545664336,
          66.7241852325126,
          52.07620400323824,
          62.463732500906474,
          77.24784533631579,
          11.794243415612751,
          11.683843711353104,
          28.11772853535829,
          39.050239350959515,
          41.814921977481816,
          52.08814691216854,
          70.36105550768808,
          59.881830274757355,
          24.335683743301637,
          15.38255349001045,
          37.304940921816915,
          41.85444915341224,
          47.283719103239974,
          72.18396328338225,
          69.08994143439428,
          60.97577251781947,
          9.209455516851035,
          15.77122910796633,
          27.966105728712176,
          22.5855709667951,
          29.579439095534706,
          57.05069437435547,
          71.92285106155585,
          89.80484117984253,
          -0.4954108094439891,
          12.390457589906765,
          26.574821524716626,
          16.666078507817165,
          55.17918476550252,
          54.04915537169954,
          67.06711417135834,
          69.96673878540985,
          -2.3329576116688395,
          26.678407443506813,
          35.73647883776916,
          34.86214287520057,
          32.10250320308987,
          70.27913232965825,
          73.6221613555414,
          69.61451316839508,
          13.137771971769562,
          13.163954978486073,
          25.854060055540295,
          30.458113023748115,
          41.80198187982243,
          51.26704038406068,
          63.716057506933325,
          74.10763862267746,
          19.320634243755993,
          8.060662389117109,
          33.95828179446202,
          35.231257829688396,
          36.55694579199238,
          57.0996697173117,
          73.09278594318874,
          79.87746530592176,
          12.579256826041055,
          12.325279119178754,
          23.77673003585388,
          42.07020653893058,
          38.948820788629085,
          58.231961602692124,
          57.476300221131744,
          86.24602963943082,
          -3.8824251285386646,
          38.251439902767686,
          26.006589260988292,
          52.50174461279772,
          39.2965646942408,
          46.72756147532865,
          65.83664651618504,
          81.24961331420874,
          14.56477321542095,
          17.80856235183672,
          10.195238511755791,
          30.05535539047813,
          52.71256713718306,
          55.0629898787312,
          81.36023994600441,
          75.48097720491742,
          0.9590816099910561,
          11.98321953095013,
          42.21243293942457,
          35.23628115327188,
          54.384542263172676,
          48.37617630087602,
          64.42474635906518,
          79.91932815095205,
          2.64078050028107,
          23.1578716768514,
          26.36562602769412,
          33.16075417112715,
          48.652984285517746,
          51.653713165996145,
          62.774312219147134,
          85.09035999753347,
          7.8814865091750335,
          23.23706631461655,
          24.35952060080281,
          40.28118185638587,
          41.41694700936053,
          61.02829925607594,
          71.64293939562982,
          75.34498614649411,
          12.072670194378318,
          15.727328482739484,
          20.31329907611129,
          25.56193350658842,
          48.70484197593757,
          48.31432062050431,
          62.774807724668406,
          62.04404502633946,
          0.9160948923206994,
          16.974415384512387,
          20.665299972113345,
          38.16966077862932,
          39.72984061705299,
          54.96226866498795,
          67.33708448518937,
          65.35128204119327,
          -1.2345161429946088,
          19.597654361093657,
          31.27562370102759,
          35.622908544866085,
          50.823900733645644,
          60.10770838326247,
          68.94608719576011,
          80.52509910387863,
          2.043089135372967,
          8.608741818274595,
          29.580291162743357,
          39.91713423060065,
          37.823122568113675,
          57.51309733599087,
          72.633386605768,
          72.62839877290669,
          4.456009597511684,
          29.853941618138748,
          25.157190947536343,
          33.104124930417704,
          32.64868888673486,
          56.27798856733132,
          71.1979097965446,
          73.6062657726916,
          3.1109290786701096,
          8.723404374233047,
          28.200806395978862,
          39.208154373028925,
          59.93106642011919,
          48.2811863915184,
          67.83125356442771,
          71.43785179005792,
          -8.9705642140124,
          18.98599714418517,
          12.656210650807907,
          41.517378410889805,
          45.0893466027837,
          50.57111634172908,
          63.994409617426705,
          65.57261089339755,
          -7.371502111332055,
          32.46294651419029,
          33.34369653159071,
          28.60356904697202,
          35.78613638342346,
          58.027945580536915,
          60.9093347141795,
          81.83264966476062,
          7.569348691401635,
          5.0431435269940135,
          27.775226132282164,
          35.51168400507379,
          44.93404758755772,
          39.72663555065525,
          63.721591065033344,
          65.58122282048564,
          3.237476963229618,
          31.968378171179577,
          27.698495598260887,
          44.94906550464834,
          38.23797575104341,
          49.41774824012428,
          57.22915056954196,
          75.22512770669323,
          9.226373820388627,
          14.15871991866102,
          16.291964906988216,
          31.637296410570038,
          36.17071666151444,
          53.506658572069355,
          56.40278681569974,
          100.0997517346835,
          5.5256950483616345,
          11.819852742767308,
          27.710487170965727,
          49.110404038212415,
          40.96863004969238,
          49.94164326190337,
          61.96253544437355,
          76.15866344536295,
          3.651414374168972,
          9.218740381778384,
          38.04962052840324,
          32.568814523706926,
          45.34577406653161,
          67.38183926556846,
          57.412415594256046,
          63.73289354099978,
          0.2540043327895416,
          19.571334707084695,
          12.761949116086162,
          42.47221114546932,
          52.40446364614346,
          47.091047758127296,
          63.704364344224516,
          85.42908162827209,
          -3.1587515934957335,
          18.680219337253277,
          27.381057036534,
          26.506561434024782,
          48.56159552839803,
          47.59769055223907,
          62.22851398373753,
          77.12562358331995,
          -10.788414826529896,
          4.101160556103072,
          25.901319614453023,
          38.615019664828395,
          46.929236770087904,
          51.03753342793964,
          63.41458798032337,
          85.41418351912611,
          11.878751213269009,
          15.513838892317155,
          35.79452391172444,
          34.084140250535086,
          36.72558618433322,
          51.69129847372207,
          65.1309100613089,
          62.12073372261785,
          10.839048454210655,
          9.575699749276758,
          15.536786800184828,
          34.99929782428818,
          44.60586547748433,
          48.721900418600804,
          61.25937054637631,
          76.44465967815894,
          7.6461849674676,
          19.768046816143396,
          22.561746530097164,
          24.113158492593232,
          52.02917157964364,
          57.570454435796904,
          64.51589492476569,
          79.18840777870076,
          -3.669191076393666,
          12.99443868820006,
          17.645404920021193,
          44.93795913987508,
          32.7913270152355,
          55.3359236053893,
          72.0119139379847,
          74.13583318491676,
          4.249693670970059,
          15.643892166723482,
          20.989156755660378,
          32.0599859250504,
          43.63442313155049,
          53.586873634898225,
          55.80305767362972,
          86.17557799097663,
          6.753214199272268,
          22.118181116229174,
          34.77317967070462,
          44.72995917589981,
          45.89617904409494,
          46.684482367290116,
          70.71956478125743,
          84.73572678519754,
          5.233185399102678,
          36.60130834931576,
          23.039000848853597,
          40.77274895205745,
          47.15731346697651,
          59.275841796887896,
          57.915222473811504,
          64.28766304680282,
          26.435352887238512,
          3.2845627487703384,
          23.059748763876453,
          25.88652961190701,
          41.02098249928723,
          65.80766556663326,
          73.03345491275556,
          62.562680639224375,
          10.689775217421774,
          17.54366531425609,
          31.09886674205997,
          42.45654775324392,
          39.23311405434044,
          55.213787877834214,
          70.46858276408847,
          66.18351962636152,
          3.339926768351366,
          6.939222237499024,
          19.361424400478548,
          36.855765763431855,
          42.750778836224335,
          56.914214436523125,
          61.41746662496866,
          76.52512639458389,
          -4.572133963972563,
          22.44320605756848,
          34.48422785112043,
          35.234404314508396,
          37.00318464548551,
          42.832985798017404,
          66.24434515906317,
          65.4647842890864,
          2.4456204581916205,
          11.651509988219553,
          35.25001345513425,
          35.72432643147628,
          60.06731365959424,
          69.66868652837482,
          76.58230872654244,
          56.87872824822753,
          6.00176771124223,
          21.39369041322135,
          21.137834090228868,
          22.246450135133387,
          26.77313672365538,
          49.446108086123665,
          67.68274950958845,
          78.68940410658442,
          4.793668225497775,
          25.483015810802883,
          24.409595984364618,
          23.80431349167018,
          28.174945194608675,
          82.19706743158189,
          55.29759201369115,
          66.42782907510356,
          -15.491665164750776,
          2.840657322387602,
          18.239961182392147,
          35.703109695478055,
          39.55548837779294,
          63.6427934016894,
          58.235924196855876,
          65.58388670247244,
          -3.960611066410258,
          12.181252355328073,
          33.18570555211683,
          31.212934569747517,
          43.516669302048236,
          58.21840861975753,
          61.883994329943114,
          75.84713224091544,
          9.436327415555786,
          15.358191966912532,
          24.419861864729576,
          34.952727652030774,
          40.39068228655379,
          53.24350047940966,
          80.9452285753496,
          82.50275624355518,
          8.966410161702035,
          31.76286096552799,
          38.066123911671085,
          17.42620428717347,
          53.757645870131626,
          41.45617264165867,
          56.34474522085969,
          75.58662474190413,
          11.503016378005679,
          6.27284674351231,
          20.20351199591885,
          24.03414851209933
         ],
         "y": [
          5.953803312207541,
          18.747255877261548,
          7.784100061615444,
          20.675367509642722,
          10.354086715736475,
          -8.569601502772503,
          24.233287649076384,
          11.116124109569277,
          8.57283424664747,
          30.41987542602662,
          25.008519752836364,
          17.09903220932335,
          4.415351763212012,
          18.5821485529972,
          14.201480132048971,
          8.798931872200713,
          19.63032327323957,
          34.64757594036681,
          23.193827947292238,
          21.95905253725937,
          16.58836703096829,
          21.570811935028946,
          26.428215744110958,
          2.5635458755597558,
          36.06838101814356,
          28.669239286983217,
          47.473212855952646,
          37.6677294875395,
          43.7581703882866,
          33.00108209230405,
          29.02507038397083,
          50.854879261813934,
          55.53783895860988,
          31.626572197392473,
          43.57146897327444,
          48.94947750858705,
          41.631572449950056,
          39.061655908011545,
          45.350945947615905,
          49.89112615386165,
          51.28765980580292,
          60.3631494842261,
          39.96228527647947,
          45.09193729045418,
          56.35452680732928,
          52.046284984435076,
          71.89439944557674,
          60.51067302381346,
          66.93079406374198,
          68.9233318736712,
          55.03974906618315,
          78.75999290073476,
          72.7781855621364,
          70.13956043505661,
          69.86444858592459,
          58.201135161527475,
          68.9316441911789,
          91.0378972687814,
          72.66501103552424,
          69.32749777202288,
          65.1312388895012,
          82.87485618847995,
          67.8746965141709,
          78.70046263355471,
          6.5372569151919215,
          1.0880324231966316,
          8.853734334817554,
          4.985886067245361,
          6.413491762948686,
          12.062798796771304,
          7.053948357588424,
          2.7264392955974897,
          -7.782111923600054,
          5.502112187897747,
          22.799126674016414,
          8.816102202965785,
          13.640448664154775,
          18.71480861541938,
          -0.3315125496934338,
          18.525254946771092,
          11.026333138137524,
          38.40755478351474,
          18.61609603540749,
          22.86190898639379,
          28.602473481138695,
          36.90568788572005,
          34.769273749317485,
          34.73244769825028,
          37.006280306448446,
          41.26840595208338,
          32.999584714774414,
          43.035597074630786,
          33.787400950375904,
          30.959215843083346,
          30.19580699450018,
          30.970538948876346,
          47.944331795332786,
          39.14365338098265,
          46.369682966443484,
          33.546090892843694,
          53.53133199308516,
          48.267268261895595,
          33.787244777222135,
          57.59136953425515,
          36.702556611080276,
          45.006559646601055,
          63.88451452704501,
          50.17106864102985,
          63.25338427338851,
          59.983747455855365,
          32.63115654332305,
          63.69862929573007,
          65.3353981445834,
          61.32827888912359,
          72.06764745906392,
          53.50882078279365,
          66.3649987918777,
          69.11109599203583,
          66.02735860760816,
          56.330729300290834,
          74.68960397471085,
          67.4437105673474,
          71.79707353480295,
          68.04954469983674,
          80.00497111136703,
          71.11885437201181,
          70.35965236201017,
          76.93477243771929,
          14.076563779284568,
          3.933348924947645,
          21.104910047137587,
          0.5771057398575425,
          4.545333140617122,
          14.399369930783509,
          13.242584403970922,
          13.403639737441548,
          14.784846666196266,
          17.451269522119464,
          25.159903629665788,
          13.422676709624444,
          15.754380920973444,
          7.862411207911391,
          12.488624407721327,
          2.853472024563672,
          27.916058686357843,
          33.7712082535182,
          38.715945399889044,
          27.314402153830397,
          16.984505788858346,
          32.06319764890264,
          15.550023230202097,
          32.52810115735894,
          31.18503028924895,
          19.860834755618754,
          24.96459146009604,
          29.002977262472083,
          31.2700563801324,
          36.120813462948284,
          14.325259434333748,
          32.35943537044718,
          35.52778788031486,
          40.875990303090866,
          60.147097336601895,
          34.61821784650168,
          44.61055957082316,
          49.69851453413722,
          38.25289410466596,
          45.4501587730741,
          57.15285161265139,
          63.60364475300853,
          42.33633773472154,
          61.332917012264105,
          69.07348647406998,
          59.340731000655246,
          66.18826278193956,
          60.9219661354069,
          59.79818762142071,
          61.64720929167382,
          68.45533541551109,
          68.81646540381048,
          59.58487317581465,
          50.714574325431066,
          62.1753277673188,
          70.77532900935327,
          63.72511450512852,
          73.2076226729131,
          73.47948500334506,
          79.518186870525,
          74.70067811147325,
          74.90353552159422,
          81.05474978253729,
          60.56819988882772,
          -6.010754651545124,
          12.82039442137082,
          -10.267506690127163,
          10.060068612744086,
          3.915946374543422,
          7.9293055176207385,
          18.432156498924744,
          11.390617631429484,
          25.769392104121135,
          13.686113349034212,
          1.719504332586147,
          23.965111812856698,
          23.509335181386966,
          25.253798671162716,
          16.297559672224835,
          19.632750859563878,
          17.884192747120146,
          23.194952991331803,
          17.552012422525543,
          27.138983254905536,
          35.088181850291264,
          41.94667682180626,
          15.89107013968218,
          40.52081928050048,
          36.96736487690074,
          21.577554891955973,
          33.09930441734588,
          32.84305934791679,
          39.70134980364774,
          19.305594178377437,
          38.14165548169775,
          42.513031019070226,
          40.95591003887916,
          34.98888667618904,
          37.540796575253154,
          32.81996488823121,
          49.7445278463374,
          61.13077818714733,
          40.101624830481704,
          44.37366325458153,
          69.86973826978262,
          48.86423434752284,
          57.57322012015938,
          46.63427050891019,
          57.377229426505785,
          53.22374727688913,
          57.649110705397774,
          78.22230311781748,
          61.44773025308037,
          70.97067130061579,
          60.7650438475639,
          75.55020511299486,
          53.56981162482491,
          80.49900288720254,
          54.39162295940577,
          82.0125457743165,
          73.76756161654376,
          87.03445157179105,
          78.81055355366057,
          76.13434523389998,
          82.9376185546396,
          79.46619639446877,
          92.64387542612043,
          61.183341669982156,
          0.4847728787870561,
          9.138462322218942,
          8.19239835017063,
          9.702688822268785,
          17.311153829459176,
          9.633874556656913,
          4.755078289013038,
          10.60331109343015,
          19.112240760949135,
          25.19314940187653,
          18.26078554054485,
          13.232108132987937,
          10.03204492229277,
          -1.6511887141975465,
          13.53880098965204,
          23.237115730753796,
          17.952852569184284,
          31.700987286814417,
          19.464038274135845,
          23.694591144893835,
          23.189907045050706,
          31.00940649747347,
          24.61303272088033,
          29.300982880320355,
          32.95940151204255,
          14.362742133293148,
          39.16621462803769,
          34.46026863297869,
          33.668318856950194,
          38.97171823805484,
          32.745975504996636,
          43.48418973921258,
          46.86992239856888,
          39.720111399761706,
          43.735592050661566,
          52.776915782880025,
          39.92564357274636,
          28.545817789638303,
          37.91865652012257,
          39.51802586455699,
          47.33917226490606,
          46.11515537379681,
          44.19086301701431,
          58.75262151084195,
          60.25202155204552,
          60.453750896372114,
          54.18521913471454,
          56.83768869533141,
          45.47329059734246,
          67.40871478441552,
          58.014732427070605,
          68.51027284794205,
          69.91635326075023,
          59.05810587867806,
          68.18262155175957,
          64.51455833853608,
          71.68096140984662,
          82.57475821786201,
          68.04020422726136,
          73.63860032708783,
          74.18569724390899,
          78.6075143543019,
          78.32740587332835,
          82.18116718345291,
          -6.833467799251993,
          6.9228644339939525,
          5.969174604402473,
          6.191838259502516,
          -0.7962289075834402,
          11.650927766166886,
          17.26703731244329,
          8.601171523116287,
          11.505477960595886,
          21.32699856298642,
          6.223314323155934,
          23.401326149993704,
          8.698504745456333,
          17.970878944755693,
          8.334923951249472,
          8.359938672448765,
          25.92978832326916,
          25.97583827818977,
          26.45685707620128,
          10.0118385587572,
          21.376199724724962,
          18.70165160877141,
          29.489149493872784,
          30.867412522588506,
          36.45459680421118,
          32.755772827511564,
          46.82095305113236,
          36.26709772288015,
          28.870471128389124,
          25.201114612162332,
          22.286406840080506,
          19.71457915578474,
          49.32845364198892,
          46.7309067077247,
          49.739822542072076,
          44.65676093570761,
          32.89565884149927,
          38.425432269886336,
          46.914569537837245,
          39.15516575689395,
          67.69990105125478,
          50.31685029712699,
          36.525724814490374,
          58.36254487658166,
          42.85355953341939,
          70.26428410859683,
          68.47311545225745,
          56.42678222895809,
          54.57169351413526,
          58.713321723730004,
          62.24530356430975,
          60.81376725208136,
          57.92525484585901,
          61.055935315383,
          61.127098556011596,
          65.65122842464035,
          68.19050468391373,
          72.6817823411261,
          70.91873710140365,
          79.86159847557734,
          74.33177075491724,
          67.62659388081137,
          78.41638318608854,
          71.4005978707111,
          -5.163916924568628,
          -1.0367877476408995,
          1.2533388367544873,
          4.910958668533316,
          2.233253271274633,
          10.964460706982198,
          12.568366241674841,
          15.466258552874322,
          19.764274093822888,
          1.9603208516812,
          5.587797795510443,
          18.421982153537307,
          10.159953875533201,
          3.984868161254075,
          14.405527874693663,
          17.745033723808778,
          13.447290041218045,
          13.799501239701675,
          18.417598732147397,
          26.596364254123003,
          21.466491408174758,
          25.66884390416345,
          33.50500305197149,
          25.15989956587507,
          24.953826866982364,
          40.82910013371553,
          14.936947568651147,
          32.63032891697048,
          28.22332305922094,
          39.556057465411556,
          25.67179047212612,
          34.10514479019908,
          31.94900105777561,
          47.71521221435516,
          44.49929776166413,
          49.91286399929753,
          64.8819613034239,
          25.974730243113633,
          60.302006298212945,
          45.19383958361027,
          43.73559588973557,
          62.42085420686214,
          46.05812461825553,
          50.73359732770731,
          48.042935534485395,
          64.08499152261302,
          49.921898222117704,
          42.4226301583532,
          61.89765981658156,
          71.98106858780457,
          70.7371091374474,
          68.96275069217,
          54.878059493733815,
          64.43673786121856,
          68.4319244101548,
          58.074938548329165,
          74.78982202141898,
          58.83764533034406,
          75.76613973604718,
          67.24639808100868,
          72.83791736070016,
          86.9714883748221,
          74.65711149541188,
          78.39126187771653,
          -16.27396068337471,
          3.3582137826406773,
          -6.214680576313513,
          14.588116384320456,
          1.1858574615711344,
          1.3595228826628702,
          3.6984316039593264,
          1.6405978746526846,
          9.34423927574144,
          4.6180283398175455,
          7.91289579950998,
          11.05560379668357,
          13.666172061017864,
          21.749093574028635,
          16.033750301870818,
          23.07083269803559,
          30.874302311772684,
          21.706103130380423,
          18.422660999468114,
          36.963866786014584,
          22.293279568833483,
          39.295158643881884,
          39.01861049904446,
          31.309016269532428,
          40.918938162495905,
          38.52036289993307,
          21.556586924578635,
          37.22253627398716,
          31.632263579917698,
          32.04290166290075,
          23.1661399637719,
          47.181411184243494,
          56.47622312652808,
          53.490186446737546,
          47.19845221880997,
          49.21664696486415,
          26.689853962016738,
          40.21575348273546,
          42.372723948399646,
          27.209755099931723,
          58.921204830837326,
          56.2780188376548,
          67.59701389027987,
          37.494550359024934,
          73.06722203637239,
          50.115860526216466,
          50.440866876857854,
          45.17035755003161,
          64.51066527712743,
          80.3035249489428,
          75.09054016203133,
          71.9235731964075
         ],
         "z": [
          4.370517461589967,
          4.849266445210239,
          -1.8871614491041613,
          21.86309536213574,
          4.130770895709385,
          7.012814490867497,
          -0.9383359605974971,
          1.5179092561023997,
          3.33300353312459,
          5.508187125801308,
          9.026775294102245,
          7.449009948138183,
          -12.955197360874614,
          0.938747837742387,
          -2.653571267177849,
          16.033599506485924,
          12.314097965661684,
          3.541898311627642,
          -11.09479578909704,
          6.624359837149591,
          -11.642194026297533,
          17.53618025868501,
          6.810264043333817,
          -9.00260026877522,
          6.296135902920164,
          16.265743044306557,
          16.180262763982057,
          6.021792648570821,
          11.890494077017477,
          14.952428097009335,
          4.180377455695654,
          0.884118395577772,
          10.928991277703059,
          -5.612920547399526,
          2.3001952171825844,
          6.050645742983986,
          1.2909695615071084,
          6.551280523695595,
          5.310065643189619,
          5.299290406103807,
          6.143239674686109,
          20.452667122434598,
          -0.04661097558181515,
          12.96864142656336,
          12.634029350437682,
          3.5163878588517434,
          18.120896653724532,
          3.997159066785078,
          10.280985847267527,
          12.175343656953041,
          -5.1750996581728845,
          8.170110404586115,
          10.504191155765545,
          -5.178011572590831,
          1.9442186312841847,
          11.930513896165872,
          -4.933399545513078,
          2.4547330771244855,
          -1.0915167280390785,
          13.330365498441225,
          -1.540608488745864,
          6.7755964760011205,
          1.2513168140351492,
          0.04513269185773505,
          3.9087682383123634,
          4.691906909187954,
          32.01090781601418,
          15.802003921462923,
          13.521567081869033,
          15.194966658190543,
          11.314373822915945,
          -4.261861226296231,
          33.42679524331903,
          21.043544678534115,
          23.986836203058758,
          16.47592998489275,
          6.9586724775671325,
          22.422086111293133,
          6.095968906243771,
          7.803831602331144,
          3.148649675101183,
          17.58183909781519,
          20.4688924263424,
          25.62110313448834,
          27.633208948804345,
          11.390593921192375,
          13.062892641831086,
          3.1672767301826,
          13.162039810256193,
          39.253172196910896,
          24.530871813258223,
          20.590160360466083,
          11.596919722837455,
          14.551709553511053,
          17.73866261921204,
          10.814201636752477,
          14.304375292740195,
          6.56792826227158,
          0.3728156266666517,
          8.195469958751481,
          9.066391335837725,
          26.585598672299273,
          14.124450823777742,
          26.715753036680653,
          27.57947218331315,
          23.152182572033343,
          -6.223739870493866,
          35.184288128095545,
          24.855875732216873,
          8.849730018426396,
          22.35848768819833,
          1.2170653024634968,
          -8.734779100914016,
          9.28830298635919,
          11.763664737449227,
          4.588385870878943,
          20.667387210914647,
          13.460814042957995,
          8.975704248558866,
          9.455187394574303,
          16.709554888485883,
          18.936452445342578,
          8.354431768036806,
          5.453324219880627,
          5.791789562283318,
          17.383137789020857,
          13.801326798879755,
          2.520643150018925,
          36.437394565902885,
          11.116910316347528,
          19.099202527582857,
          29.525271978403275,
          28.476607276593338,
          18.032338736661153,
          21.752716003319314,
          23.597178431129592,
          25.794391473303175,
          10.709383027039516,
          13.398734713737374,
          22.5196173510217,
          31.101247994268917,
          22.639781100572648,
          38.89589123057237,
          42.191676971383274,
          23.220886639993193,
          41.618386621897656,
          32.10701820377719,
          27.97292102711084,
          18.70815263425971,
          20.042075846676777,
          30.350544207725942,
          22.877711702984403,
          21.382512424737328,
          22.526657487531374,
          29.844712331169934,
          33.307489992637166,
          13.27917828810784,
          25.574407767970463,
          22.784610898236046,
          29.629932377809272,
          28.178707577006264,
          33.96070007178748,
          25.60751717185665,
          17.483756144448748,
          16.655081495519806,
          35.258824774681514,
          25.656048239632668,
          33.68687956799042,
          22.704882480951973,
          10.955556626671468,
          16.897234555682875,
          37.63301553804227,
          30.279282975910007,
          30.243000521742413,
          24.13957094859166,
          27.66721174376346,
          10.042566648450975,
          32.007927486407596,
          10.03258989018471,
          19.15129751016224,
          34.19698244585433,
          20.692708102785566,
          20.191814321813204,
          24.672443732568205,
          26.954601421674692,
          13.871446995815782,
          42.038158741887365,
          11.879730197884529,
          14.349117601799378,
          34.982602260593666,
          23.00991874097807,
          19.948751568435416,
          40.5119537828258,
          36.42414281581924,
          39.87530917318229,
          37.44260387723392,
          32.21215264776802,
          28.799590248331274,
          29.821645887073952,
          29.667341670685712,
          27.554557076197845,
          39.13954299447367,
          32.275961997909356,
          26.16916684169828,
          25.96035429710254,
          33.04603460063027,
          33.48248773913369,
          28.495758889017754,
          22.624276319632944,
          35.97090149474,
          28.80870534965097,
          38.47284552072082,
          32.03820177535438,
          33.13661394512324,
          31.125240091695197,
          41.039492732815226,
          32.91708097538891,
          48.73610580029425,
          35.96200361343923,
          33.664617921125696,
          31.662276944193334,
          28.385869828569277,
          44.05808406088039,
          48.11694969145483,
          33.00488018328016,
          26.627414236658577,
          38.56819242681272,
          29.395829080817574,
          29.268919184430732,
          37.87309440610599,
          31.79021183794497,
          34.67916797929386,
          26.688831318372458,
          36.62603811339117,
          35.79627191311655,
          46.86027111037409,
          33.9684823094065,
          38.42201590841293,
          21.373387860294308,
          36.818089282029725,
          47.615861214127094,
          45.30924728318187,
          49.19013295016414,
          23.89503573708974,
          23.28953159315415,
          36.88763718317233,
          36.99102835792994,
          40.21252083935774,
          38.24474448495775,
          24.976608197421843,
          27.7380920430793,
          42.48405378623675,
          27.82962570540648,
          37.909226596847354,
          24.871470949427337,
          41.167266294176976,
          49.92577332433906,
          47.092302421510595,
          37.023885552015024,
          48.856608265409676,
          38.67836056075395,
          40.35944667333769,
          48.078642311056164,
          45.046837875105346,
          32.53883537745378,
          46.83438672567611,
          43.668603765097195,
          52.92940665640502,
          42.396188311971656,
          35.539152540318916,
          46.65992189523696,
          49.07538599616407,
          38.36076942665689,
          52.0008504262149,
          45.82271535875182,
          53.749822207258525,
          48.95875193861944,
          34.20739638361779,
          39.02636246920413,
          21.71954146154807,
          23.49686569524748,
          41.11361862380656,
          53.63650746405945,
          35.06106797541658,
          43.11526749772517,
          40.38245532706511,
          44.52635134889205,
          31.46706622349836,
          39.41238519732815,
          49.94404867177946,
          52.902578146769336,
          30.782152150825457,
          44.607924062535375,
          36.173073458680186,
          47.45156376476902,
          41.228091365961,
          57.028775055423196,
          48.90921208176041,
          40.27183575496772,
          38.17475117668715,
          45.47634598550211,
          35.399071812849115,
          39.79059342471457,
          48.901283903505224,
          28.497778906829456,
          47.79049414462481,
          48.6016718889799,
          58.708700666736675,
          51.858716933328225,
          50.29830397114924,
          34.304266081328585,
          51.35252587386861,
          35.13260029453341,
          44.96849124154347,
          41.48805683790008,
          43.13449634920352,
          53.37345367670156,
          44.15252468022102,
          33.84726358866985,
          48.867796026441184,
          55.50656029443365,
          51.652672078841604,
          54.8680834781465,
          61.25913941456148,
          56.23938282025325,
          62.2404161825248,
          59.049303480468005,
          61.13682161872133,
          53.91025219112306,
          54.403654877817054,
          60.02100108997358,
          52.30513757122626,
          59.9982183580423,
          49.58883693699043,
          59.28822453136016,
          54.40305653618563,
          55.23301488831221,
          56.285695170156345,
          64.46451287294992,
          46.66760235222292,
          59.9359489651616,
          53.63038887359912,
          42.68900786980816,
          45.67206010753254,
          67.94321115900718,
          52.67433049366707,
          59.88784423276665,
          50.334859859918424,
          56.22284999867686,
          50.28767275859084,
          55.701320233584795,
          40.689003234941396,
          62.593989141544654,
          47.03520934077381,
          55.15518074369926,
          57.24360646742631,
          78.872763847553,
          40.928468661804,
          59.8808359371392,
          54.76108859872926,
          49.77656804389582,
          59.90855588805155,
          63.589161429677446,
          59.42444194055104,
          60.42135835715483,
          43.01744080049666,
          59.007855684212664,
          55.91741374524393,
          66.43564118792601,
          63.18040333744597,
          54.610283181162366,
          48.13093088475648,
          51.371295705264714,
          43.76597342060562,
          50.71052713413515,
          49.622121654449494,
          53.200787448249876,
          67.40698423959626,
          72.19329457800545,
          48.037206381912476,
          68.50886836675869,
          45.41465243967089,
          52.72840120184013,
          68.36244904932047,
          71.24260314521314,
          62.372063598728225,
          69.33321112665749,
          58.676767135111554,
          53.57726424202393,
          59.45230158587741,
          70.74146336243722,
          66.75334074865744,
          71.83678974454008,
          63.373103498935386,
          71.02286611388014,
          55.80548426972925,
          74.3301388299867,
          64.3051440583894,
          53.11350830769887,
          72.44853431250085,
          70.4879932223342,
          57.715071691040315,
          79.6153661090417,
          61.79562582554317,
          64.647037291276,
          62.63923264411487,
          60.23350427523269,
          68.97369503822488,
          62.30207499962619,
          61.356005361146096,
          72.07114287800914,
          50.5697102415015,
          56.518498641026646,
          60.014116199227566,
          51.4056617144763,
          72.06976921997038,
          54.78171752694284,
          51.44395847226949,
          76.42738135166371,
          63.44170204751625,
          66.57719029532903,
          66.03772458938525,
          64.7717030933014,
          61.7150122762192,
          60.70742588319833,
          82.79023227205649,
          71.61867191799844,
          71.33370505844175,
          71.58762285233354,
          57.343664969600496,
          77.8517873260933,
          68.82531570998283,
          65.34719429131242,
          60.77168962068568,
          77.51951366964141,
          47.475302583581296,
          73.28235946806844,
          69.4810345215714,
          56.51957588925365,
          70.42376339284834,
          80.95124625928428,
          59.6185523053978,
          71.43027444422121,
          60.54093548237318,
          62.66308105247037,
          71.93896333508333,
          75.29170850274295,
          66.03378922965211,
          59.49969209352008,
          74.61308707542715,
          83.84575890604134,
          86.14947507833962,
          73.49624018828993,
          51.77594258104384,
          76.03459848643372,
          65.32623739422111,
          86.14932665677505,
          78.02366646110451,
          84.6092036437684,
          81.52861538136372,
          86.20106934113412,
          76.36884513369023,
          77.3486343498033,
          66.57296886245587,
          58.51572376109343,
          86.75148403034908,
          80.88711153155982,
          73.49959818381859,
          75.10017181119437,
          90.72284803259069,
          80.21118073867247,
          101.44902558556394,
          76.25908441943245,
          82.77756414647011,
          84.15581411949744,
          79.57565641612445,
          83.16790292993221,
          84.57582450118505,
          93.34215449764197,
          72.77073091233791,
          65.47922240915696,
          64.13451078865057,
          72.35505128423274,
          74.08009118218655,
          84.79537692792594,
          85.20754467386502,
          71.53242739008748,
          84.91226688887448,
          80.27783548429595,
          77.88423047666538,
          79.83102651962342,
          79.26748194709391,
          74.17259961251885,
          79.24679196840614,
          67.98019672756413,
          79.12263985781144,
          90.2271775097412,
          75.46396208045888,
          70.60948992723684,
          67.96867052445
         ]
        }
       ],
       "layout": {
        "legend": {
         "tracegroupgap": 0
        },
        "margin": {
         "t": 60
        },
        "scene": {
         "domain": {
          "x": [
           0,
           1
          ],
          "y": [
           0,
           1
          ]
         },
         "xaxis": {
          "title": {
           "text": "x"
          }
         },
         "yaxis": {
          "title": {
           "text": "y"
          }
         },
         "zaxis": {
          "title": {
           "text": "z"
          }
         }
        },
        "template": {
         "data": {
          "bar": [
           {
            "error_x": {
             "color": "#2a3f5f"
            },
            "error_y": {
             "color": "#2a3f5f"
            },
            "marker": {
             "line": {
              "color": "#E5ECF6",
              "width": 0.5
             }
            },
            "type": "bar"
           }
          ],
          "barpolar": [
           {
            "marker": {
             "line": {
              "color": "#E5ECF6",
              "width": 0.5
             }
            },
            "type": "barpolar"
           }
          ],
          "carpet": [
           {
            "aaxis": {
             "endlinecolor": "#2a3f5f",
             "gridcolor": "white",
             "linecolor": "white",
             "minorgridcolor": "white",
             "startlinecolor": "#2a3f5f"
            },
            "baxis": {
             "endlinecolor": "#2a3f5f",
             "gridcolor": "white",
             "linecolor": "white",
             "minorgridcolor": "white",
             "startlinecolor": "#2a3f5f"
            },
            "type": "carpet"
           }
          ],
          "choropleth": [
           {
            "colorbar": {
             "outlinewidth": 0,
             "ticks": ""
            },
            "type": "choropleth"
           }
          ],
          "contour": [
           {
            "colorbar": {
             "outlinewidth": 0,
             "ticks": ""
            },
            "colorscale": [
             [
              0,
              "#0d0887"
             ],
             [
              0.1111111111111111,
              "#46039f"
             ],
             [
              0.2222222222222222,
              "#7201a8"
             ],
             [
              0.3333333333333333,
              "#9c179e"
             ],
             [
              0.4444444444444444,
              "#bd3786"
             ],
             [
              0.5555555555555556,
              "#d8576b"
             ],
             [
              0.6666666666666666,
              "#ed7953"
             ],
             [
              0.7777777777777778,
              "#fb9f3a"
             ],
             [
              0.8888888888888888,
              "#fdca26"
             ],
             [
              1,
              "#f0f921"
             ]
            ],
            "type": "contour"
           }
          ],
          "contourcarpet": [
           {
            "colorbar": {
             "outlinewidth": 0,
             "ticks": ""
            },
            "type": "contourcarpet"
           }
          ],
          "heatmap": [
           {
            "colorbar": {
             "outlinewidth": 0,
             "ticks": ""
            },
            "colorscale": [
             [
              0,
              "#0d0887"
             ],
             [
              0.1111111111111111,
              "#46039f"
             ],
             [
              0.2222222222222222,
              "#7201a8"
             ],
             [
              0.3333333333333333,
              "#9c179e"
             ],
             [
              0.4444444444444444,
              "#bd3786"
             ],
             [
              0.5555555555555556,
              "#d8576b"
             ],
             [
              0.6666666666666666,
              "#ed7953"
             ],
             [
              0.7777777777777778,
              "#fb9f3a"
             ],
             [
              0.8888888888888888,
              "#fdca26"
             ],
             [
              1,
              "#f0f921"
             ]
            ],
            "type": "heatmap"
           }
          ],
          "heatmapgl": [
           {
            "colorbar": {
             "outlinewidth": 0,
             "ticks": ""
            },
            "colorscale": [
             [
              0,
              "#0d0887"
             ],
             [
              0.1111111111111111,
              "#46039f"
             ],
             [
              0.2222222222222222,
              "#7201a8"
             ],
             [
              0.3333333333333333,
              "#9c179e"
             ],
             [
              0.4444444444444444,
              "#bd3786"
             ],
             [
              0.5555555555555556,
              "#d8576b"
             ],
             [
              0.6666666666666666,
              "#ed7953"
             ],
             [
              0.7777777777777778,
              "#fb9f3a"
             ],
             [
              0.8888888888888888,
              "#fdca26"
             ],
             [
              1,
              "#f0f921"
             ]
            ],
            "type": "heatmapgl"
           }
          ],
          "histogram": [
           {
            "marker": {
             "colorbar": {
              "outlinewidth": 0,
              "ticks": ""
             }
            },
            "type": "histogram"
           }
          ],
          "histogram2d": [
           {
            "colorbar": {
             "outlinewidth": 0,
             "ticks": ""
            },
            "colorscale": [
             [
              0,
              "#0d0887"
             ],
             [
              0.1111111111111111,
              "#46039f"
             ],
             [
              0.2222222222222222,
              "#7201a8"
             ],
             [
              0.3333333333333333,
              "#9c179e"
             ],
             [
              0.4444444444444444,
              "#bd3786"
             ],
             [
              0.5555555555555556,
              "#d8576b"
             ],
             [
              0.6666666666666666,
              "#ed7953"
             ],
             [
              0.7777777777777778,
              "#fb9f3a"
             ],
             [
              0.8888888888888888,
              "#fdca26"
             ],
             [
              1,
              "#f0f921"
             ]
            ],
            "type": "histogram2d"
           }
          ],
          "histogram2dcontour": [
           {
            "colorbar": {
             "outlinewidth": 0,
             "ticks": ""
            },
            "colorscale": [
             [
              0,
              "#0d0887"
             ],
             [
              0.1111111111111111,
              "#46039f"
             ],
             [
              0.2222222222222222,
              "#7201a8"
             ],
             [
              0.3333333333333333,
              "#9c179e"
             ],
             [
              0.4444444444444444,
              "#bd3786"
             ],
             [
              0.5555555555555556,
              "#d8576b"
             ],
             [
              0.6666666666666666,
              "#ed7953"
             ],
             [
              0.7777777777777778,
              "#fb9f3a"
             ],
             [
              0.8888888888888888,
              "#fdca26"
             ],
             [
              1,
              "#f0f921"
             ]
            ],
            "type": "histogram2dcontour"
           }
          ],
          "mesh3d": [
           {
            "colorbar": {
             "outlinewidth": 0,
             "ticks": ""
            },
            "type": "mesh3d"
           }
          ],
          "parcoords": [
           {
            "line": {
             "colorbar": {
              "outlinewidth": 0,
              "ticks": ""
             }
            },
            "type": "parcoords"
           }
          ],
          "pie": [
           {
            "automargin": true,
            "type": "pie"
           }
          ],
          "scatter": [
           {
            "marker": {
             "colorbar": {
              "outlinewidth": 0,
              "ticks": ""
             }
            },
            "type": "scatter"
           }
          ],
          "scatter3d": [
           {
            "line": {
             "colorbar": {
              "outlinewidth": 0,
              "ticks": ""
             }
            },
            "marker": {
             "colorbar": {
              "outlinewidth": 0,
              "ticks": ""
             }
            },
            "type": "scatter3d"
           }
          ],
          "scattercarpet": [
           {
            "marker": {
             "colorbar": {
              "outlinewidth": 0,
              "ticks": ""
             }
            },
            "type": "scattercarpet"
           }
          ],
          "scattergeo": [
           {
            "marker": {
             "colorbar": {
              "outlinewidth": 0,
              "ticks": ""
             }
            },
            "type": "scattergeo"
           }
          ],
          "scattergl": [
           {
            "marker": {
             "colorbar": {
              "outlinewidth": 0,
              "ticks": ""
             }
            },
            "type": "scattergl"
           }
          ],
          "scattermapbox": [
           {
            "marker": {
             "colorbar": {
              "outlinewidth": 0,
              "ticks": ""
             }
            },
            "type": "scattermapbox"
           }
          ],
          "scatterpolar": [
           {
            "marker": {
             "colorbar": {
              "outlinewidth": 0,
              "ticks": ""
             }
            },
            "type": "scatterpolar"
           }
          ],
          "scatterpolargl": [
           {
            "marker": {
             "colorbar": {
              "outlinewidth": 0,
              "ticks": ""
             }
            },
            "type": "scatterpolargl"
           }
          ],
          "scatterternary": [
           {
            "marker": {
             "colorbar": {
              "outlinewidth": 0,
              "ticks": ""
             }
            },
            "type": "scatterternary"
           }
          ],
          "surface": [
           {
            "colorbar": {
             "outlinewidth": 0,
             "ticks": ""
            },
            "colorscale": [
             [
              0,
              "#0d0887"
             ],
             [
              0.1111111111111111,
              "#46039f"
             ],
             [
              0.2222222222222222,
              "#7201a8"
             ],
             [
              0.3333333333333333,
              "#9c179e"
             ],
             [
              0.4444444444444444,
              "#bd3786"
             ],
             [
              0.5555555555555556,
              "#d8576b"
             ],
             [
              0.6666666666666666,
              "#ed7953"
             ],
             [
              0.7777777777777778,
              "#fb9f3a"
             ],
             [
              0.8888888888888888,
              "#fdca26"
             ],
             [
              1,
              "#f0f921"
             ]
            ],
            "type": "surface"
           }
          ],
          "table": [
           {
            "cells": {
             "fill": {
              "color": "#EBF0F8"
             },
             "line": {
              "color": "white"
             }
            },
            "header": {
             "fill": {
              "color": "#C8D4E3"
             },
             "line": {
              "color": "white"
             }
            },
            "type": "table"
           }
          ]
         },
         "layout": {
          "annotationdefaults": {
           "arrowcolor": "#2a3f5f",
           "arrowhead": 0,
           "arrowwidth": 1
          },
          "coloraxis": {
           "colorbar": {
            "outlinewidth": 0,
            "ticks": ""
           }
          },
          "colorscale": {
           "diverging": [
            [
             0,
             "#8e0152"
            ],
            [
             0.1,
             "#c51b7d"
            ],
            [
             0.2,
             "#de77ae"
            ],
            [
             0.3,
             "#f1b6da"
            ],
            [
             0.4,
             "#fde0ef"
            ],
            [
             0.5,
             "#f7f7f7"
            ],
            [
             0.6,
             "#e6f5d0"
            ],
            [
             0.7,
             "#b8e186"
            ],
            [
             0.8,
             "#7fbc41"
            ],
            [
             0.9,
             "#4d9221"
            ],
            [
             1,
             "#276419"
            ]
           ],
           "sequential": [
            [
             0,
             "#0d0887"
            ],
            [
             0.1111111111111111,
             "#46039f"
            ],
            [
             0.2222222222222222,
             "#7201a8"
            ],
            [
             0.3333333333333333,
             "#9c179e"
            ],
            [
             0.4444444444444444,
             "#bd3786"
            ],
            [
             0.5555555555555556,
             "#d8576b"
            ],
            [
             0.6666666666666666,
             "#ed7953"
            ],
            [
             0.7777777777777778,
             "#fb9f3a"
            ],
            [
             0.8888888888888888,
             "#fdca26"
            ],
            [
             1,
             "#f0f921"
            ]
           ],
           "sequentialminus": [
            [
             0,
             "#0d0887"
            ],
            [
             0.1111111111111111,
             "#46039f"
            ],
            [
             0.2222222222222222,
             "#7201a8"
            ],
            [
             0.3333333333333333,
             "#9c179e"
            ],
            [
             0.4444444444444444,
             "#bd3786"
            ],
            [
             0.5555555555555556,
             "#d8576b"
            ],
            [
             0.6666666666666666,
             "#ed7953"
            ],
            [
             0.7777777777777778,
             "#fb9f3a"
            ],
            [
             0.8888888888888888,
             "#fdca26"
            ],
            [
             1,
             "#f0f921"
            ]
           ]
          },
          "colorway": [
           "#636efa",
           "#EF553B",
           "#00cc96",
           "#ab63fa",
           "#FFA15A",
           "#19d3f3",
           "#FF6692",
           "#B6E880",
           "#FF97FF",
           "#FECB52"
          ],
          "font": {
           "color": "#2a3f5f"
          },
          "geo": {
           "bgcolor": "white",
           "lakecolor": "white",
           "landcolor": "#E5ECF6",
           "showlakes": true,
           "showland": true,
           "subunitcolor": "white"
          },
          "hoverlabel": {
           "align": "left"
          },
          "hovermode": "closest",
          "mapbox": {
           "style": "light"
          },
          "paper_bgcolor": "white",
          "plot_bgcolor": "#E5ECF6",
          "polar": {
           "angularaxis": {
            "gridcolor": "white",
            "linecolor": "white",
            "ticks": ""
           },
           "bgcolor": "#E5ECF6",
           "radialaxis": {
            "gridcolor": "white",
            "linecolor": "white",
            "ticks": ""
           }
          },
          "scene": {
           "xaxis": {
            "backgroundcolor": "#E5ECF6",
            "gridcolor": "white",
            "gridwidth": 2,
            "linecolor": "white",
            "showbackground": true,
            "ticks": "",
            "zerolinecolor": "white"
           },
           "yaxis": {
            "backgroundcolor": "#E5ECF6",
            "gridcolor": "white",
            "gridwidth": 2,
            "linecolor": "white",
            "showbackground": true,
            "ticks": "",
            "zerolinecolor": "white"
           },
           "zaxis": {
            "backgroundcolor": "#E5ECF6",
            "gridcolor": "white",
            "gridwidth": 2,
            "linecolor": "white",
            "showbackground": true,
            "ticks": "",
            "zerolinecolor": "white"
           }
          },
          "shapedefaults": {
           "line": {
            "color": "#2a3f5f"
           }
          },
          "ternary": {
           "aaxis": {
            "gridcolor": "white",
            "linecolor": "white",
            "ticks": ""
           },
           "baxis": {
            "gridcolor": "white",
            "linecolor": "white",
            "ticks": ""
           },
           "bgcolor": "#E5ECF6",
           "caxis": {
            "gridcolor": "white",
            "linecolor": "white",
            "ticks": ""
           }
          },
          "title": {
           "x": 0.05
          },
          "xaxis": {
           "automargin": true,
           "gridcolor": "white",
           "linecolor": "white",
           "ticks": "",
           "title": {
            "standoff": 15
           },
           "zerolinecolor": "white",
           "zerolinewidth": 2
          },
          "yaxis": {
           "automargin": true,
           "gridcolor": "white",
           "linecolor": "white",
           "ticks": "",
           "title": {
            "standoff": 15
           },
           "zerolinecolor": "white",
           "zerolinewidth": 2
          }
         }
        }
       }
      },
      "text/html": [
       "<div>\n",
       "        \n",
       "        \n",
       "            <div id=\"73fe0a38-cbe3-4ac4-9ca6-b04a3f960e0a\" class=\"plotly-graph-div\" style=\"height:525px; width:100%;\"></div>\n",
       "            <script type=\"text/javascript\">\n",
       "                require([\"plotly\"], function(Plotly) {\n",
       "                    window.PLOTLYENV=window.PLOTLYENV || {};\n",
       "                    \n",
       "                if (document.getElementById(\"73fe0a38-cbe3-4ac4-9ca6-b04a3f960e0a\")) {\n",
       "                    Plotly.newPlot(\n",
       "                        '73fe0a38-cbe3-4ac4-9ca6-b04a3f960e0a',\n",
       "                        [{\"hovertemplate\": \"x=%{x}<br>y=%{y}<br>z=%{z}<extra></extra>\", \"legendgroup\": \"\", \"marker\": {\"color\": \"#636efa\", \"opacity\": 0.5, \"symbol\": \"circle\"}, \"mode\": \"markers\", \"name\": \"\", \"scene\": \"scene\", \"showlegend\": false, \"type\": \"scatter3d\", \"x\": [12.774899331747786, 26.427752975438494, 28.292363717440264, 28.4021286964311, 47.62883862914049, 63.31517819313599, 52.15492307939829, 91.64268545098105, -6.3845172190737385, 20.886726247608898, 33.94508723895544, 42.777755007248814, 39.504543482665326, 44.894725413039886, 67.5404731550669, 79.24607945699226, 11.640756755599705, 7.461717854277845, 16.702009709004383, 32.870551965801916, 40.69454897405344, 57.11371376623556, 55.62081248542958, 75.8289065757552, 0.8868407542988048, 18.625957556408935, 35.00131073062908, 24.85757804447532, 49.08506077477586, 53.86583290991085, 71.46510282262331, 74.3770418374832, -4.8326307533512765, 22.460224884841004, 25.619484683891265, 36.223371432372055, 51.96609413198869, 58.34816963216572, 70.06559002788853, 87.7051397468221, 26.434226240683692, 12.695180602686124, 39.06657091419287, 37.322891807888745, 48.81911237164665, 44.9194237821366, 65.76395068969954, 84.15656071388727, 8.56149730383825, -9.433935604599942, 36.34284836598645, 47.79821232480203, 50.28660211117321, 61.29078217329342, 68.56900189404286, 77.99365589212286, -17.098093638083945, 8.166363491062903, 14.277268668819662, 40.22978241095103, 53.27884241415784, 41.203875735995275, 60.235614295623385, 60.323650352730255, 9.611989853527184, 11.6211096345502, 22.50558533647116, 11.23528566698567, 50.34798805454654, 58.07165852769257, 72.97546137143007, 72.30268897554515, 2.746259705273585, 9.538130228894747, 23.478148264257026, 36.14376575887999, 49.69737784964718, 60.64651155864018, 65.73115144194684, 86.5321975797414, 20.81821475194288, 15.816899327237074, 31.236814559539887, 39.114134592115256, 38.98864182334368, 54.21337490404074, 60.11123703474296, 69.78025447602155, -3.662176735924196, 14.125855297084257, 21.89899401436672, 28.374475950079123, 56.93380593761183, 58.585042808983076, 70.86996718199902, 75.48033622682564, -4.48277871579435, 18.54652088122559, 17.668968796438676, 35.96029281150038, 46.68647981137524, 45.027624451074175, 64.93581294976562, 71.24493199425496, -4.535597558811889, 22.526330490425455, 26.420668267361755, 24.577515473216096, 52.13214831005938, 49.64633730988063, 61.02308109652194, 74.05545506762179, -10.778630215963634, 6.593983199119974, 29.699151908203817, 40.713684545664336, 66.7241852325126, 52.07620400323824, 62.463732500906474, 77.24784533631579, 11.794243415612751, 11.683843711353104, 28.11772853535829, 39.050239350959515, 41.814921977481816, 52.08814691216854, 70.36105550768808, 59.881830274757355, 24.335683743301637, 15.38255349001045, 37.304940921816915, 41.85444915341224, 47.283719103239974, 72.18396328338225, 69.08994143439428, 60.97577251781947, 9.209455516851035, 15.77122910796633, 27.966105728712176, 22.5855709667951, 29.579439095534706, 57.05069437435547, 71.92285106155585, 89.80484117984253, -0.4954108094439891, 12.390457589906765, 26.574821524716626, 16.666078507817165, 55.17918476550252, 54.04915537169954, 67.06711417135834, 69.96673878540985, -2.3329576116688395, 26.678407443506813, 35.73647883776916, 34.86214287520057, 32.10250320308987, 70.27913232965825, 73.6221613555414, 69.61451316839508, 13.137771971769562, 13.163954978486073, 25.854060055540295, 30.458113023748115, 41.80198187982243, 51.26704038406068, 63.716057506933325, 74.10763862267746, 19.320634243755993, 8.060662389117109, 33.95828179446202, 35.231257829688396, 36.55694579199238, 57.0996697173117, 73.09278594318874, 79.87746530592176, 12.579256826041055, 12.325279119178754, 23.77673003585388, 42.07020653893058, 38.948820788629085, 58.231961602692124, 57.476300221131744, 86.24602963943082, -3.8824251285386646, 38.251439902767686, 26.006589260988292, 52.50174461279772, 39.2965646942408, 46.72756147532865, 65.83664651618504, 81.24961331420874, 14.56477321542095, 17.80856235183672, 10.195238511755791, 30.05535539047813, 52.71256713718306, 55.0629898787312, 81.36023994600441, 75.48097720491742, 0.9590816099910561, 11.98321953095013, 42.21243293942457, 35.23628115327188, 54.384542263172676, 48.37617630087602, 64.42474635906518, 79.91932815095205, 2.64078050028107, 23.1578716768514, 26.36562602769412, 33.16075417112715, 48.652984285517746, 51.653713165996145, 62.774312219147134, 85.09035999753347, 7.8814865091750335, 23.23706631461655, 24.35952060080281, 40.28118185638587, 41.41694700936053, 61.02829925607594, 71.64293939562982, 75.34498614649411, 12.072670194378318, 15.727328482739484, 20.31329907611129, 25.56193350658842, 48.70484197593757, 48.31432062050431, 62.774807724668406, 62.04404502633946, 0.9160948923206994, 16.974415384512387, 20.665299972113345, 38.16966077862932, 39.72984061705299, 54.96226866498795, 67.33708448518937, 65.35128204119327, -1.2345161429946088, 19.597654361093657, 31.27562370102759, 35.622908544866085, 50.823900733645644, 60.10770838326247, 68.94608719576011, 80.52509910387863, 2.043089135372967, 8.608741818274595, 29.580291162743357, 39.91713423060065, 37.823122568113675, 57.51309733599087, 72.633386605768, 72.62839877290669, 4.456009597511684, 29.853941618138748, 25.157190947536343, 33.104124930417704, 32.64868888673486, 56.27798856733132, 71.1979097965446, 73.6062657726916, 3.1109290786701096, 8.723404374233047, 28.200806395978862, 39.208154373028925, 59.93106642011919, 48.2811863915184, 67.83125356442771, 71.43785179005792, -8.9705642140124, 18.98599714418517, 12.656210650807907, 41.517378410889805, 45.0893466027837, 50.57111634172908, 63.994409617426705, 65.57261089339755, -7.371502111332055, 32.46294651419029, 33.34369653159071, 28.60356904697202, 35.78613638342346, 58.027945580536915, 60.9093347141795, 81.83264966476062, 7.569348691401635, 5.0431435269940135, 27.775226132282164, 35.51168400507379, 44.93404758755772, 39.72663555065525, 63.721591065033344, 65.58122282048564, 3.237476963229618, 31.968378171179577, 27.698495598260887, 44.94906550464834, 38.23797575104341, 49.41774824012428, 57.22915056954196, 75.22512770669323, 9.226373820388627, 14.15871991866102, 16.291964906988216, 31.637296410570038, 36.17071666151444, 53.506658572069355, 56.40278681569974, 100.0997517346835, 5.5256950483616345, 11.819852742767308, 27.710487170965727, 49.110404038212415, 40.96863004969238, 49.94164326190337, 61.96253544437355, 76.15866344536295, 3.651414374168972, 9.218740381778384, 38.04962052840324, 32.568814523706926, 45.34577406653161, 67.38183926556846, 57.412415594256046, 63.73289354099978, 0.2540043327895416, 19.571334707084695, 12.761949116086162, 42.47221114546932, 52.40446364614346, 47.091047758127296, 63.704364344224516, 85.42908162827209, -3.1587515934957335, 18.680219337253277, 27.381057036534, 26.506561434024782, 48.56159552839803, 47.59769055223907, 62.22851398373753, 77.12562358331995, -10.788414826529896, 4.101160556103072, 25.901319614453023, 38.615019664828395, 46.929236770087904, 51.03753342793964, 63.41458798032337, 85.41418351912611, 11.878751213269009, 15.513838892317155, 35.79452391172444, 34.084140250535086, 36.72558618433322, 51.69129847372207, 65.1309100613089, 62.12073372261785, 10.839048454210655, 9.575699749276758, 15.536786800184828, 34.99929782428818, 44.60586547748433, 48.721900418600804, 61.25937054637631, 76.44465967815894, 7.6461849674676, 19.768046816143396, 22.561746530097164, 24.113158492593232, 52.02917157964364, 57.570454435796904, 64.51589492476569, 79.18840777870076, -3.669191076393666, 12.99443868820006, 17.645404920021193, 44.93795913987508, 32.7913270152355, 55.3359236053893, 72.0119139379847, 74.13583318491676, 4.249693670970059, 15.643892166723482, 20.989156755660378, 32.0599859250504, 43.63442313155049, 53.586873634898225, 55.80305767362972, 86.17557799097663, 6.753214199272268, 22.118181116229174, 34.77317967070462, 44.72995917589981, 45.89617904409494, 46.684482367290116, 70.71956478125743, 84.73572678519754, 5.233185399102678, 36.60130834931576, 23.039000848853597, 40.77274895205745, 47.15731346697651, 59.275841796887896, 57.915222473811504, 64.28766304680282, 26.435352887238512, 3.2845627487703384, 23.059748763876453, 25.88652961190701, 41.02098249928723, 65.80766556663326, 73.03345491275556, 62.562680639224375, 10.689775217421774, 17.54366531425609, 31.09886674205997, 42.45654775324392, 39.23311405434044, 55.213787877834214, 70.46858276408847, 66.18351962636152, 3.339926768351366, 6.939222237499024, 19.361424400478548, 36.855765763431855, 42.750778836224335, 56.914214436523125, 61.41746662496866, 76.52512639458389, -4.572133963972563, 22.44320605756848, 34.48422785112043, 35.234404314508396, 37.00318464548551, 42.832985798017404, 66.24434515906317, 65.4647842890864, 2.4456204581916205, 11.651509988219553, 35.25001345513425, 35.72432643147628, 60.06731365959424, 69.66868652837482, 76.58230872654244, 56.87872824822753, 6.00176771124223, 21.39369041322135, 21.137834090228868, 22.246450135133387, 26.77313672365538, 49.446108086123665, 67.68274950958845, 78.68940410658442, 4.793668225497775, 25.483015810802883, 24.409595984364618, 23.80431349167018, 28.174945194608675, 82.19706743158189, 55.29759201369115, 66.42782907510356, -15.491665164750776, 2.840657322387602, 18.239961182392147, 35.703109695478055, 39.55548837779294, 63.6427934016894, 58.235924196855876, 65.58388670247244, -3.960611066410258, 12.181252355328073, 33.18570555211683, 31.212934569747517, 43.516669302048236, 58.21840861975753, 61.883994329943114, 75.84713224091544, 9.436327415555786, 15.358191966912532, 24.419861864729576, 34.952727652030774, 40.39068228655379, 53.24350047940966, 80.9452285753496, 82.50275624355518, 8.966410161702035, 31.76286096552799, 38.066123911671085, 17.42620428717347, 53.757645870131626, 41.45617264165867, 56.34474522085969, 75.58662474190413, 11.503016378005679, 6.27284674351231, 20.20351199591885, 24.03414851209933], \"y\": [5.953803312207541, 18.747255877261548, 7.784100061615444, 20.675367509642722, 10.354086715736475, -8.569601502772503, 24.233287649076384, 11.116124109569277, 8.57283424664747, 30.41987542602662, 25.008519752836364, 17.09903220932335, 4.415351763212012, 18.5821485529972, 14.201480132048971, 8.798931872200713, 19.63032327323957, 34.64757594036681, 23.193827947292238, 21.95905253725937, 16.58836703096829, 21.570811935028946, 26.428215744110958, 2.5635458755597558, 36.06838101814356, 28.669239286983217, 47.473212855952646, 37.6677294875395, 43.7581703882866, 33.00108209230405, 29.02507038397083, 50.854879261813934, 55.53783895860988, 31.626572197392473, 43.57146897327444, 48.94947750858705, 41.631572449950056, 39.061655908011545, 45.350945947615905, 49.89112615386165, 51.28765980580292, 60.3631494842261, 39.96228527647947, 45.09193729045418, 56.35452680732928, 52.046284984435076, 71.89439944557674, 60.51067302381346, 66.93079406374198, 68.9233318736712, 55.03974906618315, 78.75999290073476, 72.7781855621364, 70.13956043505661, 69.86444858592459, 58.201135161527475, 68.9316441911789, 91.0378972687814, 72.66501103552424, 69.32749777202288, 65.1312388895012, 82.87485618847995, 67.8746965141709, 78.70046263355471, 6.5372569151919215, 1.0880324231966316, 8.853734334817554, 4.985886067245361, 6.413491762948686, 12.062798796771304, 7.053948357588424, 2.7264392955974897, -7.782111923600054, 5.502112187897747, 22.799126674016414, 8.816102202965785, 13.640448664154775, 18.71480861541938, -0.3315125496934338, 18.525254946771092, 11.026333138137524, 38.40755478351474, 18.61609603540749, 22.86190898639379, 28.602473481138695, 36.90568788572005, 34.769273749317485, 34.73244769825028, 37.006280306448446, 41.26840595208338, 32.999584714774414, 43.035597074630786, 33.787400950375904, 30.959215843083346, 30.19580699450018, 30.970538948876346, 47.944331795332786, 39.14365338098265, 46.369682966443484, 33.546090892843694, 53.53133199308516, 48.267268261895595, 33.787244777222135, 57.59136953425515, 36.702556611080276, 45.006559646601055, 63.88451452704501, 50.17106864102985, 63.25338427338851, 59.983747455855365, 32.63115654332305, 63.69862929573007, 65.3353981445834, 61.32827888912359, 72.06764745906392, 53.50882078279365, 66.3649987918777, 69.11109599203583, 66.02735860760816, 56.330729300290834, 74.68960397471085, 67.4437105673474, 71.79707353480295, 68.04954469983674, 80.00497111136703, 71.11885437201181, 70.35965236201017, 76.93477243771929, 14.076563779284568, 3.933348924947645, 21.104910047137587, 0.5771057398575425, 4.545333140617122, 14.399369930783509, 13.242584403970922, 13.403639737441548, 14.784846666196266, 17.451269522119464, 25.159903629665788, 13.422676709624444, 15.754380920973444, 7.862411207911391, 12.488624407721327, 2.853472024563672, 27.916058686357843, 33.7712082535182, 38.715945399889044, 27.314402153830397, 16.984505788858346, 32.06319764890264, 15.550023230202097, 32.52810115735894, 31.18503028924895, 19.860834755618754, 24.96459146009604, 29.002977262472083, 31.2700563801324, 36.120813462948284, 14.325259434333748, 32.35943537044718, 35.52778788031486, 40.875990303090866, 60.147097336601895, 34.61821784650168, 44.61055957082316, 49.69851453413722, 38.25289410466596, 45.4501587730741, 57.15285161265139, 63.60364475300853, 42.33633773472154, 61.332917012264105, 69.07348647406998, 59.340731000655246, 66.18826278193956, 60.9219661354069, 59.79818762142071, 61.64720929167382, 68.45533541551109, 68.81646540381048, 59.58487317581465, 50.714574325431066, 62.1753277673188, 70.77532900935327, 63.72511450512852, 73.2076226729131, 73.47948500334506, 79.518186870525, 74.70067811147325, 74.90353552159422, 81.05474978253729, 60.56819988882772, -6.010754651545124, 12.82039442137082, -10.267506690127163, 10.060068612744086, 3.915946374543422, 7.9293055176207385, 18.432156498924744, 11.390617631429484, 25.769392104121135, 13.686113349034212, 1.719504332586147, 23.965111812856698, 23.509335181386966, 25.253798671162716, 16.297559672224835, 19.632750859563878, 17.884192747120146, 23.194952991331803, 17.552012422525543, 27.138983254905536, 35.088181850291264, 41.94667682180626, 15.89107013968218, 40.52081928050048, 36.96736487690074, 21.577554891955973, 33.09930441734588, 32.84305934791679, 39.70134980364774, 19.305594178377437, 38.14165548169775, 42.513031019070226, 40.95591003887916, 34.98888667618904, 37.540796575253154, 32.81996488823121, 49.7445278463374, 61.13077818714733, 40.101624830481704, 44.37366325458153, 69.86973826978262, 48.86423434752284, 57.57322012015938, 46.63427050891019, 57.377229426505785, 53.22374727688913, 57.649110705397774, 78.22230311781748, 61.44773025308037, 70.97067130061579, 60.7650438475639, 75.55020511299486, 53.56981162482491, 80.49900288720254, 54.39162295940577, 82.0125457743165, 73.76756161654376, 87.03445157179105, 78.81055355366057, 76.13434523389998, 82.9376185546396, 79.46619639446877, 92.64387542612043, 61.183341669982156, 0.4847728787870561, 9.138462322218942, 8.19239835017063, 9.702688822268785, 17.311153829459176, 9.633874556656913, 4.755078289013038, 10.60331109343015, 19.112240760949135, 25.19314940187653, 18.26078554054485, 13.232108132987937, 10.03204492229277, -1.6511887141975465, 13.53880098965204, 23.237115730753796, 17.952852569184284, 31.700987286814417, 19.464038274135845, 23.694591144893835, 23.189907045050706, 31.00940649747347, 24.61303272088033, 29.300982880320355, 32.95940151204255, 14.362742133293148, 39.16621462803769, 34.46026863297869, 33.668318856950194, 38.97171823805484, 32.745975504996636, 43.48418973921258, 46.86992239856888, 39.720111399761706, 43.735592050661566, 52.776915782880025, 39.92564357274636, 28.545817789638303, 37.91865652012257, 39.51802586455699, 47.33917226490606, 46.11515537379681, 44.19086301701431, 58.75262151084195, 60.25202155204552, 60.453750896372114, 54.18521913471454, 56.83768869533141, 45.47329059734246, 67.40871478441552, 58.014732427070605, 68.51027284794205, 69.91635326075023, 59.05810587867806, 68.18262155175957, 64.51455833853608, 71.68096140984662, 82.57475821786201, 68.04020422726136, 73.63860032708783, 74.18569724390899, 78.6075143543019, 78.32740587332835, 82.18116718345291, -6.833467799251993, 6.9228644339939525, 5.969174604402473, 6.191838259502516, -0.7962289075834402, 11.650927766166886, 17.26703731244329, 8.601171523116287, 11.505477960595886, 21.32699856298642, 6.223314323155934, 23.401326149993704, 8.698504745456333, 17.970878944755693, 8.334923951249472, 8.359938672448765, 25.92978832326916, 25.97583827818977, 26.45685707620128, 10.0118385587572, 21.376199724724962, 18.70165160877141, 29.489149493872784, 30.867412522588506, 36.45459680421118, 32.755772827511564, 46.82095305113236, 36.26709772288015, 28.870471128389124, 25.201114612162332, 22.286406840080506, 19.71457915578474, 49.32845364198892, 46.7309067077247, 49.739822542072076, 44.65676093570761, 32.89565884149927, 38.425432269886336, 46.914569537837245, 39.15516575689395, 67.69990105125478, 50.31685029712699, 36.525724814490374, 58.36254487658166, 42.85355953341939, 70.26428410859683, 68.47311545225745, 56.42678222895809, 54.57169351413526, 58.713321723730004, 62.24530356430975, 60.81376725208136, 57.92525484585901, 61.055935315383, 61.127098556011596, 65.65122842464035, 68.19050468391373, 72.6817823411261, 70.91873710140365, 79.86159847557734, 74.33177075491724, 67.62659388081137, 78.41638318608854, 71.4005978707111, -5.163916924568628, -1.0367877476408995, 1.2533388367544873, 4.910958668533316, 2.233253271274633, 10.964460706982198, 12.568366241674841, 15.466258552874322, 19.764274093822888, 1.9603208516812, 5.587797795510443, 18.421982153537307, 10.159953875533201, 3.984868161254075, 14.405527874693663, 17.745033723808778, 13.447290041218045, 13.799501239701675, 18.417598732147397, 26.596364254123003, 21.466491408174758, 25.66884390416345, 33.50500305197149, 25.15989956587507, 24.953826866982364, 40.82910013371553, 14.936947568651147, 32.63032891697048, 28.22332305922094, 39.556057465411556, 25.67179047212612, 34.10514479019908, 31.94900105777561, 47.71521221435516, 44.49929776166413, 49.91286399929753, 64.8819613034239, 25.974730243113633, 60.302006298212945, 45.19383958361027, 43.73559588973557, 62.42085420686214, 46.05812461825553, 50.73359732770731, 48.042935534485395, 64.08499152261302, 49.921898222117704, 42.4226301583532, 61.89765981658156, 71.98106858780457, 70.7371091374474, 68.96275069217, 54.878059493733815, 64.43673786121856, 68.4319244101548, 58.074938548329165, 74.78982202141898, 58.83764533034406, 75.76613973604718, 67.24639808100868, 72.83791736070016, 86.9714883748221, 74.65711149541188, 78.39126187771653, -16.27396068337471, 3.3582137826406773, -6.214680576313513, 14.588116384320456, 1.1858574615711344, 1.3595228826628702, 3.6984316039593264, 1.6405978746526846, 9.34423927574144, 4.6180283398175455, 7.91289579950998, 11.05560379668357, 13.666172061017864, 21.749093574028635, 16.033750301870818, 23.07083269803559, 30.874302311772684, 21.706103130380423, 18.422660999468114, 36.963866786014584, 22.293279568833483, 39.295158643881884, 39.01861049904446, 31.309016269532428, 40.918938162495905, 38.52036289993307, 21.556586924578635, 37.22253627398716, 31.632263579917698, 32.04290166290075, 23.1661399637719, 47.181411184243494, 56.47622312652808, 53.490186446737546, 47.19845221880997, 49.21664696486415, 26.689853962016738, 40.21575348273546, 42.372723948399646, 27.209755099931723, 58.921204830837326, 56.2780188376548, 67.59701389027987, 37.494550359024934, 73.06722203637239, 50.115860526216466, 50.440866876857854, 45.17035755003161, 64.51066527712743, 80.3035249489428, 75.09054016203133, 71.9235731964075], \"z\": [4.370517461589967, 4.849266445210239, -1.8871614491041613, 21.86309536213574, 4.130770895709385, 7.012814490867497, -0.9383359605974971, 1.5179092561023997, 3.33300353312459, 5.508187125801308, 9.026775294102245, 7.449009948138183, -12.955197360874614, 0.938747837742387, -2.653571267177849, 16.033599506485924, 12.314097965661684, 3.541898311627642, -11.09479578909704, 6.624359837149591, -11.642194026297533, 17.53618025868501, 6.810264043333817, -9.00260026877522, 6.296135902920164, 16.265743044306557, 16.180262763982057, 6.021792648570821, 11.890494077017477, 14.952428097009335, 4.180377455695654, 0.884118395577772, 10.928991277703059, -5.612920547399526, 2.3001952171825844, 6.050645742983986, 1.2909695615071084, 6.551280523695595, 5.310065643189619, 5.299290406103807, 6.143239674686109, 20.452667122434598, -0.04661097558181515, 12.96864142656336, 12.634029350437682, 3.5163878588517434, 18.120896653724532, 3.997159066785078, 10.280985847267527, 12.175343656953041, -5.1750996581728845, 8.170110404586115, 10.504191155765545, -5.178011572590831, 1.9442186312841847, 11.930513896165872, -4.933399545513078, 2.4547330771244855, -1.0915167280390785, 13.330365498441225, -1.540608488745864, 6.7755964760011205, 1.2513168140351492, 0.04513269185773505, 3.9087682383123634, 4.691906909187954, 32.01090781601418, 15.802003921462923, 13.521567081869033, 15.194966658190543, 11.314373822915945, -4.261861226296231, 33.42679524331903, 21.043544678534115, 23.986836203058758, 16.47592998489275, 6.9586724775671325, 22.422086111293133, 6.095968906243771, 7.803831602331144, 3.148649675101183, 17.58183909781519, 20.4688924263424, 25.62110313448834, 27.633208948804345, 11.390593921192375, 13.062892641831086, 3.1672767301826, 13.162039810256193, 39.253172196910896, 24.530871813258223, 20.590160360466083, 11.596919722837455, 14.551709553511053, 17.73866261921204, 10.814201636752477, 14.304375292740195, 6.56792826227158, 0.3728156266666517, 8.195469958751481, 9.066391335837725, 26.585598672299273, 14.124450823777742, 26.715753036680653, 27.57947218331315, 23.152182572033343, -6.223739870493866, 35.184288128095545, 24.855875732216873, 8.849730018426396, 22.35848768819833, 1.2170653024634968, -8.734779100914016, 9.28830298635919, 11.763664737449227, 4.588385870878943, 20.667387210914647, 13.460814042957995, 8.975704248558866, 9.455187394574303, 16.709554888485883, 18.936452445342578, 8.354431768036806, 5.453324219880627, 5.791789562283318, 17.383137789020857, 13.801326798879755, 2.520643150018925, 36.437394565902885, 11.116910316347528, 19.099202527582857, 29.525271978403275, 28.476607276593338, 18.032338736661153, 21.752716003319314, 23.597178431129592, 25.794391473303175, 10.709383027039516, 13.398734713737374, 22.5196173510217, 31.101247994268917, 22.639781100572648, 38.89589123057237, 42.191676971383274, 23.220886639993193, 41.618386621897656, 32.10701820377719, 27.97292102711084, 18.70815263425971, 20.042075846676777, 30.350544207725942, 22.877711702984403, 21.382512424737328, 22.526657487531374, 29.844712331169934, 33.307489992637166, 13.27917828810784, 25.574407767970463, 22.784610898236046, 29.629932377809272, 28.178707577006264, 33.96070007178748, 25.60751717185665, 17.483756144448748, 16.655081495519806, 35.258824774681514, 25.656048239632668, 33.68687956799042, 22.704882480951973, 10.955556626671468, 16.897234555682875, 37.63301553804227, 30.279282975910007, 30.243000521742413, 24.13957094859166, 27.66721174376346, 10.042566648450975, 32.007927486407596, 10.03258989018471, 19.15129751016224, 34.19698244585433, 20.692708102785566, 20.191814321813204, 24.672443732568205, 26.954601421674692, 13.871446995815782, 42.038158741887365, 11.879730197884529, 14.349117601799378, 34.982602260593666, 23.00991874097807, 19.948751568435416, 40.5119537828258, 36.42414281581924, 39.87530917318229, 37.44260387723392, 32.21215264776802, 28.799590248331274, 29.821645887073952, 29.667341670685712, 27.554557076197845, 39.13954299447367, 32.275961997909356, 26.16916684169828, 25.96035429710254, 33.04603460063027, 33.48248773913369, 28.495758889017754, 22.624276319632944, 35.97090149474, 28.80870534965097, 38.47284552072082, 32.03820177535438, 33.13661394512324, 31.125240091695197, 41.039492732815226, 32.91708097538891, 48.73610580029425, 35.96200361343923, 33.664617921125696, 31.662276944193334, 28.385869828569277, 44.05808406088039, 48.11694969145483, 33.00488018328016, 26.627414236658577, 38.56819242681272, 29.395829080817574, 29.268919184430732, 37.87309440610599, 31.79021183794497, 34.67916797929386, 26.688831318372458, 36.62603811339117, 35.79627191311655, 46.86027111037409, 33.9684823094065, 38.42201590841293, 21.373387860294308, 36.818089282029725, 47.615861214127094, 45.30924728318187, 49.19013295016414, 23.89503573708974, 23.28953159315415, 36.88763718317233, 36.99102835792994, 40.21252083935774, 38.24474448495775, 24.976608197421843, 27.7380920430793, 42.48405378623675, 27.82962570540648, 37.909226596847354, 24.871470949427337, 41.167266294176976, 49.92577332433906, 47.092302421510595, 37.023885552015024, 48.856608265409676, 38.67836056075395, 40.35944667333769, 48.078642311056164, 45.046837875105346, 32.53883537745378, 46.83438672567611, 43.668603765097195, 52.92940665640502, 42.396188311971656, 35.539152540318916, 46.65992189523696, 49.07538599616407, 38.36076942665689, 52.0008504262149, 45.82271535875182, 53.749822207258525, 48.95875193861944, 34.20739638361779, 39.02636246920413, 21.71954146154807, 23.49686569524748, 41.11361862380656, 53.63650746405945, 35.06106797541658, 43.11526749772517, 40.38245532706511, 44.52635134889205, 31.46706622349836, 39.41238519732815, 49.94404867177946, 52.902578146769336, 30.782152150825457, 44.607924062535375, 36.173073458680186, 47.45156376476902, 41.228091365961, 57.028775055423196, 48.90921208176041, 40.27183575496772, 38.17475117668715, 45.47634598550211, 35.399071812849115, 39.79059342471457, 48.901283903505224, 28.497778906829456, 47.79049414462481, 48.6016718889799, 58.708700666736675, 51.858716933328225, 50.29830397114924, 34.304266081328585, 51.35252587386861, 35.13260029453341, 44.96849124154347, 41.48805683790008, 43.13449634920352, 53.37345367670156, 44.15252468022102, 33.84726358866985, 48.867796026441184, 55.50656029443365, 51.652672078841604, 54.8680834781465, 61.25913941456148, 56.23938282025325, 62.2404161825248, 59.049303480468005, 61.13682161872133, 53.91025219112306, 54.403654877817054, 60.02100108997358, 52.30513757122626, 59.9982183580423, 49.58883693699043, 59.28822453136016, 54.40305653618563, 55.23301488831221, 56.285695170156345, 64.46451287294992, 46.66760235222292, 59.9359489651616, 53.63038887359912, 42.68900786980816, 45.67206010753254, 67.94321115900718, 52.67433049366707, 59.88784423276665, 50.334859859918424, 56.22284999867686, 50.28767275859084, 55.701320233584795, 40.689003234941396, 62.593989141544654, 47.03520934077381, 55.15518074369926, 57.24360646742631, 78.872763847553, 40.928468661804, 59.8808359371392, 54.76108859872926, 49.77656804389582, 59.90855588805155, 63.589161429677446, 59.42444194055104, 60.42135835715483, 43.01744080049666, 59.007855684212664, 55.91741374524393, 66.43564118792601, 63.18040333744597, 54.610283181162366, 48.13093088475648, 51.371295705264714, 43.76597342060562, 50.71052713413515, 49.622121654449494, 53.200787448249876, 67.40698423959626, 72.19329457800545, 48.037206381912476, 68.50886836675869, 45.41465243967089, 52.72840120184013, 68.36244904932047, 71.24260314521314, 62.372063598728225, 69.33321112665749, 58.676767135111554, 53.57726424202393, 59.45230158587741, 70.74146336243722, 66.75334074865744, 71.83678974454008, 63.373103498935386, 71.02286611388014, 55.80548426972925, 74.3301388299867, 64.3051440583894, 53.11350830769887, 72.44853431250085, 70.4879932223342, 57.715071691040315, 79.6153661090417, 61.79562582554317, 64.647037291276, 62.63923264411487, 60.23350427523269, 68.97369503822488, 62.30207499962619, 61.356005361146096, 72.07114287800914, 50.5697102415015, 56.518498641026646, 60.014116199227566, 51.4056617144763, 72.06976921997038, 54.78171752694284, 51.44395847226949, 76.42738135166371, 63.44170204751625, 66.57719029532903, 66.03772458938525, 64.7717030933014, 61.7150122762192, 60.70742588319833, 82.79023227205649, 71.61867191799844, 71.33370505844175, 71.58762285233354, 57.343664969600496, 77.8517873260933, 68.82531570998283, 65.34719429131242, 60.77168962068568, 77.51951366964141, 47.475302583581296, 73.28235946806844, 69.4810345215714, 56.51957588925365, 70.42376339284834, 80.95124625928428, 59.6185523053978, 71.43027444422121, 60.54093548237318, 62.66308105247037, 71.93896333508333, 75.29170850274295, 66.03378922965211, 59.49969209352008, 74.61308707542715, 83.84575890604134, 86.14947507833962, 73.49624018828993, 51.77594258104384, 76.03459848643372, 65.32623739422111, 86.14932665677505, 78.02366646110451, 84.6092036437684, 81.52861538136372, 86.20106934113412, 76.36884513369023, 77.3486343498033, 66.57296886245587, 58.51572376109343, 86.75148403034908, 80.88711153155982, 73.49959818381859, 75.10017181119437, 90.72284803259069, 80.21118073867247, 101.44902558556394, 76.25908441943245, 82.77756414647011, 84.15581411949744, 79.57565641612445, 83.16790292993221, 84.57582450118505, 93.34215449764197, 72.77073091233791, 65.47922240915696, 64.13451078865057, 72.35505128423274, 74.08009118218655, 84.79537692792594, 85.20754467386502, 71.53242739008748, 84.91226688887448, 80.27783548429595, 77.88423047666538, 79.83102651962342, 79.26748194709391, 74.17259961251885, 79.24679196840614, 67.98019672756413, 79.12263985781144, 90.2271775097412, 75.46396208045888, 70.60948992723684, 67.96867052445]}],\n",
       "                        {\"legend\": {\"tracegroupgap\": 0}, \"margin\": {\"t\": 60}, \"scene\": {\"domain\": {\"x\": [0.0, 1.0], \"y\": [0.0, 1.0]}, \"xaxis\": {\"title\": {\"text\": \"x\"}}, \"yaxis\": {\"title\": {\"text\": \"y\"}}, \"zaxis\": {\"title\": {\"text\": \"z\"}}}, \"template\": {\"data\": {\"bar\": [{\"error_x\": {\"color\": \"#2a3f5f\"}, \"error_y\": {\"color\": \"#2a3f5f\"}, \"marker\": {\"line\": {\"color\": \"#E5ECF6\", \"width\": 0.5}}, \"type\": \"bar\"}], \"barpolar\": [{\"marker\": {\"line\": {\"color\": \"#E5ECF6\", \"width\": 0.5}}, \"type\": \"barpolar\"}], \"carpet\": [{\"aaxis\": {\"endlinecolor\": \"#2a3f5f\", \"gridcolor\": \"white\", \"linecolor\": \"white\", \"minorgridcolor\": \"white\", \"startlinecolor\": \"#2a3f5f\"}, \"baxis\": {\"endlinecolor\": \"#2a3f5f\", \"gridcolor\": \"white\", \"linecolor\": \"white\", \"minorgridcolor\": \"white\", \"startlinecolor\": \"#2a3f5f\"}, \"type\": \"carpet\"}], \"choropleth\": [{\"colorbar\": {\"outlinewidth\": 0, \"ticks\": \"\"}, \"type\": \"choropleth\"}], \"contour\": [{\"colorbar\": {\"outlinewidth\": 0, \"ticks\": \"\"}, \"colorscale\": [[0.0, \"#0d0887\"], [0.1111111111111111, \"#46039f\"], [0.2222222222222222, \"#7201a8\"], [0.3333333333333333, \"#9c179e\"], [0.4444444444444444, \"#bd3786\"], [0.5555555555555556, \"#d8576b\"], [0.6666666666666666, \"#ed7953\"], [0.7777777777777778, \"#fb9f3a\"], [0.8888888888888888, \"#fdca26\"], [1.0, \"#f0f921\"]], \"type\": \"contour\"}], \"contourcarpet\": [{\"colorbar\": {\"outlinewidth\": 0, \"ticks\": \"\"}, \"type\": \"contourcarpet\"}], \"heatmap\": [{\"colorbar\": {\"outlinewidth\": 0, \"ticks\": \"\"}, \"colorscale\": [[0.0, \"#0d0887\"], [0.1111111111111111, \"#46039f\"], [0.2222222222222222, \"#7201a8\"], [0.3333333333333333, \"#9c179e\"], [0.4444444444444444, \"#bd3786\"], [0.5555555555555556, \"#d8576b\"], [0.6666666666666666, \"#ed7953\"], [0.7777777777777778, \"#fb9f3a\"], [0.8888888888888888, \"#fdca26\"], [1.0, \"#f0f921\"]], \"type\": \"heatmap\"}], \"heatmapgl\": [{\"colorbar\": {\"outlinewidth\": 0, \"ticks\": \"\"}, \"colorscale\": [[0.0, \"#0d0887\"], [0.1111111111111111, \"#46039f\"], [0.2222222222222222, \"#7201a8\"], [0.3333333333333333, \"#9c179e\"], [0.4444444444444444, \"#bd3786\"], [0.5555555555555556, \"#d8576b\"], [0.6666666666666666, \"#ed7953\"], [0.7777777777777778, \"#fb9f3a\"], [0.8888888888888888, \"#fdca26\"], [1.0, \"#f0f921\"]], \"type\": \"heatmapgl\"}], \"histogram\": [{\"marker\": {\"colorbar\": {\"outlinewidth\": 0, \"ticks\": \"\"}}, \"type\": \"histogram\"}], \"histogram2d\": [{\"colorbar\": {\"outlinewidth\": 0, \"ticks\": \"\"}, \"colorscale\": [[0.0, \"#0d0887\"], [0.1111111111111111, \"#46039f\"], [0.2222222222222222, \"#7201a8\"], [0.3333333333333333, \"#9c179e\"], [0.4444444444444444, \"#bd3786\"], [0.5555555555555556, \"#d8576b\"], [0.6666666666666666, \"#ed7953\"], [0.7777777777777778, \"#fb9f3a\"], [0.8888888888888888, \"#fdca26\"], [1.0, \"#f0f921\"]], \"type\": \"histogram2d\"}], \"histogram2dcontour\": [{\"colorbar\": {\"outlinewidth\": 0, \"ticks\": \"\"}, \"colorscale\": [[0.0, \"#0d0887\"], [0.1111111111111111, \"#46039f\"], [0.2222222222222222, \"#7201a8\"], [0.3333333333333333, \"#9c179e\"], [0.4444444444444444, \"#bd3786\"], [0.5555555555555556, \"#d8576b\"], [0.6666666666666666, \"#ed7953\"], [0.7777777777777778, \"#fb9f3a\"], [0.8888888888888888, \"#fdca26\"], [1.0, \"#f0f921\"]], \"type\": \"histogram2dcontour\"}], \"mesh3d\": [{\"colorbar\": {\"outlinewidth\": 0, \"ticks\": \"\"}, \"type\": \"mesh3d\"}], \"parcoords\": [{\"line\": {\"colorbar\": {\"outlinewidth\": 0, \"ticks\": \"\"}}, \"type\": \"parcoords\"}], \"pie\": [{\"automargin\": true, \"type\": \"pie\"}], \"scatter\": [{\"marker\": {\"colorbar\": {\"outlinewidth\": 0, \"ticks\": \"\"}}, \"type\": \"scatter\"}], \"scatter3d\": [{\"line\": {\"colorbar\": {\"outlinewidth\": 0, \"ticks\": \"\"}}, \"marker\": {\"colorbar\": {\"outlinewidth\": 0, \"ticks\": \"\"}}, \"type\": \"scatter3d\"}], \"scattercarpet\": [{\"marker\": {\"colorbar\": {\"outlinewidth\": 0, \"ticks\": \"\"}}, \"type\": \"scattercarpet\"}], \"scattergeo\": [{\"marker\": {\"colorbar\": {\"outlinewidth\": 0, \"ticks\": \"\"}}, \"type\": \"scattergeo\"}], \"scattergl\": [{\"marker\": {\"colorbar\": {\"outlinewidth\": 0, \"ticks\": \"\"}}, \"type\": \"scattergl\"}], \"scattermapbox\": [{\"marker\": {\"colorbar\": {\"outlinewidth\": 0, \"ticks\": \"\"}}, \"type\": \"scattermapbox\"}], \"scatterpolar\": [{\"marker\": {\"colorbar\": {\"outlinewidth\": 0, \"ticks\": \"\"}}, \"type\": \"scatterpolar\"}], \"scatterpolargl\": [{\"marker\": {\"colorbar\": {\"outlinewidth\": 0, \"ticks\": \"\"}}, \"type\": \"scatterpolargl\"}], \"scatterternary\": [{\"marker\": {\"colorbar\": {\"outlinewidth\": 0, \"ticks\": \"\"}}, \"type\": \"scatterternary\"}], \"surface\": [{\"colorbar\": {\"outlinewidth\": 0, \"ticks\": \"\"}, \"colorscale\": [[0.0, \"#0d0887\"], [0.1111111111111111, \"#46039f\"], [0.2222222222222222, \"#7201a8\"], [0.3333333333333333, \"#9c179e\"], [0.4444444444444444, \"#bd3786\"], [0.5555555555555556, \"#d8576b\"], [0.6666666666666666, \"#ed7953\"], [0.7777777777777778, \"#fb9f3a\"], [0.8888888888888888, \"#fdca26\"], [1.0, \"#f0f921\"]], \"type\": \"surface\"}], \"table\": [{\"cells\": {\"fill\": {\"color\": \"#EBF0F8\"}, \"line\": {\"color\": \"white\"}}, \"header\": {\"fill\": {\"color\": \"#C8D4E3\"}, \"line\": {\"color\": \"white\"}}, \"type\": \"table\"}]}, \"layout\": {\"annotationdefaults\": {\"arrowcolor\": \"#2a3f5f\", \"arrowhead\": 0, \"arrowwidth\": 1}, \"coloraxis\": {\"colorbar\": {\"outlinewidth\": 0, \"ticks\": \"\"}}, \"colorscale\": {\"diverging\": [[0, \"#8e0152\"], [0.1, \"#c51b7d\"], [0.2, \"#de77ae\"], [0.3, \"#f1b6da\"], [0.4, \"#fde0ef\"], [0.5, \"#f7f7f7\"], [0.6, \"#e6f5d0\"], [0.7, \"#b8e186\"], [0.8, \"#7fbc41\"], [0.9, \"#4d9221\"], [1, \"#276419\"]], \"sequential\": [[0.0, \"#0d0887\"], [0.1111111111111111, \"#46039f\"], [0.2222222222222222, \"#7201a8\"], [0.3333333333333333, \"#9c179e\"], [0.4444444444444444, \"#bd3786\"], [0.5555555555555556, \"#d8576b\"], [0.6666666666666666, \"#ed7953\"], [0.7777777777777778, \"#fb9f3a\"], [0.8888888888888888, \"#fdca26\"], [1.0, \"#f0f921\"]], \"sequentialminus\": [[0.0, \"#0d0887\"], [0.1111111111111111, \"#46039f\"], [0.2222222222222222, \"#7201a8\"], [0.3333333333333333, \"#9c179e\"], [0.4444444444444444, \"#bd3786\"], [0.5555555555555556, \"#d8576b\"], [0.6666666666666666, \"#ed7953\"], [0.7777777777777778, \"#fb9f3a\"], [0.8888888888888888, \"#fdca26\"], [1.0, \"#f0f921\"]]}, \"colorway\": [\"#636efa\", \"#EF553B\", \"#00cc96\", \"#ab63fa\", \"#FFA15A\", \"#19d3f3\", \"#FF6692\", \"#B6E880\", \"#FF97FF\", \"#FECB52\"], \"font\": {\"color\": \"#2a3f5f\"}, \"geo\": {\"bgcolor\": \"white\", \"lakecolor\": \"white\", \"landcolor\": \"#E5ECF6\", \"showlakes\": true, \"showland\": true, \"subunitcolor\": \"white\"}, \"hoverlabel\": {\"align\": \"left\"}, \"hovermode\": \"closest\", \"mapbox\": {\"style\": \"light\"}, \"paper_bgcolor\": \"white\", \"plot_bgcolor\": \"#E5ECF6\", \"polar\": {\"angularaxis\": {\"gridcolor\": \"white\", \"linecolor\": \"white\", \"ticks\": \"\"}, \"bgcolor\": \"#E5ECF6\", \"radialaxis\": {\"gridcolor\": \"white\", \"linecolor\": \"white\", \"ticks\": \"\"}}, \"scene\": {\"xaxis\": {\"backgroundcolor\": \"#E5ECF6\", \"gridcolor\": \"white\", \"gridwidth\": 2, \"linecolor\": \"white\", \"showbackground\": true, \"ticks\": \"\", \"zerolinecolor\": \"white\"}, \"yaxis\": {\"backgroundcolor\": \"#E5ECF6\", \"gridcolor\": \"white\", \"gridwidth\": 2, \"linecolor\": \"white\", \"showbackground\": true, \"ticks\": \"\", \"zerolinecolor\": \"white\"}, \"zaxis\": {\"backgroundcolor\": \"#E5ECF6\", \"gridcolor\": \"white\", \"gridwidth\": 2, \"linecolor\": \"white\", \"showbackground\": true, \"ticks\": \"\", \"zerolinecolor\": \"white\"}}, \"shapedefaults\": {\"line\": {\"color\": \"#2a3f5f\"}}, \"ternary\": {\"aaxis\": {\"gridcolor\": \"white\", \"linecolor\": \"white\", \"ticks\": \"\"}, \"baxis\": {\"gridcolor\": \"white\", \"linecolor\": \"white\", \"ticks\": \"\"}, \"bgcolor\": \"#E5ECF6\", \"caxis\": {\"gridcolor\": \"white\", \"linecolor\": \"white\", \"ticks\": \"\"}}, \"title\": {\"x\": 0.05}, \"xaxis\": {\"automargin\": true, \"gridcolor\": \"white\", \"linecolor\": \"white\", \"ticks\": \"\", \"title\": {\"standoff\": 15}, \"zerolinecolor\": \"white\", \"zerolinewidth\": 2}, \"yaxis\": {\"automargin\": true, \"gridcolor\": \"white\", \"linecolor\": \"white\", \"ticks\": \"\", \"title\": {\"standoff\": 15}, \"zerolinecolor\": \"white\", \"zerolinewidth\": 2}}}},\n",
       "                        {\"responsive\": true}\n",
       "                    ).then(function(){\n",
       "                            \n",
       "var gd = document.getElementById('73fe0a38-cbe3-4ac4-9ca6-b04a3f960e0a');\n",
       "var x = new MutationObserver(function (mutations, observer) {{\n",
       "        var display = window.getComputedStyle(gd).display;\n",
       "        if (!display || display === 'none') {{\n",
       "            console.log([gd, 'removed!']);\n",
       "            Plotly.purge(gd);\n",
       "            observer.disconnect();\n",
       "        }}\n",
       "}});\n",
       "\n",
       "// Listen for the removal of the full notebook cells\n",
       "var notebookContainer = gd.closest('#notebook-container');\n",
       "if (notebookContainer) {{\n",
       "    x.observe(notebookContainer, {childList: true});\n",
       "}}\n",
       "\n",
       "// Listen for the clearing of the current output cell\n",
       "var outputEl = gd.closest('.output');\n",
       "if (outputEl) {{\n",
       "    x.observe(outputEl, {childList: true});\n",
       "}}\n",
       "\n",
       "                        })\n",
       "                };\n",
       "                });\n",
       "            </script>\n",
       "        </div>"
      ]
     },
     "metadata": {},
     "output_type": "display_data"
    }
   ],
   "source": [
    "i = 490\n",
    "px.scatter_3d(x=confs[i][:,0], y=confs[i][:,1], z=confs[i][:,2], opacity=0.5)"
   ]
  },
  {
   "cell_type": "markdown",
   "metadata": {
    "slideshow": {
     "slide_type": "slide"
    }
   },
   "source": [
    "### Computing Radial Distribution Function $g(r)$"
   ]
  },
  {
   "cell_type": "code",
   "execution_count": 260,
   "metadata": {
    "slideshow": {
     "slide_type": "slide"
    }
   },
   "outputs": [],
   "source": [
    "@jit\n",
    "def comp_g_r(particles, L):\n",
    "    '''Computing radial distirbution function for a single configuration'''\n",
    "    \n",
    "    # Number of particles and density\n",
    "    \n",
    "    N   = len(particles)\n",
    "    rho = N/(L**3)\n",
    "    r2 = [] \n",
    "    \n",
    "    for i in range(0,N-1):\n",
    "        \n",
    "        for j in range(i+1,N):\n",
    "\n",
    "            dist_ij  = get_r2(particles[i],particles[j], L) \n",
    "            \n",
    "            r2.append(dist_ij)\n",
    "\n",
    "    r_dists = np.sqrt(r2)\n",
    "    \n",
    "    #Histogram distances \n",
    "    histRadii, edges = np.histogram(r_dists, bins=30, range=(0,L/2))\n",
    "    \n",
    "    radii = 0.5 *(edges[1:] + edges[:-1])  # radii of histograms R1,R2,..Lmax \n",
    "    \n",
    "    # often folks loop over N*N pairs then divide by N\n",
    "    # we have N*N-1/2 pairs e.g must divide by (N-1)/2 to have hist for N particles\n",
    "    histRadii = histRadii/(0.5*(N-1))    \n",
    "    \n",
    "    #Compute histogram that would be displayed by an ideal gas of N particles \n",
    "    vol = (4.0/3.0) * np.pi * (edges[1:]**3 - edges[:-1]**3)\n",
    "    \n",
    "    histIdeal = rho*vol \n",
    "    \n",
    "    gr = histRadii/histIdeal \n",
    "    \n",
    "    return radii, gr"
   ]
  },
  {
   "cell_type": "code",
   "execution_count": null,
   "metadata": {
    "slideshow": {
     "slide_type": "slide"
    }
   },
   "outputs": [],
   "source": [
    "# Simulation for computing g_r\n",
    "N     = 100\n",
    "rho   = 0.85\n",
    "T     = 2 \n",
    "steps = 100000\n",
    "freq  = 200\n",
    "\n",
    "######\n",
    "particles       = initialize(N, rho)\n",
    "%time confs, es = doMC_LJ(particles, L, T, steps, freq)\n",
    "######"
   ]
  },
  {
   "cell_type": "code",
   "execution_count": 63,
   "metadata": {
    "slideshow": {
     "slide_type": "slide"
    }
   },
   "outputs": [],
   "source": [
    "#n_pt    = int(steps/freq)\n",
    "#i = n_pt -1\n",
    "#px.scatter_3d(x=confs[i][:,0], y=confs[i][:,1], z=confs[i][:,2], opacity=0.5)"
   ]
  },
  {
   "cell_type": "markdown",
   "metadata": {
    "slideshow": {
     "slide_type": "slide"
    }
   },
   "source": [
    "#### Calculate $g(r)$ over trajectory"
   ]
  },
  {
   "cell_type": "code",
   "execution_count": 463,
   "metadata": {
    "slideshow": {
     "slide_type": "slide"
    }
   },
   "outputs": [],
   "source": [
    "gr_t = 0\n",
    "\n",
    "\n",
    "av_wind = 1000\n",
    "\n",
    "for i in range(n_pt-av_wind, n_pt):\n",
    "    \n",
    "    radii, gr = comp_g_r(confs[i],L)\n",
    "    \n",
    "    gr_t += gr/av_wind"
   ]
  },
  {
   "cell_type": "code",
   "execution_count": 62,
   "metadata": {},
   "outputs": [],
   "source": [
    "#plt.plot(radii, gr_t)"
   ]
  }
 ],
 "metadata": {
  "kernelspec": {
   "display_name": "Python 3",
   "language": "python",
   "name": "python3"
  },
  "language_info": {
   "codemirror_mode": {
    "name": "ipython",
    "version": 3
   },
   "file_extension": ".py",
   "mimetype": "text/x-python",
   "name": "python",
   "nbconvert_exporter": "python",
   "pygments_lexer": "ipython3",
   "version": "3.7.4"
  },
  "nteract": {
   "version": "0.22.0"
  },
  "toc": {
   "base_numbering": 1,
   "nav_menu": {},
   "number_sections": true,
   "sideBar": true,
   "skip_h1_title": false,
   "title_cell": "Table of Contents",
   "title_sidebar": "Contents",
   "toc_cell": false,
   "toc_position": {},
   "toc_section_display": true,
   "toc_window_display": false
  }
 },
 "nbformat": 4,
 "nbformat_minor": 2
}

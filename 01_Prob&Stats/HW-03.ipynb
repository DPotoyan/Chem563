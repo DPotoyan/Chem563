{
 "cells": [
  {
   "cell_type": "markdown",
   "metadata": {},
   "source": [
    "# Homework 3. \"Monte Carlo, sampling, random walks\"\n",
    "## *Due on Monday Feb 10*"
   ]
  },
  {
   "cell_type": "code",
   "execution_count": 1,
   "metadata": {},
   "outputs": [],
   "source": [
    "import matplotlib.pyplot as plt\n",
    "\n",
    "import numpy as np\n",
    "import scipy as sp\n",
    "\n",
    "from numpy.random import normal\n",
    "from numpy.random import uniform\n",
    "\n",
    "\n",
    "%matplotlib inline\n",
    "%config InlineBackend.figure_format = 'retina'"
   ]
  },
  {
   "cell_type": "markdown",
   "metadata": {},
   "source": [
    "####  Problem-1: Confined diffusion.\n",
    "Simulate 2D random walk in a circular confinement. Re-write 2D brownian motion code to simulate diffusion of a particle which is stuck inside a sphere. Study how root mean square deviation of position scales with time. Carry out simulations for different coninement sizes. Make plots of simulated trajectories."
   ]
  },
  {
   "cell_type": "markdown",
   "metadata": {},
   "source": [
    "####  Problem-2: continuous time random walk (CTRW)\n",
    "Simulate 1D random walk but instead of picking times at regular intervals pick them from  exponential distribution. <br>\n",
    "Hint: you may want to use random variables from scipy.stats.exp <br>\n",
    "\n",
    "[scipy.stats.expon](https://docs.scipy.org/doc/scipy/reference/generated/scipy.stats.expon.html) <br>\n",
    "\n",
    "Study the root mean square deviation as a function of exponential decay parameter $\\lambda$ of exponential distribution $e^{-\\lambda x}$. "
   ]
  },
  {
   "cell_type": "markdown",
   "metadata": {},
   "source": [
    "####  Problem-3: Breaking the CLT; Cauchy vs Normal random walk in 2D\n",
    "\n",
    "For this problem we are going to simulate two kinds of random walks in continuum space (not lattice): Levy flights and Normal distributd random walk. \n",
    "\n",
    "To simulate a 2D continuum space random walk we need to generate random step sizes $r_x$, $r_y$. \n",
    "Also you will need unifrom random namber to sample angles in 2D giving you a conitnuum random walk in 2D space: $x = r_x sin\\theta$ and $y=r_ycos\\theta$\n",
    "\n",
    "- Normally: $r\\sim N(0,1)$\n",
    "- Cauchy distribution (long tails, infinite variance) $r\\sim Cauchy(0,1)$\n",
    "- Unform angles $\\theta \\sim U(0,1)$\n",
    "\n",
    "Visualize random walk using matplotlib and study statistics of random walkers the way that is done for normal random walk/brownian motion examples!\n"
   ]
  },
  {
   "cell_type": "markdown",
   "metadata": {},
   "source": [
    "#### Problem-4: Monte Carlo, crude version."
   ]
  },
  {
   "cell_type": "markdown",
   "metadata": {},
   "source": [
    "Evaluate the following integral using direct Monte Carlo simulation: use random numbers from uniform distribution on the interval $[0,2]$.  $\\int^{2}_0 ( e^{-x^2}+e^{-x^4})dx$. plot the dependence of variance on the number of samples. Compare the result to numerical integration. "
   ]
  },
  {
   "cell_type": "markdown",
   "metadata": {},
   "source": [
    "#### Problem-5 Monte Carlo, importance sampling. "
   ]
  },
  {
   "cell_type": "markdown",
   "metadata": {},
   "source": [
    "Evaluate the following integral $\\int^{\\infty}_0 \\frac{e^{-x}}{1+(x-1)^2} dx$ using Monte Carlo methods. (i) Start by doing a direct monte carlo on uniform interval. (ii) Try an importance sampling approach using en exponential probability distribution. (iii) Find the optimal value of $\\lambda $ that gives the most rapid reduction of variance [Hint: experiment with different values of $\\lambda$]"
   ]
  },
  {
   "cell_type": "code",
   "execution_count": 1,
   "metadata": {},
   "outputs": [],
   "source": [
    "def funcx(x):\n",
    "    return (e**(-1*x))/(1+(x-1)**2)"
   ]
  },
  {
   "cell_type": "markdown",
   "metadata": {},
   "source": [
    "#### Bonus problem: Monte Carlo sampling functon for 1D and 2D functions\n",
    "\n",
    "- Since you got some experience doing MC integrations maybe you feel like generalizing your apporach a bit. Can you write a function called mc_int(f, x0, x1, N) which does monte carlo integration of simple well behaved functions f over interval x0 to x1 using N unifrom distributed random numbers on $[x0, x1]$. You can also make do_mc() plot where the random points fell on the f(x) function in addition to returning the value of the evaluated integral.  \n",
    "\n",
    "- Generalize your function to compute 2D integral mc_int(f, x0, x1, y0, y1 N). Test this function by computing simple rectangular shaped area functions, e.g $x_0=1, x_1 =3, y_0=1, y_1=5$ "
   ]
  },
  {
   "cell_type": "code",
   "execution_count": null,
   "metadata": {},
   "outputs": [],
   "source": []
  }
 ],
 "metadata": {
  "kernelspec": {
   "display_name": "Python 3",
   "language": "python",
   "name": "python3"
  },
  "language_info": {
   "codemirror_mode": {
    "name": "ipython",
    "version": 3
   },
   "file_extension": ".py",
   "mimetype": "text/x-python",
   "name": "python",
   "nbconvert_exporter": "python",
   "pygments_lexer": "ipython3",
   "version": "3.7.6"
  }
 },
 "nbformat": 4,
 "nbformat_minor": 4
}

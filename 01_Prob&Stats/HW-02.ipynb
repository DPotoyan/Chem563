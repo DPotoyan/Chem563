{
 "cells": [
  {
   "cell_type": "markdown",
   "metadata": {
    "toc": true
   },
   "source": [
    "<h1>Table of Contents<span class=\"tocSkip\"></span></h1>\n",
    "<div class=\"toc\"><ul class=\"toc-item\"><li><span><a href=\"#Homework-2.-&quot;Probability-Theory-for-StatMech-hackers,-gamblers-and-spies.&quot;\" data-toc-modified-id=\"Homework-2.-&quot;Probability-Theory-for-StatMech-hackers,-gamblers-and-spies.&quot;-1\">Homework 2. \"Probability Theory for StatMech hackers, gamblers and spies.\"</a></span><ul class=\"toc-item\"><li><span><a href=\"#Due-on-Monday-Feb-3rd\" data-toc-modified-id=\"Due-on-Monday-Feb-3rd-1.1\"><em>Due on Monday Feb 3rd</em></a></span><ul class=\"toc-item\"><li><span><a href=\"#Problem-1:-Smart-gambler.\" data-toc-modified-id=\"Problem-1:-Smart-gambler.-1.1.1\">Problem-1: Smart gambler.</a></span></li><li><span><a href=\"#Problem-2:-Practicing-counting.-Gas-molecules.\" data-toc-modified-id=\"Problem-2:-Practicing-counting.-Gas-molecules.-1.1.2\">Problem-2: Practicing counting. Gas molecules.</a></span></li><li><span><a href=\"#Problem-3:-DNA-synthesis.\" data-toc-modified-id=\"Problem-3:-DNA-synthesis.-1.1.3\">Problem-3: DNA synthesis.</a></span></li><li><span><a href=\"#Problem-4:-Stirling,-factorial,-Gamma-and-divergent-series.-&quot;Approximate-don't-hesitate.&quot;\" data-toc-modified-id=\"Problem-4:-Stirling,-factorial,-Gamma-and-divergent-series.-&quot;Approximate-don't-hesitate.&quot;-1.1.4\">Problem-4: Stirling, factorial, Gamma and divergent series. \"Approximate don't hesitate.\"</a></span></li><li><span><a href=\"#Problem-5:-Binomial,-Gaussian-and-Poisson:-The-3-distributions-to-know-before-heading-to-Las-Vegas.\" data-toc-modified-id=\"Problem-5:-Binomial,-Gaussian-and-Poisson:-The-3-distributions-to-know-before-heading-to-Las-Vegas.-1.1.5\">Problem-5: Binomial, Gaussian and Poisson: The 3 distributions to know before heading to Las Vegas.</a></span></li><li><span><a href=\"#Optional-challange-problem.\" data-toc-modified-id=\"Optional-challange-problem.-1.1.6\">Optional challange problem.</a></span></li></ul></li></ul></li></ul></div>"
   ]
  },
  {
   "cell_type": "markdown",
   "metadata": {},
   "source": [
    "# Homework 2. \"Probability Theory for StatMech hackers, gamblers and spies.\"\n",
    "## *Due on Monday Feb 3rd*"
   ]
  },
  {
   "cell_type": "code",
   "execution_count": 3,
   "metadata": {},
   "outputs": [],
   "source": [
    "# Load these goodies. every. time. You will need them. \n",
    "\n",
    "%matplotlib inline\n",
    "import numpy as np\n",
    "import scipy as sp\n",
    "import matplotlib.pyplot as plt"
   ]
  },
  {
   "cell_type": "markdown",
   "metadata": {},
   "source": [
    "```Use either # commends or Markdown cells to explain your solutions. Write answer to each subquestion in a separate cell```"
   ]
  },
  {
   "cell_type": "markdown",
   "metadata": {},
   "source": [
    " ### Problem-1: Smart gambler. \n",
    " You flip a coin 10 times and record the data in the form\n",
    "of head/tails or 1s and 0s\n",
    "-  What would be the probability of ladning 4 H's?\n",
    "-  What would be the probability of landing HHHTTTHHHT sequence?\n",
    "-  In how many ways can we have 2 head and 8 tails in this experiments?\n",
    "-  Okay, now you got tired of flipping coins and decide to play some dice. You throw die\n",
    "10 times what is the probability of never landing number 6?\n",
    "- You throw a die 3 times what is the probability of obtaining a combined sum of 7?"
   ]
  },
  {
   "cell_type": "markdown",
   "metadata": {},
   "source": [
    "### Problem-2: Practicing counting. Gas molecules. \n",
    "\n",
    "$$C^{N}_{k}$$\n",
    "\n",
    "A container of volume $V$ contains $N$ molecules of a gas. We assume that the gas is dilute so that the position of any one molecule is independent of all other molecules. Although the density will be uniform on the average, there are fluctuations in the density. Divide the volume $V$ into two parts $V_1$ and $V_2$, where $V = V_1 + V_2$. \n",
    "- What is the probability p that a particular molecule is in each part? \n",
    "- What is the probability that $N_1$ molecules are in $V_1$ and $N_2$ molecules are in $V_2$? \n",
    "- What is the average number of molecules in each part? \n",
    "- What are the relative fluctuations of the number of particles in each part?"
   ]
  },
  {
   "cell_type": "markdown",
   "metadata": {},
   "source": [
    "### Problem-3: DNA synthesis. \n",
    "\n",
    "Suppose that upon synthesizing a molecule of DNA, you introduce a wrong base pair, on average, every 1000 base pairs. Suppose you synthesize a DNA molecule that is 1000 bases long.\n",
    "- Calculate and draw a bar graph indicating the yield (probability) of each product DNA, containing 0, 1, 2, and 3 mutations (wrong base pairs).\n",
    "- Calculate how many combinations of DNA sequ- ences of 1000 base pairs contain exactly 2 mutant base pairs.\n",
    "-  What is the probability of having specifically the 500th base pair and the 888th base pair mutated in the pool of DNA that has only two mutations?\n",
    "- What is the probability of having two mutations side-by-side in the pool of DNA that has only two mutations?"
   ]
  },
  {
   "cell_type": "markdown",
   "metadata": {},
   "source": [
    "### Problem-4: Stirling, factorial, Gamma and divergent series. \"Approximate don't hesitate.\" \n",
    "\n",
    "There are several version of Stirling's formula approximating facorial ranging from: <br> pretty good $logn! \\approx (n+1/2)logn-n$ <br> to  \"OMG can't believe this works\" $logn! \\approx nlogn-n$. <br> \n",
    "\n",
    "Here we will numiercally evaluate how good these apprixmations are for different values of n. <br>\n",
    "\n",
    "\n",
    "- On the same graph plot (i) $logn!$ vs n, (ii) two stirling approximations of $logn!$ vs n and (iii) Continous $\\Gamma(n)$ function vs n. \n",
    "- Do another plot where you plot the ration of stirling's approximations for $logn!$ to exact $logn!$ as a function of n\n",
    "\n",
    "> Compute factorials of n using [scipy.special.factorial(n)](https://docs.scipy.org/doc/scipy/reference/generated/scipy.special.factorial.html)\n",
    "\n",
    "> Compute Gamma function of n using [scipy.special.gamma]()\n",
    "\n",
    "> You can import these via ```from scipy.special import factorial, gamma``` and simply use shorthand factorial(n) and gamma(n). \n",
    "\n",
    "> Read more about Striling approximations [here](https://en.wikipedia.org/wiki/Stirling%27s_approximation) and also [here](https://www.youtube.com/watch?v=rHVlS9i80x8)\n",
    "\n"
   ]
  },
  {
   "cell_type": "markdown",
   "metadata": {},
   "source": [
    "### Problem-5: Binomial, Gaussian and Poisson: The 3 distributions to know before heading to Las Vegas.\n",
    "\n",
    "- Solve \"Problem 3.74 and 3.78\" from the book showing the connection of Binomial with Gaussian. Type your analytical solution in LaTex in a markdown cell with comments. \n",
    "\n",
    "- In the limit $N\\rightarrow \\infty$ but for very small values of $p \\rightarrow 0$ such that $\\lambda =pN=const$ there is another distribution that better approximates Binomial distribution: $p(x)=\\frac{\\lambda^k}{k!}e^{-\\lambda} $ It is known as Poisson distribution. <br>\n",
    "Poisson distribution is an excellent approximation for probabilities of rare events. Such as, infrequently firing neurons in the brain, radioactive decay events of Plutonium or rains in the desert. <br>  Derive Poisson distribution by taking the limit of $p\\rightarrow 0$ in binomial distribution.\n",
    "\n",
    "- Using numpy and matplotlib plot binomial probability distribution\n",
    "against Gaussian and Poisson distributions for different values of N=(10,100,1000,10000). <br>\n",
    "Do four plots for the following values \n",
    "p=0.0001, 0.001, 0.01, 0.1. You can use  subplot functionality to make a pretty 4 column plot.  \n",
    "\n",
    "```python\n",
    "fig, ax =  plt.subplots(nrows=1, ncols=4)\n",
    "\n",
    "ax[0].plt()\n",
    "ax[1].plt()\n",
    "ax[2].plt()\n",
    "ax[3].plt()\n",
    "```\n"
   ]
  },
  {
   "cell_type": "markdown",
   "metadata": {},
   "source": [
    "### Optional challange problem. \n",
    "\n",
    "[Porosity of materials](https://en.wikipedia.org/wiki/Porosity)\n",
    "\n",
    "A simple model of a porous rock can be imagined by placing a series of overlap- ping spheres at random into a container of fixed volume $V$ . The spheres represent the rock and the space between the spheres represents the pores. If we write the volume of the sphere as v, it can be shown the fraction of the space between the spheres or the porosity $\\phi$ is $\\phi =e^{-Nv/V}$, where $N$ is the number of spheres. \n",
    "\n",
    "For simplicity, consider a 2D system, (e.g $v=\\frac{1}{4}\\pi d^2$, see [wiki](https://en.wikipedia.org/wiki/Area_of_a_circle) if you forgot the formula). \n",
    "Write a python function which place disks of $d=1$ into a square box. The disks can overlap. Divide the box into square cells each of which has an edge length equal to the diameter of the disks. Find the probability of having 0, 1, 2, or 3 disks in a cell for $\\phi$ = 0.03, 0.1, and 0.5.\n",
    "\n",
    "> You will need [np.random.uniform()](https://docs.scipy.org/doc/numpy-1.14.0/reference/generated/numpy.random.uniform.html) to randomly place N disks of volume v into volume V. \n",
    "> \n",
    "> Check out this cool python lib for porosity evaluation of materials [R Shkarin, et al Plos Comp Bio 2019](https://journals.plos.org/plosone/article/file?id=10.1371/journal.pone.0215137&type=printable)"
   ]
  },
  {
   "cell_type": "code",
   "execution_count": null,
   "metadata": {},
   "outputs": [],
   "source": []
  }
 ],
 "metadata": {
  "kernel_info": {
   "name": "python3"
  },
  "kernelspec": {
   "display_name": "Python 3",
   "language": "python",
   "name": "python3"
  },
  "language_info": {
   "codemirror_mode": {
    "name": "ipython",
    "version": 3
   },
   "file_extension": ".py",
   "mimetype": "text/x-python",
   "name": "python",
   "nbconvert_exporter": "python",
   "pygments_lexer": "ipython3",
   "version": "3.7.6"
  },
  "latex_envs": {
   "LaTeX_envs_menu_present": true,
   "autoclose": false,
   "autocomplete": true,
   "bibliofile": "biblio.bib",
   "cite_by": "apalike",
   "current_citInitial": 1,
   "eqLabelWithNumbers": true,
   "eqNumInitial": 1,
   "hotkeys": {
    "equation": "Ctrl-E",
    "itemize": "Ctrl-I"
   },
   "labels_anchors": false,
   "latex_user_defs": false,
   "report_style_numbering": false,
   "user_envs_cfg": false
  },
  "nteract": {
   "version": "0.15.0"
  },
  "toc": {
   "base_numbering": 1,
   "nav_menu": {},
   "number_sections": false,
   "sideBar": true,
   "skip_h1_title": false,
   "title_cell": "Table of Contents",
   "title_sidebar": "Contents",
   "toc_cell": true,
   "toc_position": {},
   "toc_section_display": true,
   "toc_window_display": false
  }
 },
 "nbformat": 4,
 "nbformat_minor": 4
}

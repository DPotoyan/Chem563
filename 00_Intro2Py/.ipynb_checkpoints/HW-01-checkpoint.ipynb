{
 "cells": [
  {
   "cell_type": "markdown",
   "metadata": {
    "toc": true
   },
   "source": [
    "<h1>Table of Contents<span class=\"tocSkip\"></span></h1>\n",
    "<div class=\"toc\"><ul class=\"toc-item\"><li><span><a href=\"#Homework-1.-Due-on-Monday-27th\" data-toc-modified-id=\"Homework-1.-Due-on-Monday-27th-1\">Homework 1. Due on Monday 27th</a></span><ul class=\"toc-item\"><li><ul class=\"toc-item\"><li><span><a href=\"#Problem-1:-The-basics\" data-toc-modified-id=\"Problem-1:-The-basics-1.0.1\">Problem 1: The basics</a></span></li><li><span><a href=\"#Problem-2:-Polynomials\" data-toc-modified-id=\"Problem-2:-Polynomials-1.0.2\">Problem 2: Polynomials</a></span></li><li><span><a href=\"#Problem-3:-Binomial-coefficients-$C^k_{n}$\" data-toc-modified-id=\"Problem-3:-Binomial-coefficients-$C^k_{n}$-1.0.3\">Problem 3: Binomial coefficients $C^k_{n}$</a></span></li><li><span><a href=\"#Problem-4:--Numpy-arrays\" data-toc-modified-id=\"Problem-4:--Numpy-arrays-1.0.4\">Problem 4:  Numpy arrays</a></span></li><li><span><a href=\"#Problem-5:-Applied-questions\" data-toc-modified-id=\"Problem-5:-Applied-questions-1.0.5\">Problem 5: Applied questions</a></span></li></ul></li></ul></li></ul></div>"
   ]
  },
  {
   "cell_type": "markdown",
   "metadata": {},
   "source": [
    "# Homework 1. Due on Monday 27th"
   ]
  },
  {
   "cell_type": "code",
   "execution_count": 3,
   "metadata": {},
   "outputs": [],
   "source": [
    "%matplotlib inline\n",
    "import numpy as np\n",
    "import scipy as sci\n",
    "import matplotlib.pyplot as plt\n",
    "\n",
    "# Load these goodies every time. You will need them"
   ]
  },
  {
   "cell_type": "markdown",
   "metadata": {},
   "source": [
    "```Use either # commends or Markdown cells to explain your solutions```"
   ]
  },
  {
   "cell_type": "markdown",
   "metadata": {},
   "source": [
    "### Problem 1: The basics"
   ]
  },
  {
   "cell_type": "markdown",
   "metadata": {},
   "source": [
    " \n",
    "0. Acess and pring the length as well as first, middle and last letters of the string ``dna_string = \"ACGCAGG\"``\n",
    "<br><br>\n",
    "1. Create two lists ``x=[1,2,4,\"dog\", \"xy\"]`` and ``y =[3,4,5,\"cat\", \"a\"]`` and do ``x+y``. ``XY=x[:3]+y[:3]``. Comment on why ``XY`` looks the way it looks. Any other way to achieve same result? <br><br>\n",
    "2. Create two numpy arrays ``a=np.array([1,2,3])`` and ``b=np.array(10,10,10)`` . The do ``a+b``, ``a*b`` and ``a@b``. Comment what happens\n",
    "<br><br>\n",
    "3. Create two string variables ``s1=\"I am\"`` and ``s2=\"  Python Ninja\"`` (notice the space). First do s1+sw and comment. Next Capitalize every other element in the string. \n",
    "<br><br>\n",
    "4. Loop over items in lists in 1 by prining the numbers only. \n",
    "<br><br>\n",
    "5. Create two string variables by typing ``mol1 = \"CH3\"`` and ``mol2= \"CH2\"``. Using only these two strings and arithmetic operations on strings (+ and/or multiply *) create a third variable that would represent molecule of octane.\n",
    "<br><br>\n",
    "7. Create two arrays $A=x^3$ and $B=3x^2+1$ by generating array of numbers  using linspace method between points 1 and 10 divided into 1000 parts.  \n",
    "<br><br>\n",
    "8. Compute dot product between A and B\n",
    "<br><br>\n",
    "9. plot A vs B, plot A vs array of integers 1,2,3... of same length as A. Do the same for B\n",
    "<br><br>\n",
    "10. Select right half elements of A using slicing and set them to 0. plot A via ``plt.plot(A)`` to verify."
   ]
  },
  {
   "cell_type": "code",
   "execution_count": null,
   "metadata": {},
   "outputs": [],
   "source": [
    "x=[1,2,4,\"dog\", \"xy\"]\n",
    "y =[3,4,5,\"cat\", \"a\"]"
   ]
  },
  {
   "cell_type": "markdown",
   "metadata": {},
   "source": [
    "### Problem 2: Polynomials"
   ]
  },
  {
   "cell_type": "markdown",
   "metadata": {},
   "source": [
    "- **Step-1** Compute the value of the polynomial $y=ax^n+bx^3+c$ <br>at $x=−2$, $x=0$, and $x=2.1$ by using $n=1$, $b=1$, $c=-6$ as parameters. <br> Print the results to the screen.\n",
    "<br><br>\n",
    "- **Step-2** plot the polynomial as a function of x with given parameters\n",
    "<br><br>\n",
    "- **Step-3** Make a function ```plot_polynom(x,n=1,a=1,b=1,c=1)``` that plots polynomials. Make several plots for different values of power n. "
   ]
  },
  {
   "cell_type": "markdown",
   "metadata": {},
   "source": [
    "### Problem 3: Binomial coefficients $C^k_{n}$"
   ]
  },
  {
   "cell_type": "markdown",
   "metadata": {},
   "source": [
    "- **Step-1** Write a function that computes binomial coefficients given n and k as input. You can consult [Wikipedia](https://en.wikipedia.org/wiki/Binomial_coefficient)\n",
    "\n",
    "```python\n",
    "def C(n,k):\n",
    "    ....\n",
    "    return ...\n",
    "```\n",
    "\n",
    "- **Step-2** Compare your function with binom function from of scipy. Do help(binom) to learn more\n",
    "```python\n",
    "from scipy.special import binom\n",
    "```\n",
    "\n",
    "- **Step-3** Make several plots of binomial coefficients C(n,k) as a function of k values for different fixed n.\n",
    "E.g n =2 n= 8 n=16 n=23 n=64 \n",
    "\n",
    "```python\n",
    "plt.plot(k, C(16,k), '-o')\n",
    "...\n",
    "```"
   ]
  },
  {
   "cell_type": "markdown",
   "metadata": {},
   "source": [
    "### Problem 4:  Numpy arrays"
   ]
  },
  {
   "cell_type": "markdown",
   "metadata": {},
   "source": [
    "0. Write a python functiion that normalizes a numpy array of numbers, a, such that its values lie between 0 and 1. Thus, for example, the list ``a = [2,4,10,6,8,4]`` becomes ``[0.0, 0.25, 1.0, 0.5, 0.75, 0.25]``\n",
    "<br><br>\n",
    "1. Create an array of zeros with length 20. \n",
    "    - Change the first 5 values to 10. Change the next 10 values to a sequence starting at 12 and increasig with steps of 2 to 30 (do this with one command). \n",
    "    - Set the final 5 values to 30. Plot the value of the array on the y-axis vs. the index of the array on the x-axis. \n",
    "    - Draw vertical dashed lines at x=4 and x=14 (i.e., the section between the dashed lines is where the line increases from 10 to 30). Set the minimum and maximum values of the y-axis to 8 and 32 using the ylim command.\n",
    "<br><br>\n",
    "2. For the array x shown below, write code to print:\n",
    "\n",
    "    - the first row of x\n",
    "    - the first column of x\n",
    "    - the third row of x\n",
    "    - the last two columns of x\n",
    "    - the 2 by 2 block of values in the upper right-hand corner of x\n",
    "    - the 2 by 2 block of values at the center of x\n",
    "    - ``x = np.array([[4, 2, 3, 2], [2, 4, 3, 1], [2, 4, 1, 3], [4, 1, 2, 3]])``\n",
    "    \n",
    "<br><br>\n",
    "3. Consider the function\n",
    "\n",
    "$$\\begin{split}\n",
    "y &= \\cos(x) \\qquad \\,\\,\\,\\text{for}\\,\\,\\, \\qquad x < 0 \\\\\n",
    "y &= \\exp(-x) \\qquad \\,\\,\\,\\text{for}\\,\\,\\, \\qquad x \\ge 0 \n",
    "\\end{split}$$\n",
    "<br>\n",
    "Compute $y$ for $x$ going from $-2\\pi$ to $2\\pi$ with 100 points and make a graph. Make sure the limits of the $x$-axis are from $-2\\pi$ to $2\\pi$."
   ]
  },
  {
   "cell_type": "markdown",
   "metadata": {},
   "source": [
    "### Problem 5: Applied questions"
   ]
  },
  {
   "cell_type": "markdown",
   "metadata": {},
   "source": [
    "**Credit Card fraud** \n",
    "\n",
    "The Luhn algorithm is a simple checksum formula used to validate credit card and bank account numbers. It is designed to prevent common errors in transcribing the number, and detects all single-digit errors and almost all transpositions of two adjacent digits. The algorithm may be written as the following steps. \n",
    "\n",
    "    1. Reverse the number.\n",
    "    2. Treating the number as an array of digits, take the even-indexed digits (where the indexes start at 1 ) and double their values. If a doubled digit results in a number greater than 10, add the two digits (e.g., the digit 6 becomes 12 and hence 1 + 2 = 3).\n",
    "    3. Sum this modified array.\n",
    "    4. If the sum of the array modulo 10 is 0 the credit card number is valid.\n",
    "    \n",
    "Write a Python program to take a credit card number as a string of digits (possibly in\n",
    "groups, separated by spaces) and establish if it is valid or not. For example, the string ’4799 2739 8713 6272’ is a valid credit card number, but any number with a single digit in this string changed is not.\n",
    "\n",
    "**Catch a bug** \n",
    "\n",
    "A Harshad number is an integer that is divisible by the sum of its digits (e.g., 21 is divisible by 2 + 1 = 3 and so is a Harshad number). Correct the following code which should return True or False if n is a Harshad number or not respectively. The code when run on some number ``is_harshad(21)`` gives error. Find the error and fix it.  \n",
    "\n",
    "```python\n",
    "def digit_sum(n):\n",
    "\n",
    "    \"\"\" Find the sum of the digits of integer n. \"\"\"\n",
    "    s_digits = list(str(n)) dsum = 0\n",
    "    for s_digit in s_digits:\n",
    "        dsum += int(s_digit) \n",
    "\n",
    "def is_harshad(n):\n",
    "    return not n % digit_sum(n)\n",
    "```"
   ]
  }
 ],
 "metadata": {
  "kernelspec": {
   "display_name": "Python 3",
   "language": "python",
   "name": "python3"
  },
  "latex_envs": {
   "LaTeX_envs_menu_present": true,
   "autoclose": false,
   "autocomplete": true,
   "bibliofile": "biblio.bib",
   "cite_by": "apalike",
   "current_citInitial": 1,
   "eqLabelWithNumbers": true,
   "eqNumInitial": 1,
   "hotkeys": {
    "equation": "Ctrl-E",
    "itemize": "Ctrl-I"
   },
   "labels_anchors": false,
   "latex_user_defs": false,
   "report_style_numbering": false,
   "user_envs_cfg": false
  },
  "toc": {
   "base_numbering": 1,
   "nav_menu": {},
   "number_sections": false,
   "sideBar": true,
   "skip_h1_title": false,
   "title_cell": "Table of Contents",
   "title_sidebar": "Contents",
   "toc_cell": true,
   "toc_position": {},
   "toc_section_display": true,
   "toc_window_display": false
  }
 },
 "nbformat": 4,
 "nbformat_minor": 4
}

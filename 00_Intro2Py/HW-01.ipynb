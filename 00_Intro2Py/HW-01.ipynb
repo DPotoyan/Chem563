{
 "cells": [
  {
   "cell_type": "markdown",
   "metadata": {},
   "source": [
    "# Homework 1"
   ]
  },
  {
   "cell_type": "code",
   "execution_count": 12,
   "metadata": {},
   "outputs": [],
   "source": [
    "import numpy as np\n",
    "import matplotlib.pyplot as plt\n",
    "\n",
    "%matplotlib inline"
   ]
  },
  {
   "cell_type": "markdown",
   "metadata": {},
   "source": [
    "### Problem 1: The basics"
   ]
  },
  {
   "cell_type": "markdown",
   "metadata": {},
   "source": [
    " \n",
    "0. Acess and pring the length as well as first, middle and last letters of the string ``dna_string = \"ACGCAGG\"``\n",
    "<br><br>\n",
    "1. Create two lists ```x=[1,2,4,\"dog\", \"xy\"]``` and ```y =[3,4,5,\"cat\", \"a\"]``` and do ``x+y``. XY=x[:3]+y[:3]. Comment on what XY does. Any other way to achieve same result? <br><br>\n",
    "2. Create two numpy arrays ``a=np.array([1,2,3])`` and ``b=np.array(10,10,10)`` . The do ``a+b``, ``a*b`` and ``a@b``. Comment what happens\n",
    "<br><br>\n",
    "3. Create two string variables ``s1=\"I am\"`` and ``s2=\"  Python Ninja\"`` (notice the space). First do s1+sw and comment. Next Capitalize every other element in the string. \n",
    "<br><br>\n",
    "4. Loop over items in lists in 1 by prining the numbers only. \n",
    "<br><br>\n",
    "5. Create two string variables by typing ``mol1 = \"CH3\"`` and ``mol2= \"CH2\"``. Using only these two strings and arithmetic operations on strings (+ and/or multiply *) create a third variable that would represent molecule of octane.\n",
    "<br><br>\n",
    "7. Create two arrays $A=x^3$ and $B=3x^2+1$ by generating array of numbers  using linspace method between points 1 and 10 divided into 1000 parts.  \n",
    "<br><br>\n",
    "8. Compute dot product between A and B\n",
    "<br><br>\n",
    "9. plot A vs B, plot A vs array of integers 1,2,3... of same length as A. Do the same for B\n",
    "<br><br>\n",
    "10. Select right half elements of A using slicing and set them to 0. plot A via ``plt.plot(A)`` to verify."
   ]
  },
  {
   "cell_type": "code",
   "execution_count": null,
   "metadata": {},
   "outputs": [],
   "source": [
    "x=[1,2,4,\"dog\", \"xy\"]\n",
    "y =[3,4,5,\"cat\", \"a\"]"
   ]
  },
  {
   "cell_type": "markdown",
   "metadata": {},
   "source": [
    "### Problem 2: Polynomial"
   ]
  },
  {
   "cell_type": "markdown",
   "metadata": {},
   "source": [
    "- **Step-1** Compute the value of the polynomial $y=ax^5+bx^3+c$ at $x=−2$, $x=0$, and $x=2.1$ by using $a=1$, $b=1$, $c=−6$ as parameters. Print the results to the screen.\n",
    "<br><br>\n",
    "- **Step-2** plot the polynomial as a function of x with given parameters"
   ]
  },
  {
   "cell_type": "markdown",
   "metadata": {},
   "source": [
    "### Problem 3: Binomial coefficients $C^k_{n}$"
   ]
  },
  {
   "cell_type": "markdown",
   "metadata": {},
   "source": [
    "- **Step-1** Write a function that computes binomial coefficients given n and k as input. You can consult [Wikipedia](https://en.wikipedia.org/wiki/Binomial_coefficient)\n",
    "\n",
    "```python\n",
    "def C(n,k):\n",
    "    ....\n",
    "    return ...\n",
    "```\n",
    "\n",
    "- **Step-2** Compare your function with binom function from of scipy. Do help(binom) to learn more\n",
    "```python\n",
    "from scipy.special import binom\n",
    "```\n",
    "\n",
    "- **Step-3** Make several plots of binomial coefficients C(n,k) as a function of k values for different fixed n.\n",
    "E.g n =2 n= 8 n=16 n=23 n=64 \n",
    "\n",
    "```python\n",
    "plt.plot(k, C(16,k), '-o')\n",
    "...\n",
    "```"
   ]
  },
  {
   "cell_type": "code",
   "execution_count": null,
   "metadata": {},
   "outputs": [],
   "source": []
  }
 ],
 "metadata": {
  "kernelspec": {
   "display_name": "Python 3",
   "language": "python",
   "name": "python3"
  },
  "language_info": {
   "codemirror_mode": {
    "name": "ipython",
    "version": 3
   },
   "file_extension": ".py",
   "mimetype": "text/x-python",
   "name": "python",
   "nbconvert_exporter": "python",
   "pygments_lexer": "ipython3",
   "version": "3.6.7"
  }
 },
 "nbformat": 4,
 "nbformat_minor": 4
}

{
  "cells": [
    {
      "cell_type": "markdown",
      "source": [
        "# Homework 4. Thermodynamics review.  \n",
        "\n",
        "<em>“If someone points out to you that your pet theory of the universe is in disagreement with Maxwell’s equations — then so much the worse for Maxwell's equations. If it is found to be contradicted by observation — well, these experimentalists do bungle things sometimes. But if your theory is found to be against the second law of thermodynamics I can give you no hope; there is nothing for it but to collapse in deepest humiliation.” <br>\n",
        "— Arthur Eddington, The Nature of the Physical World (1928) <em>\n",
        "\n",
        "## *Due on Monday Feb 17rd*"
      ],
      "metadata": {}
    },
    {
      "cell_type": "markdown",
      "source": [
        "### Problem-1"
      ],
      "metadata": {}
    },
    {
      "cell_type": "markdown",
      "source": [
        " 1. Give an example of a process in which a system is not heated, but its temperature increases. Also give an example of a process in which a system is heated, but its temperature is unchanged.\n",
        " \n",
        "2. Which states are in an equilibrium state, a time dependent non-equilibrium state, or time independent but still non-equilibrium state (e.g steady stae). Explain your reasoning. In some cases, the state is not a true steady or equilibrium state but close to one. Discuss under what conditions it can be treated as a steady or equilibrium state. \n",
        "    - a cup of hot tea, sitting on the table while cooling down \n",
        "    - the wine in a bottle that is stored in a wine cellar \n",
        "    - the sun \n",
        "    - the atmosphere of the earth \n",
        "    - electrons in the wiring of a flashlight switched off \n",
        "    - electrons in the wiring of a flashlight switched on\n",
        "3. What is meant by a constraint in thermodynamics and why its removal must always lead to increase of entropy?\n",
        "4. What is meant by a quasi-static process in thermodynamics and how this idealization is used for computing changes in thermodynamic variables?\n",
        "5. What is the difference between fundemtnal equation in thermodyamics $S(E,V,N)=$ vs state equation $P(V,N,T)$ e.g like $PV=NRT$ for ideal gas. \n",
        "\n",
        "6. Why during a spotneous transofrmation of systems  entropy tend to its maximum value. This is the reason why we use entropy maximization as a powerful tool to predict the final equilibrium states. \n",
        "\n",
        "7. Why do we introduce Free energies of various kinds? Explain why free energy minimization is equivalent of total entropy maximization. \n",
        "\n",
        "8. Can part of the entropy of a part of a total system decrease? Give some exmaples. \n",
        "\n",
        "9. Does the change of the entropy depend on the path between two equilibrium states?\n",
        "\n",
        "10. \n",
        "\n"
      ],
      "metadata": {
        "nteract": {
          "transient": {
            "deleting": false
          }
        }
      }
    },
    {
      "cell_type": "markdown",
      "source": [
        "### Problem-2"
      ],
      "metadata": {}
    },
    {
      "cell_type": "markdown",
      "source": [
        "**Expansion of a gas into vacuum**\n",
        "-  Suppose that a gas expands adiabatically into a vacuum. What is the work done by the gas?\n",
        "- Suppose that the total energy of the gas is given by \n",
        "$$E = 3/2NkT −N^2 V/a$$\n",
        " Initially the gas occupies a volume $V_1$ at a temperature $T_1$. The gas then expands adiabatically into a vacuum so that it occupies a total volume $V_2$. What is the final temperature $T_2$ of the gas?"
      ],
      "metadata": {
        "nteract": {
          "transient": {
            "deleting": false
          }
        }
      }
    },
    {
      "cell_type": "markdown",
      "source": [
        "### Problem-3\n",
        "** Entropy Changes**"
      ],
      "metadata": {}
    },
    {
      "cell_type": "markdown",
      "source": [
        "1. kg of water (specific heat = 4.2 kJ/(kg·K)) at $0 ^oC$ is in contact with a $50 ^oC$ heat bath, and eventually reaches $50 ^oC$. What is the entropy change of the water? What is the increase of the entropy of this water plus the heat bath?\n",
        "\n",
        "2. Instead of (1) first the water at $0 ^oC$ is in contact with a $25 ^oC$ heat bath. Then, after reaching thermal equilibrium, the water is in contact with a $50 ^oC$ heat bath to reach the final temperature $50 ^oC$ as in (1). What is the increase of the entropy of the water plus the two heat baths?\n",
        "\n",
        "3. Show that in the two-step heating process whatever the first heat bath temperature T is between $0^oC$ and $50^oC$, the total change of entropy of the water plus heat baths is less than the case of (1)"
      ],
      "metadata": {
        "nteract": {
          "transient": {
            "deleting": false
          }
        }
      }
    },
    {
      "cell_type": "markdown",
      "source": [
        "### Problem-4\n",
        "\n",
        "**Legendre transforms**\n",
        "\n",
        "Carry out the following transformations:\n",
        "\n",
        "- From $f(x) = x^2+x^4$ to $g(a)$ \n",
        "\n",
        "- From $f(x,y,z) = x^2+y^4+logz$ to $g(a,b,c)$\n",
        "\n",
        "- From $G(T,p,N)$ to $A(S,p,N)$\n",
        "\n",
        "- From $\\Omega(T,p,\\mu)$ to $E(S,V,N)$\n",
        "\n"
      ],
      "metadata": {}
    },
    {
      "cell_type": "markdown",
      "source": [
        "### Problem-5"
      ],
      "metadata": {}
    },
    {
      "cell_type": "markdown",
      "source": [
        "Derive the following identities: \n",
        "\n",
        "- $$\\Big( \\frac{\\partial C_p}{\\partial P} \\Big)_T = - T \\Big( \\frac{\\partial^2 V}{\\partial T^2} \\Big)_P$$\n",
        "\n",
        "- $$\\Big( \\frac{\\partial C_v}{\\partial V} \\Big)_T =  T \\Big( \\frac{\\partial^2 P}{\\partial T^2} \\Big)_V$$\n"
      ],
      "metadata": {
        "nteract": {
          "transient": {
            "deleting": false
          }
        }
      }
    },
    {
      "cell_type": "markdown",
      "source": [],
      "metadata": {
        "nteract": {
          "transient": {
            "deleting": false
          }
        }
      }
    }
  ],
  "metadata": {
    "kernelspec": {
      "display_name": "Python 3",
      "language": "python",
      "name": "python3"
    },
    "language_info": {
      "name": "python",
      "version": "3.6.7",
      "mimetype": "text/x-python",
      "codemirror_mode": {
        "name": "ipython",
        "version": 3
      },
      "pygments_lexer": "ipython3",
      "nbconvert_exporter": "python",
      "file_extension": ".py"
    },
    "nteract": {
      "version": "0.21.0"
    }
  },
  "nbformat": 4,
  "nbformat_minor": 2
}
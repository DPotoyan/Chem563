{
 "cells": [
  {
   "cell_type": "markdown",
   "metadata": {
    "slideshow": {
     "slide_type": "slide"
    }
   },
   "source": [
    "# Homework 4. Thermodynamics review.  \n",
    "\n",
    "<em>“If someone points out to you that your pet theory of the universe is in disagreement with Maxwell’s equations — then so much the worse for Maxwell's equations. If it is found to be contradicted by observation — well, these experimentalists do bungle things sometimes. But if your theory is found to be against the second law of thermodynamics I can give you no hope; there is nothing for it but to collapse in deepest humiliation.” <br>\n",
    "— Arthur Eddington, The Nature of the Physical World (1928) <em>\n",
    "\n",
    "## *Due on Monday Feb 17rd*"
   ]
  },
  {
   "cell_type": "markdown",
   "metadata": {
    "slideshow": {
     "slide_type": "slide"
    }
   },
   "source": [
    "### Problem-1"
   ]
  },
  {
   "cell_type": "markdown",
   "metadata": {
    "nteract": {
     "transient": {
      "deleting": false
     }
    },
    "slideshow": {
     "slide_type": "slide"
    }
   },
   "source": [
    " 1. Give an example of a process in which a system is not heated, but its temperature increases. Also give an example of a process in which a system is heated, but its temperature is unchanged.\n",
    " \n",
    "2. Which states are in an equilibrium state, a time dependent non-equilibrium state, or time independent but still non-equilibrium state (e.g steady stae). Explain your reasoning. In some cases, the state is not a true steady or equilibrium state but close to one. Discuss under what conditions it can be treated as a steady or equilibrium state. \n",
    "    - a cup of hot tea, sitting on the table while cooling down \n",
    "    - the wine in a bottle that is stored in a wine cellar \n",
    "    - the sun \n",
    "    - the atmosphere of the earth \n",
    "    - electrons in the wiring of a flashlight switched off \n",
    "    - electrons in the wiring of a flashlight switched on\n",
    "3. What is meant by a constraint in thermodynamics and why its removal must always lead to increase of entropy?\n",
    "4. What is meant by a quasi-static process in thermodynamics and how this idealization is used for computing changes in thermodynamic variables?\n",
    "5. What is the difference between fundemtnal equation in thermodyamics $S(E,V,N)=$ vs state equation $P(V,N,T)$ e.g like $PV=NRT$ for ideal gas. \n",
    "\n",
    "6. Why during a spotneous transofrmation of systems  entropy tend to its maximum value. This is the reason why we use entropy maximization as a powerful tool to predict the final equilibrium states. \n",
    "\n",
    "7. Why do we introduce Free energies of various kinds? Explain why free energy minimization is equivalent of total entropy maximization. \n",
    "\n",
    "8. Can part of the entropy of a part of a total system decrease? Give some exmaples. \n",
    "\n",
    "9. Does the change of the entropy depend on the path between two equilibrium states?\n",
    "\n",
    "10. How is adiabatic process different from quasistatic and reversible process?  \n",
    "\n"
   ]
  },
  {
   "cell_type": "markdown",
   "metadata": {
    "slideshow": {
     "slide_type": "slide"
    }
   },
   "source": [
    "### <mark> SOLUTION-1 </mark>\n",
    "    \n",
    "1. Doing work on the system such as turing on stirring device in a solution. During phase transitions, such as when ice melts or water evaporates heat is being absorbed but the temperature remains constant. \n",
    "\n",
    "2. Equilibirum is a time scale issue, if during the time of the observation the system shows no time dependence than the system is in equilibirum. \n",
    "\n",
    "3. Constraint, broadly speaking is a restriction (or construction) which prevents the system from acessing states. Constraints can be in the form of mechanical, chemical thermal insulators whcih cutoff system from environment. Removal of constraints makes new states acessible to the system hence new conditions for maximizing the Entropy. Since equilibirum is characterizied by the maximum of entropy given constraints then removal of a constraint always leads to new equilibirum and hence to increasing entropy (2nd Law).\n",
    "\n",
    "4. Quasistatic path is path taken by the system in a manner which keeps the system in equilibrium at all times. That is the reason why the change is slow and the difference between the intensive variables that drive the change are infinitesimally small. Quasistatic path is an idealization helpful for computing differneces between state functions of thermodynamic states.\n",
    "\n",
    "5. Fundamenal equation containscomplete information about equilibrium inclduing all relationships between extensive and intensive variables. State equation is obtained from fundmental equation $E(S,V,N)$ or $S(E,V,N)$ by takind appropriate derivatives. \n",
    "\n",
    "6. Equilibrium of an isolated system is characterizied by a constant entropy. Any change in the system must be accompanies by the increase of entropy as demanded by the second law. Thus entropy increases untill attaining maximum possible value given the constraints. E.g heat flows from hot to cold system untill temperatures are equal.\n",
    "\n",
    "7. We would like to study systems under more convenient T=const and P=const conditions. The 2nd law and entropy maximization is conveniently expressed as minimization of free energies of systems under constant T and P conditions. Mathematically this is done by legandre transforming extensive quanties to obtain dependence on intensive quantities which gives us more convenient handles to controll the system. \n",
    "\n",
    "8. As long as total entropy is constant or increasing any subparts can decrease entropy without violating the 2nd Law. E.g reversible heat exchange in carno engine the system absorbed heat from hot bath thereby decreasing entropy of hot bath and then donates heat to cold bath thereby decreasing systems entropy. The total entropy change however is zero by definition! Since we are talking about refersible engine which comes back to same point and since entropy is a state function then \n",
    "\n",
    "$$\\Delta S_{tot} = \\Delta S_{hot} +\\Delta S +\\Delta S_{cold}=0$$\n",
    "\n",
    "9. Nope! Answered by previous question. Note that entropy in thermodynamics is defined in terms of a path dependent quantity, the heat! $dS= \\frac{\\delta Q}{T}$ . Clausius found out that dividing (thermally normalizing?) the heat exhanve with the system in equilibirum by its temperature makes it a state function hence it was a good enough reason to introduce entropy. \n",
    "\n",
    "10. Adiabatic process may or may not be quasistatic. e.g in free expansion of gas no heat is exchange yet the change is not gradual and is in fact pure non-equilibirum. "
   ]
  },
  {
   "cell_type": "markdown",
   "metadata": {
    "slideshow": {
     "slide_type": "slide"
    }
   },
   "source": [
    "### Problem-2"
   ]
  },
  {
   "cell_type": "markdown",
   "metadata": {
    "nteract": {
     "transient": {
      "deleting": false
     }
    },
    "slideshow": {
     "slide_type": "slide"
    }
   },
   "source": [
    "**Expansion of a gas into vacuum**\n",
    "-  Suppose that a gas expands adiabatically into a vacuum. What is the work done by the gas?\n",
    "- Suppose that the total energy of the gas is given by \n",
    "$$E = \\frac{3}{2}NkT −N^2 \\frac{a}{V}$$\n",
    " Initially the gas occupies a volume $V_1$ at a temperature $T_1$. The gas then expands adiabatically into a vacuum so that it occupies a total volume $V_2$. What is the final temperature $T_2$ of the gas?"
   ]
  },
  {
   "cell_type": "markdown",
   "metadata": {
    "slideshow": {
     "slide_type": "slide"
    }
   },
   "source": [
    "### <mark> SOLUTION-2 </mark>"
   ]
  },
  {
   "cell_type": "markdown",
   "metadata": {
    "slideshow": {
     "slide_type": "slide"
    }
   },
   "source": [
    "Adiabatic free expansion implies that gas does no work ($W=0$) and no heat is exchanged ($Q=0$). \n",
    "\n",
    "Note  that free expansion is non-equilibirum process and to use thermodynamics we construct quasistatic reversible path connecting first and last points. The path often involves gas doing work against piston allowing us to estimate entropy change for instance."
   ]
  },
  {
   "cell_type": "markdown",
   "metadata": {
    "slideshow": {
     "slide_type": "slide"
    }
   },
   "source": [
    "- Internal energy is a state function $E(N,V,T)$ \n",
    "\n",
    "- Adiabatic expansion means no heat is exchanged and work done hence internal energy of container remains constant $E(N,V_2,T_2)-E(N,V_1,T_1) = 0$\n",
    "\n",
    "$$\\frac{3}{2} Nk (T_2-T_1) - N^2 a\\Big ( \\frac{1}{V_2} - \\frac{1}{V_1} \\Big) = 0$$"
   ]
  },
  {
   "cell_type": "markdown",
   "metadata": {
    "slideshow": {
     "slide_type": "slide"
    }
   },
   "source": [
    "### Problem-3\n",
    "**Entropy Changes**"
   ]
  },
  {
   "cell_type": "markdown",
   "metadata": {
    "nteract": {
     "transient": {
      "deleting": false
     }
    },
    "slideshow": {
     "slide_type": "slide"
    }
   },
   "source": [
    "1. kg of water (specific heat = 4.2 kJ/(kg·K)) at $0 ^oC$ is in contact with a $50 ^oC$ heat bath, and eventually reaches $50 ^oC$. What is the entropy change of the water? What is the increase of the entropy of this water plus the heat bath?\n",
    "\n",
    "2. Instead of (1) first the water at $0 ^oC$ is in contact with a $25 ^oC$ heat bath. Then, after reaching thermal equilibrium, the water is in contact with a $50 ^oC$ heat bath to reach the final temperature $50 ^oC$ as in (1). What is the increase of the entropy of the water plus the two heat baths?\n",
    "\n",
    "3. Show that in the two-step heating process whatever the first heat bath temperature T is between $0^oC$ and $50^oC$, the total change of entropy of the water plus heat baths is less than the case of (1)"
   ]
  },
  {
   "cell_type": "markdown",
   "metadata": {
    "slideshow": {
     "slide_type": "slide"
    }
   },
   "source": [
    "### <mark> SOLUTION-3 </mark>\n",
    "\n",
    "1. Entropy is a state function.Thus,the increase of the entropy of the system(water) is the entropy difference between the two equilibrium states. To get $S$ we use a quasistatic process connecting these states. Along such a process $dS = CdT/T$, so we get:\n",
    "\n",
    "$$\\Delta S = \\int^{323}_{273} \\frac{C_v dT}{T} = 4.2 log \\frac{323}{273} = 0.706$$\n",
    "\n",
    "The entropy inrease of the heat bath (const T) is \n",
    "\n",
    "$$\\Delta S_{r}= \\frac{Q}{T} = \\frac{-4.2 \\cdot 50}{323 }= -0.650\\,\\,\\, kJ K^{-1}$$\n",
    "\n",
    "Therefore $$\\Delta S_{tot} = 0.706 - 0.65 =+ 0.056 kJ \\cdot K^{-1}$$"
   ]
  },
  {
   "cell_type": "markdown",
   "metadata": {
    "slideshow": {
     "slide_type": "slide"
    }
   },
   "source": [
    "2. The system entropy increase is the same as (1) (it is the difference of the state function values). The entropy absorbed by two baths is:\n",
    "\n",
    "$$ \\Delta S_{r} = -4.2 \\cdot 25 \\Big(\\frac{1}{298}+\\frac{1}{323} \\Big)=-0.677$$"
   ]
  },
  {
   "cell_type": "markdown",
   "metadata": {
    "slideshow": {
     "slide_type": "slide"
    }
   },
   "source": [
    "3. We can see that $T=273$ is always larger, that is the colder the system the larger the gain in total entropy:\n",
    "\n",
    "\n",
    "$$ −4.2×((T−273)/T+(323−T)/323)=−4.2(2−273/T−T/323)$$ "
   ]
  },
  {
   "cell_type": "markdown",
   "metadata": {
    "slideshow": {
     "slide_type": "slide"
    }
   },
   "source": [
    "### Problem-4\n",
    "\n",
    "**Legendre transforms**\n",
    "\n",
    "Carry out the following transformations and plot the resulting function with matploltib. \n",
    "\n",
    "- From $f(x) = x^2+x^4$ to $g(a)$ \n",
    "\n",
    "- From $f(x,y,z) = x^2+y^4+logz$ to $g(a,b,c)$\n",
    "\n",
    "- From $G(T,p,N)$ to $A(T,V,N)$\n",
    "\n",
    "- From $\\Omega(T,p,\\mu)$ to $E(S,V,N)$\n",
    "\n",
    "\n"
   ]
  },
  {
   "cell_type": "code",
   "execution_count": 2,
   "metadata": {
    "inputHidden": false,
    "outputHidden": false,
    "slideshow": {
     "slide_type": "slide"
    }
   },
   "outputs": [],
   "source": [
    "import numpy as np\n",
    "import matplotlib.pyplot as plt"
   ]
  },
  {
   "cell_type": "code",
   "execution_count": 3,
   "metadata": {
    "inputHidden": false,
    "outputHidden": false,
    "slideshow": {
     "slide_type": "slide"
    }
   },
   "outputs": [
    {
     "data": {
      "text/plain": [
       "[<matplotlib.lines.Line2D at 0x11b257eb8>]"
      ]
     },
     "execution_count": 3,
     "metadata": {},
     "output_type": "execute_result"
    },
    {
     "data": {
      "image/png": "[encoded data removed]",
      "text/plain": [
       "<Figure size 432x288 with 1 Axes>"
      ]
     },
     "metadata": {
      "needs_background": "light"
     },
     "output_type": "display_data"
    }
   ],
   "source": [
    "x=np.linspace(-1,1,100)\n",
    "plt.plot(x,x**2+x**4)"
   ]
  },
  {
   "cell_type": "code",
   "execution_count": 4,
   "metadata": {
    "inputHidden": false,
    "outputHidden": false,
    "slideshow": {
     "slide_type": "slide"
    }
   },
   "outputs": [],
   "source": [
    "f =  lambda x: x**4 +x**2\n",
    "\n",
    "df = lambda x: 4*x**3 +2*x"
   ]
  },
  {
   "cell_type": "code",
   "execution_count": 6,
   "metadata": {
    "inputHidden": false,
    "outputHidden": false,
    "slideshow": {
     "slide_type": "slide"
    }
   },
   "outputs": [
    {
     "data": {
      "text/plain": [
       "[<matplotlib.lines.Line2D at 0x11b842c18>]"
      ]
     },
     "execution_count": 6,
     "metadata": {},
     "output_type": "execute_result"
    },
    {
     "data": {
      "image/png": "[encoded data removed]",
      "text/plain": [
       "<Figure size 432x288 with 1 Axes>"
      ]
     },
     "metadata": {
      "needs_background": "light"
     },
     "output_type": "display_data"
    }
   ],
   "source": [
    "# 4x**3+2x = a\n",
    "a = np.linspace(-1,1,100)\n",
    "\n",
    "x2a = np.array([np.roots([4,0,2,a_i])[2].real for a_i in a])\n",
    "\n",
    "g_a = f(x2a) - a*df(x2a)\n",
    "\n",
    "plt.plot(a,g_a)"
   ]
  },
  {
   "cell_type": "markdown",
   "metadata": {
    "slideshow": {
     "slide_type": "slide"
    }
   },
   "source": [
    "- $A(T,V,N) = G(T,p,N)+PV$\n",
    "\n",
    "- $\\Omega(T,p,\\mu) = E(S,V,N) - T\\cdot S +P\\cdot V+\\mu \\cdot N$"
   ]
  },
  {
   "cell_type": "markdown",
   "metadata": {
    "slideshow": {
     "slide_type": "slide"
    }
   },
   "source": [
    "### Problem-5"
   ]
  },
  {
   "cell_type": "markdown",
   "metadata": {
    "nteract": {
     "transient": {
      "deleting": false
     }
    },
    "slideshow": {
     "slide_type": "slide"
    }
   },
   "source": [
    "Derive the following identities: \n",
    "\n",
    "- $$\\Big( \\frac{\\partial C_p}{\\partial P} \\Big)_T = - T \\Big( \\frac{\\partial^2 V}{\\partial T^2} \\Big)_P$$\n",
    "\n",
    "- $$\\Big( \\frac{\\partial C_v}{\\partial V} \\Big)_T =  T \\Big( \\frac{\\partial^2 P}{\\partial T^2} \\Big)_V$$\n"
   ]
  },
  {
   "cell_type": "markdown",
   "metadata": {
    "nteract": {
     "transient": {
      "deleting": false
     }
    },
    "slideshow": {
     "slide_type": "slide"
    }
   },
   "source": [
    "### <mark> SOLUTION-5 </mark>"
   ]
  },
  {
   "cell_type": "markdown",
   "metadata": {
    "slideshow": {
     "slide_type": "fragment"
    }
   },
   "source": [
    "Solving this problem requires some care distinguishing dependent and independent variables. First we make use of the heat capacity expressed via entropy  \n",
    "\n",
    "$$C_p=\\Big(\\frac{dQ}{dT} \\Big)_p=T\\Big(\\frac{ \\partial S}{ \\partial T} \\Big)_p$$"
   ]
  },
  {
   "cell_type": "markdown",
   "metadata": {
    "slideshow": {
     "slide_type": "fragment"
    }
   },
   "source": [
    "We have omited the condition of fixed n since no derivatives involve n and the epxression involves operation with T and p derivatives only:\n",
    "\n",
    "$$\\Big( \\frac{\\partial C_p}{\\partial p} \\Big)_{T}=  T \\Big [\\frac{\\partial }{\\partial p} \\Big(\\frac{\\partial S}{ \\partial T} \\Big)_p \\Big]_T = T \\Big [\\frac{\\partial }{\\partial T} \\Big(\\frac{\\partial S}{ \\partial p} \\Big)_T \\Big]_p$$"
   ]
  },
  {
   "cell_type": "markdown",
   "metadata": {
    "slideshow": {
     "slide_type": "slide"
    }
   },
   "source": [
    "In the last equality above we simply changed derivatives since partial differentiation is independent of order which is the basis for Maxwell relations. Speaking of which:  $$\\Big(\\frac{\\partial S}{ \\partial p} \\Big)_T  =-\\Big(\\frac{\\partial V}{ \\partial T} \\Big)_p $$ "
   ]
  },
  {
   "cell_type": "markdown",
   "metadata": {
    "slideshow": {
     "slide_type": "fragment"
    }
   },
   "source": [
    "Plugging the maxwell relation intou our expression of heat capacity derivative above we obtain the desried result: $$\\Big( \\frac{\\partial C_p}{\\partial p} \\Big)_{T} =  -T \\Big [\\frac{\\partial }{\\partial T} \\Big(\\frac{\\partial V}{ \\partial T} \\Big)_p \\Big]_p = -T \\Big(\\frac{\\partial^2 V}{ \\partial T^2} \\Big)_p   $$"
   ]
  }
 ],
 "metadata": {
  "celltoolbar": "Slideshow",
  "kernel_info": {
   "name": "python3"
  },
  "kernelspec": {
   "display_name": "Python 3",
   "language": "python",
   "name": "python3"
  },
  "language_info": {
   "codemirror_mode": {
    "name": "ipython",
    "version": 3
   },
   "file_extension": ".py",
   "mimetype": "text/x-python",
   "name": "python",
   "nbconvert_exporter": "python",
   "pygments_lexer": "ipython3",
   "version": "3.6.7"
  },
  "nteract": {
   "version": "0.15.0"
  }
 },
 "nbformat": 4,
 "nbformat_minor": 4
}

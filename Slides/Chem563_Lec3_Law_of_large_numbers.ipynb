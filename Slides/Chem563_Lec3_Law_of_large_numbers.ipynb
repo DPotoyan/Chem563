{
 "cells": [
  {
   "cell_type": "markdown",
   "metadata": {},
   "source": [
    "* ### Lecture-3* on Law of large number (LLN), Central Limit Theorem (CLT) and Large deviation theory (LDT) \n",
    "* #### \"The greatest theorems never told!\"\n",
    "* #### $#LLN$ $#Fluctuations$ $#Monte Carlo$\n"
   ]
  },
  {
   "cell_type": "markdown",
   "metadata": {},
   "source": [
    "#### Summary\n",
    "<div class=\"alert alert-block alert-info\"> Law of large numbers is an incredibly powerful tool for estimating porbabilities in all empirical sciences. Using repeated measurements of a variable a very accurate expectation value can be empirically inferred by using LLN. Also with LLN we can estimate high-dimensional integrals the kinds of which figure prominently in statistical mechanics. <div/>"
   ]
  },
  {
   "cell_type": "markdown",
   "metadata": {
    "collapsed": true
   },
   "source": [
    "To learn more check out the following links on __[LDP](https://en.wikipedia.org/wiki/Large_deviations_theory)__,\n",
    " __[LLN](https://en.wikipedia.org/wiki/Law_of_large_numbers)__ and __[CLT](https://en.wikipedia.org/wiki/Central_limit_theorem)__. Also see the acompanying numerical notebook on random numbers."
   ]
  },
  {
   "cell_type": "markdown",
   "metadata": {
    "collapsed": true
   },
   "source": [
    "### Chebyshev's inequality: A crucial link for proving the LLN.\n",
    "To prove law of large numbers we make use of Chebyshev's inequality which states: \n",
    "$$P(|X-E(X)|\\geq c) \\leq V(X)/c^2$$\n",
    "The inqueality says that probability of random variable X to exceed its expectation by some number c is bounded by ratio of variance of X and c. The proof of this inequality is fairly trivial. Frist we redefine $X=X-E(X)$ to make it mean-centered. Then we use definition of variance and state the obvious fact that integral over full range of x is greater or equal than integral over partial range of $x \\geq c$ $$V(X)=\\int_{\\{x\\}} X^2 dx \\geq \\int_{\\{x \\geq c \\}} X^2 dx \\geq c^2 \\int_{\\{x \\geq c \\}} dx  $$ \n",
    "Last equality is obtained since $X^2 \\geq c^2$ for the range $x \\geq c $. Thus we have the following inequality which then implies Chebyshev's inequality stated in the beginning $$ c^2 P(X \\geq c) \\leq V(X)  $$\n",
    "Applying Chebyshev inequality to the sample mean $X=\\frac{1}{N}\\sum^{N}_{n=1} X_n$ of random variables each with expectation of $E(X_1)$, yields a particularly useful form for empirical measurments:"
   ]
  },
  {
   "cell_type": "markdown",
   "metadata": {
    "collapsed": true
   },
   "source": [
    "$$P(\\Big |\\frac{1}{N}\\sum^{N}_{n=1} X_n-E(X_1)\\Big |\\geq \\epsilon) \\leq \\frac{V(X_1)}{\\epsilon^2 N}$$"
   ]
  },
  {
   "cell_type": "markdown",
   "metadata": {},
   "source": [
    "Where we have made use of the additive property of variance and expectation for independent and identically distirbuted random variables: $V \\Big(\\frac{1}{N}\\sum^{N}_{n=1} X_n \\Big)=\\frac{1}{N^2} V \\Big(\\sum^{N}_{n=1}X_n \\Big)=\\frac{1}{N^2} \\sum^{N}_{n=1} V(X_n)=\\frac{1}{N}V(X_1)$<br>\n",
    "$E(\\sum^{N}_{n=1} X_n )=\\sum^{N}_{n=1} E(X_n)=E(X_1)$"
   ]
  },
  {
   "cell_type": "markdown",
   "metadata": {
    "collapsed": true
   },
   "source": [
    "#### Central Limit Theorem (CLT)\n",
    "\n"
   ]
  },
  {
   "cell_type": "code",
   "execution_count": null,
   "metadata": {
    "collapsed": true
   },
   "outputs": [],
   "source": []
  },
  {
   "cell_type": "markdown",
   "metadata": {},
   "source": [
    "### --END--"
   ]
  },
  {
   "cell_type": "code",
   "execution_count": 1,
   "metadata": {},
   "outputs": [
    {
     "data": {
      "text/html": [
       "<style>\n",
       "    @font-face {\n",
       "        font-family: \"Computer Modern\";\n",
       "        src: url('http://9dbb143991406a7c655e-aa5fcb0a5a4ec34cff238a2d56ca4144.r56.cf5.rackcdn.com/cmunss.otf');\n",
       "    }\n",
       "    @font-face {\n",
       "        font-family: \"Computer Modern\";\n",
       "        font-weight: bold;\n",
       "        src: url('http://9dbb143991406a7c655e-aa5fcb0a5a4ec34cff238a2d56ca4144.r56.cf5.rackcdn.com/cmunsx.otf');\n",
       "    }\n",
       "    @font-face {\n",
       "        font-family: \"Computer Modern\";\n",
       "        font-style: oblique;\n",
       "        src: url('http://9dbb143991406a7c655e-aa5fcb0a5a4ec34cff238a2d56ca4144.r56.cf5.rackcdn.com/cmunsi.otf');\n",
       "    }\n",
       "    @font-face {\n",
       "        font-family: \"Computer Modern\";\n",
       "        font-weight: bold;\n",
       "        font-style: oblique;\n",
       "        src: url('http://9dbb143991406a7c655e-aa5fcb0a5a4ec34cff238a2d56ca4144.r56.cf5.rackcdn.com/cmunso.otf');\n",
       "    }\n",
       "    div.cell{\n",
       "        width:800px;\n",
       "        margin-left:16% !important;\n",
       "        margin-right:auto;\n",
       "    }\n",
       "    h1 {\n",
       "        font-family: Helvetica, serif;\n",
       "    }\n",
       "    h4{\n",
       "        margin-top:12px;\n",
       "        margin-bottom: 3px;\n",
       "       }\n",
       "    div.text_cell_render{\n",
       "        font-family: Computer Modern, \"Helvetica Neue\", Arial, Helvetica, Geneva, sans-serif;\n",
       "        line-height: 145%;\n",
       "        font-size: 130%;\n",
       "        width:800px;\n",
       "        margin-left:auto;\n",
       "        margin-right:auto;\n",
       "    }\n",
       "    .CodeMirror{\n",
       "            font-family: \"Source Code Pro\", source-code-pro,Consolas, monospace;\n",
       "    }\n",
       "    .prompt{\n",
       "        display: None;\n",
       "    }\n",
       "    .text_cell_render h5 {\n",
       "        font-weight: 300;\n",
       "        font-size: 22pt;\n",
       "        color: #4057A1;\n",
       "        font-style: italic;\n",
       "        margin-bottom: .5em;\n",
       "        margin-top: 0.5em;\n",
       "        display: block;\n",
       "    }\n",
       "\n",
       "    .warning{\n",
       "        color: rgb( 240, 20, 20 )\n",
       "        }\n",
       "</style>\n",
       "\n",
       "<style>\n",
       "div.summary {\n",
       "    background-color: \t#F5F5F5;\n",
       "    border-color: #dFb5b4;\n",
       "    border-left: 0px solid #F08080;\n",
       "    border-right: 0px solid #F08080;\n",
       "    border-top: 0px solid #F08080;\n",
       "    border-bottom: 0px solid #F08080;\n",
       "    }\n",
       " </style>\n",
       "\n",
       "<script>\n",
       "    MathJax.Hub.Config({\n",
       "                        TeX: {\n",
       "                           extensions: [\"AMSmath.js\"]\n",
       "                           },\n",
       "                tex2jax: {\n",
       "                    inlineMath: [ ['$','$'], [\"\\\\(\",\"\\\\)\"] ],\n",
       "                    displayMath: [ ['$$','$$'], [\"\\\\[\",\"\\\\]\"] ]\n",
       "                },\n",
       "                displayAlign: 'center', // Change this to 'center' to center equations.\n",
       "                \"HTML-CSS\": {\n",
       "                    styles: {'.MathJax_Display': {\"margin\": 4}}\n",
       "                }\n",
       "        });\n",
       "</script>\n"
      ],
      "text/plain": [
       "<IPython.core.display.HTML object>"
      ]
     },
     "execution_count": 1,
     "metadata": {},
     "output_type": "execute_result"
    }
   ],
   "source": [
    "# This part stays in the end and renders our markdown with beautiful style\n",
    "from IPython.core.display import HTML\n",
    "def set_css_style(css_file_path):\n",
    "    styles = open(css_file_path, \"r\").read()\n",
    "    return HTML(styles)\n",
    "set_css_style('./common/custom.css')"
   ]
  }
 ],
 "metadata": {
  "kernelspec": {
   "display_name": "Python 3",
   "language": "python",
   "name": "python3"
  },
  "language_info": {
   "codemirror_mode": {
    "name": "ipython",
    "version": 3
   },
   "file_extension": ".py",
   "mimetype": "text/x-python",
   "name": "python",
   "nbconvert_exporter": "python",
   "pygments_lexer": "ipython3",
   "version": "3.6.7"
  }
 },
 "nbformat": 4,
 "nbformat_minor": 2
}

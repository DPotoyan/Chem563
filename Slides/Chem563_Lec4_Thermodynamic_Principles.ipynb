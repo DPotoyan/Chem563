{
 "cells": [
  {
   "cell_type": "markdown",
   "metadata": {},
   "source": [
    "* ### Lecture 4\n",
    "* #### Review of the main principles of thermodynamics. \n",
    "*  \\#Equilibrium vs Non-equilibrium \\# Thermodynamic variables \\#Extensive vs Intensive  \\# Fundamental equation vs state equation \\#Quasistatic process and reversibility \\#Adiabatic vs diathermal trnasformation \\#Constraints  \\#Legendre transformation "
   ]
  },
  {
   "cell_type": "markdown",
   "metadata": {},
   "source": [
    "### Summary\n",
    "<br>\n",
    "<div class=\"alert-info\">\n",
    "<ul>\n",
    "    \n",
    "<li> Thermodynamics is a phenomoneological theory which describes macrosocpic phenomena in terms of handful of quanitites that can be observed and measrued by macroscopic devices without any refernce to microscopic details.\n",
    "<li>  The state of equilibrium is special. In equilibrium, macroscopic matter assumes a particularly simple description in terms of few extensive quantites. Equilibrium state is defined as a state where on the timescale of interest no measurable variable dsiplays any changes over time. In particular there are no macrosopic fluxex or flows of any form of energy or matter. \n",
    "<li> Central task of thermodynamics is predicting results of transformations between equilibrium states A and B. \n",
    "<li> The variables one deals in thermodynamics can be classifeid as extensive and intensive. Former depends on the size of system (volume, number of particles, energy, entropy) the latter is size independent (temperature, pressure, magnetic field, etc).     \n",
    "<li> Extensive variables are a priviledges set of variables becasue that uniquely describe equilibrium sates of matter. \n",
    "<li>  Intensive variables are derived from extensive ones and are conjugate pairs to extensive ones: $V-P$, $S-T$, $N-\\mu$ are conjugate pairs. Conjugate means one can replace extensive variables by the functions by the corresponding conjugate intensive variables. E.g via legendre transformation.\n",
    "<li>  Fundmanetal equation is the equation that binds together all extensive variables, e.g $E(U,V,S)$ or $E(U,V,S,N_1,N_2)$     \n",
    "<li> Transofrmations of stae A to B in thermodynamics are computed by devising an equilibrium path that connects A with B in the space of extensive variables.  \n",
    "    \n",
    "<div/>\n",
    " \n",
    "</ul> </div>"
   ]
  },
  {
   "cell_type": "markdown",
   "metadata": {},
   "source": [
    "### 1.0 Axiomatic apporach to thermodynamics"
   ]
  },
  {
   "cell_type": "markdown",
   "metadata": {},
   "source": [
    "There are two broad ways one can approach thermodynamics. A standard physics/chemistry/enginnering texbook apporach is to follow the historical path and motivate introduction of first and second laws on the examples of thermal physics, concepts of heat, heat engines, temperature, Carnot cycles etc. Such an apoorach is very appealing especially if is your first encounter with thermodynamics. However there is also a second approah which makes its focus the very nature of thermodynamic theory and its mathematical structure without regard to history or intutiviely appealing concepts of heat or temperature which instead are dervied from few fundamnetal principles accepted at the onset. This aximoatic apporach to thermodynamcis is much more powerful in that it provides a more structured machinery of using thermodynamcis which makes it easire to approach complex situations where eintution may fails us. Additionally the aximoatic apporah to thermodynamics allows one to appreciate nuances and connections that may have been masked by inutitive concepts. \n",
    "\n",
    "Here we will provide a brief sketch of thermodynamcis following this more aximoatic approach. This approach is heavily influenced by the text of Herbert Callen and that of Howard Reis. Several books on statistical mechanics present the aximoatic version of thermodynamics as its generality allows for a much clearer connection with the ideas of statistical mechanics. "
   ]
  },
  {
   "cell_type": "markdown",
   "metadata": {},
   "source": [
    "### 2.0 Introducing thermodynamic coordinate and thermodynamic space. "
   ]
  },
  {
   "cell_type": "markdown",
   "metadata": {},
   "source": [
    "As a phenomenological theory of macroscale matter thermodynamics operates with physical quantities that one can measrue at the macroscale. However we must be careful in choosing which variables to use for consturcting self contained, complete theory. Thermodynamic coordinates for constructing such a theory are the extensive variables such as energy (E), volume (V), number of particles (N) and  any other extensive variable that one intends to control. The extensive variables are clearly priviledged in a sense that (i) they are proportional to the size of the system (ii) they uniquely describe macroscopic states (iii) to understand them we only need mechanics/electromagnetis without need of introducing notions of heat and temperature. The intensive variables such as temperature, pressure and magnetic field are derived from extensive variables and are conveient variables for controlling experiments. However intensive variables do not have the same status of extenisve variables. A glass of water with and without ice cube can both be under 1 atm and 0 C whereas values of energy, entropy volume will be different. \n",
    "\n",
    "Having defined thermodynamic coordinates (E,V,N...) we now define an important notion of thermodynamic space, which is a space spaned by thermodynamic coordinates. For each equilibrium stae of macrosystem there corresponds a single unique point in thermodynami space. Thermdoynamics then becomes ia theroy of transformations of macroscopic systems in thermodynami space. For the sake of completeness we should note that converse is not true. That is in general non-equilibrium states will be outisde of thermodynamic states beacsue they need more variables to describe the stae of the system  unqielly. One may draw a dot in thermodynamic space for the rapidlly cooling glass of hot water by specifying volume, energy, number of particles. But it would not be a unique state since we do not know the rate of cooling which makes it a very differnet system than an quilibrium state with same set of variables. Hence we must caefully examine the context of our system to assing a point in thermodynamic space.   "
   ]
  },
  {
   "cell_type": "markdown",
   "metadata": {},
   "source": [
    "### 3.0 Quasistatic process. "
   ]
  },
  {
   "cell_type": "code",
   "execution_count": 1,
   "metadata": {},
   "outputs": [],
   "source": [
    "import numpy as np"
   ]
  },
  {
   "cell_type": "code",
   "execution_count": 7,
   "metadata": {},
   "outputs": [],
   "source": [
    "X=np.array(['A','B','C','A']) # suppse you have array of letters\n",
    "dic={'A':0,'B':1,'C':2}   # define dictionary that assings numbers to all possible letters\n",
    "Y=[dic[x] for x in X]     # make a new list, using list comprehensions. \n",
    "Y=np.array(Y,dtype='int') # make an array of type int or float"
   ]
  },
  {
   "cell_type": "code",
   "execution_count": 13,
   "metadata": {},
   "outputs": [],
   "source": [
    "X=np.array(['A','B','C','A'])"
   ]
  },
  {
   "cell_type": "code",
   "execution_count": 17,
   "metadata": {},
   "outputs": [],
   "source": [
    "X=X.reshape(2,2)"
   ]
  },
  {
   "cell_type": "code",
   "execution_count": 21,
   "metadata": {},
   "outputs": [
    {
     "data": {
      "text/plain": [
       "array([['A', 'B'],\n",
       "       ['C', 'A']], dtype='<U1')"
      ]
     },
     "execution_count": 21,
     "metadata": {},
     "output_type": "execute_result"
    }
   ],
   "source": [
    "X"
   ]
  },
  {
   "cell_type": "code",
   "execution_count": 26,
   "metadata": {},
   "outputs": [
    {
     "data": {
      "text/plain": [
       "[array(['A', 'B'], dtype='<U1'), array(['C', 'A'], dtype='<U1')]"
      ]
     },
     "execution_count": 26,
     "metadata": {},
     "output_type": "execute_result"
    }
   ],
   "source": [
    "[x[:] for x in X] "
   ]
  },
  {
   "cell_type": "code",
   "execution_count": null,
   "metadata": {},
   "outputs": [],
   "source": []
  },
  {
   "cell_type": "code",
   "execution_count": null,
   "metadata": {},
   "outputs": [],
   "source": []
  },
  {
   "cell_type": "code",
   "execution_count": null,
   "metadata": {},
   "outputs": [],
   "source": []
  },
  {
   "cell_type": "markdown",
   "metadata": {},
   "source": [
    "#### --END--"
   ]
  },
  {
   "cell_type": "code",
   "execution_count": 4,
   "metadata": {},
   "outputs": [
    {
     "data": {
      "text/html": [
       "<style>\n",
       "    @font-face {\n",
       "        font-family: \"Computer Modern\";\n",
       "        src: url('http://9dbb143991406a7c655e-aa5fcb0a5a4ec34cff238a2d56ca4144.r56.cf5.rackcdn.com/cmunss.otf');\n",
       "    }\n",
       "    @font-face {\n",
       "        font-family: \"Computer Modern\";\n",
       "        font-weight: bold;\n",
       "        src: url('http://9dbb143991406a7c655e-aa5fcb0a5a4ec34cff238a2d56ca4144.r56.cf5.rackcdn.com/cmunsx.otf');\n",
       "    }\n",
       "    @font-face {\n",
       "        font-family: \"Computer Modern\";\n",
       "        font-style: oblique;\n",
       "        src: url('http://9dbb143991406a7c655e-aa5fcb0a5a4ec34cff238a2d56ca4144.r56.cf5.rackcdn.com/cmunsi.otf');\n",
       "    }\n",
       "    @font-face {\n",
       "        font-family: \"Computer Modern\";\n",
       "        font-weight: bold;\n",
       "        font-style: oblique;\n",
       "        src: url('http://9dbb143991406a7c655e-aa5fcb0a5a4ec34cff238a2d56ca4144.r56.cf5.rackcdn.com/cmunso.otf');\n",
       "    }\n",
       "    div.cell{\n",
       "        width:800px;\n",
       "        margin-left:16% !important;\n",
       "        margin-right:auto;\n",
       "    }\n",
       "    h1 {\n",
       "        font-family: Helvetica, serif;\n",
       "    }\n",
       "    h4{\n",
       "        margin-top:12px;\n",
       "        margin-bottom: 3px;\n",
       "       }\n",
       "    div.text_cell_render{\n",
       "        font-family: Computer Modern, \"Helvetica Neue\", Arial, Helvetica, Geneva, sans-serif;\n",
       "        line-height: 145%;\n",
       "        font-size: 130%;\n",
       "        width:800px;\n",
       "        margin-left:auto;\n",
       "        margin-right:auto;\n",
       "    }\n",
       "    .CodeMirror{\n",
       "            font-family: \"Source Code Pro\", source-code-pro,Consolas, monospace;\n",
       "    }\n",
       "    .prompt{\n",
       "        display: None;\n",
       "    }\n",
       "    .text_cell_render h5 {\n",
       "        font-weight: 300;\n",
       "        font-size: 22pt;\n",
       "        color: #4057A1;\n",
       "        font-style: italic;\n",
       "        margin-bottom: .5em;\n",
       "        margin-top: 0.5em;\n",
       "        display: block;\n",
       "    }\n",
       "\n",
       "    .warning{\n",
       "        color: rgb( 240, 20, 20 )\n",
       "        }\n",
       "</style>\n",
       "\n",
       "<style>\n",
       "div.summary {\n",
       "    background-color: \t#F5F5F5;\n",
       "    border-color: #dFb5b4;\n",
       "    border-left: 0px solid #F08080;\n",
       "    border-right: 0px solid #F08080;\n",
       "    border-top: 0px solid #F08080;\n",
       "    border-bottom: 0px solid #F08080;\n",
       "    }\n",
       " </style>\n",
       "\n",
       "<script>\n",
       "    MathJax.Hub.Config({\n",
       "                        TeX: {\n",
       "                           extensions: [\"AMSmath.js\"]\n",
       "                           },\n",
       "                tex2jax: {\n",
       "                    inlineMath: [ ['$','$'], [\"\\\\(\",\"\\\\)\"] ],\n",
       "                    displayMath: [ ['$$','$$'], [\"\\\\[\",\"\\\\]\"] ]\n",
       "                },\n",
       "                displayAlign: 'center', // Change this to 'center' to center equations.\n",
       "                \"HTML-CSS\": {\n",
       "                    styles: {'.MathJax_Display': {\"margin\": 4}}\n",
       "                }\n",
       "        });\n",
       "</script>\n"
      ],
      "text/plain": [
       "<IPython.core.display.HTML object>"
      ]
     },
     "execution_count": 4,
     "metadata": {},
     "output_type": "execute_result"
    }
   ],
   "source": [
    "from IPython.core.display import HTML\n",
    "def set_css_style(css_file_path):\n",
    "    styles = open(css_file_path, \"r\").read()\n",
    "    return HTML(styles)\n",
    "set_css_style('./common/custom.css')"
   ]
  }
 ],
 "metadata": {
  "kernelspec": {
   "display_name": "Python 3",
   "language": "python",
   "name": "python3"
  },
  "language_info": {
   "codemirror_mode": {
    "name": "ipython",
    "version": 3
   },
   "file_extension": ".py",
   "mimetype": "text/x-python",
   "name": "python",
   "nbconvert_exporter": "python",
   "pygments_lexer": "ipython3",
   "version": "3.6.4"
  }
 },
 "nbformat": 4,
 "nbformat_minor": 2
}

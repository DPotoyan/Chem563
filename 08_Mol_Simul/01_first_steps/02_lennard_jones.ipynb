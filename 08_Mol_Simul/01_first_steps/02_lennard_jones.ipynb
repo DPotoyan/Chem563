{
 "cells": [
  {
   "cell_type": "markdown",
   "metadata": {},
   "source": [
    "# Noble gas with the Lennard-Jones potential\n",
    "\n",
    "This notebook shows how to simulate the simplest possible system for which a constant pressure and temperature (NPT) simulation makes sense. This system is a set of 128 argon atoms in a periodic box at $1\\,\\textrm{bar}$ and at $300\\,\\textrm{K}$.\n",
    "\n",
    "Because argon is a noble gas, the force field is relatively simple: no bonds need to be defined (unlike the water example) and all inter-atomic interactions can be modeled with the [Lennard-Jones potential](https://en.wikipedia.org/wiki/Lennard-Jones_potential)."
   ]
  },
  {
   "cell_type": "code",
   "execution_count": 1,
   "metadata": {},
   "outputs": [],
   "source": [
    "from simtk.openmm.app import *\n",
    "from simtk.openmm import *\n",
    "from simtk.unit import *"
   ]
  },
  {
   "cell_type": "code",
   "execution_count": 3,
   "metadata": {},
   "outputs": [],
   "source": [
    "%matplotlib inline\n",
    "import numpy as np\n",
    "import matplotlib.pyplot as plt\n",
    "import pandas\n",
    "import mdtraj\n",
    "import nglview"
   ]
  },
  {
   "cell_type": "markdown",
   "metadata": {},
   "source": [
    "## 1. Definition of the model\n",
    "\n",
    "The Lennard-Jones parameters were taken from [10.1063/1.479848](https://doi.org/10.1063/1.479848), more specifically the parameters from this paper which exactly reproduce the experimental critical point."
   ]
  },
  {
   "cell_type": "code",
   "execution_count": 4,
   "metadata": {},
   "outputs": [
    {
     "name": "stdout",
     "output_type": "stream",
     "text": [
      "979.4448571097415 J/mol\n"
     ]
    }
   ],
   "source": [
    "# Physical parameters\n",
    "temperature = 293.15 * kelvin\n",
    "pressure = 1 * bar\n",
    "\n",
    "mass = 39.948 * amu\n",
    "sigma = 3.419 * angstrom\n",
    "epsilon = 117.8 * kelvin * BOLTZMANN_CONSTANT_kB * AVOGADRO_CONSTANT_NA\n",
    "print(epsilon)\n",
    "\n",
    "# Simulation parameters\n",
    "box_size = 150 * angstrom  # initial value only\n",
    "natom = 199\n",
    "cutoff = 3 * sigma"
   ]
  },
  {
   "cell_type": "markdown",
   "metadata": {},
   "source": [
    "## 2. The NPT molecular dynamics simulation\n",
    "\n",
    "In the following cell, we define the `system`, `topology` and `force` objects. They each keep track of a specific aspect of the simulation we'd like to carry out:\n",
    "\n",
    "- `system`: cell vectors and number of particles and their masses.\n",
    "\n",
    "- `topology`: identity of the particles and related information (mostly irrelevant in this case): covalent bonds, residues and chains. All argon atoms are grouped into one residue in one chain. This extra information is needed to write out PDB files later.\n",
    "\n",
    "- `force`: definition of the force field energy as function of particle positions and cell vectors. This example uses [NonbondedForce](http://docs.openmm.org/latest/api-python/generated/simtk.openmm.openmm.NonbondedForce.html#simtk.openmm.openmm.NonbondedForce) to define a Lennard-Jones potential (setting cutoff, switching and pressure correction)."
   ]
  },
  {
   "cell_type": "code",
   "execution_count": 6,
   "metadata": {},
   "outputs": [],
   "source": [
    "# Define the OpenMM system with the argon atoms.\n",
    "system = System()\n",
    "\n",
    "box_matrix = box_size * np.identity(3)\n",
    "\n",
    "system.setDefaultPeriodicBoxVectors(*box_matrix)\n",
    "\n",
    "for iatom in range(natom):\n",
    "    system.addParticle(mass)\n",
    "\n",
    "# Define a relatively boring topology object.\n",
    "topology = Topology()\n",
    "topology.setPeriodicBoxVectors(box_matrix)\n",
    "chain = topology.addChain()\n",
    "residue = topology.addResidue(\"argon\", chain)\n",
    "\n",
    "element_Ar = Element.getByAtomicNumber(18)\n",
    "\n",
    "for iatom in range(natom):\n",
    "    topology.addAtom(\"Ar\", element_Ar, residue)\n",
    "\n",
    "# Define the force field as a \"force\" object to be added to the system.\n",
    "force = openmm.NonbondedForce()\n",
    "force.setNonbondedMethod(openmm.NonbondedForce.CutoffPeriodic)\n",
    "\n",
    "for iatom in range(natom):\n",
    "    force.addParticle(0.0, sigma, epsilon)\n",
    "    \n",
    "force.setCutoffDistance(cutoff)\n",
    "force.setUseSwitchingFunction(True)\n",
    "force.setSwitchingDistance(0.8 * cutoff)\n",
    "force.setUseDispersionCorrection(True)\n",
    "force_index = system.addForce(force)"
   ]
  },
  {
   "cell_type": "markdown",
   "metadata": {},
   "source": [
    "The following cell specifies more details of the NpT molecular dynamics simulation. Conveying our choice of ensemble to OpenMM may not be very intuitive:\n",
    "\n",
    "- The thermostat is set by selecting the [LangevinIntegrator](http://docs.openmm.org/latest/api-python/generated/simtk.openmm.openmm.LangevinIntegrator.html#simtk.openmm.openmm.LangevinIntegrator) to integrate the equations of motion. With this choice, a constant temperature is imposed modeling the interaction of every atom with a heat bath, comprising two effects: (i) a friction force which leaks kinetic energy and (ii) random collisions that introduce kinetic energy. These two effects balance each other and reach an equilibrium when the atomistic degrees of freedom reach the desired temperature.\n",
    "\n",
    "- The barostat is defined as a *force*, i.e. [MonteCarloBarostat](http://docs.openmm.org/latest/api-python/generated/simtk.openmm.openmm.MonteCarloBarostat.html#simtk.openmm.openmm.MonteCarloBarostat) is added to the list of force in the system. Here the same temperature as the thermostat must be given, in addition to the desired external pressure. With this option, the volume of the periodic box will be regularly rescaled to obtain an equilibrium between the internal pressure (generated by the argon atoms) and the external pressure.\n",
    "\n",
    "The barostat is implemented as a force, mainly because the \"forces\" in an OpenMM `System` object can also perform other tasks than computing potential energies and atomic forces. They may also modify properties of the system, such as cell vectors, atomic positions, atomic velocities, etc.\n",
    "\n",
    "The last three lines of Python code prepare the initial state of the system."
   ]
  },
  {
   "cell_type": "code",
   "execution_count": 7,
   "metadata": {},
   "outputs": [],
   "source": [
    "# Define the ensemble to be simulated in.\n",
    "integrator = LangevinIntegrator(temperature, 1/picosecond, 2*femtoseconds)\n",
    "\n",
    "system.addForce(MonteCarloBarostat(pressure, temperature))\n",
    "\n",
    "# Define a simulation object.\n",
    "simulation = Simulation(topology, system, integrator)\n",
    "\n",
    "# Initialization pos by asigning random positions\n",
    "simulation.context.setPositions(np.random.uniform(0, box_size/angstrom, (natom, 3))*angstrom)\n",
    "\n",
    "# - Minimize the energy\n",
    "simulation.minimizeEnergy()\n",
    "\n",
    "# - Initialize velocities with random values at 300K.\n",
    "simulation.context.setVelocitiesToTemperature(300)"
   ]
  },
  {
   "cell_type": "markdown",
   "metadata": {},
   "source": [
    "The following cell defines all reporters and performs the MD simulation."
   ]
  },
  {
   "cell_type": "code",
   "execution_count": 8,
   "metadata": {},
   "outputs": [
    {
     "name": "stdout",
     "output_type": "stream",
     "text": [
      "#\"Step\",\"Temperature (K)\",\"Box Volume (nm^3)\"\n",
      "1000,270.6646947290855,3668.5363202620288\n",
      "2000,306.0716126720218,3979.925239466043\n",
      "3000,262.63782087815355,4221.39545177155\n",
      "4000,291.862028224585,4545.215220487781\n",
      "5000,294.608445071117,4497.827102181676\n"
     ]
    }
   ],
   "source": [
    "# Remove existing reporters, in case this cell is executed more than once.\n",
    "simulation.reporters = []\n",
    "\n",
    "# Write the initial geometry as a PDB file.\n",
    "positions = simulation.context.getState(getPositions=True).getPositions()\n",
    "with open('ljinit.pdb', 'w') as f:\n",
    "    PDBFile.writeFile(simulation.topology, positions, f)\n",
    "\n",
    "# Write a frame to the DCD trajectory every 100 steps.\n",
    "simulation.reporters.append(DCDReporter('ljtraj.dcd', 100))\n",
    "\n",
    "# Write scalar properties to a CSV file every 10 steps.\n",
    "simulation.reporters.append(StateDataReporter(\n",
    "    \"ljscalars.csv\",\n",
    "    10,\n",
    "    time=True,\n",
    "    potentialEnergy=True,\n",
    "    totalEnergy=True,\n",
    "    temperature=True,\n",
    "    volume=True))\n",
    "\n",
    "# Write scalar properties to screen every 1000 steps.\n",
    "from sys import stdout\n",
    "simulation.reporters.append(StateDataReporter(\n",
    "    stdout,\n",
    "    1000,\n",
    "    step=True,\n",
    "    temperature=True,\n",
    "    volume=True))\n",
    "\n",
    "# Actually run the molecular dynamics simulation.\n",
    "simulation.step(5000)\n",
    "\n",
    "# The last line is only needed for Windows users,\n",
    "# to close the DCD file before it can be opened by nglview.\n",
    "del simulation"
   ]
  },
  {
   "cell_type": "markdown",
   "metadata": {},
   "source": [
    "## 3. Analysis\n",
    "\n",
    "A visualization of the trajectory is not very exciting: just argon atoms jumping around. As you may guess, this is a simulation of an argon gas.\n",
    "\n",
    "**TODO:** the box size in nglview does not expand, even though it does in the OpenMM simulation. This is a visualization issue."
   ]
  },
  {
   "cell_type": "code",
   "execution_count": 11,
   "metadata": {},
   "outputs": [
    {
     "data": {
      "application/vnd.jupyter.widget-view+json": {
       "model_id": "47a0372683434901809643bc316ec308",
       "version_major": 2,
       "version_minor": 0
      },
      "text/plain": [
       "NGLWidget(max_frame=49)"
      ]
     },
     "metadata": {},
     "output_type": "display_data"
    }
   ],
   "source": [
    "traj = mdtraj.load(\"ljtraj.dcd\", top=\"ljinit.pdb\")\n",
    "view = nglview.show_mdtraj(traj)\n",
    "view.add_unitcell()\n",
    "view"
   ]
  },
  {
   "cell_type": "markdown",
   "metadata": {},
   "source": [
    "The temperature and volume as function of time reveal different time scales needed for the equilibration.\n",
    "\n",
    "- The timescale of the thermostat is controlled with the second argument of [LangevinIntegrator](http://docs.openmm.org/latest/api-python/generated/simtk.openmm.openmm.LangevinIntegrator.html#simtk.openmm.openmm.LangevinIntegrator).\n",
    "\n",
    "- The rate of convergence of the barostat is controlled by the optional `frequency` argument, by default 25, of the [MonteCarloBarostat](http://docs.openmm.org/latest/api-python/generated/simtk.openmm.openmm.MonteCarloBarostat.html#simtk.openmm.openmm.MonteCarloBarostat). This means that every 25 steps, an attempt is made to change the volume of the system."
   ]
  },
  {
   "cell_type": "code",
   "execution_count": 12,
   "metadata": {},
   "outputs": [
    {
     "data": {
      "text/plain": [
       "<matplotlib.axes._subplots.AxesSubplot at 0x104945b50>"
      ]
     },
     "execution_count": 12,
     "metadata": {},
     "output_type": "execute_result"
    },
    {
     "data": {
      "image/png": "[encoded data removed]",
      "text/plain": [
       "<Figure size 432x288 with 1 Axes>"
      ]
     },
     "metadata": {
      "needs_background": "light"
     },
     "output_type": "display_data"
    },
    {
     "data": {
      "image/png": "[encoded data removed]",
      "text/plain": [
       "<Figure size 432x288 with 1 Axes>"
      ]
     },
     "metadata": {
      "needs_background": "light"
     },
     "output_type": "display_data"
    }
   ],
   "source": [
    "df = pandas.read_csv(\"ljscalars.csv\")\n",
    "df.plot(kind='line', x='#\"Time (ps)\"', y='Temperature (K)')\n",
    "df.plot(kind='line', x='#\"Time (ps)\"', y='Box Volume (nm^3)')"
   ]
  },
  {
   "cell_type": "markdown",
   "metadata": {},
   "source": [
    "**<mark> Exercsie </mark>**\n",
    "\n",
    "> - Slow down the thermostat and speed up the barostat. Can you make arbitrary changes without crashing the molecular dynamics run?\n",
    ">\n",
    "> - Change to pressure to $10\\,\\textrm{bar}$ and the temperature to $50\\,\\textrm{K}$. Under these conditions, argon becomes a solid, see e.g. [Figure 1](https://www.nature.com/articles/srep15850/figures/1) of [10.1038/srep15850](https://doi.org/10.1038/srep15850). You will also have to change other parameters to make this work. Do you see any signs in your simulation of a phase transition?"
   ]
  }
 ],
 "metadata": {
  "kernelspec": {
   "display_name": "Python 3",
   "language": "python",
   "name": "python3"
  },
  "language_info": {
   "codemirror_mode": {
    "name": "ipython",
    "version": 3
   },
   "file_extension": ".py",
   "mimetype": "text/x-python",
   "name": "python",
   "nbconvert_exporter": "python",
   "pygments_lexer": "ipython3",
   "version": "3.7.6"
  },
  "latex_envs": {
   "LaTeX_envs_menu_present": true,
   "autoclose": true,
   "autocomplete": true,
   "bibliofile": "biblio.bib",
   "cite_by": "apalike",
   "current_citInitial": 1,
   "eqLabelWithNumbers": true,
   "eqNumInitial": 1,
   "hotkeys": {
    "equation": "Ctrl-E",
    "itemize": "Ctrl-I"
   },
   "labels_anchors": false,
   "latex_user_defs": false,
   "report_style_numbering": false,
   "user_envs_cfg": false
  },
  "toc": {
   "base_numbering": 1,
   "nav_menu": {},
   "number_sections": true,
   "sideBar": true,
   "skip_h1_title": false,
   "title_cell": "Table of Contents",
   "title_sidebar": "Contents",
   "toc_cell": false,
   "toc_position": {},
   "toc_section_display": true,
   "toc_window_display": false
  }
 },
 "nbformat": 4,
 "nbformat_minor": 2
}

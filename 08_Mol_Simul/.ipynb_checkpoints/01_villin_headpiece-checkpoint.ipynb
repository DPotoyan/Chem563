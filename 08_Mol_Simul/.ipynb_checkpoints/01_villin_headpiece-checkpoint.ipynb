{
 "cells": [
  {
   "cell_type": "markdown",
   "metadata": {},
   "source": [
    "# Molecular dynamics of an explicitly solvated small protein\n",
    "\n",
    "For the simulations in this notebook, we will make use of the crystal structure of the Villin Headpiece subdomain [1YRF](https://www.rcsb.org/structure/1YRF). This is relatively small protein (35 residues) consisting of three alpha helices. This is a prototypical fast folding protein, see [10.1016/j.jmb.2006.03.034](https://doi.org/10.1016/j.jmb.2006.03.034) and [10.1073/pnas.0502495102](https://doi.org/10.1073/pnas.0502495102), and it is therefore a popular benchmark for protein folding molecular dynamics simulations, e.g. [10.1073/pnas.1800690115](https://doi.org/10.1073/pnas.1800690115) (force field accuracy) and [10.1109/SC.2014.9](https://doi.org/10.1109/SC.2014.9) (computational performance).\n",
    "\n"
   ]
  },
  {
   "cell_type": "code",
   "execution_count": 1,
   "metadata": {},
   "outputs": [],
   "source": [
    "from sys import stdout\n",
    "from simtk.openmm.app import *\n",
    "from simtk.openmm import *\n",
    "from simtk.unit import *"
   ]
  },
  {
   "cell_type": "code",
   "execution_count": 2,
   "metadata": {},
   "outputs": [
    {
     "data": {
      "application/vnd.jupyter.widget-view+json": {
       "model_id": "42a4327cd83a4e4293d54ec9415b5e04",
       "version_major": 2,
       "version_minor": 0
      },
      "text/plain": [
       "_ColormakerRegistry()"
      ]
     },
     "metadata": {},
     "output_type": "display_data"
    }
   ],
   "source": [
    "%matplotlib inline\n",
    "import numpy as np\n",
    "import mdtraj\n",
    "import pandas\n",
    "import matplotlib.pyplot as plt\n",
    "import nglview"
   ]
  },
  {
   "cell_type": "markdown",
   "metadata": {},
   "source": [
    "The PDB file for 1YRF contains more information than we need. It holds several possible states of some residues mixed into one file and OpenMM cannot handle this. Most atoms positions are the same for all these states, but a few have an extra `A`, `B`, `C`, ... just after the atom name. The following function splits such a PDB file into multiples ones. Each of these files is suitable for starting an OpenMM simulation."
   ]
  },
  {
   "cell_type": "code",
   "execution_count": 3,
   "metadata": {},
   "outputs": [],
   "source": [
    "def split_pdb(fn_pdb):\n",
    "    pos = 16\n",
    "    groups = {}\n",
    "    counter = 0\n",
    "    \n",
    "    with open(fn_pdb) as f:\n",
    "        \n",
    "        for line in f:\n",
    "            if line.startswith(\"ATOM\"):\n",
    "                state = line[pos]\n",
    "                line = line[:pos] + \" \" + line[pos+1:]\n",
    "                groups.setdefault(state, []).append((counter, line))\n",
    "                counter += 1\n",
    "                \n",
    "    for key, lines_group in groups.items():\n",
    "        \n",
    "        if key == \" \":\n",
    "            continue\n",
    "        lines_both = lines_group + groups[\" \"]\n",
    "        lines_both.sort()\n",
    "        with open(\"{}_{}.pdb\".format(fn_pdb[:-4], key.lower()), \"w\") as f:\n",
    "            for counter, line in lines_both:\n",
    "                f.write(line)\n",
    "                \n",
    "split_pdb(\"1yrf.pdb\")"
   ]
  },
  {
   "cell_type": "code",
   "execution_count": 4,
   "metadata": {},
   "outputs": [],
   "source": [
    "pdb = PDBFile('1yrf_a.pdb')\n",
    "modeller = Modeller(pdb.topology, pdb.positions)\n",
    "forcefield = ForceField('amber14-all.xml', 'amber14/tip3pfb.xml')\n",
    "modeller.addHydrogens(forcefield)\n",
    "modeller.addSolvent(forcefield, model='tip3p', padding=1*nanometer)\n",
    "system = forcefield.createSystem(modeller.topology, nonbondedMethod=PME, constraints=HBonds)\n",
    "temperature = 300 * kelvin\n",
    "pressure = 1 * bar\n",
    "integrator = LangevinIntegrator(temperature, 1/picosecond, 2*femtoseconds)\n",
    "system.addForce(MonteCarloBarostat(pressure, temperature))\n",
    "simulation = Simulation(modeller.topology, system, integrator)\n",
    "simulation.context.setPositions(modeller.positions)\n",
    "simulation.minimizeEnergy(maxIterations=100)\n",
    "positions = simulation.context.getState(getPositions=True).getPositions()\n",
    "\n",
    "with open('init.pdb', 'w') as f:\n",
    "    PDBFile.writeFile(simulation.topology, positions, f)"
   ]
  },
  {
   "cell_type": "markdown",
   "metadata": {},
   "source": [
    "**<span style=\"color:#A03;font-size:14pt\">\n",
    "&#x270B; HANDS-ON! &#x1F528;\n",
    "</span>**\n",
    "\n",
    "> Which changes to the input structure can be made, for which the force field can still be applied? Try the following:\n",
    ">\n",
    "> - Remove an atom from the PDB file.\n",
    "> - Remove an entire residue from the PDB file.\n",
    "> - Use an engineered form of the Villin Headpiece, e.g. the Lys24Nle mutant (PDB 1WY3) or the Lys24Nle/Lys29Nle double mutant (PDB 2F4K).\n",
    ">\n",
    "> Finally, restore the input to the original one and rerun the above code cell, to have a good starting point for the next cell.\n",
    ">\n",
    "> With the methodology shown here, it is not be possible to define custom mutations."
   ]
  },
  {
   "cell_type": "code",
   "execution_count": null,
   "metadata": {},
   "outputs": [
    {
     "name": "stdout",
     "output_type": "stream",
     "text": [
      "#\"Step\",\"Temperature (K)\",\"Elapsed Time (s)\"\n",
      "100,91.31850584979749,0.0001010894775390625\n",
      "200,136.40505701875645,1.0228722095489502\n",
      "300,173.77564908046043,2.047692060470581\n",
      "400,196.87661792009473,3.0793709754943848\n",
      "500,212.6573897318262,4.111469030380249\n",
      "600,230.1984523361407,5.120949029922485\n",
      "700,241.93299696819696,6.146464109420776\n",
      "800,250.2080591900686,7.231529951095581\n",
      "900,257.6704763902764,8.26680302619934\n",
      "1000,269.7582531362026,9.304004192352295\n",
      "1100,270.5073501273368,10.334190130233765\n",
      "1200,276.0685797262969,11.370741128921509\n",
      "1300,277.5554219446434,12.418067932128906\n",
      "1400,281.01895488431296,13.451228141784668\n",
      "1500,285.27009400330377,14.486724138259888\n",
      "1600,285.36114487513623,15.516728162765503\n",
      "1700,288.6229467736835,16.55263614654541\n",
      "1800,291.7649112613786,17.569833993911743\n",
      "1900,291.3620631654766,18.60663914680481\n",
      "2000,291.044095716856,19.641930103302002\n",
      "2100,293.84914734540155,20.6754732131958\n",
      "2200,291.9308816546421,21.719101905822754\n",
      "2300,297.12727672291805,22.7396821975708\n",
      "2400,289.70715339671494,23.77705216407776\n",
      "2500,295.21646823045194,24.811697244644165\n",
      "2600,287.921643603799,25.88161301612854\n",
      "2700,292.94636138927024,26.916272163391113\n",
      "2800,296.9785646061904,27.941362857818604\n",
      "2900,297.4701988372009,28.97637414932251\n",
      "3000,298.88366926923163,30.007735013961792\n",
      "3100,298.3338190439211,31.04287624359131\n",
      "3200,303.0851482177522,32.07873320579529\n",
      "3300,298.3460690771518,33.11043930053711\n",
      "3400,297.35979050170045,34.14532518386841\n",
      "3500,298.2725535148115,35.17846393585205\n",
      "3600,300.2456655130975,36.2115912437439\n",
      "3700,301.3711130339819,37.24432992935181\n",
      "3800,302.48464249600914,38.26617693901062\n",
      "3900,304.78019338741956,39.29399108886719\n",
      "4000,300.6324013690224,40.32659196853638\n",
      "4100,293.05316604283104,41.46225619316101\n",
      "4200,294.8920182714458,42.49635601043701\n",
      "4300,294.0396524619703,43.527987003326416\n",
      "4400,297.7971030912085,44.5607008934021\n"
     ]
    }
   ],
   "source": [
    "simulation.reporters = []\n",
    "simulation.reporters.append(DCDReporter('traj.dcd', 10))\n",
    "simulation.reporters.append(StateDataReporter(stdout, 100, step=True,\n",
    "        temperature=True, elapsedTime=True))\n",
    "simulation.reporters.append(StateDataReporter(\"scalars.csv\", 10, step=True, time=True,\n",
    "    potentialEnergy=True, totalEnergy=True, temperature=True))\n",
    "simulation.step(30000)\n",
    "\n",
    "# The last line is only needed for Windows users,\n",
    "# to close the DCD file before it can be opened by nglview.\n",
    "del simulation"
   ]
  },
  {
   "cell_type": "markdown",
   "metadata": {},
   "source": [
    "You will need the output files of this simulation for the following notebook. Copy over the files `init.pdb`, `scalars.csv` and `traj.dcd` to the directory `../05`. This can be done with the following code, or with any file manager that comes with the operating system."
   ]
  },
  {
   "cell_type": "code",
   "execution_count": null,
   "metadata": {},
   "outputs": [],
   "source": [
    "import shutil\n",
    "shutil.copy(\"init.pdb\", \"../05\")\n",
    "shutil.copy(\"scalars.csv\", \"../05\")\n",
    "shutil.copy(\"traj.dcd\", \"../05\")"
   ]
  },
  {
   "cell_type": "markdown",
   "metadata": {},
   "source": [
    "**<span style=\"color:#A03;font-size:14pt\">\n",
    "&#x270B; HANDS-ON! &#x1F528;\n",
    "</span>**\n",
    "\n",
    "> Make an estimate of the computational cost (wall time) on your current hardware to run a sufficiently long simulation to observe spontaneously a protein folding event for this fast folder. The required simulation time is approximately $4 \\mathrm{\\mu s}$. Would such a calculations be feasible?"
   ]
  },
  {
   "cell_type": "code",
   "execution_count": null,
   "metadata": {},
   "outputs": [],
   "source": [
    "df = pandas.read_csv(\"scalars.csv\")\n",
    "df.plot(kind='line', x='Time (ps)', y='Potential Energy (kJ/mole)')"
   ]
  },
  {
   "cell_type": "code",
   "execution_count": null,
   "metadata": {},
   "outputs": [],
   "source": [
    "traj = mdtraj.load('traj.dcd', top='init.pdb')\n",
    "view = nglview.show_mdtraj(traj)\n",
    "view"
   ]
  }
 ],
 "metadata": {
  "kernelspec": {
   "display_name": "Python 3",
   "language": "python",
   "name": "python3"
  },
  "latex_envs": {
   "LaTeX_envs_menu_present": true,
   "autoclose": true,
   "autocomplete": true,
   "bibliofile": "biblio.bib",
   "cite_by": "apalike",
   "current_citInitial": 1,
   "eqLabelWithNumbers": true,
   "eqNumInitial": 1,
   "hotkeys": {
    "equation": "Ctrl-E",
    "itemize": "Ctrl-I"
   },
   "labels_anchors": false,
   "latex_user_defs": false,
   "report_style_numbering": false,
   "user_envs_cfg": false
  },
  "toc": {
   "base_numbering": 1,
   "nav_menu": {},
   "number_sections": true,
   "sideBar": true,
   "skip_h1_title": false,
   "title_cell": "Table of Contents",
   "title_sidebar": "Contents",
   "toc_cell": false,
   "toc_position": {},
   "toc_section_display": true,
   "toc_window_display": false
  }
 },
 "nbformat": 4,
 "nbformat_minor": 2
}

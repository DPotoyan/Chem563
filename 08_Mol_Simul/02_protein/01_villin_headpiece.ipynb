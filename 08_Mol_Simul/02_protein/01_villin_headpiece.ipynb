{
 "cells": [
  {
   "cell_type": "markdown",
   "metadata": {},
   "source": [
    "## Molecular dynamics of an explicitly solvated small protein\n",
    "\n",
    "For the simulations in this notebook, we will make use of the crystal structure of the Villin Headpiece subdomain [1YRF](https://www.rcsb.org/structure/1YRF). This is relatively small protein (35 residues) consisting of three alpha helices. This is a prototypical fast folding protein, see [10.1016/j.jmb.2006.03.034](https://doi.org/10.1016/j.jmb.2006.03.034) and [10.1073/pnas.0502495102](https://doi.org/10.1073/pnas.0502495102), and it is therefore a popular benchmark for protein folding molecular dynamics simulations, e.g. [10.1073/pnas.1800690115](https://doi.org/10.1073/pnas.1800690115) (force field accuracy) and [10.1109/SC.2014.9](https://doi.org/10.1109/SC.2014.9) (computational performance).\n",
    "\n"
   ]
  },
  {
   "cell_type": "code",
   "execution_count": 1,
   "metadata": {},
   "outputs": [],
   "source": [
    "from sys import stdout\n",
    "from simtk.openmm.app import *\n",
    "from simtk.openmm import *\n",
    "from simtk.unit import *\n",
    "\n",
    "import openmmtools"
   ]
  },
  {
   "cell_type": "code",
   "execution_count": 3,
   "metadata": {},
   "outputs": [],
   "source": [
    "%matplotlib inline\n",
    "import numpy as np\n",
    "import mdtraj\n",
    "import pandas\n",
    "import matplotlib.pyplot as plt\n",
    "import nglview"
   ]
  },
  {
   "cell_type": "markdown",
   "metadata": {},
   "source": [
    "### Cleaning up and preparing structures before MD"
   ]
  },
  {
   "cell_type": "markdown",
   "metadata": {},
   "source": [
    "The PDB file for 1YRF contains more information than we need. It holds several possible states of some residues mixed into one file and OpenMM cannot handle this. Most atoms positions are the same for all these states, but a few have an extra `A`, `B`, `C`, ... just after the atom name. The following function splits such a PDB file into multiples ones. Each of these files is suitable for starting an OpenMM simulation."
   ]
  },
  {
   "cell_type": "code",
   "execution_count": 4,
   "metadata": {},
   "outputs": [],
   "source": [
    "def split_pdb(fn_pdb):\n",
    "    pos = 16\n",
    "    groups = {}\n",
    "    counter = 0\n",
    "    \n",
    "    with open(fn_pdb) as f:\n",
    "        \n",
    "        for line in f:\n",
    "            if line.startswith(\"ATOM\"):\n",
    "                state = line[pos]\n",
    "                line  = line[:pos] + \" \" + line[pos+1:]\n",
    "                groups.setdefault(state, []).append((counter, line))\n",
    "                counter += 1\n",
    "                \n",
    "    for key, lines_group in groups.items():\n",
    "        \n",
    "        if key == \" \":\n",
    "            continue\n",
    "        lines_both = lines_group + groups[\" \"]\n",
    "        lines_both.sort()\n",
    "        with open(\"{}_{}.pdb\".format(fn_pdb[:-4], key.lower()), \"w\") as f:\n",
    "            for counter, line in lines_both:\n",
    "                f.write(line)\n",
    "                \n",
    "split_pdb(\"1yrf.pdb\")\n",
    "\n",
    "pdb = PDBFile('1yrf_a.pdb')"
   ]
  },
  {
   "cell_type": "markdown",
   "metadata": {},
   "source": [
    "### Specify forcefield and parameters of simulation"
   ]
  },
  {
   "cell_type": "code",
   "execution_count": 5,
   "metadata": {},
   "outputs": [],
   "source": [
    "forcefield = ForceField('amber14-all.xml', 'amber14/tip3pfb.xml')\n",
    "\n",
    "modeller = Modeller(pdb.topology, pdb.positions)\n",
    "modeller.addHydrogens(forcefield)\n",
    "modeller.addSolvent(forcefield, model='tip3p', padding=1*nanometer)\n",
    "\n",
    "system = forcefield.createSystem(modeller.topology, nonbondedMethod=PME, constraints=HBonds)\n",
    "\n",
    "temperature = 300 * kelvin\n",
    "pressure    = 1 * bar\n",
    "integrator  = LangevinIntegrator(temperature, 1/picosecond, 2*femtoseconds)\n",
    "\n",
    "system.addForce(MonteCarloBarostat(pressure, temperature))\n",
    "\n",
    "simulation = Simulation(modeller.topology, system, integrator)\n",
    "simulation.context.setPositions(modeller.positions)\n",
    "simulation.minimizeEnergy(maxIterations=100)\n",
    "positions = simulation.context.getState(getPositions=True).getPositions()\n",
    "\n",
    "with open('init.pdb', 'w') as f: \n",
    "    PDBFile.writeFile(simulation.topology, positions, f)"
   ]
  },
  {
   "cell_type": "markdown",
   "metadata": {},
   "source": [
    "**Exercsie**\n",
    "\n",
    "> Which changes to the input structure can be made, for which the force field can still be applied? Try the following:\n",
    ">\n",
    "> - Remove an atom from the PDB file.\n",
    "> - Remove an entire residue from the PDB file.\n",
    "> - Use an engineered form of the Villin Headpiece, e.g. the Lys24Nle mutant (PDB 1WY3) or the Lys24Nle/Lys29Nle double mutant (PDB 2F4K).\n",
    ">\n",
    "> Finally, restore the input to the original one and rerun the above code cell, to have a good starting point for the next cell.\n",
    ">\n",
    "> With the methodology shown here, it is not be possible to define custom mutations."
   ]
  },
  {
   "cell_type": "code",
   "execution_count": 6,
   "metadata": {},
   "outputs": [
    {
     "name": "stdout",
     "output_type": "stream",
     "text": [
      "#\"Step\",\"Temperature (K)\",\"Elapsed Time (s)\"\n",
      "100,91.97482641042086,0.00011706352233886719\n",
      "200,138.5881092283947,2.278959035873413\n",
      "300,172.13936105189032,4.546190977096558\n",
      "400,192.45517736886958,7.695323944091797\n",
      "500,219.73771891471904,10.340286016464233\n",
      "600,230.8735049012794,12.798917055130005\n",
      "700,246.15439676110125,15.398384809494019\n",
      "800,255.9623770499601,17.859151124954224\n",
      "900,257.88360172104314,20.933987140655518\n",
      "1000,268.78552573635585,23.81154203414917\n",
      "1100,276.35358313935336,27.533809900283813\n",
      "1200,276.04395249325336,30.96226406097412\n",
      "1300,285.39499569483354,33.74939012527466\n",
      "1400,286.2436989199325,35.969210147857666\n",
      "1500,290.9989593661533,38.537819147109985\n",
      "1600,294.3190826656211,41.1073100566864\n",
      "1700,295.03085701124286,43.94684195518494\n",
      "1800,297.8801580191796,46.55576801300049\n",
      "1900,294.26368453934776,49.27854800224304\n",
      "2000,303.01451832508724,52.41354203224182\n",
      "2100,299.7952227890929,55.26228976249695\n",
      "2200,301.2968705568418,57.88455080986023\n",
      "2300,292.95499664828947,60.32602787017822\n",
      "2400,298.0970743836093,62.77074980735779\n",
      "2500,295.468335904502,65.72718501091003\n",
      "2600,299.468780011439,69.00591397285461\n",
      "2700,302.76189496073937,71.58811497688293\n",
      "2800,303.0964681655691,74.07794880867004\n",
      "2900,301.01081267798725,76.32215809822083\n",
      "3000,297.35615751842795,78.66219210624695\n"
     ]
    }
   ],
   "source": [
    "simulation.reporters = []\n",
    "\n",
    "simulation.reporters.append(DCDReporter('traj.dcd', 10))\n",
    "simulation.reporters.append(StateDataReporter(stdout, 100, step=True,\n",
    "        temperature=True, elapsedTime=True))\n",
    "simulation.reporters.append(StateDataReporter(\"scalars.csv\", 10, step=True, time=True,\n",
    "    potentialEnergy=True, totalEnergy=True, temperature=True))\n",
    "simulation.step(3000)\n",
    "\n",
    "# The last line is only needed for Windows users,\n",
    "# to close the DCD file before it can be opened by nglview.\n",
    "del simulation"
   ]
  },
  {
   "cell_type": "code",
   "execution_count": 7,
   "metadata": {},
   "outputs": [
    {
     "data": {
      "text/plain": [
       "<matplotlib.axes._subplots.AxesSubplot at 0x11ff33c90>"
      ]
     },
     "execution_count": 7,
     "metadata": {},
     "output_type": "execute_result"
    },
    {
     "data": {
      "image/png": "[encoded data removed]",
      "text/plain": [
       "<Figure size 432x288 with 1 Axes>"
      ]
     },
     "metadata": {
      "needs_background": "light"
     },
     "output_type": "display_data"
    }
   ],
   "source": [
    "df = pandas.read_csv(\"scalars.csv\")\n",
    "\n",
    "df.plot(kind='line', x='Time (ps)', y='Potential Energy (kJ/mole)')"
   ]
  },
  {
   "cell_type": "code",
   "execution_count": 10,
   "metadata": {},
   "outputs": [
    {
     "data": {
      "application/vnd.jupyter.widget-view+json": {
       "model_id": "88438c6187fd49189645f69612e7dc41",
       "version_major": 2,
       "version_minor": 0
      },
      "text/plain": [
       "NGLWidget(max_frame=299)"
      ]
     },
     "metadata": {},
     "output_type": "display_data"
    }
   ],
   "source": [
    "traj = mdtraj.load('traj.dcd', top='init.pdb')\n",
    "view = nglview.show_mdtraj(traj)\n",
    "view"
   ]
  },
  {
   "cell_type": "code",
   "execution_count": null,
   "metadata": {},
   "outputs": [],
   "source": []
  }
 ],
 "metadata": {
  "kernelspec": {
   "display_name": "Python 3",
   "language": "python",
   "name": "python3"
  },
  "language_info": {
   "codemirror_mode": {
    "name": "ipython",
    "version": 3
   },
   "file_extension": ".py",
   "mimetype": "text/x-python",
   "name": "python",
   "nbconvert_exporter": "python",
   "pygments_lexer": "ipython3",
   "version": "3.7.6"
  },
  "latex_envs": {
   "LaTeX_envs_menu_present": true,
   "autoclose": true,
   "autocomplete": true,
   "bibliofile": "biblio.bib",
   "cite_by": "apalike",
   "current_citInitial": 1,
   "eqLabelWithNumbers": true,
   "eqNumInitial": 1,
   "hotkeys": {
    "equation": "Ctrl-E",
    "itemize": "Ctrl-I"
   },
   "labels_anchors": false,
   "latex_user_defs": false,
   "report_style_numbering": false,
   "user_envs_cfg": false
  },
  "toc": {
   "base_numbering": 1,
   "nav_menu": {},
   "number_sections": true,
   "sideBar": true,
   "skip_h1_title": false,
   "title_cell": "Table of Contents",
   "title_sidebar": "Contents",
   "toc_cell": false,
   "toc_position": {},
   "toc_section_display": true,
   "toc_window_display": false
  }
 },
 "nbformat": 4,
 "nbformat_minor": 2
}

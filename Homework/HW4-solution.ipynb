{
 "cells": [
  {
   "cell_type": "markdown",
   "metadata": {},
   "source": [
    "### Problem 1: Shottky defects in NVE: Computing number of states via lattice models \n",
    "\n",
    "#### Schotky defects are vacancies in a lattice of atoms. Creating a single vacancy costs an energy. Consider NVE ensemble of lattice with n vacacnies(defects) in an N-lattice model of solid material. The total energy is solely a function of defects in this model $E=n\\epsilon$\n",
    "#### (i) Write down number of states in NVE ensemble and compute the entropy via Boltzman formula.\n",
    "\n",
    "#### (ii) Compute how the temperature would affect the fraction of vacancies on the lattice.\n",
    "\n",
    "####  (iii) How would the total energy depend on temperature T. Derive expression for the low temeprature limit ($\\frac{\\epsilon}{k_b T} \\gg 1$) and high temperature limit ($\\frac{\\epsilon}{k_b T} \\ll 1$)"
   ]
  },
  {
   "cell_type": "markdown",
   "metadata": {},
   "source": [
    "## Solution"
   ]
  },
  {
   "cell_type": "markdown",
   "metadata": {},
   "source": [
    "(i) How many ways can we put n defects on a lattice with N sites? The answer is again the binomial coefficent \n",
    "\n",
    "$$\\Omega(E)=\\frac{N!}{(N-n)! n!}$$\n",
    "\n",
    "$$S=k_B log \\Omega(E)=NlogN -(N-n)log(N-n)-nlogn = -N k_B \\Big[\\Big(1-\\frac{n}{N}\\Big)log\\Big(1-\\frac{n}{N}\\Big)+\\frac{n}{N}log \\frac{n}{N} \\Big]  $$\n",
    "\n",
    "$$S(E)=-N k_B \\Big[\\Big(1-\\frac{E}{N\\epsilon}\\Big)log\\Big(1-\\frac{E}{N\\epsilon}\\Big)+\\frac{E}{N\\epsilon}log \\frac{E}{N\\epsilon} \\Big] $$\n",
    "\n",
    "Notice how the last formula is related to Gibbs/Shannon formula of Entropy $S=-\\sum_i p_i log p_i$. In other words you can think that defects is making the system more \"uncertain\" but up to a certain point. Can you guess what that point is? :) "
   ]
  },
  {
   "cell_type": "markdown",
   "metadata": {},
   "source": [
    "(ii) We make use of the offical definition of temperature in the NVE ensemble: $\\frac{1}{T}=\\frac{\\partial S}{\\partial E}$ and obtain:\n",
    "\n",
    "$$\\frac{1}{k_B T}=\\frac{1}{\\epsilon}log\\Big(1-\\frac{E}{N\\epsilon}\\Big)-\\frac{1}{\\epsilon}log \\frac{E}{N\\epsilon}   $$\n",
    "\n",
    "$$\\frac{n}{N}=\\frac{1}{1+e^{\\epsilon/k_B T}} $$"
   ]
  },
  {
   "cell_type": "markdown",
   "metadata": {},
   "source": [
    "(iii) We need to plug in the above expression for n into $E=n\\epsilon$ and obtain: \n",
    "\n",
    "$$E=n \\epsilon = \\frac{N\\epsilon}{1+e^{\\epsilon/k_B T}}$$\n",
    "\n",
    "In the high temperature limit  $\\epsilon/k_B T \\gg 1$ we get:\n",
    "\n",
    "$$ E\\approx N\\epsilon$$\n",
    "\n",
    "In the low temperature limit we get: \n",
    "\n",
    "$$ E=\\epsilon N e^{-\\epsilon/k_B T} $$\n",
    "\n",
    "The last result could also be guessed from Boltzman distirution."
   ]
  },
  {
   "cell_type": "markdown",
   "metadata": {},
   "source": [
    "### Problem 2: Ideal gas in NVE\n",
    "\n",
    "Redo the derivation of entropy of ideal gas in NVE ensemble which was discussed in the class. Recall that the energy of an ideal gas is coming purely from knetic energy of individual atoms $E=H({\\bf p, x})=\\sum^{N}_{i=1}=\\frac{p^2_i}{2m}$. Where ${\\bf p,x}$ denotes the collection of all N momemnta and positions in 3D space. \n",
    "The number of states of ideas gas in NVE can be computed as a multidimensional volume in phase space: $\\Omega (E,V,N) = \\frac{1}{h^{3N}}\\int_{E-\\Delta E < H({\\bf p, x}) < E} {\\bf dp \\cdot dx}$\n",
    "\n",
    "(i) Why do we divide the volume element by ${h^{3N}}$? <br>\n",
    "(ii) Why integrating over slab of energy $\\Delta E$ is giving us a number of states for the system with constant E? Answering (iii) may help answering this one <br>\n",
    "(iii) To carry out the integration over momenta we need to use formula for the volume of $d$ dimensional sphhere. Here is how to obtain it: <br> \n",
    "First show that $dV_d= S_{d-1}R^{d-1}dR$ where $S_{d-1}$ is the surface element (e.g. $dV=4\\pi r^2 dr=S_2r^2dr$) <br>\n",
    "Next recall how you evaluate your gaussian integrals and show that: \n",
    "$$I_d=\\int^{+\\infty}_{-\\infty}dx_1 ...\\int^{+\\infty}_{-\\infty}dx_n e^{-a(x^2_1+x^2_2+...x^2_n+)}=(\\frac{\\pi}{a})^{d/2} $$\n",
    "Then after converitng to polar coordinate you can show that $I_d=\\frac{S_{d-1} \\Gamma(d/2)a^{-d/2}}{2}$ where $\\Gamma(x)$ is a gamma function[https://en.wikipedia.org/wiki/Gamma_function].<br>\n",
    "Now that you have expression for $S_{d-1}$ you can proceed to solving (iv)\n",
    "<br>\n",
    "(iv) Carry out the integration over positions and momenta and obtain the microcanonical expression of number of states for ideal gas. <br>\n",
    "\n",
    "(v) Show that obtained entorpy is not an extenisve function and that is becasue we did not count the states well. We ingorned the fact that N atoms are indistingusihable. Correct the integral in (iv) for this and show that we obtain an extensive entropy <br>\n",
    "(vi) One often writes the microcanonical function using delta functions. Recall that delta functin is officially defined as: $\\int^{+\\infty}_{-\\infty} \\delta(x-a)f(x)=f(a)$. Rewrite integral in (ii) using compact delta function notation <br>\n",
    "(vii) Using particle in a box model show that quantum mechanical expression of energy and counting of states in the space of quantum numbers (which can be approximated as a N dimensional sphere again) leads to same result as in (iv). "
   ]
  },
  {
   "cell_type": "markdown",
   "metadata": {},
   "source": [
    "## SOLUTION"
   ]
  },
  {
   "cell_type": "markdown",
   "metadata": {},
   "source": [
    "(i) First, the product of $p\\cdot x$ has the units of action hence division by $h$ which has the same units makes the integral dimensionless, as it should be! Also we can not bin the values of p and x beyond certain resoltuion set by the Heizenberg's uncertaintiy principle $\\sigma_p \\sigma_x \\sim h$ hence devision by h makes sense physically as well. \n",
    "\n",
    "(ii) Becasue for multidimensional sphere volume and surface are roughly equal hence the width of $\\Delta E$ is negligible. \n",
    "\n",
    "(iii) In HW-1 we have worked with gaussians and have know that $\\int^{+\\infty}_{-\\infty} e^{-ax^2}=\\Big (\\frac{\\pi}{a}\\Big)^{1/2}$ the integral I_d is just a product of d gaussian integrals hence the key result: \n",
    "\n",
    "$$I_d=\\Big (\\frac{\\pi}{a}\\Big)^{d/2}$$\n",
    "\n",
    "Next we convert from carteian to polar coordinates where the volume element of the integral above is $dV_d=S_{d-1}R^{d-1}dR$ and $R=\\sum_i x^2_i$. This coordinate transformation allows express the volume in term of $S_{d-1}$ which is the quanitty we are after!\n",
    "\n",
    "$$I_d=S_{d-1}\\int^{\\infty}_0 R^{d-1} e^{-aR^2}dR= \\frac{S_{d-1} \\Gamma(d/2)a^{-d/2}}{2} $$ \n",
    "\n",
    "In the last step we expressed the integral in terms of gamma function which is defined as $\\Gamma(z)=\\int^{\\infty}_0 R^{z}e^{-R^2}dR$ and where we changed the integration variable to $z=aR^2$ or $R=(z/a)^{1/2}$.\n",
    "\n",
    "Now having the two expresisons for $I_d$ we can set them equal to each other and find the expression for $S_{d-1}$:\n",
    "\n",
    "$$ S_{d-1}= \\frac{2\\pi^{d/2}}{\\Gamma(d/2)} $$\n",
    "\n",
    "(iv) First we note that integration over position cooridnate is done trivially giving us $V^{N}$ and integration over momentum is done by making use of polar coordinates and making use of the volume element derived above :\n",
    "\n",
    "$$\\Omega(N,V,E)=\\frac{1}{h^{3N}}\\int_{E-\\Delta E<H<E} dp^{3N} dx^{3N}=\\frac{V^{N} }{h^{3N}} \\int_{E-\\Delta E<H<E} S_{3N-1} p^{3N-1}dp$$\n",
    "\n",
    "The last integral is essentially a volume element of a 3N dimensional sphere of radius $p=(2mE)^{1/2}$ hence \n",
    "\n",
    "$$\\Delta V=S_{3N-1}p^{3N-1}\\Delta p=\\frac{(2mE)^{3N/2-1}}{\\pi^{3N/2}\\Gamma(3N/2)} 2m \\Delta E$$\n",
    "\n",
    "$$\\Omega(N,V,E)=\\frac{V^{N} (2mE)^{3N/2-1} \\pi^{3N/2}}{h^{3N }\\Gamma(3N/2)}2m \\Delta E$$\n",
    "\n",
    "(v) Taking log of microcanonical partition function we see that entropy does not scale linearly with number of ideal gas atoms N since $E\\sim N$ and $V\\sim N$: \n",
    "\n",
    "$$S=log\\Omega(N,V,E)=const+NlogV+\\frac{3N}{2}logE$$\n",
    "\n",
    "Introducing corection from quantum mechanics according to which N particles are indistingusihable $\\Omega\\rightarrow \\frac{1}{N!}\\Omega$ we obtain an expression for entropy which now is  extensive: \n",
    "\n",
    "$$S=log\\Omega(N,V,E)=const+Nlog\\frac{V}{N}+\\frac{3N}{2}log\\frac{E}{N}$$\n",
    "\n",
    "In the last step Stirling's appeximation $logN!=NlogN-N$ was used. Thus we see that purely classical mechanical expression for partition function overcounts microstates by N!\n",
    "\n",
    "(vi) Delta function lifts the restriction on integration range to cover all phase space by ensuring that only the energy values in the vicinty of E will be included in the integral \n",
    "\n",
    "$$\\Omega (E,V,N) = \\frac{1}{h^{3N}}\\int_{E-\\Delta E < H({\\bf p, x}) < E} d{\\bf p}\\cdot d{\\bf x} = \\frac{1}{h^{3N}}\\int \\delta(H({\\bf p, x})-E)d{\\bf p}\\cdot d{\\bf x}$$\n",
    "\n",
    "This is a nice trick to keep in mind when dealing with definite integrals with inconvenient integration ranges.  "
   ]
  },
  {
   "cell_type": "markdown",
   "metadata": {},
   "source": [
    "(vi) For particle in a box model each particle has a kinetic energy $E_n=\\frac{n^2 \\hbar^2}{2mL^2}$ when occupying the quantum state n. Hence to count microstates of N particles we need to carry out counting in 3N dimensional n-space of quantum particles $[n_1,n_2,...n_{3N}]$ instead of 3N dimesnional p-space of classical particles. However, given that the system is large we can go to continuum limit:\n",
    "\n",
    "$$ \\sum_{[n_1,n_2,...n_{3N}]} = \\int_{E-\\Delta E<E(n)<E} d n^{3N}$$\n",
    "\n",
    "Thus the evaluation of $\\Omega$ involves evaluation of multidimensional sphere volume nearly identical to the one done in part (iv). The only difference is that now the radius of a sphere is given by $n=L\\frac{2m E}{h}$. Putting everything together one can show that the result for $\\Omega(E)$ is the same as in (iv)"
   ]
  },
  {
   "cell_type": "markdown",
   "metadata": {},
   "source": [
    "### Problem-3: NVT ensemble and partition function $Z(\\beta)$ (Chandler uses letter $Q_{\\beta}$)"
   ]
  },
  {
   "cell_type": "markdown",
   "metadata": {},
   "source": [
    "(i) Show that mathematically $Z(\\beta)$ has a structure of a moment generating function. What would the Helmholtz free energy be called? Compute the first two moments. \n",
    "\n",
    "(ii) Show that if system can be broken down into two non interacting subsystems a and b then the partition function can be written as product of a and b partition functions. Show that free energy would then be additive.\n",
    "\n",
    "(iii) Show that looking at the partition function (keeping in mind property (i)) we can recongnize that large deviation principle applies and that in the NVT ensemble the most likely state of the system is dominated by the minima of the free energy function per particle $f=F/N$.\n",
    "\n",
    "(iv) Using Legendre transform show that the statement made in (iii) is equivalent to the good old statement of second law and that of maximizing entropy per particle (s=S/N) for predicitng most likely equilibrium states. "
   ]
  },
  {
   "cell_type": "markdown",
   "metadata": {},
   "source": [
    "## Solution"
   ]
  },
  {
   "cell_type": "markdown",
   "metadata": {},
   "source": [
    "(i) Recalling the definition of moment generating function as an expectation of an exponential $\\langle e^{kx} \\rangle $ we see that canonical partitio function fits the bill $$Z(\\beta)=\\int \\Omega(E)e^{-\\beta E} \\sim \\frac{\\int \\Omega(E)e^{-\\beta E}}{\\int \\Omega(E)dE}\\sim \\int P(E) e^{-\\beta E}dE \\sim \\langle e^{-\\beta E} \\rangle $$\n",
    "\n",
    "Helmholtz free energy would be cumulant generatin function: $A=-\\frac{1}{\\beta}log Z$ hence we can compute the first two moments by taking derivatives of A or Z. \n",
    "\n",
    "$$ \\frac{\\partial logZ}{\\partial (-\\beta)}= \\frac{\\int E e^{-\\beta E}dE}{Z} = \\langle E \\rangle $$\n",
    "\n",
    "\n",
    "$$ \\frac{\\partial^2 logZ}{\\partial (-\\beta)^2}=\\langle E^2 \\rangle - \\langle E \\rangle^2$$\n",
    "\n",
    "(ii) If $E=E^{(a)}+E^{(b)}$ for compunt system consisting of a and b non-interacting subsystems then <br>\n",
    "\n",
    "$Z=\\sum_i exp[-\\beta E_i]=\\sum_i exp[-\\beta (E^{(a)}_i+E^{(b)}_i)]=\\sum_i exp[-\\beta E^{(a)}_i] \\sum_i exp[-\\beta E^{(b)}_i]=Z_a Z_b$\n",
    "\n",
    "Free energy for compund system: $A=-\\frac{1}{\\beta}logZ=-\\frac{1}{\\beta}logZ_a-\\frac{1}{\\beta}logZ_b=F_a+F_b$\n",
    "\n",
    "\n",
    "(iii) Denote $s=S/N$, $e=E/N$, and $f=F/N$ for entropy, energy and free energy per particle. Large deviation principle tells us that $P(E)\\sim e^{NI(e)}$, where from (i) we recognize $I(e)=\\frac{k_B}{N} log\\Omega(E)=s$\n",
    "\n",
    "\n",
    "\n",
    "Hence the canonical partition function can be written as:  $$ Z(\\beta)= \\int \\Omega(E) e^{-\\beta Ne}dE = \\int e^{-\\beta N(e-Ts)}dE $$\n",
    "\n",
    "The dominant contribution to partiion function for large values of N will come from minima of f=e-Ts. \n",
    "\n",
    "(iv) $f=e-Ts$ is a Legendre transformation of $e$ which is equivalent of minimizing $e(s,v,n)$ or maximizing $s(e,v,n)$ of an isolated system. "
   ]
  },
  {
   "cell_type": "markdown",
   "metadata": {},
   "source": [
    "### Problem 4 Elementary derivation of Boltzman distirbution: hydrostatic pressure"
   ]
  },
  {
   "cell_type": "markdown",
   "metadata": {},
   "source": [
    "Let us do an elementary derivation of Boltzman distribution showing that when a macroscopic system is in equilibrium and coupled to a heat bath at temperatere T we have a universal dependence of probability for finding system at different energies: $P(r')/P(r)=e^{-\\beta (U(r)-U(r'))}$. <br>\n",
    "The essence of the derivation is this. Consider a vertical column of gas somehre nice in the mountains. On one hand we have graviational force which acts on a column between h, h+dh with cross section A. On the other hand we have pressure balance which thankfully keeps the molecules from dropping on the ground. This means that we have a steady density of molecules at each distance n(h) for fixed T. Write down this balance of forces(gravitational vs pressure ) and find show how density at h, n(h) is related to density at h=0, n(0). (Tip: you may use $P=nk_B T$ for pressure and mgh for the gravitational force) "
   ]
  },
  {
   "cell_type": "markdown",
   "metadata": {},
   "source": [
    "## Solution\n",
    "\n",
    "$$n \\cdot Adh \\cdot mg = -A dP=-Ak_bT dn$$\n",
    "\n",
    "$$\\frac{dn(h)}{dh}=-\\beta nmg$$ \n",
    "\n",
    "$$ n=n(0)e^{-\\beta mgh} $$"
   ]
  },
  {
   "cell_type": "markdown",
   "metadata": {},
   "source": [
    "### Problem 5 Careful derivation of Boltzman distirbution: the heat bath \n",
    "\n",
    "(Re)-do a careful derivation of Boltzman distribution following the notes and Chandler's chapter-3.\n",
    "First set up a system embedded in a heat bath with total energy $E_0=E+E_b$.\n",
    "\n",
    "(i) Use microcanonical ensemble to derive the probability $P_\\nu$ of finding system in a state with energy $E_{\\nu}$. <br>\n",
    "(ii) Relate the entropy of the total bath+system to the energies $E_{\\nu}$ and prbabilities $P_\\nu$ of the system. <br>\n",
    "(ii) Show that temperature is a property of a heat bath $\\beta=\\frac{d\\Omega_{b}(E_b)}{dE_{b}}$. How can we inteperpret the $\\beta$ in terms of system borrowing energy from a heat bath. <br>\n",
    "(iii) Show that changing the size of bath leaves $\\beta $ unchanged.<br>\n",
    "(iv) Show that higher derivatives of the taylor expansion of $log\\Omega(E_o-E_b)$ can be ignored for large values of N. <br>\n",
    "(v) What is the relationship between NVE $\\Omega(N,V,E)$ and $Z(\\beta, V, T)$?  Argue that these ensembles give consistent themrodynamic descriptions (see next problem). "
   ]
  },
  {
   "cell_type": "markdown",
   "metadata": {},
   "source": [
    "## Solution\n",
    "\n",
    "(i) The probability is given by the fraction of state space correspdoning to energy $E_{\\nu}$ \n",
    "\n",
    "$$P_{\\nu} = \\frac{\\Omega_b(E-E_{\\nu})\\Omega(E_{\\nu})}{\\sum_{E_{\\nu}=0}\\Omega_b(E-E_{\\nu})\\Omega(E_{\\nu})}\\sim \\Omega_b(E-E_{\\nu})\\sim e^{log\\Omega_b(E-E_{\\nu})}\\sim e^{-\\beta E_{\\nu}}$$\n",
    "\n",
    "In the last step we jumped a head a bit and used Taylor expression showing that Probability of system to be in a state with energy $E_{\\nu}$ is exponentially related to the energy. E.g more likely states are the ones that borrow less energy from the bath. \n",
    "\n",
    "(ii) $$S= k_B log \\Big [\\sum_{E_{\\nu}=0}\\Omega_b(E-E_{\\nu})\\Omega(E_{\\nu})\\Big]$$\n",
    "\n",
    "Combine this expression with porbabilities given above and we have total entropy expressed in terms of system state probabilities and system energies while the effect of bath is absorbed in the quantity $\\beta $\n",
    "\n",
    "\n",
    "(iii) $\\beta =\\frac{\\partial log\\Omega(E)}{\\partial E}$ is bath size independent since $E~Ne$ and $log\\Omega(E)\\sim S(E)\\sim Ns$ hence doubling the size N of bath has no effect becasue in the ratio the size effects cancel. Hence the reason why temperature is called an intensive quantity. \n",
    "\n",
    "(iv) The second derivative produces heat capacity which decays as ($O(N^{-1/2})$), and higher derivatives decay even faster. \n",
    "\n",
    "\n",
    "(v) Ensembles are related via Laplace transform which (a) confirms that both ensembles contain essentially the same information and are simply expressed in terms of different variables. $Z=\\int \\Omega(E) e^{-\\beta E}dE=\\int e^{-\\beta E+log\\Omega(E)}dE=\\int e^{-\\beta N (e-Ts)}dE=$ also shows that (b) the quantity in the exponent is a very large number (becasue of N). Thus as we have seen in porblems of large deviations, the only non-nelgigble contirbutions to the integral comes from the region of minima of f=(e-TS) quantity. In other energy words averages dominate the behaviour. Thus weather we use free energy function or an entropy or energy function of an isolated system the thermodynamic relationships will all be the same (e.g T dependence, heat capacities, etc see other problems) "
   ]
  },
  {
   "cell_type": "markdown",
   "metadata": {},
   "source": [
    "### Problem 6 Schottky defects in NVT: Computing partition functions\n",
    "(i) Compute the partition function fo Schottky defect model in NVT ensemble outlined in problem-1. <br>\n",
    "(ii) Show that entropy computed in NVT ensemble agrees with entropy computed in NVE ensemble."
   ]
  },
  {
   "cell_type": "markdown",
   "metadata": {},
   "source": [
    "## Solution"
   ]
  },
  {
   "cell_type": "markdown",
   "metadata": {},
   "source": [
    "(i) Each site of lattice can either be occupied with energy 0 or contain defect with energy $\\epsilon$ hence the partiontion function for a single site is $z=1+e^{-\\beta \\epsilon}$ $$Z=z^{N}=(1+e^{-\\beta \\epsilon})^N$$"
   ]
  },
  {
   "cell_type": "markdown",
   "metadata": {},
   "source": [
    "(ii) $$A=-\\frac{1}{\\beta}logZ=-\\frac{N}{\\beta}log(1+e^{-\\beta \\epsilon})$$\n",
    "\n",
    "$$ S=-\\frac{\\partial A}{\\partial T}=Nk_B log(1+e^{-\\beta \\epsilon}) +N\\frac{\\epsilon}{T} \\frac{e^{-\\beta \\epsilon}}{(1+e^{-\\beta \\epsilon}) } $$\n",
    "\n",
    "Using the expression for the fraction of vacancies obtained in problem 1: $\\frac{n}{N}=\\frac{1}{1+e^{\\beta \\epsilon}}$ we see that the two expressions of entropy from NVE and NVT ensembles coincide. "
   ]
  }
 ],
 "metadata": {
  "kernelspec": {
   "display_name": "Python 3",
   "language": "python",
   "name": "python3"
  },
  "language_info": {
   "codemirror_mode": {
    "name": "ipython",
    "version": 3
   },
   "file_extension": ".py",
   "mimetype": "text/x-python",
   "name": "python",
   "nbconvert_exporter": "python",
   "pygments_lexer": "ipython3",
   "version": "3.6.4"
  }
 },
 "nbformat": 4,
 "nbformat_minor": 2
}

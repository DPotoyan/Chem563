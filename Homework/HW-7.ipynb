{
 "cells": [
  {
   "cell_type": "markdown",
   "metadata": {},
   "source": [
    "### Problem 1: Phase Equilibrium, Clausius-Clapeyron (CC).\n",
    "\n",
    "The heat of vaporization of water is 40.7 kJ/mol when it boils at sea level.<br>\n",
    "(a) Estimate the boiling point of water on top of a 5000 m high mountain where the\n",
    "atmospheric pressure is 0.5 atm. <br>\n",
    "(b) What is the entropy change when water boils at sea level and when water boils on top of the mountain?"
   ]
  },
  {
   "cell_type": "markdown",
   "metadata": {},
   "source": [
    "### Problem 2: Chemical Reaction equilbrium constant\n",
    "For the dissociation of iodine, $I_2$ $\\rightarrow$ $2I$, compute the equilibrium constant at $T = 1000 K$.<br>\n",
    "The mass of an iodine atom is $m_I =2.109×10^{−25} kg$. From thermodynamic tables of materials we have the associated ground-state electronic degeneraciesas $q_{elec}=4$ for $I$,and $q_{elec}=1$ for $I_2$, $\\theta_{rot}=0.0537K$,$\\theta_{vib}=308K$. The zero point energy differnece (dissociation energy) is: $\\Delta D = −35.6\\, kcal\\cdot mol^{-1}$"
   ]
  },
  {
   "cell_type": "markdown",
   "metadata": {},
   "source": [
    "### Problem 3: Ising Models \n",
    "\n",
    "Solve the following exerscises in Chandler's Chapter 5 on Phase transitions and Ising models: 5.1,5.3,5.4,5.6,5.7,5.8. Most of these involve wiriting down Taylor expansions of various terms. "
   ]
  },
  {
   "cell_type": "markdown",
   "metadata": {},
   "source": [
    "### Problem 4: (Optional problem but we will discuss this during the class so you may want to study it beforehand) <br> Exact and general solution to 1D Ising Model via transfer matrix method (5.21 problem in Chandler's book).\n",
    "\n",
    "You can read up about transfer matrix method for obtaining exact solutions for 1D ising model in these fantastic supplementary notes which i hope you guys will read :) in addition to Chandler's 5th Chapter.\n",
    "\n",
    "https://github.com/DPotoyan/Chem563/blob/master/Handwritten-notes/PhaseTransition_SupplementalNotes.pdf\n",
    "\n",
    "A short but nice acount of transfer matrix method can aslo be found in the notes of Mark Tuckerman from NYU: \n",
    "http://www.nyu.edu/classes/tuckerman/stat.mech/lectures/lecture_26/node2.html#SECTION00020000000000000000\n",
    "\n",
    "As you can see the crux of the transfer matrix method is in (a) representing partition function of an ising model as a multiplication of matrices. Diagnoalizing the matrix and finding a simple expression for free energy in terms of the largest eigenvalue. "
   ]
  }
 ],
 "metadata": {
  "kernelspec": {
   "display_name": "Python 3",
   "language": "python",
   "name": "python3"
  },
  "language_info": {
   "codemirror_mode": {
    "name": "ipython",
    "version": 3
   },
   "file_extension": ".py",
   "mimetype": "text/x-python",
   "name": "python",
   "nbconvert_exporter": "python",
   "pygments_lexer": "ipython3",
   "version": "3.6.7"
  }
 },
 "nbformat": 4,
 "nbformat_minor": 2
}

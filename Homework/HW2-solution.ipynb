{
 "cells": [
  {
   "cell_type": "markdown",
   "metadata": {},
   "source": [
    "### Problem 1:  \n",
    "\n",
    "#### (i) \n",
    "We show that Kelvin's statement is identical to Clausius original statement by noting that violation of Kelvin principle is equivalent to violation of Clausius and vice versa. E.g Violating Kelvin's statement implies building cyclical process that can extract work from cold bath and use the work to heat up the hot bath thereby increasing its energy. This clearly violates Clausius statement of second law. And vice versa if we violate Clausius statement then we can devise an adiabatic system split into colder and warmer halves and operate a cyclinc engine that keeps on generating work thereby violating Kelvin's statement. \n",
    "\n",
    "#### (ii) \n",
    "(a) Not in equilibrium and neither in steady state <br>(b) Equilibrium <br>(c) Non-equilibrium steady state, almost. <br> (d) Not in equilibrium and not in steady state <br>(e) Equilibrium <br>(f) Non-equilibrium steady state."
   ]
  },
  {
   "cell_type": "markdown",
   "metadata": {},
   "source": [
    "### Problem 2: Maxwell relations warm up. \n",
    "#### For a dielectric material characterized by polarization P, electric field $\\bf E$, and temperature T (PET system), derive the so-called Maxwell relations between various derivatives of thermodynamic quantities. The Maxwell relations follow from the fact that the differentials of the thermodynamic potentials U, H, A and G are exact, if they are expressed in terms of their natural variables."
   ]
  },
  {
   "cell_type": "markdown",
   "metadata": {},
   "source": [
    "The solution starts by first listing what are the extensive variables that characterize the equilibrium state of our system. In this case we only have Electric field $\\bf E $. Hence the thermodynamic description is given by internal energy $U(S,\\bf E)$ for which we can write the differential and use the first law to obtain Maxwell's relations:"
   ]
  },
  {
   "cell_type": "markdown",
   "metadata": {},
   "source": [
    "$$ dU=\\Big(\\frac{\\partial U}{\\partial S}\\Big)_{P} dS+\\Big (\\frac{\\partial U}{\\partial{P}}\\Big )_{S} d{P} $$"
   ]
  },
  {
   "cell_type": "markdown",
   "metadata": {},
   "source": []
  },
  {
   "cell_type": "markdown",
   "metadata": {},
   "source": [
    "Since internal energy is a state function (full differential), $ dU= TdS+{\\bf E}d P $"
   ]
  },
  {
   "cell_type": "markdown",
   "metadata": {},
   "source": [
    "$$\\Big (\\frac{\\partial  T}{\\partial P } \\Big )_S=\\Big (\\frac{\\partial \\bf E}{\\partial S}\\Big )_P  $$"
   ]
  },
  {
   "cell_type": "markdown",
   "metadata": {},
   "source": [
    "In the same fashion for $dH = T dS − P dE$ we have $$\\Big (\\frac{\\partial  T}{\\partial {\\bf E} } \\Big )_S=-\\Big (\\frac{\\partial \\bf P}{\\partial S}\\Big )_E  $$"
   ]
  },
  {
   "cell_type": "markdown",
   "metadata": {},
   "source": [
    "for $dA = −S dT + E dP$ we have: $$\\Big (\\frac{\\partial  S}{\\partial {P} } \\Big )_T=-\\Big (\\frac{\\partial \\bf E}{\\partial T}\\Big )_P  $$"
   ]
  },
  {
   "cell_type": "markdown",
   "metadata": {},
   "source": [
    "Finally for $dG = −S dT − P dE$ we have: $$\\Big (\\frac{\\partial  S}{\\partial {\\bf E} } \\Big )_T=\\Big (\\frac{\\partial \\bf P}{\\partial T}\\Big )_{\\bf E}  $$"
   ]
  },
  {
   "cell_type": "markdown",
   "metadata": {},
   "source": [
    "### Problem 3: Chandler 1.2\n",
    "#### Which expression of Entropy is acceptable? Find the depdendence of tension f on temperature T and density L/n.  In other words obtain the functional form for f(T,L/n). "
   ]
  },
  {
   "cell_type": "markdown",
   "metadata": {},
   "source": [
    "#### Expresion-1: $$S=L_0\\gamma \\Big(\\frac{\\theta E }{L_0}\\Big)-L_0 \\gamma \\Big [\\frac{1}{2}\\Big(\\frac{L}{L_0} \\Big)^2+\\frac{L}{L_0}-\\frac{3}{2}\\Big ]$$"
   ]
  },
  {
   "cell_type": "markdown",
   "metadata": {},
   "source": [
    "#### Expresion-2:  $$ S= L_0\\gamma e^{\\theta nE/L_0} - L_0 \\gamma \\Big [\\frac{1}{2}\\Big(\\frac{L}{L_0} \\Big)^2+\\frac{L}{L_0}-\\frac{3}{2}\\Big ]$$"
   ]
  },
  {
   "cell_type": "markdown",
   "metadata": {},
   "source": [
    "Two options for the entropy $S(E, L, n)$ expression are given, where E is energy, L length and n particle number. Thermodynamic entropy by its definition is an extensive quantity. So first thing to do is to check for extensivity with respect to size of the system:"
   ]
  },
  {
   "cell_type": "markdown",
   "metadata": {},
   "source": [
    "$$ S(\\lambda E, \\lambda  L, \\lambda n )=\\lambda S(E, L, n)$$"
   ]
  },
  {
   "cell_type": "markdown",
   "metadata": {},
   "source": [
    "We see that first expression satisfies extensivity since entropy can be expressed as $S \\sim n s_n$ where $s_n$ is the size independent entropy per particle. For the second expression we are unable to cast entropy in such a form becasue of the exponential term that creates a non-linear dependence. To deduce the tension as a function of temperature and density $f(T,L/n)$ we are going to make use of the first law $dE= TdS-fdL+\\mu dn$ expressed in terms of entropy: "
   ]
  },
  {
   "cell_type": "markdown",
   "metadata": {},
   "source": [
    "$$dS=\\frac{1}{T}dE-\\frac{f}{T}dL+\\frac{\\mu }{T}dn$$ "
   ]
  },
  {
   "cell_type": "markdown",
   "metadata": {},
   "source": [
    "From this last expression we see that tension is defined via "
   ]
  },
  {
   "cell_type": "markdown",
   "metadata": {},
   "source": [
    "$$\\frac{f}{T}=-\\Big(\\frac{\\partial S}{\\partial L} \\Big)_{E,n} = - L_0 \\gamma \\Big (\\frac{L}{L^2_0}-\\frac{L_0}{L^2} \\Big) $$"
   ]
  },
  {
   "cell_type": "markdown",
   "metadata": {},
   "source": [
    "Now we are ready to express tension in terms of temperature and density $\\rho=L/n$ :"
   ]
  },
  {
   "cell_type": "markdown",
   "metadata": {},
   "source": [
    "$$ f=- T \\gamma n \\rho_0   \\Big (1-\\Big(\\frac{\\rho_0}{\\rho_0}\\Big)^3 \\Big) $$"
   ]
  },
  {
   "cell_type": "markdown",
   "metadata": {},
   "source": [
    "### Problem N: Chandler 1.6 \n",
    "The solution for this porblem is alreday contained in solution for 1.15. See below."
   ]
  },
  {
   "cell_type": "markdown",
   "metadata": {},
   "source": [
    "### Problem N: Chandler 1.7 \n",
    "These variational relations are derived by making use of the fact that thermodynamic potentials are all legendre transforms of entropy (or Energy) of an isolated system. Hence, given the stability condition for entropy $(\\delta S)_{n,V,E}<0$ lead to stability conditions for potentials with the difference that (a) Legendre transforms in thermodynamics put a minus sign in front of entropy (b) Legendre transforms change the independent variables. For instance going from $E(n,V,S)$ to Helmolts free energy is done via $A(n,V,T)=E-T\\cdot S$ hence the new stability condition is going to be  $(\\delta A)_{n,V,T}>0$. Similiar logic applies to all other potentials."
   ]
  },
  {
   "cell_type": "markdown",
   "metadata": {},
   "source": [
    "To see the derivation of new stability conditions more explicitely let us take the second law inequality expression for the entire system isolated from the envrionment $dS \\geq \\frac{dQ}{T}$ and using the first law $dE=dQ-pdV \\leq TdS-pdV$ obtain an analogus inequality for the Helmholtz free energy differential: $dA=dE-TdS-SdT$ (keep in mind that typically S in A is the system entropy and not the whole system entropy). "
   ]
  },
  {
   "cell_type": "markdown",
   "metadata": {},
   "source": [
    "$$dA \\leq -pdV-SdT$$"
   ]
  },
  {
   "cell_type": "markdown",
   "metadata": {},
   "source": [
    "$$dA_{V,T} \\leq 0$$"
   ]
  },
  {
   "cell_type": "markdown",
   "metadata": {},
   "source": [
    "We see that under constant V, T conditions the increase in entropy is equivalently stated as decrease in free energy of the system. The equilibrium state is thus found via minimization of free energy and stabilit condition is given by the positivity of second derivative.   "
   ]
  },
  {
   "cell_type": "markdown",
   "metadata": {},
   "source": [
    "### Problem N: Chandler 1.8 \n",
    "#### Find an expression for $\\Big( \\frac{\\partial C_p}{\\partial p} \\Big)_{T}$ expressed in terms of derivative of volume with respect to temperature.\n",
    "Solving this problem requires some care distinguishing dependent and independent variables. First we make use of the heat capacity expressed via entropy  $$C_p=\\Big(\\frac{dQ}{dT} \\Big)_p=T\\Big(\\frac{ \\partial S}{ \\partial T} \\Big)_p$$"
   ]
  },
  {
   "cell_type": "markdown",
   "metadata": {},
   "source": [
    "We have omited the condition of fixed n since no derivatives involve n and the epxression involves operation with T and p derivatives only:"
   ]
  },
  {
   "cell_type": "markdown",
   "metadata": {},
   "source": [
    "$$\\Big( \\frac{\\partial C_p}{\\partial p} \\Big)_{T}=  T \\Big [\\frac{\\partial }{\\partial p} \\Big(\\frac{\\partial S}{ \\partial T} \\Big)_p \\Big]_T = T \\Big [\\frac{\\partial }{\\partial T} \\Big(\\frac{\\partial S}{ \\partial p} \\Big)_T \\Big]_p$$"
   ]
  },
  {
   "cell_type": "markdown",
   "metadata": {},
   "source": [
    "In the last equality above we simply changed derivatives since partial differentiation is independent of order which is the basis for Maxwell relations. Speaking of which:  $$\\Big(\\frac{\\partial S}{ \\partial p} \\Big)_T  =-\\Big(\\frac{\\partial V}{ \\partial T} \\Big)_p $$ "
   ]
  },
  {
   "cell_type": "markdown",
   "metadata": {},
   "source": [
    "Plugging the maxwell relation intou our expression of heat capacity derivative above we obtain the desried result: $$\\Big( \\frac{\\partial C_p}{\\partial p} \\Big)_{T} =  -T \\Big [\\frac{\\partial }{\\partial T} \\Big(\\frac{\\partial V}{ \\partial T} \\Big)_p \\Big]_p = -T \\Big(\\frac{\\partial^2 V}{ \\partial T^2} \\Big)_p   $$"
   ]
  },
  {
   "cell_type": "markdown",
   "metadata": {},
   "source": [
    "### Problem N: Chandler 1.14"
   ]
  },
  {
   "cell_type": "markdown",
   "metadata": {},
   "source": [
    "As the hint suggests we need to make use of Gibbs-Duhem expression which is relating the diferentials of intensive variables "
   ]
  },
  {
   "cell_type": "markdown",
   "metadata": {},
   "source": [
    "$$d \\mu=-sdT+vdP$$"
   ]
  },
  {
   "cell_type": "markdown",
   "metadata": {},
   "source": [
    "For T=const we have $$d \\mu=vdP$$ from which we obtain the relationship of derivatives with respect to volume:"
   ]
  },
  {
   "cell_type": "markdown",
   "metadata": {},
   "source": [
    "$$\\Big (\\frac{\\partial \\mu}{\\partial v} \\Big )_T = v \\Big (\\frac{\\partial P}{\\partial v} \\Big )_T$$"
   ]
  },
  {
   "cell_type": "markdown",
   "metadata": {},
   "source": [
    "### Problem N: Chandler 1.15"
   ]
  },
  {
   "cell_type": "markdown",
   "metadata": {},
   "source": [
    "The entropy forp-v-n system is obtained from: $dE=TdS-pdV+\\mu dn$"
   ]
  },
  {
   "cell_type": "markdown",
   "metadata": {},
   "source": [
    "$$dS(E,V,n)=\\frac{1}{T}dE+\\frac{p}{T}dV-\\frac{\\mu}{T} dn = \\beta dE+p \\beta dV-\\mu \\beta dn$$"
   ]
  },
  {
   "cell_type": "markdown",
   "metadata": {},
   "source": [
    "We need to legendre transfrom $S(E,V,n)$ into $S(\\beta,V,n)$. In other words we are going to swap $E$ with its conjugate $\\beta=\\frac{1}{T}$ (set untit $k_B$=1) via the following transformation: "
   ]
  },
  {
   "cell_type": "markdown",
   "metadata": {},
   "source": [
    "$$S(\\beta,V,n)=S(E,V,n)-E\\cdot \\beta$$"
   ]
  },
  {
   "cell_type": "markdown",
   "metadata": {},
   "source": [
    "Thus we have $\\beta$ as the independent variable which is verified below:"
   ]
  },
  {
   "cell_type": "markdown",
   "metadata": {},
   "source": [
    "$$d S(\\beta,V,n) = dS(E,V,n)-Ed\\beta-\\beta dE = -Ed\\beta+p \\beta dV- \\mu \\beta dn$$"
   ]
  },
  {
   "cell_type": "markdown",
   "metadata": {},
   "source": [
    "In the same fashion we go on to swap $n$ for $\\mu \\beta$ by doing the following legendre transform: "
   ]
  },
  {
   "cell_type": "markdown",
   "metadata": {},
   "source": [
    "$$S(\\beta,\\beta \\mu,V)=S(\\beta,n,V)+n\\cdot \\beta \\mu $$"
   ]
  },
  {
   "cell_type": "markdown",
   "metadata": {},
   "source": [
    "plugging in the entropy differential above we get:"
   ]
  },
  {
   "cell_type": "markdown",
   "metadata": {},
   "source": [
    "$$dS(\\beta,V,\\beta \\mu) = -Ed\\beta+p \\beta dV + n d \\mu \\beta $$"
   ]
  },
  {
   "cell_type": "markdown",
   "metadata": {},
   "source": [
    "The second part of the question is asking to find the relationship between derivatives of energy hence we swtich back to energy function: $E( \\beta, V, n)$ for which the full differential reads:"
   ]
  },
  {
   "cell_type": "markdown",
   "metadata": {},
   "source": [
    "$$dE(\\beta,V,n) = \\Big( \\frac{\\partial E}{\\partial \\beta } \\Big )_{V,n}d\\beta +\\Big( \\frac{\\partial E}{\\partial  V} \\Big )_{\\beta,n}dV+\\Big( \\frac{\\partial E}{\\partial  n} \\Big )_{\\beta,V}d n $$"
   ]
  },
  {
   "cell_type": "markdown",
   "metadata": {},
   "source": [
    "Now we can construct the desred partial of derivative $E$ with respect to $\\beta $:"
   ]
  },
  {
   "cell_type": "markdown",
   "metadata": {},
   "source": [
    "$$\\Big( \\frac{\\partial E}{\\partial \\beta } \\Big )_{V,\\beta \\mu} = \\Big( \\frac{\\partial E}{\\partial \\beta } \\Big )_{V,n} +\\Big( \\frac{\\partial E}{\\partial  n} \\Big )_{\\beta,V} \\Big (\\frac{ \\partial n}{\\partial \\beta} \\Big )_{V,\\beta \\mu} $$"
   ]
  },
  {
   "cell_type": "markdown",
   "metadata": {},
   "source": [
    "Comparison with target expression tells us we need to use a maxwell relation to rewrite the partial derivative for the second term in the right hand side: $$\\Big (\\frac{ \\partial n}{\\partial \\beta} \\Big )_{V,\\beta \\mu} = - \\Big (\\frac{ \\partial n}{\\partial \\beta \\mu} \\Big )_{V,\\beta } \\Big (\\frac{ \\partial \\beta \\mu}{\\partial \\beta} \\Big )_{V,n} $$"
   ]
  },
  {
   "cell_type": "markdown",
   "metadata": {},
   "source": [
    "Plugging the maxwell relation in the expression above we obtain the desired expression:"
   ]
  },
  {
   "cell_type": "markdown",
   "metadata": {},
   "source": [
    "$$\\Big( \\frac{\\partial E}{\\partial \\beta } \\Big )_{V,\\beta \\mu} = \\Big( \\frac{\\partial E}{\\partial \\beta } \\Big )_{V,n} -\\Big( \\frac{\\partial E}{\\partial  n} \\Big )_{\\beta,V} \\Big (\\frac{ \\partial n}{\\partial \\beta \\mu} \\Big )_{V,\\beta } \\Big (\\frac{ \\partial \\beta \\mu}{\\partial \\beta} \\Big )_{V,n} $$"
   ]
  }
 ],
 "metadata": {
  "kernelspec": {
   "display_name": "Python 3",
   "language": "python",
   "name": "python3"
  },
  "language_info": {
   "codemirror_mode": {
    "name": "ipython",
    "version": 3
   },
   "file_extension": ".py",
   "mimetype": "text/x-python",
   "name": "python",
   "nbconvert_exporter": "python",
   "pygments_lexer": "ipython3",
   "version": "3.6.4"
  }
 },
 "nbformat": 4,
 "nbformat_minor": 2
}

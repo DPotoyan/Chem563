{
 "cells": [
  {
   "cell_type": "markdown",
   "metadata": {},
   "source": [
    "## Exam-1: Fundamental of statistical mechanics: Probability theory, Entropy and Ensembles. \n",
    "\n",
    "### Please turn in the exam by the end of Wednesday via either Canvas/email/GitHub. Please  give succinct explanations (5 sentences max) to questions. You could type text and equations inside this notebook by swtiching to Markdown and using LaTeX notation. Support your arguments with equations as much as possible as \"mathematics is the most ecomonomical usage of letters.\""
   ]
  },
  {
   "cell_type": "markdown",
   "metadata": {},
   "source": [
    "### Question-1. $NVT$\n",
    "\n",
    "You have some polymer in a solution at constat T which can be in a state A with 10 different conformations having energy $2\\epsilon$ and or in state B with 30 different conformations having energy $\\epsilon$. Write down probability of our polymer being in states A,B. What thermodynamic quantity determines the ratio P(A)/P(B)? "
   ]
  },
  {
   "cell_type": "markdown",
   "metadata": {},
   "source": [
    "### <span style=\"background-color: #F5F5F5\"> Solution -1</span>\n",
    "<span style=\"background-color: #F5F5F5\"> After we write down the partiation function $Z=\\sum_i e^{-\\beta \\epsilon_i}=\\sum_{\\epsilon} \\Omega (\\epsilon) e^{-\\beta \\epsilon}$ the problem is essentially solved: <br> \n",
    "<br>$$Z(\\beta) = 10e^{-2\\beta \\epsilon}+30e^{-\\beta \\epsilon} $$<br> Probabilities for A and B states follow immeaditely: $$ P(A)=\\frac{10e^{-2\\beta \\epsilon}}{10e^{-2\\beta \\epsilon}+30e^{-\\beta \\epsilon}} $$<br>  and $$P(B)=\\frac{30e^{-\\beta \\epsilon}}{10e^{-2\\beta \\epsilon}+30e^{-\\beta \\epsilon}}$$<br> The ratio of probabilitesi of A/B states is:  $$\\frac{P(A)}{P(B)}=\\frac{e^{-\\beta( 2\\epsilon- T \\cdot k_B log10)}}{e^{-\\beta( \\epsilon- T \\cdot k_B log30)}}=\\frac{e^{-\\beta F_A}}{e^{-\\beta F_B}}=e^{-\\beta \\Delta F_{AB}}$$ We see that the ratio is foverned by te free energy difference between conformation A and B. This is why Free Energy is one of the central quantities for characterizing conformational states of biomoelcules. </span>"
   ]
  },
  {
   "cell_type": "markdown",
   "metadata": {},
   "source": [
    "### Question-2. $NVT-NVE$ \n",
    "Consider a three level single particle system with five microstates with energies 0, ε, ε, ε, and 2ε. What is $\\Omega(\\epsilon n)$  n=0,1,2 for this system? What is the mean energy of the system if is in equilibrium with a heat bath at temperature T ?"
   ]
  },
  {
   "cell_type": "markdown",
   "metadata": {},
   "source": [
    "### <span style=\"background-color: #F5F5F5\"> Solution-2 </span>\n",
    "<span style=\"background-color: #F5F5F5\"> Simply counting states does it for this problem: $\\Omega(0)=1$, $\\Omega(\\epsilon)=3$ and $\\Omega(2\\epsilon)=1$. Again writing down the partiation function is what gets us to the thermodynamic quantities:<br> $$Z=1+3e^{-\\beta \\epsilon}+e^{-2\\beta \\epsilon}$$ Mean energy is obtained either by directly using Boltzmanns distribution and computing expectation of Energy $\\langle E \\rangle=\\sum_i p_i E_i $ or by using the moment generating property of partition function, $\\langle E \\rangle=\\frac{\\partial log Z}{\\partial (-\\beta) }$<br> $$\\langle E \\rangle = \\frac{3\\epsilon e^{-\\beta \\epsilon}+2\\epsilon e^{-2\\beta \\epsilon} }{Z} $$ </span>"
   ]
  },
  {
   "cell_type": "markdown",
   "metadata": {},
   "source": [
    "### Question-3 Harmonic oscillator in a heat bath.\n",
    "Compute Free energy and Entropy of a one-dimensional harmonic oscillator in equilibrium with a heat bath at temperature T."
   ]
  },
  {
   "cell_type": "markdown",
   "metadata": {},
   "source": [
    "### <span style=\"background-color: #F5F5F5\"> Solution-3 </span>\n",
    "<span style=\"background-color: #F5F5F5\"> Following the same approach as in last two problems identify energy levels $E_v=(1/2+v)\\hbar \\omega$ then compute partiiton function. $$Z=e^{-\\frac{1}{2}\\beta \\hbar \\omega}\\sum_v e^{-\\beta v \\hbar \\omega} = \\frac{e^{-\\frac{1}{2}\\beta \\hbar \\omega}}{1-e^{-\\beta \\hbar \\omega }}$$ Free energy follows simply: $$F=-k_B TlogZ=k_B Tlog(1-e^{-\\beta \\hbar \\omega })+\\frac{\\hbar \\omega}{2} $$<br>  $$E=\\frac{\\partial log Z}{\\partial (-\\beta)}=\\frac{\\hbar \\omega}{e^{\\beta \\hbar \\omega }-1}+\\frac{\\hbar \\omega}{2} $$ <br> $$ S=\\frac{E-F}{T}= k_B \\Big [ \\frac{\\beta \\hbar \\omega}{e^{\\beta \\hbar \\omega }-1}-log(1-e^{-\\beta \\hbar \\omega }) \\Big] $$</span>"
   ]
  },
  {
   "cell_type": "markdown",
   "metadata": {},
   "source": [
    "### Question-4. $\\mu VT$  Protein-RNA binding.  \n",
    "\n",
    "The long noncoding RNAs (lncRNA) can bind multiple proteins for regulatory functions. Assume equilibrium mixture of 1 RNA molecule with multiple A and B protiens present in the mixture. There are N sites on RNA which can be occupied by at most 1 A and at most 2 B proteins. Assume that each bound protein contributes $\\epsilon$ energy. Compute what is the probability of site being bound by poteins A, B if:\n",
    "\n",
    "(i) One adsorbed A protein has two different  conformations (with the same energy), and one adsorbed B molecule has one state.\n",
    "\n",
    "(ii) One adsorbed A protein has two different conformations (with the same energy), and one adsorbed B molecule has one conformation but when two bind then there are five different conformations. "
   ]
  },
  {
   "cell_type": "markdown",
   "metadata": {},
   "source": [
    "### <span style=\"background-color: #F5F5F5\"> Solution-4 </span>\n",
    "<span style=\"background-color: #F5F5F5\"> Grand canonical partition functtion allows us toobtain probabilities of occupation of individual sites becasue they are independent. We assign $\\epsilon=0$ for an unbound sites. <br>\n",
    "(i)$$\\Xi=1+2e^{-\\beta (\\epsilon-\\mu_A)}+e^{-\\beta (\\epsilon-\\mu_B)} $$ Having partition function we can obtain probability of site occupacnies trivially:\n",
    "$$P(A)=\\frac{2e^{-\\beta (\\epsilon-\\mu_A)}}{\\Xi} $$\n",
    "$$P(B)=\\frac{e^{-\\beta (\\epsilon-\\mu_B)}}{\\Xi}  $$\n",
    "<br>\n",
    "(ii) THe only difference with previous case is that now we have one more configuration which is two B molecules bound, in addition to the site being either empty, bound by one A or bound by one B. Everything else stays the same. Hence we obtain the final result by simply including the additional state:<br><br>\n",
    "$$\\Xi=1+2e^{-\\beta (\\epsilon-\\mu_A)}+e^{-\\beta (\\epsilon-\\mu_B)}+5e^{-\\beta (2\\epsilon-\\mu_B)} $$\n",
    "<br>\n",
    "$$P(A)=\\frac{2e^{-\\beta (\\epsilon-\\mu_A)}}{\\Xi} $$\n",
    "<br>\n",
    "$$P(B)=\\frac{e^{-\\beta (\\epsilon-\\mu_B)}+5e^{-\\beta (2\\epsilon-\\mu_B)}}{\\Xi} $$\n",
    "</span>"
   ]
  },
  {
   "cell_type": "markdown",
   "metadata": {},
   "source": [
    "### Question-5 Quantum vs classical. \n",
    "\n",
    "(i) What would you expect heat capacity for a 6 atom molecule to be in the classical mechanical limit?\n",
    "\n",
    "(ii) Why heat capacities of real systems go to zero with temperature?\n",
    "\n",
    "(iii) What was the Black Body radiation problem about and how Planck resolved it?\n",
    "\n",
    "(iv) Show that Bose Einstein and Fermi diract distributions do converge to Boltzman distribution in the classical limit. Also show that Grand canonical distribution tends to canonical distribution with a N! factor arising naturally? \n",
    "\n",
    "(v) What is a thermlal wavelength and what is its significance? "
   ]
  },
  {
   "cell_type": "markdown",
   "metadata": {},
   "source": [
    "### <span style=\"background-color: #F5F5F5\"> Solution-5</span>\n",
    "<span style=\"background-color: #F5F5F5\"> (i) 6 atom moelucle is likely non-linear henc we have 3N-6=12 inernal degrees of freedom. From equipartition theorem we know that each degree of freedom contributes a $\\frac{1}{2}k_B T$ to internal energy. From overall translational degrees we get $E_{trans}\\sim\\frac{3}{2}k_B T$ and from rotations we get:   $E_{rot}\\sim\\frac{3}{2}k_B T$. Internal modes contribute $k_B T$ each (kinetic+potetian energy) hence we have in total  $E_{vib}\\sim 12 k_B T$ coming from internal modes. The heat capacity per mol for our moelcule would then be $C_v=15R$<br><br>\n",
    "(ii) Quantum mechanics tells us that energy levels in matter are discretized with gaps between ground and first few excitet states being non-neglgible at low temperatures. Hence as we decreease teeprature some of the modes become \"frozen\" as thermal energy can not excite them.  <br><br>\n",
    "(iii) Black body radiation problem was about resolving an apparent conflict betweene xperimental predictions and the cutting edge theory of the time, which was: classical mechanics implying equipartition theorem for black body. becasue of equipartion theorem distirbution of frequencies radiating from black body was predicted to diverge in high frequecy regime (ultraviolet catastrophe). This was clearly an unphysical result implying infite energy radiation. Planck resolved the problem by ditching equipartion theorem and bringin in distirbution that is obtained by assuming quantization of energy $P(\\omega)d\\omega \\sim \\frac{\\omega^2d \\omega}{e^{\\beta \\hbar \\omega }-1}$! (see the harmonic oscillator problem). The quantization and existence of energy gaps made the very high frequency modes frozen and inaccesible for thermal excitations. This lead to perfect agreement with experiments. Quantum mechanics was born by combining energy quantization with statistical mechanics reasoning.   \n",
    "(iv) Classical limit is consistent with $\\mu \\rightarrow -\\infty$ see the problem 7 to know why. In this limit all quantum distirbutions converge to Bolztman distirbution. All the derivations are done line by line in Chandler's book, towards the end of Chapter 4.<br>\n",
    "(v) Thermal wavelength is quantity that a characteristic length scale which needs to be singificantly smaller thatn spacial distance between particles in orer for quantum effects to be negligible. In other words thermal wavelength is a wave length when thermal energy is comparable to energy of a wave-particle computed by De Briglie equation. See problem-7 to see how thermla wavelength and chemical potential are are related. \n",
    "</span>"
   ]
  },
  {
   "cell_type": "markdown",
   "metadata": {},
   "source": [
    "### Question-6: Information theory and MaxEnt "
   ]
  },
  {
   "cell_type": "markdown",
   "metadata": {},
   "source": [
    "(i) Entropy of which system is greater a fair die vs a biased die.  \n",
    "\n",
    "(ii) How much information (in bits) does an FBI agent need to locate a notorious hacker living in a 10 story building with one apartment per floor with no other information availible? What if an info comes that the hacker is twice more likely to be living in odd numbered apartments (hackars are oddballs)? \n",
    "\n",
    "(iii) Combine Gibbs-Shanon Entropy $S=-\\sum_i p_i log_i $ with microcanonical, canonical and grand canonical probability distributions to obtain expressions for entropy.  \n",
    "\n",
    "(iv) You are using an enrgy function $E=\\frac{1}{2}k_0(x-x_0)^2 +\\frac{p^2}{2m}$ to describe a molecule coupled to a heat bath with T temperature. Write down the probability of P(x,p). \n",
    "\n",
    "(v) Experiment has shown that $\\langle x \\rangle = \\alpha $ How would you accomodate this new information and obtain P(x,p) consistent with experiment? Would this mean revising energy function you had assumed before? "
   ]
  },
  {
   "cell_type": "markdown",
   "metadata": {},
   "source": [
    "### <span style=\"background-color: #F5F5F5\"> Solution-6</span>\n",
    "<span style=\"background-color: #F5F5F5\">(i) Flat distributions have higher entropy than biased ones. This is obvious both intutitvely as flat distribution of a variable means greater uncertainty about its values, whereas with biased ones we can place our bet on where the bias is. <br><br>\n",
    "(ii) In the absence of infromation $S=log_2 10$. After the info comes in the entropy drops to $S=-\\sum_i p_i log_2 p_i=-2/3 log_2 2/3-1/3log_2 1/3=$ <br><br>\n",
    "(iii) We need to plug in $p=1/\\Omega(N,V,E)$ for $NVE$ ensemble, $p(E)\\sim e^{-\\beta E}$ for $NVT$ and $p(E,N)\\sim e^{-\\beta (E-\\mu N)}$ for $\\mu VT$. <br> <br>\n",
    "$$S=-k_B \\sum_{\\Omega\\,\\, states} \\frac{1}{\\Omega} log \\frac{1}{\\Omega}=-k_B \\Omega \\cdot \\frac{1}{\\Omega}  log \\frac{1}{\\Omega}= k_B log \\Omega $$\n",
    "<br>\n",
    "This is the Boltzmann's original expression reating entropy to the number of states of an isolated system. <br><br>\n",
    "$$ S = -k_B \\sum_i \\frac{e^{-\\beta E_i}}{Z} log \\frac{e^{-\\beta E_i}}{Z}= \\frac{1}{T} \\sum_i \\frac{e^{-\\beta E_i}}{Z} (E_i+k_B TlogZ)$$<br>\n",
    "You may recognize a familiar expression once you write the write the last expression in terms of average energy and free energy: $S=\\frac{E-F}{T}$<br>\n",
    "Finally we get the expression for grand canonical ensemble which is similar to canonical case:<br><br>\n",
    "$$ S = -k_B \\sum_i \\frac{e^{-\\beta (E_i-\\mu N_i)}}{\\Xi} log \\frac{e^{-\\beta (E_i-\\mu N_i)}}{\\Xi}= \\frac{1}{T} \\sum_i \\frac{e^{-\\beta (E_i-\\mu N_i)}}{\\Xi} (E_i-\\mu N_i+k_B T log \\Xi )$$\n",
    "Again writing the last expression in terms of average energy and PV for grand potential this time we recover the Euler's equation: $S=\\frac{E-\\mu N+PV}{T}$<br><br>\n",
    "(iv) This is just Boltzmann's distriution $$P(x,p)=\\frac{e^{-\\beta \\big (\\frac{p^2}{2m}+\\frac{1}{2}k_0 (x-x_0)^2\\big)}}{Z}$$      \n",
    "(v) Experimental information is essentially a constrain imposed on our probability distirbution. We incorporate this constrain in exactly the same way we incoporated constant average energy constraint. By maximizing entropy with a Lagrange mulitplier:<br><br>\n",
    "$$ I({\\bf P}| \\lambda)=-\\int dx  P(x) log P(x) - \\lambda \\int dx P(x) x$$<br>\n",
    "Let's note a couple of things, our distirbution is continuous and not discrete hence we write integrals instead of sums. We have integrated out the momemntum since the x and p are independent variables (P(x,p)=P(x)P(p)) and constraint is imposed on distribution of x values. Hence why we focus on $P(x)$ distirbution which will be mulitplied by $P(p)$ to obtain the full distirbution over coordinate and momenta.<br>\n",
    "<br>Carrying out maximiziation of functional it is trivial to show that $P(x)\\sim e^{-\\beta ( E(x)-\\lambda'x)}$ which means that we hav to revise energy function $E'(x)=E(x)-\\lambda'x$ of our molecule to accomodate new data! </span> "
   ]
  },
  {
   "cell_type": "markdown",
   "metadata": {},
   "source": [
    "### Questions-7:  Chemical Potential\n",
    "\n",
    "Derive an expression for the chemical potential of an ideal gas using clssical mechanics model for energy $E=\\frac{p^2}{2m}$ in the NVT ensemble."
   ]
  },
  {
   "cell_type": "markdown",
   "metadata": {},
   "source": [
    "### <span style=\"background-color: #F5F5F5\"> Solution-7 </span>\n",
    "<span style=\"background-color: #F5F5F5\">  First lets write down partition function for single atom of classical gas: \n",
    "<br><br>$$z=\\int e^{-\\beta \\frac{p^2}{2m}} \\frac{d^3p d^3x }{h^3} =V\\frac{(2\\pi m k_B T)^{3/2}}{h^3}=\\frac{V}{\\lambda^3} $$<br>\n",
    "In the last expression we used definition of thermla wavelength. For the N independent and indistingusihable atoms of ideal gas the partition function would be:<br><br> $$Z=\\frac{1}{N!}z^N=\\frac{V^N}{\\lambda^{3N} N!}$$<br>\n",
    "$$F=-k_BT logZ= N k_B T log \\Big (\\frac{N}{V}\\lambda^3\\Big )-Nk_B T$$<br>\n",
    "Now it is a trivial to get chemical potential once we write down the differnetial expression for Helmholtz free energy:<br><br>\n",
    "$$dF=-SdT-pdV+\\mu dN $$\n",
    "Hence $$\\mu =\\Big (\\frac{\\partial F}{\\partial N}\\Big )_{V,T} = k_B Tlog\\Big(\\frac{N}{V}\\lambda^3 \\Big) $$<br>\n",
    "Note two things: Chemical potential is an intensive quantity which is confirmed by seeing that all extensive parameters appear as ratios. Second we see that the chemical potential increase with the density N/V of particles: Particles flow from systems with high to low density. For classical concentrations, that is concnetrations for which we have small thermal wavelengths $\\lambda \\ll V^{1/3}$, the chemical potential of an ideal gas is always negative.</span>"
   ]
  },
  {
   "cell_type": "markdown",
   "metadata": {},
   "source": [
    "### Question-8:  Legendre transform strikes again\n",
    "\n",
    "Legendre transform E(N,V,S) to replace all extensive variables by their conjugate intensive variables."
   ]
  },
  {
   "cell_type": "markdown",
   "metadata": {},
   "source": [
    "### <span style=\"background-color: #F5F5F5\"> Solution-8 </span>\n",
    "If you remember what Legenedre transform in thermodynamics is taking f(x) and replacing it with $L(p)=f(x)-px$ where $p=\\frac{\\partial f(x)}{\\partial x}$ then the problem is solved esily by applying transform to three variables in question:  $$\\Phi(T,p,\\mu)=E-\\frac{\\partial E}{\\partial S}\\cdot S-\\frac{\\partial E}{\\partial V}\\cdot V-\\frac{\\partial E}{\\partial N}\\cdot N=E-TS+pV-\\mu N$$\n",
    "And if you still remember Euler's expression for therodynamic variables you may see a funny result for a one component system :)"
   ]
  }
 ],
 "metadata": {
  "kernelspec": {
   "display_name": "Python 3",
   "language": "python",
   "name": "python3"
  },
  "language_info": {
   "codemirror_mode": {
    "name": "ipython",
    "version": 3
   },
   "file_extension": ".py",
   "mimetype": "text/x-python",
   "name": "python",
   "nbconvert_exporter": "python",
   "pygments_lexer": "ipython3",
   "version": "3.6.7"
  }
 },
 "nbformat": 4,
 "nbformat_minor": 2
}

{
 "cells": [
  {
   "cell_type": "markdown",
   "metadata": {},
   "source": [
    "### Problem 1: Shottky defects in NVE: Computing number of states via lattice models \n",
    "\n",
    "Schotky defects are vacancies in a lattice of atoms. Creating a single vacancy costs an energy. Consider NVE ensemble of lattice with n vacacnies(defects) in an N-lattice model of solid material. The total energy is solely a function of defects in this model $E=n\\epsilon$\n",
    "\n",
    "(i) Write down number of states in NVE ensemble and compute the entropy via Boltzman formula.\n",
    "\n",
    "(ii) Compute how the temperature would affect the fraction of vacancies on the lattice\n",
    "\n",
    "(iii) How would the total energy depend on temperature T. Derive expression for the high temeprature limit ($\\frac{\\epsilon}{k_b T} \\gg 1$)"
   ]
  },
  {
   "cell_type": "code",
   "execution_count": null,
   "metadata": {},
   "outputs": [],
   "source": []
  },
  {
   "cell_type": "markdown",
   "metadata": {},
   "source": [
    "### Problem 2: Ideal gas in NVE\n",
    "\n",
    "Redo the derivation of entropy of ideal gas in NVE ensemble which was discussed in the class. Recall that the energy of an ideal gas is coming purely from knetic energy of individual atoms $E=H({\\bf p, x})=\\sum^{N}_{i=1}=\\frac{p^2_i}{2m}$. Where ${\\bf p,x}$ denotes the collection of all N momemnta and positions in 3D space. \n",
    "The number of states of ideas gas in NVE can be computed as a multidimensional volume in phase space: $\\Omega (E,V,N) = \\frac{1}{h^{3N}}\\int_{E-\\Delta E < H({\\bf p, x}) < E} {\\bf dp \\cdot dx}$\n",
    "\n",
    "(i) Why do we divide the volume element by ${h^{3N}}$? <br>\n",
    "(ii) Why integrating over slab of energy $\\Delta E$ is giving us a number of states for the system with constant E? Answering (iii) may help answering this one <br>\n",
    "(iii) To carry out the integration over momenta we need to use formula for the volume of $d$ dimensional sphhere. Here is how to obtain it: <br> \n",
    "First show that $dV_d= S_{d-1}R^{d-1}dR$ where $S_{d-1}$ is the surface element (e.g. $dV=4\\pi r^2 dr=S_2r^2dr$) <br>\n",
    "Next recall how you evaluate your gaussian integrals and show that: \n",
    "$$I_d=\\int^{+\\infty}_{-\\infty}dx_1 ...\\int^{+\\infty}_{-\\infty}dx_n e^{-a(x^2_1+x^2_2+...x^2_n+)}=(\\frac{\\pi}{a})^{d/2} $$\n",
    "Then after converitng to polar coordinate you can show that $I_d=\\frac{S_{d-1} \\Gamma(d/2)a^{-d/2}}{2}$ where $\\Gamma(x)$ is a gamma function[https://en.wikipedia.org/wiki/Gamma_function].<br>\n",
    "Now that you have expression for $S_{d-1}$ you can proceed to solving (iv)\n",
    "<br>\n",
    "(iv) Carry out the integration over positions and momenta and obtain the microcanonical expression of number of states for ideal gas. <br>\n",
    "\n",
    "(v) Show that obtained entorpy is not an extenisve function and that is becasue we did not count the states well. We ingorned the fact that N atoms are indistingusihable. Correct the integral in (iv) for this and show that we obtain eextensive entropy <br>\n",
    "(vi) One often writes the microcanonical function using delta functions. Recall that delta functin is officially defined as: $\\int^{+\\infty}_{-\\infty} \\delta(x-a)f(x)=f(a)$. Rewrite integral in (ii) using compact delta function notation <br>\n",
    "(vii) Using particle in a box model show that quantum mechanical expression of energy and counting of states in the space of quantum numbers (which can be approximated as a N dimensional sphere again) leads to same result as in (iv). "
   ]
  },
  {
   "cell_type": "code",
   "execution_count": null,
   "metadata": {},
   "outputs": [],
   "source": []
  },
  {
   "cell_type": "markdown",
   "metadata": {},
   "source": [
    "### Problem-3: NVT ensemble and partition function $Z(\\beta)$ (Chandler uses letter $Q_{\\beta}$)"
   ]
  },
  {
   "cell_type": "markdown",
   "metadata": {},
   "source": [
    "(i) Show that mathematically $Z(\\beta)$ has a structure of a moment generating function. What would the Helmholtz free energy be called? Compute the first two moments. \n",
    "\n",
    "(ii) Show that if system can be broken down into two non interacting subsystems a and b then the partition function can be written as product of a and b partition functions. Show that free energy would then be additive.\n",
    "\n",
    "(iii) Show that looking at the partition function (keeping in mind property (i)) we can recongnize that large deviation principle applies and that in the NVT ensemble the most likely state of the system is dominated by the minima of the free energy function per particle $f=F/N$.\n",
    "\n",
    "(iv) Using legendre transform show that the statement made in (iii) is equivalent to the good old statement of second law and that of maximizing entropy per particle (s=S/N) for predicitng most likely equilibrium states. "
   ]
  },
  {
   "cell_type": "markdown",
   "metadata": {},
   "source": [
    "### Problem 4 Elementary derivation of Boltzman distirbution: hydrostatic pressure"
   ]
  },
  {
   "cell_type": "markdown",
   "metadata": {},
   "source": [
    "Let us do an elementary derivation of Boltzman distribution showing that when a macroscopic system is in equilibrium and coupled to a heat bath at temperatere T we have a universal dependence of probability for finding system at different energies: $P(r')/P(r)=e^{-\\beta (U(r)-U(r'))}$. <br>\n",
    "The essence of the derivation is this. Consider a vertical column of gas somehre nice in the mountains. On one hand we have graviational force which acts on a column between h, h+dh with cross section A. On the other hand we have pressure balance which thankfully keeps the molecules from dropping on the ground. This means that we have a steady density of molecules at each distance n(h) for fixed T. Write down this balance of forces(gravitational vs pressure ) and find show how density at h, n(h) is related to density at h=0, n(0). (Tip: you may use P=nkT for pressure and mgh for the gravitational force) "
   ]
  },
  {
   "cell_type": "code",
   "execution_count": null,
   "metadata": {},
   "outputs": [],
   "source": []
  },
  {
   "cell_type": "markdown",
   "metadata": {},
   "source": [
    "### Problem 5 Careful derivation of Boltzman distirbution: the heat bath \n",
    "\n",
    "(Re)-do a careful derivation of Boltzman distribution following the notes and Chandler's chapter-3.\n",
    "First set up a system embedded in a heat bath with total energy $E_0=E+E_b$.\n",
    "\n",
    "(i) Use microcanonical ensemble to derive the probability of the with energy $E_{\\nu}$. <br>\n",
    "(ii) Relate the entropy of the total bath+system to the energies $E_{\\nu}$ and prbabilities $P_\\nu$ of the system. <br>\n",
    "(ii) Show that temperature is a property of a heat bath $\\beta=\\frac{d\\Omega_{b}(E_b)}{dE_{b}}$. How can we inteperpret the $\\beta$ in terms of system borrowing energy from a heat bath. <br>\n",
    "(iii) Show that changing the size of bath leaves $\\beta $ unchanged.<br>\n",
    "(iv) Show that higher derivatives of the taylor expansion of $log\\Omega(E_o-E_b)$ can be ignored for large values of N. <br>\n",
    "(v) What is the relationship between NVE $\\Omega(N,V,E)$ and $Z(\\beta, V, T)$?  Argue that these unsembles give consistent themrodynamic descriptions (see next problem). "
   ]
  },
  {
   "cell_type": "code",
   "execution_count": null,
   "metadata": {},
   "outputs": [],
   "source": []
  },
  {
   "cell_type": "markdown",
   "metadata": {},
   "source": [
    "### Problem 6 Schottky defects in NVT: Computing partition functions\n",
    "(i) Compute the partition function fo Schottky defect model in NVT ensemble outlined in problem-1. <br>\n",
    "(ii) Show that entropy computed in NVT ensemble agrees with entropy computed in NVE ensemble.\n"
   ]
  },
  {
   "cell_type": "code",
   "execution_count": null,
   "metadata": {},
   "outputs": [],
   "source": []
  }
 ],
 "metadata": {
  "kernelspec": {
   "display_name": "Python 3",
   "language": "python",
   "name": "python3"
  },
  "language_info": {
   "codemirror_mode": {
    "name": "ipython",
    "version": 3
   },
   "file_extension": ".py",
   "mimetype": "text/x-python",
   "name": "python",
   "nbconvert_exporter": "python",
   "pygments_lexer": "ipython3",
   "version": "3.6.4"
  }
 },
 "nbformat": 4,
 "nbformat_minor": 2
}

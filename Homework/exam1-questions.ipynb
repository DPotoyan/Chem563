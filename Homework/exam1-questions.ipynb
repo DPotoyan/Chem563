{
 "cells": [
  {
   "cell_type": "markdown",
   "metadata": {},
   "source": [
    "## Exam-1: Fundamental of statistical mechanics: Probability theory, Entropy and Ensembles. \n",
    "\n",
    "### Please turn in the exam by the end of Wednesday via either Canvas/email/GitHub. Please  give succinct explanations (5 sentences max) to questions. You could type text and equations inside this notebook by swtiching to Markdown and using LaTeX notation. Support your arguments with equations as much as possible as \"mathematics is the most ecomonomical usage of letters.\""
   ]
  },
  {
   "cell_type": "markdown",
   "metadata": {},
   "source": [
    "### Question-1. $NVT$\n",
    "\n",
    "You have some polymer in a solution at constat T which can be in a state A with 10 different conformations having energy $2\\epsilon$ and or in state B with 30 different conformations having energy $\\epsilon$. Write down probability of our polymer being in states A,B. What thermodynamic quantity determines the ratio P(A)/P(B)? "
   ]
  },
  {
   "cell_type": "markdown",
   "metadata": {},
   "source": [
    "### Question-2. $NVT-NVE$ \n",
    "Consider a three level single particle system with five microstates with energies 0, ε, ε, ε, and 2ε. What is $\\Omega(εn)$  n=0,1,2 for this system? What is the mean energy of the system if it is equilibrium with a heat bath at temperature T ?"
   ]
  },
  {
   "cell_type": "markdown",
   "metadata": {},
   "source": [
    "### Question-3 Harmonic oscillator in a heat bath.\n",
    "Compute Free energy and Etnropy of a one-dimensional harmonic oscillator in equilibrium with a heat bath at temperature T."
   ]
  },
  {
   "cell_type": "markdown",
   "metadata": {},
   "source": [
    "### Question-4. $\\mu VT$  Protein-RNA binding.  \n",
    "\n",
    "The long noncoding RNAs (lncRNA) can bind multiple proteins for regulatory functions. Assume equilibrium mixture of 1 RNA molecule with multiple A and B protiens present in the mixture. There are N sites on RNA which can be occupied by at most 1 A and at most 2 B proteins. Assume that each bound protein contributes $\\epsilon$ energy. Compute what is the probability of site being bound by poteins A, B if:\n",
    "\n",
    "(i) One adsorbed A protein has two different  conformations (with the same energy), and one adsorbed B molecule has one state.\n",
    "\n",
    "(ii) One adsorbed A protein has two different conformations (with the same energy), and one adsorbed B molecule has one conformation but when two bind then there are five different conformations. "
   ]
  },
  {
   "cell_type": "markdown",
   "metadata": {},
   "source": [
    "### Question-5 Quantum vs classical. \n",
    "\n",
    "(i) What would you expect heat capacity for a 6 atom molecule to be in the classical mechanical limit?\n",
    "\n",
    "(ii) Why heat capacities of real systems go to zero with temperature?\n",
    "\n",
    "(iii) What was the Black Body radiation problem about and how Planck resolved it?\n",
    "\n",
    "(iv) Show that Bose Einstein and Fermi diract distributions do converge to Boltzman distribution in the classical limit. Also show that Grand canonical distribution tends to canonical distribution with a N! factor arising naturally? \n",
    "\n",
    "(v) What is a thermlal wavelength and what is its significance? "
   ]
  },
  {
   "cell_type": "markdown",
   "metadata": {},
   "source": [
    "### Question-6: Information theory and MaxEnt "
   ]
  },
  {
   "cell_type": "markdown",
   "metadata": {},
   "source": [
    "(i) Entropy of which system is greater a fair die vs a biased die.  \n",
    "\n",
    "(ii) How much information (in bits) does an FBI agent need to locate a notorious hacker living in a 10 story building with one apartment per floor with no other information availible? What if an info comes that the hacker is twice more likely to be living in odd numbered apartments (hackars are oddballs)? \n",
    "\n",
    "(iii) Combine Gibbs-Shanon Entropy $S=-\\sum_i p_i log_i $ with microcanonical, canonical and grand canonical probability distributions to obtain expressions for entropy.  \n",
    "\n",
    "(iv) You are using an enrgy function $E=\\frac{1}{2}k_0(x-x_0)^2 +\\frac{p^2}{2m}$ to describe a molecule coupled to a heat bath with T temperature. Write down the probability of P(x,p). \n",
    "\n",
    "(v) Experiment has shown that $\\langle x \\rangle = \\alpha $ How would you accomodate this new information and obtain P(x,p) consistent with experiment? Would this mean revising energy function you had assumed before "
   ]
  },
  {
   "cell_type": "markdown",
   "metadata": {},
   "source": [
    "### Questions-7:  Chemical Potential\n",
    "\n",
    "Derive an expression for the chemical potential of an ideal gas using clssical mechanics model for energy $E=\\frac{p^2}{2m}$ in the NVT ensemble."
   ]
  },
  {
   "cell_type": "markdown",
   "metadata": {},
   "source": [
    "### Question-8:  Legendre transform strikes again\n",
    "\n",
    "Legendre transform E(N,V,S) to replace all extensive variables by their conjugate intensive variables.\n"
   ]
  }
 ],
 "metadata": {
  "kernelspec": {
   "display_name": "Python 3",
   "language": "python",
   "name": "python3"
  },
  "language_info": {
   "codemirror_mode": {
    "name": "ipython",
    "version": 3
   },
   "file_extension": ".py",
   "mimetype": "text/x-python",
   "name": "python",
   "nbconvert_exporter": "python",
   "pygments_lexer": "ipython3",
   "version": "3.6.7"
  }
 },
 "nbformat": 4,
 "nbformat_minor": 2
}

{
 "cells": [
  {
   "cell_type": "markdown",
   "metadata": {},
   "source": [
    "### Problem 1: Grand canonical partition function: concept questions\n",
    "\n",
    "(1) Show that a grand canonical partition function ($\\Xi(\\mu, V, \\beta)$) can be seen as a Laplace transform of microcanonical partition function ($\\Omega(N, V, E)$) and canonical function ($Z(N, V, \\beta)$).\n",
    "<br>\n",
    "(2) Show that Laplace transforms of partition functions imply Legendre transformed relationship between therodynamic variables in the Thermodynamics limit of large numbers. <br>\n",
    "(3) Combine the Gibbs formula of Entropy $S=-k_B \\sum_i p_i log p_i$ with the Grand canonical prbability distribution $P(E_i,N_i)=\\frac{e^{-\\beta E_i+\\mu N_i}}{\\Xi}$ to show that $\\beta PV=log \\Xi$<br>\n",
    "(4) Express the full differential $dlog \\Xi(\\mu,V,T)$ in terms of its independent variables. "
   ]
  },
  {
   "cell_type": "markdown",
   "metadata": {},
   "source": [
    "### Problem 2: Fermions vs Bosons. \n",
    "\n",
    "There is a system in which each particle can assume only three states with energies 0, ε and ε (ε > 0, yes, excited states are doubly degenerate!). Consider there to be two indistinguishable particles without spin.<br>\n",
    "(1F) When the particles are noninteracting fermions, write down the canonical partition function of this 2-particle system.<br>\n",
    "(2F) Give the probability of finding N (= 0, 1, 2) particles in the ground state.<br>\n",
    "(3F) Compute the average occupation number N0 of the ground state. Are the limits\n",
    "T → ∞ and T → 0 reasonable?<br>\n",
    "(1–3B) Repeat the same problems assuming that the particles are noninteracting bosons.<br>\n",
    "(4) In the high temperature limit what is the most important observation?<br>"
   ]
  },
  {
   "cell_type": "markdown",
   "metadata": {},
   "source": [
    "### Problem 3: Bose-Einstein and Fermi-diract distributions\n",
    "\n",
    "(1) Compute particle occupation number fluctuations for non-interacting fermions and bosons. \n",
    "\n",
    "(2) For the classical gas, the number distribution in a small volume obey the Poisson distribution (Look up Chapter 3 in Chandler). Using the fluctuations computed in (1) show that in the low density regime quantum and classical gases display Poisson distribution of numbers. <br>[ Hint: Recall that for Poisson distribution $\\mu=\\sigma^2$]\n",
    "\n",
    "(3) Consider a fermion gas. Plot occupation number $\\langle n_i \\rangle$ of energy level $\\epsilon_i$ as a function of $\\epsilon_i/k_{BT}$ for several values of chemical potential $\\mu=-k_{B}T,5k_{B}T,10k_{B}T$. Comment on the trend.   \n",
    "\n",
    "(4) While keeping the $\\mu=10k_{B}T$ make plots with different temperatures and comment on the trend. \n",
    "\n",
    "(5) Set $\\mu=0$ for simplicity and on the same graph plot probability distribution for Fermi-Dirac, Bose-Einstein and Boltzmann statistics. "
   ]
  },
  {
   "cell_type": "markdown",
   "metadata": {},
   "source": [
    "### Problem 4: Einstein and Debye model of solids\n",
    "\n",
    "(1) What are the normal modes and how they help with computing partiion functions of solids. \n",
    "\n",
    "(2) Explain what aspect of Einstein and Debye models makes for a better agreement with heat capacity of solids at low temperatures.\n",
    "\n",
    "(3) Explain the discrepancy in temeprature dependence between Einstein $C_v(T)\\sim e^{-\\beta T}$ and Debye models $C_v(T)\\sim e^{-\\beta T}$. See problem 4.5 in Chandler's textbook and comment on the reson for having frequency cutoff. Bonus points if you could do the problem :) \n",
    "\n",
    "(4) Explain in few short sentences what is the take home message of this paper https://www.researchgate.net/publication/6046921_Specific_Heat_and_Thermal_Conductivity_of_Solid_Fullerenes\n"
   ]
  }
 ],
 "metadata": {
  "kernelspec": {
   "display_name": "Python 3",
   "language": "python",
   "name": "python3"
  },
  "language_info": {
   "codemirror_mode": {
    "name": "ipython",
    "version": 3
   },
   "file_extension": ".py",
   "mimetype": "text/x-python",
   "name": "python",
   "nbconvert_exporter": "python",
   "pygments_lexer": "ipython3",
   "version": "3.6.4"
  }
 },
 "nbformat": 4,
 "nbformat_minor": 2
}

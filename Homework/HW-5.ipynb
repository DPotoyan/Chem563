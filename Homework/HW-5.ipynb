{
 "cells": [
  {
   "cell_type": "markdown",
   "metadata": {},
   "source": [
    "### Problem 1: Maximum entropy distribution of die rolls with a constraint.\n",
    "We know that in the absence of constraints the probability distirbution of die rolls is uniform, each number shows up with 1/6 probability. <br>\n",
    "(i) What would be the probability distribution of die rolls subject to a constraint that its first moment is fixed at some value $\\mu$. <br>\n",
    "(ii) What would be the probability distribution of die rolls subject to a constraint that its second moment is fixed to $\\sigma^2$. The procedure for deriving porbability distirbution by maximizing the entropy is exactly the same one that we used for deriving Boltzmann distribution. E.g you may take $E_i=i$ for an analogy and think of die values as energy levels.  "
   ]
  },
  {
   "cell_type": "markdown",
   "metadata": {},
   "source": [
    "### Problem 2: Dervie the grand canonical ensemble from MaxEnt $\\mu V T$ \n",
    "(i) Maximizing entropy with constraints that average number of particle and average energy are fixed. <br>\n",
    "(ii) Derive expression for the particle number fluctuation. "
   ]
  },
  {
   "cell_type": "markdown",
   "metadata": {},
   "source": [
    "### Problem 3: Monty Hall and Entropy.\n",
    "\n",
    "We are playing the Monty hall again! Quantify the amount of information we gain in bits (difference in entropy) after we pick a random door and showman opens the remaining N doors from N+2 total: <br>\n",
    "(i) N=2 doors<br>\n",
    "(ii) N=99 doors"
   ]
  },
  {
   "cell_type": "markdown",
   "metadata": {},
   "source": [
    "### Problem 4: Informatin based view of thermodynamics.\n",
    "\n",
    "Acetic acid boils at T=391 and its latent heat of evaporation is $Q=23.7 kJ/mol$\n",
    "\n",
    "(i) What is the entropy increase due to evaporation. <br>\n",
    "(ii) How many Yes-no question shall we ask to pin down the single microscpic state of the system in the gas state as accruately as it is done in the lquid state? <br>\n",
    "(iii) For ethanol, entropy change during evaporation is $\\Delta S=110 J/K mol$ Compare the entropy difference with acetic acid and rationalize the difference in entropy changes keepiing in mind that acetic acid makes stable dimers in gase phase while ethanol does not.<br>"
   ]
  },
  {
   "cell_type": "markdown",
   "metadata": {},
   "source": [
    "### Problem 5: Informatin, DNA and horses.\n",
    "Compute the minimal number of bits we need to record the information in the short DNA sequence from a horse genome TGCACCCTCAGGT assuming: <br>\n",
    "(i) Nucletodie bases all have equal probabilities. <br>\n",
    "(ii) G and C hare twice more likely to be observed than A and T. <br> \n",
    "(iii) GG CC, AA or TT elements occur with twice lower probability than the other pairs. <br>\n",
    "(iv) We have 4 horses competing with different genomes and different probabilities to win. How would we encode the.  message of which horse won if each horse has mutation in DNA sequence that makes each faster by x,2x,3x,4x times. <br>"
   ]
  }
 ],
 "metadata": {
  "kernelspec": {
   "display_name": "Python 3",
   "language": "python",
   "name": "python3"
  },
  "language_info": {
   "codemirror_mode": {
    "name": "ipython",
    "version": 3
   },
   "file_extension": ".py",
   "mimetype": "text/x-python",
   "name": "python",
   "nbconvert_exporter": "python",
   "pygments_lexer": "ipython3",
   "version": "3.6.7"
  }
 },
 "nbformat": 4,
 "nbformat_minor": 2
}

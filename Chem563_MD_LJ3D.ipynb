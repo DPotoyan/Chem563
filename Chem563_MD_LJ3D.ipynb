{
 "cells": [
  {
   "cell_type": "code",
   "execution_count": 123,
   "metadata": {},
   "outputs": [],
   "source": [
    "%matplotlib inline\n",
    "%config InlineBackend.figure_format = 'retina'\n",
    "\n",
    "# Load scientific and plotting libraries \n",
    "import matplotlib.pyplot as plt\n",
    "import numpy as np\n",
    "import scipy as sp\n",
    "import math\n",
    "\n",
    "# Load widgets and animation libs \n",
    "#from ipywidgets import interact, widgets\n",
    "#from PIL import Image\n",
    "\n",
    "# Import random number generators: \n",
    "from numpy.random import random\n",
    "from numpy.random import randn\n",
    "from numpy.random import randint\n",
    "from numpy.random import uniform\n",
    "from numpy.random import choice \n",
    "from numpy.random import normal\n",
    "\n",
    "# Some tools to optimize sim time (work in progress)\n",
    "import time\n",
    "from itertools import product\n",
    "from numba import jit"
   ]
  },
  {
   "cell_type": "markdown",
   "metadata": {},
   "source": [
    "### Specify parameters of simulation, number of particles, box size,  temperature, curoff distance, thermostat parameters"
   ]
  },
  {
   "cell_type": "code",
   "execution_count": 124,
   "metadata": {},
   "outputs": [],
   "source": [
    "#-----------------------> LJ parameters in reduced units of sigma and epislon\n",
    "N = 216 \n",
    "density=0.5                 # density of Argon LJ spheres 0.5-0.88\n",
    "L =  (N/density)**(1.0/3.0)\n",
    "\n",
    "dt = 0.001       # dt : time step\n",
    "rc2 = 1.e20      # rc2 : squared cutoff distance\n",
    "nSteps = 10000   # nSteps : number of steps of simulation\n",
    "\n",
    "T = 1.0          # T : temperature\n",
    "tau = 0.1        # damping const for Berendsen thermostat\n",
    "Tdamp = 1        # damping const for standard  thermostat\n",
    "\n",
    "#------------------> Everything fixed byeond this point"
   ]
  },
  {
   "cell_type": "markdown",
   "metadata": {},
   "source": [
    "### Vectorize data and store postions, velocities and forces on numpy arrays"
   ]
  },
  {
   "cell_type": "code",
   "execution_count": 125,
   "metadata": {},
   "outputs": [],
   "source": [
    "pos = np.zeros((3,N))\n",
    "vel = np.zeros((3,N))\n",
    "force = np.zeros((3,N))"
   ]
  },
  {
   "cell_type": "markdown",
   "metadata": {},
   "source": [
    "### Initialize positions and velocities"
   ]
  },
  {
   "cell_type": "code",
   "execution_count": 157,
   "metadata": {},
   "outputs": [],
   "source": [
    "def initialize_pos_vel(N, L, pos, vel):\n",
    "    \n",
    "    \"\"\"put N particles in a box, using dense packing unit lattice size n3\"\"\"\n",
    "    \n",
    "    n3 = int(N ** (1 / 3.)) + 1\n",
    "    iix = iiy = iiz = 0\n",
    "    \n",
    "    for i in range(N):\n",
    "        pos[0][i] = (iix + 0.5) * L / n3\n",
    "        pos[1][i] = (iiy + 0.5) * L / n3\n",
    "        pos[2][i] = (iiz + 0.5) * L / n3\n",
    "        iix += 1\n",
    "        if iix == n3:\n",
    "            iix = 0\n",
    "            iiy += 1\n",
    "            if iiy == n3:\n",
    "                iiy = 0\n",
    "                iiz += 1   \n",
    "                \n",
    "    \"\"\" Create maxwell Boltzman distribution of velcities\"\"\"\n",
    "    \n",
    "    vel =  randn(N, 3)\n",
    "    vel -= np.average(vel, axis=0) # zero mean vel distirbution\n",
    "\n",
    "def viz_p(pos,L):\n",
    "    '''Some cheap visualization to see where the particles are located''' \n",
    "    \n",
    "    from mpl_toolkits.mplot3d import axes3d\n",
    "    fig = plt.figure(figsize=(9,6))\n",
    "    ax = fig.add_subplot(111, projection='3d') \n",
    "    \n",
    "    ax.scatter(pos[0,:], pos[1,:], pos[2,:], s = 200) \n",
    "    \n",
    "    ax.set_xlim3d(0,L)\n",
    "    ax.set_ylim3d(0,L)\n",
    "    ax.set_zlim3d(0,L)\n",
    "    ax.set_xlabel(\"$X\\, [\\sigma]$\",fontsize=18)\n",
    "    ax.set_ylabel(\"$Y\\, [\\sigma]$\",fontsize=18)\n",
    "    ax.set_zlabel(\"$Z\\, [\\sigma]$\",fontsize=18)\n",
    "    ax.set_title(\"MD snapshot\",fontsize=20)"
   ]
  },
  {
   "cell_type": "markdown",
   "metadata": {},
   "source": [
    "### Visualize lattice"
   ]
  },
  {
   "cell_type": "code",
   "execution_count": 158,
   "metadata": {},
   "outputs": [],
   "source": [
    "initialize_pos_vel(N, L, pos,vel)\n",
    "#viz_p(pos,L)"
   ]
  },
  {
   "cell_type": "code",
   "execution_count": 159,
   "metadata": {},
   "outputs": [],
   "source": [
    "#plt.quiver(pos[0,:],pos[1,:],vel[0,:],vel[1,:])"
   ]
  },
  {
   "cell_type": "markdown",
   "metadata": {},
   "source": [
    "### Write main helper function of Molecular dynamics\n",
    "\n",
    " 1. Initalize pos & velocity\n",
    " \n",
    " 2. Evolve velocities (Verlet Algorithm)\n",
    " \n",
    " 3. Enforce PBC\n",
    " \n",
    " 4. Compute Forces, Kinetic and Potential Energies"
   ]
  },
  {
   "cell_type": "code",
   "execution_count": 19,
   "metadata": {},
   "outputs": [],
   "source": [
    "def velocity_verlet(dt, pos, vel, i):\n",
    "    \"\"\"verloctiy verlet algorithm\"\"\"\n",
    "    \n",
    "    dt2 = dt * dt\n",
    "    \n",
    "    pos[0][i] += vel[0][i] * dt + 0.5 * dt2 * force[0][i]\n",
    "    pos[1][i] += vel[1][i] * dt + 0.5 * dt2 * force[1][i]\n",
    "    pos[2][i] += vel[2][i] * dt + 0.5 * dt2 * force[2][i]\n",
    "\n",
    "    vel[0][i] += 0.5 * dt * force[0][i]\n",
    "    vel[1][i] += 0.5 * dt * force[1][i]\n",
    "    vel[2][i] += 0.5 * dt * force[2][i]\n",
    "    \n",
    "    \n",
    "def wrap_into_box(L, pos, i):\n",
    "    \"\"\"Enforce Periodic Boundary conditions\"\"\"\n",
    "    \n",
    "    #Along X\n",
    "    if pos[0][i] < 0.0:\n",
    "        pos[0][i] += L\n",
    "    if pos[0][i] > L:\n",
    "        pos[0][i] -= L\n",
    "    #Along Y    \n",
    "    if pos[1][i] < 0.0:\n",
    "        pos[1][i] += L\n",
    "    if pos[1][i] > L:\n",
    "        pos[1][i] -= L\n",
    "    #Along Z   \n",
    "    if pos[2][i] < 0.0:\n",
    "        pos[2][i] += L\n",
    "    if pos[2][i] > L:\n",
    "        pos[2][i] -= L\n",
    "        \n",
    "@jit\n",
    "def potential_energy(N, L, rc2, pos,force):\n",
    "    \"\"\"calculate the potential energy\"\"\"\n",
    "    force.fill(0)\n",
    "    pot_E = 0.0\n",
    "    \n",
    "    # First enforce PBC\n",
    "    halfL = L / 2.0\n",
    "    \n",
    "    for i in range(N-1):\n",
    "        for j in range(i+1, N):\n",
    "            \n",
    "            dx = pos[0][i] - pos[0][j]\n",
    "            dy = pos[1][i] - pos[1][j]\n",
    "            dz = pos[2][i] - pos[2][j]\n",
    "\n",
    "            if dx >halfL:                  \n",
    "                dx -= L\n",
    "            if dx < -halfL:\n",
    "                dx += L\n",
    "            if dy > halfL:\n",
    "                dy -= L\n",
    "            if dy < -halfL:\n",
    "                dy += L\n",
    "            if dz > halfL:\n",
    "                dz -= L\n",
    "            if dz < -halfL:\n",
    "                dz += L\n",
    "\n",
    "            r2 = dx * dx + dy * dy + dz * dz\n",
    "            \n",
    "            # Evaluate cutoff\n",
    "            if r2 < rc2:        \n",
    "                \n",
    "                r6i = 1.0 / (r2 * r2 * r2)\n",
    "                pot_E += 4 * (r6i * r6i - r6i)\n",
    "                f = 48 * (r6i * r6i - 0.5 * r6i)\n",
    "                \n",
    "                force[0][i] += dx * f / r2\n",
    "                force[0][j] -= dx * f / r2\n",
    "                force[1][i] += dy * f / r2\n",
    "                force[1][j] -= dy * f / r2\n",
    "                force[2][i] += dz * f / r2\n",
    "                force[2][j] -= dz * f / r2\n",
    "                \n",
    "    return pot_E\n",
    "\n",
    "\n",
    "@jit\n",
    "def kinetic_energy(N, dt, vel, force):\n",
    "    \"\"\"calculate the kinetic energy\"\"\"\n",
    "    \n",
    "    kin_E = 0.0\n",
    "    \n",
    "    for i in range(N):\n",
    "        \n",
    "        vel[0][i] += 0.5 * dt * force[0][i]\n",
    "        vel[1][i] += 0.5 * dt * force[1][i]\n",
    "        vel[2][i] += 0.5 * dt * force[2][i]\n",
    "        \n",
    "        kin_E += vel[0][i] * vel[0][i] + vel[1][i] * vel[1][i] + vel[2][i] * vel[2][i]\n",
    "        \n",
    "    kin_E *= 0.5\n",
    "    \n",
    "    return kin_E\n",
    "\n",
    "\n",
    "def thermostat(kin_E, T, N, vel):\n",
    "    \"\"\"velocity scaling algorithm\"\"\"\n",
    "    \n",
    "    t = 3.0*kin_E / 2.0 * N\n",
    "    fac = np.sqrt(T/t)\n",
    "    \n",
    "    for i in range(N):\n",
    "        \n",
    "        vel[0][i] *= fac\n",
    "        vel[1][i] *= fac\n",
    "        vel[2][i] *= fac\n",
    "\n",
    "def berendsen_thermostat(N, dt, kin_E, vel):\n",
    "    \"\"\"berendsen thermostat algorithm\"\"\"\n",
    "    \n",
    "    lamb = np.sqrt(1 + dt / tau * (T / (2.0 * kin_E / 3.0 / N) - 1.0))\n",
    "    \n",
    "    for i in range(N):\n",
    "        \n",
    "        vel[0][i] *= lamb\n",
    "        vel[1][i] *= lamb\n",
    "        vel[2][i] *= lamb"
   ]
  },
  {
   "cell_type": "markdown",
   "metadata": {},
   "source": [
    "### You can write functions for outputing thermodynamic data, trajecotries and energies for analyzing at a later time"
   ]
  },
  {
   "cell_type": "markdown",
   "metadata": {},
   "source": [
    "### Main MD engine"
   ]
  },
  {
   "cell_type": "code",
   "execution_count": 36,
   "metadata": {},
   "outputs": [],
   "source": [
    "def mdrun(N, L, rc2, dt, nSteps, T, pos,vel,force):\n",
    "    \"\"\"main MD function\"\"\"\n",
    "    \n",
    "    dataPE,dataKE,dataTE=[],[],[]\n",
    "    \n",
    "    for s in range(nSteps):\n",
    "        for i in range(N):\n",
    "            \n",
    "            velocity_verlet(dt, pos,vel,i)\n",
    "            wrap_into_box(L, pos, i)\n",
    "\n",
    "        PE = potential_energy(N, L, rc2, pos, force)\n",
    "        KE = kinetic_energy(N, dt, vel, force)\n",
    "        TE = PE + KE\n",
    "\n",
    "        berendsen_thermostat(N, dt, KE, vel)\n",
    "        \n",
    "        dataPE.append(PE)\n",
    "        dataKE.append(KE)\n",
    "        dataTE.append(TE)\n",
    "        \n",
    "    return np.array(dataPE),np.array(dataKE),np.array(dataTE)\n",
    "   \n",
    "    \n",
    "#        output_thermo\n",
    "#        output_xyz\n",
    "#        output_Gr"
   ]
  },
  {
   "cell_type": "code",
   "execution_count": 24,
   "metadata": {},
   "outputs": [
    {
     "ename": "NameError",
     "evalue": "name 'mdrun' is not defined",
     "output_type": "error",
     "traceback": [
      "\u001b[0;31m---------------------------------------------------------------------------\u001b[0m",
      "\u001b[0;31mNameError\u001b[0m                                 Traceback (most recent call last)",
      "\u001b[0;32m<ipython-input-24-07db6c44eef4>\u001b[0m in \u001b[0;36m<module>\u001b[0;34m()\u001b[0m\n\u001b[1;32m      1\u001b[0m \u001b[0minitialize_pos\u001b[0m\u001b[0;34m(\u001b[0m\u001b[0mN\u001b[0m\u001b[0;34m,\u001b[0m \u001b[0mL\u001b[0m\u001b[0;34m,\u001b[0m \u001b[0mpos\u001b[0m\u001b[0;34m)\u001b[0m\u001b[0;34m\u001b[0m\u001b[0;34m\u001b[0m\u001b[0m\n\u001b[1;32m      2\u001b[0m \u001b[0;34m\u001b[0m\u001b[0m\n\u001b[0;32m----> 3\u001b[0;31m \u001b[0mdata\u001b[0m\u001b[0;34m=\u001b[0m\u001b[0mmdrun\u001b[0m\u001b[0;34m(\u001b[0m\u001b[0mN\u001b[0m\u001b[0;34m,\u001b[0m \u001b[0mL\u001b[0m\u001b[0;34m,\u001b[0m \u001b[0mrc2\u001b[0m\u001b[0;34m,\u001b[0m \u001b[0mdt\u001b[0m\u001b[0;34m,\u001b[0m \u001b[0mnSteps\u001b[0m\u001b[0;34m,\u001b[0m \u001b[0mT\u001b[0m\u001b[0;34m,\u001b[0m \u001b[0mpos\u001b[0m\u001b[0;34m,\u001b[0m \u001b[0mvel\u001b[0m\u001b[0;34m,\u001b[0m \u001b[0mforce\u001b[0m\u001b[0;34m)\u001b[0m\u001b[0;34m\u001b[0m\u001b[0;34m\u001b[0m\u001b[0m\n\u001b[0m",
      "\u001b[0;31mNameError\u001b[0m: name 'mdrun' is not defined"
     ]
    }
   ],
   "source": [
    "\n",
    "initialize_pos(N, L, pos)\n",
    "\n",
    "data=mdrun(N, L, rc2, dt, nSteps, T, pos, vel, force)"
   ]
  },
  {
   "cell_type": "markdown",
   "metadata": {},
   "source": [
    "### Visualize output"
   ]
  },
  {
   "cell_type": "code",
   "execution_count": 43,
   "metadata": {},
   "outputs": [],
   "source": [
    "#plt.plot(data[0])"
   ]
  },
  {
   "cell_type": "code",
   "execution_count": 44,
   "metadata": {},
   "outputs": [],
   "source": [
    "#plt.plot(data[1])"
   ]
  },
  {
   "cell_type": "code",
   "execution_count": 45,
   "metadata": {},
   "outputs": [],
   "source": [
    "#plt.plot(data[2])"
   ]
  },
  {
   "cell_type": "code",
   "execution_count": 79,
   "metadata": {},
   "outputs": [
    {
     "data": {
      "text/html": [
       "<style>\n",
       "    @font-face {\n",
       "        font-family: \"Computer Modern\";\n",
       "        src: url('http://9dbb143991406a7c655e-aa5fcb0a5a4ec34cff238a2d56ca4144.r56.cf5.rackcdn.com/cmunss.otf');\n",
       "    }\n",
       "    @font-face {\n",
       "        font-family: \"Computer Modern\";\n",
       "        font-weight: bold;\n",
       "        src: url('http://9dbb143991406a7c655e-aa5fcb0a5a4ec34cff238a2d56ca4144.r56.cf5.rackcdn.com/cmunsx.otf');\n",
       "    }\n",
       "    @font-face {\n",
       "        font-family: \"Computer Modern\";\n",
       "        font-style: oblique;\n",
       "        src: url('http://9dbb143991406a7c655e-aa5fcb0a5a4ec34cff238a2d56ca4144.r56.cf5.rackcdn.com/cmunsi.otf');\n",
       "    }\n",
       "    @font-face {\n",
       "        font-family: \"Computer Modern\";\n",
       "        font-weight: bold;\n",
       "        font-style: oblique;\n",
       "        src: url('http://9dbb143991406a7c655e-aa5fcb0a5a4ec34cff238a2d56ca4144.r56.cf5.rackcdn.com/cmunso.otf');\n",
       "    }\n",
       "    div.cell{\n",
       "        width:800px;\n",
       "        margin-left:16% !important;\n",
       "        margin-right:auto;\n",
       "    }\n",
       "    h1 {\n",
       "        font-family: Helvetica, serif;\n",
       "    }\n",
       "    h4{\n",
       "        margin-top:12px;\n",
       "        margin-bottom: 3px;\n",
       "       }\n",
       "    div.text_cell_render{\n",
       "        font-family: Computer Modern, \"Helvetica Neue\", Arial, Helvetica, Geneva, sans-serif;\n",
       "        line-height: 145%;\n",
       "        font-size: 130%;\n",
       "        width:800px;\n",
       "        margin-left:auto;\n",
       "        margin-right:auto;\n",
       "    }\n",
       "    .CodeMirror{\n",
       "            font-family: \"Source Code Pro\", source-code-pro,Consolas, monospace;\n",
       "    }\n",
       "    .prompt{\n",
       "        display: None;\n",
       "    }\n",
       "    .text_cell_render h5 {\n",
       "        font-weight: 300;\n",
       "        font-size: 22pt;\n",
       "        color: #4057A1;\n",
       "        font-style: italic;\n",
       "        margin-bottom: .5em;\n",
       "        margin-top: 0.5em;\n",
       "        display: block;\n",
       "    }\n",
       "\n",
       "    .warning{\n",
       "        color: rgb( 240, 20, 20 )\n",
       "        }\n",
       "</style>\n",
       "\n",
       "<style>\n",
       "div.summary {\n",
       "    background-color: \t#F5F5F5;\n",
       "    border-color: #dFb5b4;\n",
       "    border-left: 0px solid #F08080;\n",
       "    border-right: 0px solid #F08080;\n",
       "    border-top: 0px solid #F08080;\n",
       "    border-bottom: 0px solid #F08080;\n",
       "    }\n",
       " </style>\n",
       "\n",
       "<script>\n",
       "    MathJax.Hub.Config({\n",
       "                        TeX: {\n",
       "                           extensions: [\"AMSmath.js\"]\n",
       "                           },\n",
       "                tex2jax: {\n",
       "                    inlineMath: [ ['$','$'], [\"\\\\(\",\"\\\\)\"] ],\n",
       "                    displayMath: [ ['$$','$$'], [\"\\\\[\",\"\\\\]\"] ]\n",
       "                },\n",
       "                displayAlign: 'center', // Change this to 'center' to center equations.\n",
       "                \"HTML-CSS\": {\n",
       "                    styles: {'.MathJax_Display': {\"margin\": 4}}\n",
       "                }\n",
       "        });\n",
       "</script>\n"
      ],
      "text/plain": [
       "<IPython.core.display.HTML object>"
      ]
     },
     "execution_count": 79,
     "metadata": {},
     "output_type": "execute_result"
    }
   ],
   "source": [
    "'''Run this cell to render our markdown text with beautiful styles.'''\n",
    "from IPython.core.display import HTML\n",
    "def set_css_style(css_file_path):\n",
    "    styles = open(css_file_path, \"r\").read()\n",
    "    return HTML(styles)\n",
    "set_css_style('./common/custom.css')"
   ]
  }
 ],
 "metadata": {
  "kernelspec": {
   "display_name": "Python 3",
   "language": "python",
   "name": "python3"
  },
  "language_info": {
   "codemirror_mode": {
    "name": "ipython",
    "version": 3
   },
   "file_extension": ".py",
   "mimetype": "text/x-python",
   "name": "python",
   "nbconvert_exporter": "python",
   "pygments_lexer": "ipython3",
   "version": "3.6.7"
  }
 },
 "nbformat": 4,
 "nbformat_minor": 2
}
